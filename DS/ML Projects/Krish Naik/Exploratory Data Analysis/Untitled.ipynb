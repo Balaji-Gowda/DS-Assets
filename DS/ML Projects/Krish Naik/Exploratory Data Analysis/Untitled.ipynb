{
 "cells": [
  {
   "cell_type": "code",
   "execution_count": 3,
   "id": "6d0d6be1",
   "metadata": {},
   "outputs": [
    {
     "name": "stdout",
     "output_type": "stream",
     "text": [
      "Requirement already satisfied: sweetviz in c:\\users\\894524\\.conda\\envs\\ml\\lib\\site-packages (2.1.3)\n",
      "Requirement already satisfied: importlib-resources>=1.2.0 in c:\\users\\894524\\.conda\\envs\\ml\\lib\\site-packages (from sweetviz) (5.2.2)\n",
      "Requirement already satisfied: numpy>=1.16.0 in c:\\users\\894524\\appdata\\roaming\\python\\python39\\site-packages (from sweetviz) (1.21.2)\n",
      "Requirement already satisfied: jinja2>=2.11.1 in c:\\users\\894524\\appdata\\roaming\\python\\python39\\site-packages (from sweetviz) (3.0.1)\n",
      "Requirement already satisfied: matplotlib>=3.1.3 in c:\\users\\894524\\appdata\\roaming\\python\\python39\\site-packages (from sweetviz) (3.4.3)\n",
      "Requirement already satisfied: pandas!=1.0.0,!=1.0.1,!=1.0.2,>=0.25.3 in c:\\users\\894524\\appdata\\roaming\\python\\python39\\site-packages (from sweetviz) (1.3.2)\n",
      "Requirement already satisfied: scipy>=1.3.2 in c:\\users\\894524\\appdata\\roaming\\python\\python39\\site-packages (from sweetviz) (1.7.1)\n",
      "Requirement already satisfied: tqdm>=4.43.0 in c:\\users\\894524\\.conda\\envs\\ml\\lib\\site-packages (from sweetviz) (4.62.2)\n",
      "Requirement already satisfied: zipp>=3.1.0 in c:\\users\\894524\\.conda\\envs\\ml\\lib\\site-packages (from importlib-resources>=1.2.0->sweetviz) (3.5.0)\n",
      "Requirement already satisfied: MarkupSafe>=2.0 in c:\\users\\894524\\appdata\\roaming\\python\\python39\\site-packages (from jinja2>=2.11.1->sweetviz) (2.0.1)\n",
      "Requirement already satisfied: cycler>=0.10 in c:\\users\\894524\\appdata\\roaming\\python\\python39\\site-packages (from matplotlib>=3.1.3->sweetviz) (0.10.0)\n",
      "Requirement already satisfied: pillow>=6.2.0 in c:\\users\\894524\\.conda\\envs\\ml\\lib\\site-packages (from matplotlib>=3.1.3->sweetviz) (8.3.2)\n",
      "Requirement already satisfied: python-dateutil>=2.7 in c:\\users\\894524\\appdata\\roaming\\python\\python39\\site-packages (from matplotlib>=3.1.3->sweetviz) (2.8.2)\n",
      "Requirement already satisfied: pyparsing>=2.2.1 in c:\\users\\894524\\appdata\\roaming\\python\\python39\\site-packages (from matplotlib>=3.1.3->sweetviz) (2.4.7)\n",
      "Requirement already satisfied: kiwisolver>=1.0.1 in c:\\users\\894524\\appdata\\roaming\\python\\python39\\site-packages (from matplotlib>=3.1.3->sweetviz) (1.3.1)\n",
      "Requirement already satisfied: six in c:\\users\\894524\\appdata\\roaming\\python\\python39\\site-packages (from cycler>=0.10->matplotlib>=3.1.3->sweetviz) (1.16.0)\n",
      "Requirement already satisfied: pytz>=2017.3 in c:\\users\\894524\\.conda\\envs\\ml\\lib\\site-packages (from pandas!=1.0.0,!=1.0.1,!=1.0.2,>=0.25.3->sweetviz) (2021.1)\n",
      "Requirement already satisfied: colorama in c:\\users\\894524\\.conda\\envs\\ml\\lib\\site-packages (from tqdm>=4.43.0->sweetviz) (0.4.4)\n"
     ]
    }
   ],
   "source": [
    "!pip install sweetviz\n"
   ]
  },
  {
   "cell_type": "code",
   "execution_count": 4,
   "id": "a529a588",
   "metadata": {},
   "outputs": [
    {
     "ename": "ModuleNotFoundError",
     "evalue": "No module named 'sweetviz'",
     "output_type": "error",
     "traceback": [
      "\u001b[1;31m---------------------------------------------------------------------------\u001b[0m",
      "\u001b[1;31mModuleNotFoundError\u001b[0m                       Traceback (most recent call last)",
      "\u001b[1;32m<ipython-input-4-315aef12f63c>\u001b[0m in \u001b[0;36m<module>\u001b[1;34m\u001b[0m\n\u001b[1;32m----> 1\u001b[1;33m \u001b[1;32mimport\u001b[0m \u001b[0msweetviz\u001b[0m\u001b[1;33m\u001b[0m\u001b[1;33m\u001b[0m\u001b[0m\n\u001b[0m",
      "\u001b[1;31mModuleNotFoundError\u001b[0m: No module named 'sweetviz'"
     ]
    }
   ],
   "source": [
    "import sweetviz"
   ]
  },
  {
   "cell_type": "code",
   "execution_count": 5,
   "id": "5e6e2de5",
   "metadata": {},
   "outputs": [],
   "source": [
    "import pandas as pd\n",
    "pd.read_csv()"
   ]
  }
 ],
 "metadata": {
  "kernelspec": {
   "display_name": "Python 3",
   "language": "python",
   "name": "python3"
  },
  "language_info": {
   "codemirror_mode": {
    "name": "ipython",
    "version": 3
   },
   "file_extension": ".py",
   "mimetype": "text/x-python",
   "name": "python",
   "nbconvert_exporter": "python",
   "pygments_lexer": "ipython3",
   "version": "3.8.8"
  }
 },
 "nbformat": 4,
 "nbformat_minor": 5
}
