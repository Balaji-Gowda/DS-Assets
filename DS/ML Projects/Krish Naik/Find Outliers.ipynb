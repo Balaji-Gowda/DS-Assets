{
 "cells": [
  {
   "cell_type": "markdown",
   "id": "85f67624",
   "metadata": {},
   "source": [
    "# Identification of Outliers\n",
    "- Scatter Plot\n",
    "- Box Plot\n",
    "- Z-Score\n",
    "- IQR Inter Quantile Range "
   ]
  },
  {
   "cell_type": "code",
   "execution_count": 1,
   "id": "24e1aa70",
   "metadata": {},
   "outputs": [],
   "source": [
    "import numpy as np\n",
    "import matplotlib.pyplot as plt\n",
    "%matplotlib inline"
   ]
  },
  {
   "cell_type": "code",
   "execution_count": 2,
   "id": "b7fed2f0",
   "metadata": {},
   "outputs": [],
   "source": [
    "import numpy as np\n",
    "import matplotlib.pyplot as plt\n",
    "%matplotlib inline"
   ]
  },
  {
   "cell_type": "markdown",
   "id": "7f127022",
   "metadata": {},
   "source": [
    "# Z-Score"
   ]
  },
  {
   "cell_type": "code",
   "execution_count": 28,
   "id": "003da2ac",
   "metadata": {},
   "outputs": [],
   "source": [
    "tutor=[10,10,11,10,12,14,12,15,14,13,15,102,12,14,17,19,107,13,12,14,12,108,12,11,14,13,15,10,15,12,10,13,14,15,]"
   ]
  },
  {
   "cell_type": "code",
   "execution_count": 29,
   "id": "367820e4",
   "metadata": {},
   "outputs": [],
   "source": [
    "# Z=(X-mue)/sigma\n",
    "outliers=[]\n",
    "def findoutliers(data):\n",
    "    threshold=3                    ###flling away from second standard deviation\n",
    "    mean=np.mean(data)\n",
    "    std=np.std(data)\n",
    "    for i in data:\n",
    "        zsc=(i-mean)/std\n",
    "        if np.abs(zsc)>threshold:\n",
    "            outliers.append(i)\n",
    "    return outliers"
   ]
  },
  {
   "cell_type": "code",
   "execution_count": 30,
   "id": "787cb12a",
   "metadata": {},
   "outputs": [],
   "source": [
    "op=findoutliers(tutor)"
   ]
  },
  {
   "cell_type": "code",
   "execution_count": 31,
   "id": "7219ceea",
   "metadata": {},
   "outputs": [
    {
     "data": {
      "text/plain": [
       "[102, 107, 108]"
      ]
     },
     "execution_count": 31,
     "metadata": {},
     "output_type": "execute_result"
    }
   ],
   "source": [
    "op"
   ]
  },
  {
   "cell_type": "markdown",
   "id": "bac2dd1a",
   "metadata": {},
   "source": [
    "# visualisations"
   ]
  },
  {
   "cell_type": "code",
   "execution_count": 32,
   "id": "68583759",
   "metadata": {
    "scrolled": true
   },
   "outputs": [
    {
     "data": {
      "text/plain": [
       "[<matplotlib.lines.Line2D at 0x23122ea1e80>]"
      ]
     },
     "execution_count": 32,
     "metadata": {},
     "output_type": "execute_result"
    },
    {
     "data": {
      "image/png": "[encoded data removed]",
      "text/plain": [
       "<Figure size 432x288 with 1 Axes>"
      ]
     },
     "metadata": {
      "needs_background": "light"
     },
     "output_type": "display_data"
    }
   ],
   "source": [
    "plt.plot(tutor)"
   ]
  },
  {
   "cell_type": "code",
   "execution_count": 8,
   "id": "b4ac9d6b",
   "metadata": {},
   "outputs": [],
   "source": [
    "import seaborn as sns"
   ]
  },
  {
   "cell_type": "code",
   "execution_count": 33,
   "id": "7cced1e2",
   "metadata": {},
   "outputs": [
    {
     "data": {
      "text/plain": [
       "<AxesSubplot:>"
      ]
     },
     "execution_count": 33,
     "metadata": {},
     "output_type": "execute_result"
    },
    {
     "data": {
      "image/png": "[encoded data removed]",
      "text/plain": [
       "<Figure size 432x288 with 1 Axes>"
      ]
     },
     "metadata": {
      "needs_background": "light"
     },
     "output_type": "display_data"
    }
   ],
   "source": [
    "sns.scatterplot(data=tutor)"
   ]
  },
  {
   "cell_type": "code",
   "execution_count": 19,
   "id": "02c82388",
   "metadata": {},
   "outputs": [],
   "source": [
    "m=np.mean(tutor)"
   ]
  },
  {
   "cell_type": "code",
   "execution_count": 20,
   "id": "1548391f",
   "metadata": {},
   "outputs": [],
   "source": [
    "s=np.std(tutor)"
   ]
  },
  {
   "cell_type": "code",
   "execution_count": 21,
   "id": "f5f060c5",
   "metadata": {},
   "outputs": [],
   "source": [
    "Z=(102-m)/s"
   ]
  },
  {
   "cell_type": "code",
   "execution_count": 22,
   "id": "87665174",
   "metadata": {},
   "outputs": [
    {
     "data": {
      "text/plain": [
       "2.1421906353509614"
      ]
     },
     "execution_count": 22,
     "metadata": {},
     "output_type": "execute_result"
    }
   ],
   "source": [
    "Z"
   ]
  },
  {
   "cell_type": "code",
   "execution_count": 26,
   "id": "c5760864",
   "metadata": {},
   "outputs": [
    {
     "data": {
      "text/plain": [
       "15.0"
      ]
     },
     "execution_count": 26,
     "metadata": {},
     "output_type": "execute_result"
    }
   ],
   "source": [
    "np.percentile(tutor,75)"
   ]
  },
  {
   "cell_type": "markdown",
   "id": "9f2e4ce1",
   "metadata": {},
   "source": [
    "# IQR"
   ]
  },
  {
   "cell_type": "code",
   "execution_count": 34,
   "id": "feb58f03",
   "metadata": {},
   "outputs": [
    {
     "data": {
      "text/plain": [
       "15.0"
      ]
     },
     "execution_count": 34,
     "metadata": {},
     "output_type": "execute_result"
    }
   ],
   "source": [
    "np.percentile(tutor,75)"
   ]
  },
  {
   "cell_type": "code",
   "execution_count": 35,
   "id": "771a2102",
   "metadata": {},
   "outputs": [
    {
     "data": {
      "text/plain": [
       "12.0"
      ]
     },
     "execution_count": 35,
     "metadata": {},
     "output_type": "execute_result"
    }
   ],
   "source": [
    "np.percentile(tutor,25)"
   ]
  },
  {
   "cell_type": "code",
   "execution_count": 38,
   "id": "cce2a117",
   "metadata": {},
   "outputs": [],
   "source": [
    "q3,q1=np.percentile(tutor,[75,25])"
   ]
  },
  {
   "cell_type": "code",
   "execution_count": 41,
   "id": "7c7711be",
   "metadata": {},
   "outputs": [
    {
     "name": "stdout",
     "output_type": "stream",
     "text": [
      "15.0 12.0\n"
     ]
    }
   ],
   "source": [
    "print(q3,q1)"
   ]
  },
  {
   "cell_type": "code",
   "execution_count": 42,
   "id": "e17edf15",
   "metadata": {},
   "outputs": [
    {
     "data": {
      "text/plain": [
       "3.0"
      ]
     },
     "execution_count": 42,
     "metadata": {},
     "output_type": "execute_result"
    }
   ],
   "source": [
    "rang=q3-q1\n",
    "rang"
   ]
  },
  {
   "cell_type": "code",
   "execution_count": 43,
   "id": "35e6a82f",
   "metadata": {},
   "outputs": [],
   "source": [
    "lower_bound=q1-(rang*1.5)\n",
    "upper_bound=q3+(rang*1.5)"
   ]
  },
  {
   "cell_type": "code",
   "execution_count": 44,
   "id": "3adb4a4f",
   "metadata": {},
   "outputs": [
    {
     "data": {
      "text/plain": [
       "7.5"
      ]
     },
     "execution_count": 44,
     "metadata": {},
     "output_type": "execute_result"
    }
   ],
   "source": [
    "lower_bound\n"
   ]
  },
  {
   "cell_type": "code",
   "execution_count": 45,
   "id": "9898e4a2",
   "metadata": {},
   "outputs": [
    {
     "data": {
      "text/plain": [
       "19.5"
      ]
     },
     "execution_count": 45,
     "metadata": {},
     "output_type": "execute_result"
    }
   ],
   "source": [
    "upper_bound"
   ]
  },
  {
   "cell_type": "code",
   "execution_count": 46,
   "id": "4c08dcf5",
   "metadata": {},
   "outputs": [],
   "source": [
    "def out(num):\n",
    "    if num>upper_bound or num<lower_bound:\n",
    "        return True\n",
    "    else:\n",
    "        return False\n",
    "    "
   ]
  },
  {
   "cell_type": "code",
   "execution_count": 48,
   "id": "1f6d47f4",
   "metadata": {},
   "outputs": [
    {
     "data": {
      "text/plain": [
       "[102, 107, 108]"
      ]
     },
     "execution_count": 48,
     "metadata": {},
     "output_type": "execute_result"
    }
   ],
   "source": [
    "list(filter(out,tutor))"
   ]
  }
 ],
 "metadata": {
  "kernelspec": {
   "display_name": "Python 3",
   "language": "python",
   "name": "python3"
  },
  "language_info": {
   "codemirror_mode": {
    "name": "ipython",
    "version": 3
   },
   "file_extension": ".py",
   "mimetype": "text/x-python",
   "name": "python",
   "nbconvert_exporter": "python",
   "pygments_lexer": "ipython3",
   "version": "3.9.5"
  }
 },
 "nbformat": 4,
 "nbformat_minor": 5
}
