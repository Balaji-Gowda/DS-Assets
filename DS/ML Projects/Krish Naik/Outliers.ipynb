{
 "cells": [
  {
   "cell_type": "markdown",
   "id": "22a85296",
   "metadata": {},
   "source": [
    "# Identification of Outliers\n",
    "- Scatter Plot\n",
    "- Box Plot\n",
    "- Z-Score\n",
    "- IQR Inter Quantile Range "
   ]
  },
  {
   "cell_type": "markdown",
   "id": "c5928f2c",
   "metadata": {},
   "source": [
    "### Applying Z Score"
   ]
  },
  {
   "cell_type": "code",
   "execution_count": 1,
   "id": "0cd83581",
   "metadata": {},
   "outputs": [],
   "source": [
    "import numpy as np\n",
    "import matplotlib.pyplot as plt\n",
    "%matplotlib inline"
   ]
  },
  {
   "cell_type": "code",
   "execution_count": null,
   "id": "ae315884",
   "metadata": {},
   "outputs": [],
   "source": []
  },
  {
   "cell_type": "code",
   "execution_count": null,
   "id": "bfe96ab3",
   "metadata": {},
   "outputs": [],
   "source": []
  },
  {
   "cell_type": "code",
   "execution_count": null,
   "id": "7131bfc3",
   "metadata": {},
   "outputs": [],
   "source": []
  },
  {
   "cell_type": "code",
   "execution_count": null,
   "id": "96390b24",
   "metadata": {},
   "outputs": [],
   "source": []
  },
  {
   "cell_type": "code",
   "execution_count": null,
   "id": "59ac5afc",
   "metadata": {},
   "outputs": [],
   "source": []
  },
  {
   "cell_type": "code",
   "execution_count": null,
   "id": "96f27771",
   "metadata": {},
   "outputs": [],
   "source": []
  },
  {
   "cell_type": "code",
   "execution_count": null,
   "id": "92dc8083",
   "metadata": {},
   "outputs": [],
   "source": []
  },
  {
   "cell_type": "code",
   "execution_count": null,
   "id": "ab261838",
   "metadata": {},
   "outputs": [],
   "source": []
  },
  {
   "cell_type": "code",
   "execution_count": 48,
   "id": "1a8857d0",
   "metadata": {},
   "outputs": [],
   "source": [
    "data=[1,3,4,5,6,2,3,9,10,34,56,7,100,200,9]"
   ]
  },
  {
   "cell_type": "code",
   "execution_count": 52,
   "id": "7e158eeb",
   "metadata": {},
   "outputs": [
    {
     "data": {
      "text/plain": [
       "29.933333333333334"
      ]
     },
     "execution_count": 52,
     "metadata": {},
     "output_type": "execute_result"
    }
   ],
   "source": [
    "np.mean(data)"
   ]
  },
  {
   "cell_type": "code",
   "execution_count": 53,
   "id": "156a7ce5",
   "metadata": {},
   "outputs": [
    {
     "data": {
      "text/plain": [
       "52.448662730542736"
      ]
     },
     "execution_count": 53,
     "metadata": {},
     "output_type": "execute_result"
    }
   ],
   "source": [
    "np.std(data)"
   ]
  },
  {
   "cell_type": "code",
   "execution_count": 25,
   "id": "3f2cd4d2",
   "metadata": {},
   "outputs": [
    {
     "data": {
      "text/plain": [
       "15"
      ]
     },
     "execution_count": 25,
     "metadata": {},
     "output_type": "execute_result"
    }
   ],
   "source": [
    "len(data)"
   ]
  },
  {
   "cell_type": "code",
   "execution_count": 67,
   "id": "3113ff5c",
   "metadata": {},
   "outputs": [],
   "source": [
    "del(outliers)"
   ]
  },
  {
   "cell_type": "code",
   "execution_count": 4,
   "id": "31915e6d",
   "metadata": {},
   "outputs": [],
   "source": [
    "# Z=(X-mue)/sigma\n",
    "outliers=[]\n",
    "def findoutliers(data):\n",
    "    mean=np.mean(data)\n",
    "    std=np.std(data)\n",
    "    for i in data:\n",
    "        zsc=(i-mean)/std\n",
    "        if np.abs(zsc)>3:\n",
    "            outliers.append(i)\n",
    "    return outliers"
   ]
  },
  {
   "cell_type": "code",
   "execution_count": 103,
   "id": "113ace44",
   "metadata": {},
   "outputs": [],
   "source": [
    "\n",
    "op=findoutliers(data)"
   ]
  },
  {
   "cell_type": "code",
   "execution_count": 5,
   "id": "e6f9634e",
   "metadata": {},
   "outputs": [],
   "source": [
    "\n",
    "op=findoutliers(tutor)"
   ]
  },
  {
   "cell_type": "code",
   "execution_count": 6,
   "id": "f8fd9565",
   "metadata": {},
   "outputs": [
    {
     "data": {
      "text/plain": [
       "[]"
      ]
     },
     "execution_count": 6,
     "metadata": {},
     "output_type": "execute_result"
    }
   ],
   "source": [
    "op"
   ]
  },
  {
   "cell_type": "code",
   "execution_count": 51,
   "id": "45c29199",
   "metadata": {},
   "outputs": [
    {
     "data": {
      "text/plain": [
       "[200]"
      ]
     },
     "execution_count": 51,
     "metadata": {},
     "output_type": "execute_result"
    }
   ],
   "source": [
    "op"
   ]
  },
  {
   "cell_type": "code",
   "execution_count": 56,
   "id": "1c1a5f3d",
   "metadata": {},
   "outputs": [
    {
     "name": "stdout",
     "output_type": "stream",
     "text": [
      "-0.5516781083142639\n",
      "0.5516781083142639\n"
     ]
    }
   ],
   "source": [
    "i=1\n",
    "mean=29.93\n",
    "std=52.44\n",
    "\n",
    "zsc=(i-mean)/std\n",
    "print(zsc)\n",
    "print(abs(zsc))"
   ]
  },
  {
   "cell_type": "code",
   "execution_count": 60,
   "id": "aeb85707",
   "metadata": {},
   "outputs": [],
   "source": [
    "data=[1,3,4,5,6,2,3,9,10,34,56,7,100,9]"
   ]
  },
  {
   "cell_type": "code",
   "execution_count": 61,
   "id": "26379891",
   "metadata": {},
   "outputs": [
    {
     "data": {
      "text/plain": [
       "[<matplotlib.lines.Line2D at 0x26123806c10>]"
      ]
     },
     "execution_count": 61,
     "metadata": {},
     "output_type": "execute_result"
    },
    {
     "data": {
      "image/png": "[encoded data removed]",
      "text/plain": [
       "<Figure size 432x288 with 1 Axes>"
      ]
     },
     "metadata": {
      "needs_background": "light"
     },
     "output_type": "display_data"
    }
   ],
   "source": [
    "plt.plot(data)"
   ]
  },
  {
   "cell_type": "code",
   "execution_count": 2,
   "id": "7910cb99",
   "metadata": {},
   "outputs": [],
   "source": [
    "tutor=[11,10,12,14,12,15,14,13,15,102,12,14,17,19,107,106,110,13,12,14,12,108,12,11,14,13,15,10,15,12,10]"
   ]
  },
  {
   "cell_type": "code",
   "execution_count": 3,
   "id": "d6dd3136",
   "metadata": {},
   "outputs": [
    {
     "data": {
      "text/plain": [
       "[<matplotlib.lines.Line2D at 0x1b9653e5dc0>]"
      ]
     },
     "execution_count": 3,
     "metadata": {},
     "output_type": "execute_result"
    },
    {
     "data": {
      "image/png": "[encoded data removed]",
      "text/plain": [
       "<Figure size 432x288 with 1 Axes>"
      ]
     },
     "metadata": {
      "needs_background": "light"
     },
     "output_type": "display_data"
    }
   ],
   "source": [
    "plt.plot(tutor)"
   ]
  },
  {
   "cell_type": "code",
   "execution_count": 94,
   "id": "5f00dce6",
   "metadata": {},
   "outputs": [],
   "source": [
    "set=[25,29,3,32,85,33,27,28]"
   ]
  },
  {
   "cell_type": "code",
   "execution_count": 82,
   "id": "eca49a2b",
   "metadata": {
    "scrolled": false
   },
   "outputs": [
    {
     "name": "stdout",
     "output_type": "stream",
     "text": [
      "32.75\n",
      "21.637640814099857\n"
     ]
    }
   ],
   "source": [
    "set\n",
    "print(np.mean(set))\n",
    "print(np.std(set))"
   ]
  },
  {
   "cell_type": "code",
   "execution_count": 83,
   "id": "10dffd8e",
   "metadata": {},
   "outputs": [
    {
     "name": "stdout",
     "output_type": "stream",
     "text": [
      "2.4147735150413814\n",
      "2.4147735150413814\n"
     ]
    }
   ],
   "source": [
    "i=85\n",
    "mean=32.75\n",
    "std=21.63764\n",
    "\n",
    "zsc=(i-mean)/std\n",
    "print(zsc)\n",
    "print(abs(zsc))"
   ]
  },
  {
   "cell_type": "code",
   "execution_count": 88,
   "id": "e3a065eb",
   "metadata": {},
   "outputs": [
    {
     "data": {
      "text/plain": [
       "[<matplotlib.lines.Line2D at 0x2612384d490>]"
      ]
     },
     "execution_count": 88,
     "metadata": {},
     "output_type": "execute_result"
    },
    {
     "data": {
      "image/png": "[encoded data removed]",
      "text/plain": [
       "<Figure size 432x288 with 1 Axes>"
      ]
     },
     "metadata": {
      "needs_background": "light"
     },
     "output_type": "display_data"
    }
   ],
   "source": [
    "plt.plot(set)"
   ]
  },
  {
   "cell_type": "code",
   "execution_count": 96,
   "id": "c8fe5fe4",
   "metadata": {},
   "outputs": [],
   "source": [
    "# Z=(X-mue)/sigma\n",
    "outliers=[]\n",
    "def findoutliers(data):\n",
    "    mean=np.mean(data)\n",
    "    std=np.std(data)\n",
    "    for i in data:\n",
    "        zsc=(i-mean)/std\n",
    "        if np.abs(zsc)>2.3:\n",
    "            outliers.append(i)\n",
    "    return outliers"
   ]
  },
  {
   "cell_type": "code",
   "execution_count": 97,
   "id": "01166a80",
   "metadata": {},
   "outputs": [
    {
     "data": {
      "text/plain": [
       "[]"
      ]
     },
     "execution_count": 97,
     "metadata": {},
     "output_type": "execute_result"
    }
   ],
   "source": [
    "outliers"
   ]
  },
  {
   "cell_type": "code",
   "execution_count": 98,
   "id": "936316af",
   "metadata": {},
   "outputs": [
    {
     "data": {
      "text/plain": [
       "[85]"
      ]
     },
     "execution_count": 98,
     "metadata": {},
     "output_type": "execute_result"
    }
   ],
   "source": [
    "findoutliers(set)"
   ]
  },
  {
   "cell_type": "code",
   "execution_count": null,
   "id": "f9673e77",
   "metadata": {},
   "outputs": [],
   "source": []
  }
 ],
 "metadata": {
  "kernelspec": {
   "display_name": "Python 3",
   "language": "python",
   "name": "python3"
  },
  "language_info": {
   "codemirror_mode": {
    "name": "ipython",
    "version": 3
   },
   "file_extension": ".py",
   "mimetype": "text/x-python",
   "name": "python",
   "nbconvert_exporter": "python",
   "pygments_lexer": "ipython3",
   "version": "3.9.5"
  }
 },
 "nbformat": 4,
 "nbformat_minor": 5
}
