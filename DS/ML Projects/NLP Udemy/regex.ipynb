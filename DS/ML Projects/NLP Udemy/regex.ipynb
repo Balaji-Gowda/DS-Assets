{
 "cells": [
  {
   "cell_type": "code",
   "execution_count": 1,
   "id": "d14e5c19",
   "metadata": {},
   "outputs": [],
   "source": [
    "text='The phone num is 409-890-9880. call soon'"
   ]
  },
  {
   "cell_type": "code",
   "execution_count": 2,
   "id": "4f98ebb0",
   "metadata": {},
   "outputs": [],
   "source": [
    "import re"
   ]
  },
  {
   "cell_type": "code",
   "execution_count": 3,
   "id": "bd5ac065",
   "metadata": {},
   "outputs": [],
   "source": [
    "pattern= 'phone'"
   ]
  },
  {
   "cell_type": "code",
   "execution_count": 6,
   "id": "752dc4b6",
   "metadata": {},
   "outputs": [
    {
     "data": {
      "text/plain": [
       "<re.Match object; span=(4, 9), match='phone'>"
      ]
     },
     "execution_count": 6,
     "metadata": {},
     "output_type": "execute_result"
    }
   ],
   "source": [
    "re.search(pattern,text)"
   ]
  },
  {
   "cell_type": "code",
   "execution_count": 7,
   "id": "a4e57e9e",
   "metadata": {},
   "outputs": [
    {
     "data": {
      "text/plain": [
       "(4, 9)"
      ]
     },
     "execution_count": 7,
     "metadata": {},
     "output_type": "execute_result"
    }
   ],
   "source": [
    "re.search(pattern,text).span()"
   ]
  },
  {
   "cell_type": "code",
   "execution_count": 8,
   "id": "40a599be",
   "metadata": {},
   "outputs": [],
   "source": [
    "match=re.search(pattern,text)"
   ]
  },
  {
   "cell_type": "code",
   "execution_count": 9,
   "id": "b99c629d",
   "metadata": {},
   "outputs": [
    {
     "data": {
      "text/plain": [
       "4"
      ]
     },
     "execution_count": 9,
     "metadata": {},
     "output_type": "execute_result"
    }
   ],
   "source": [
    "match.start()"
   ]
  },
  {
   "cell_type": "code",
   "execution_count": 10,
   "id": "8e5aeffe",
   "metadata": {},
   "outputs": [
    {
     "data": {
      "text/plain": [
       "9"
      ]
     },
     "execution_count": 10,
     "metadata": {},
     "output_type": "execute_result"
    }
   ],
   "source": [
    "match.end()"
   ]
  },
  {
   "cell_type": "code",
   "execution_count": 11,
   "id": "1783ecd6",
   "metadata": {},
   "outputs": [],
   "source": [
    "txt2='This phone is my phone'"
   ]
  },
  {
   "cell_type": "code",
   "execution_count": 12,
   "id": "6ef5318e",
   "metadata": {},
   "outputs": [
    {
     "data": {
      "text/plain": [
       "['phone', 'phone']"
      ]
     },
     "execution_count": 12,
     "metadata": {},
     "output_type": "execute_result"
    }
   ],
   "source": [
    "re.findall(pattern,txt2)"
   ]
  },
  {
   "cell_type": "code",
   "execution_count": 13,
   "id": "3759981e",
   "metadata": {},
   "outputs": [
    {
     "data": {
      "text/plain": [
       "2"
      ]
     },
     "execution_count": 13,
     "metadata": {},
     "output_type": "execute_result"
    }
   ],
   "source": [
    "len(re.findall(pattern,txt2))"
   ]
  },
  {
   "cell_type": "code",
   "execution_count": 16,
   "id": "e791f3c4",
   "metadata": {},
   "outputs": [
    {
     "name": "stdout",
     "output_type": "stream",
     "text": [
      "(5, 10)\n",
      "(17, 22)\n"
     ]
    }
   ],
   "source": [
    "for i in re.finditer(pattern,txt2):\n",
    "    print(i.span())"
   ]
  },
  {
   "cell_type": "code",
   "execution_count": null,
   "id": "d1247aa7",
   "metadata": {},
   "outputs": [],
   "source": []
  }
 ],
 "metadata": {
  "kernelspec": {
   "display_name": "Python 3 (ipykernel)",
   "language": "python",
   "name": "python3"
  },
  "language_info": {
   "codemirror_mode": {
    "name": "ipython",
    "version": 3
   },
   "file_extension": ".py",
   "mimetype": "text/x-python",
   "name": "python",
   "nbconvert_exporter": "python",
   "pygments_lexer": "ipython3",
   "version": "3.7.11"
  }
 },
 "nbformat": 4,
 "nbformat_minor": 5
}
