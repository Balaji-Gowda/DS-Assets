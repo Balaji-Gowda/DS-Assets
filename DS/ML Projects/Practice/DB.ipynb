{
 "cells": [
  {
   "cell_type": "code",
   "execution_count": 22,
   "id": "ba86e0a9",
   "metadata": {},
   "outputs": [],
   "source": [
    "import pandas as pd\n",
    "import pyodbc"
   ]
  },
  {
   "cell_type": "code",
   "execution_count": 23,
   "id": "0e00d46b",
   "metadata": {},
   "outputs": [
    {
     "ename": "InterfaceError",
     "evalue": "('IM002', '[IM002] [Microsoft][ODBC Driver Manager] Data source name not found and no default driver specified (0) (SQLDriverConnect)')",
     "output_type": "error",
     "traceback": [
      "\u001b[1;31m---------------------------------------------------------------------------\u001b[0m",
      "\u001b[1;31mInterfaceError\u001b[0m                            Traceback (most recent call last)",
      "\u001b[1;32m<ipython-input-23-1fa4d3e71216>\u001b[0m in \u001b[0;36m<module>\u001b[1;34m\u001b[0m\n\u001b[1;32m----> 1\u001b[1;33m conn=pyodbc.connect( \n\u001b[0m\u001b[0;32m      2\u001b[0m                        \u001b[1;34m'HOST=localhost;'\u001b[0m\u001b[1;33m\u001b[0m\u001b[1;33m\u001b[0m\u001b[0m\n\u001b[0;32m      3\u001b[0m                        \u001b[1;34m'DATABASE=django;'\u001b[0m\u001b[1;33m\u001b[0m\u001b[1;33m\u001b[0m\u001b[0m\n\u001b[0;32m      4\u001b[0m                        \u001b[1;34m'UID=root;'\u001b[0m\u001b[1;33m\u001b[0m\u001b[1;33m\u001b[0m\u001b[0m\n\u001b[0;32m      5\u001b[0m                        \u001b[1;34m'PWD=tiger;'\u001b[0m\u001b[1;33m\u001b[0m\u001b[1;33m\u001b[0m\u001b[0m\n",
      "\u001b[1;31mInterfaceError\u001b[0m: ('IM002', '[IM002] [Microsoft][ODBC Driver Manager] Data source name not found and no default driver specified (0) (SQLDriverConnect)')"
     ]
    }
   ],
   "source": [
    "conn=pyodbc.connect( \n",
    "                       'HOST=localhost;'\n",
    "                       'DATABASE=django;'\n",
    "                       'UID=root;'\n",
    "                       'PWD=tiger;'\n",
    "                       )\n",
    "query=\"SELECT * FROM professor\"\n",
    "output=pd.read_sql(query,conn)"
   ]
  },
  {
   "cell_type": "code",
   "execution_count": 16,
   "id": "3296e3dc",
   "metadata": {},
   "outputs": [],
   "source": [
    "import mysql.connector as sql\n",
    "\n",
    "import pandas as pd\n",
    "\n",
    "db_connection = sql.connect(host='localhost', database='django', user='root', password='tiger')\n",
    "\n",
    "db_cursor = db_connection.cursor()\n",
    "\n",
    "db_cursor.execute('SELECT * FROM professor')\n",
    "\n",
    "table_rows = db_cursor.fetchall()\n",
    "\n",
    "df = pd.DataFrame(table_rows)"
   ]
  },
  {
   "cell_type": "code",
   "execution_count": 5,
   "id": "e12752fa",
   "metadata": {},
   "outputs": [],
   "source": [
    "df[1]=df[1].str.strip()"
   ]
  },
  {
   "cell_type": "code",
   "execution_count": 17,
   "id": "77e2d116",
   "metadata": {},
   "outputs": [
    {
     "data": {
      "text/html": [
       "<div>\n",
       "<style scoped>\n",
       "    .dataframe tbody tr th:only-of-type {\n",
       "        vertical-align: middle;\n",
       "    }\n",
       "\n",
       "    .dataframe tbody tr th {\n",
       "        vertical-align: top;\n",
       "    }\n",
       "\n",
       "    .dataframe thead th {\n",
       "        text-align: right;\n",
       "    }\n",
       "</style>\n",
       "<table border=\"1\" class=\"dataframe\">\n",
       "  <thead>\n",
       "    <tr style=\"text-align: right;\">\n",
       "      <th></th>\n",
       "      <th>0</th>\n",
       "      <th>1</th>\n",
       "      <th>2</th>\n",
       "      <th>3</th>\n",
       "    </tr>\n",
       "  </thead>\n",
       "  <tbody>\n",
       "    <tr>\n",
       "      <th>0</th>\n",
       "      <td>1</td>\n",
       "      <td>Nancy Daniels\\t</td>\n",
       "      <td>4</td>\n",
       "      <td>7169</td>\n",
       "    </tr>\n",
       "    <tr>\n",
       "      <th>1</th>\n",
       "      <td>2</td>\n",
       "      <td>Billy Knight</td>\n",
       "      <td>1</td>\n",
       "      <td>9793</td>\n",
       "    </tr>\n",
       "    <tr>\n",
       "      <th>2</th>\n",
       "      <td>3</td>\n",
       "      <td>Harry Myers</td>\n",
       "      <td>4</td>\n",
       "      <td>25194</td>\n",
       "    </tr>\n",
       "    <tr>\n",
       "      <th>3</th>\n",
       "      <td>4</td>\n",
       "      <td>Antonio Rodriguez</td>\n",
       "      <td>3</td>\n",
       "      <td>9686</td>\n",
       "    </tr>\n",
       "    <tr>\n",
       "      <th>4</th>\n",
       "      <td>5</td>\n",
       "      <td>Nicole Gome</td>\n",
       "      <td>2</td>\n",
       "      <td>30860</td>\n",
       "    </tr>\n",
       "    <tr>\n",
       "      <th>5</th>\n",
       "      <td>6</td>\n",
       "      <td>\\tEugene George</td>\n",
       "      <td>5</td>\n",
       "      <td>10487</td>\n",
       "    </tr>\n",
       "    <tr>\n",
       "      <th>6</th>\n",
       "      <td>7</td>\n",
       "      <td>Gloria Vasquez</td>\n",
       "      <td>4</td>\n",
       "      <td>6353</td>\n",
       "    </tr>\n",
       "    <tr>\n",
       "      <th>7</th>\n",
       "      <td>8</td>\n",
       "      <td>Joyce Flores</td>\n",
       "      <td>1</td>\n",
       "      <td>25796</td>\n",
       "    </tr>\n",
       "    <tr>\n",
       "      <th>8</th>\n",
       "      <td>9</td>\n",
       "      <td>Daniel Gilbert</td>\n",
       "      <td>5</td>\n",
       "      <td>35678</td>\n",
       "    </tr>\n",
       "    <tr>\n",
       "      <th>9</th>\n",
       "      <td>10</td>\n",
       "      <td>Matthew Stevens</td>\n",
       "      <td>2</td>\n",
       "      <td>26648</td>\n",
       "    </tr>\n",
       "  </tbody>\n",
       "</table>\n",
       "</div>"
      ],
      "text/plain": [
       "    0                  1  2      3\n",
       "0   1    Nancy Daniels\\t  4   7169\n",
       "1   2       Billy Knight  1   9793\n",
       "2   3        Harry Myers  4  25194\n",
       "3   4  Antonio Rodriguez  3   9686\n",
       "4   5        Nicole Gome  2  30860\n",
       "5   6    \\tEugene George  5  10487\n",
       "6   7     Gloria Vasquez  4   6353\n",
       "7   8       Joyce Flores  1  25796\n",
       "8   9     Daniel Gilbert  5  35678\n",
       "9  10    Matthew Stevens  2  26648"
      ]
     },
     "execution_count": 17,
     "metadata": {},
     "output_type": "execute_result"
    }
   ],
   "source": [
    "df"
   ]
  },
  {
   "cell_type": "code",
   "execution_count": 15,
   "id": "46a05232",
   "metadata": {},
   "outputs": [],
   "source": [
    "db_cursor.execute('DELETE FROM professor where DEPT_ID=2')\n",
    "\n",
    "\n",
    "# table_rows2 = db_cursor.fetchall()\n",
    "\n",
    "# df2 = pd.DataFrame(table_rows2)"
   ]
  },
  {
   "cell_type": "code",
   "execution_count": 14,
   "id": "63d53590",
   "metadata": {},
   "outputs": [
    {
     "data": {
      "text/html": [
       "<div>\n",
       "<style scoped>\n",
       "    .dataframe tbody tr th:only-of-type {\n",
       "        vertical-align: middle;\n",
       "    }\n",
       "\n",
       "    .dataframe tbody tr th {\n",
       "        vertical-align: top;\n",
       "    }\n",
       "\n",
       "    .dataframe thead th {\n",
       "        text-align: right;\n",
       "    }\n",
       "</style>\n",
       "<table border=\"1\" class=\"dataframe\">\n",
       "  <thead>\n",
       "    <tr style=\"text-align: right;\">\n",
       "      <th></th>\n",
       "      <th>0</th>\n",
       "      <th>1</th>\n",
       "      <th>2</th>\n",
       "      <th>3</th>\n",
       "    </tr>\n",
       "  </thead>\n",
       "  <tbody>\n",
       "    <tr>\n",
       "      <th>0</th>\n",
       "      <td>5</td>\n",
       "      <td>Nicole Gome</td>\n",
       "      <td>2</td>\n",
       "      <td>30860</td>\n",
       "    </tr>\n",
       "    <tr>\n",
       "      <th>1</th>\n",
       "      <td>10</td>\n",
       "      <td>Matthew Stevens</td>\n",
       "      <td>2</td>\n",
       "      <td>26648</td>\n",
       "    </tr>\n",
       "  </tbody>\n",
       "</table>\n",
       "</div>"
      ],
      "text/plain": [
       "    0                1  2      3\n",
       "0   5      Nicole Gome  2  30860\n",
       "1  10  Matthew Stevens  2  26648"
      ]
     },
     "execution_count": 14,
     "metadata": {},
     "output_type": "execute_result"
    }
   ],
   "source": [
    "df2"
   ]
  },
  {
   "cell_type": "code",
   "execution_count": null,
   "id": "0e9793ad",
   "metadata": {},
   "outputs": [],
   "source": []
  }
 ],
 "metadata": {
  "kernelspec": {
   "display_name": "Python 3",
   "language": "python",
   "name": "python3"
  },
  "language_info": {
   "codemirror_mode": {
    "name": "ipython",
    "version": 3
   },
   "file_extension": ".py",
   "mimetype": "text/x-python",
   "name": "python",
   "nbconvert_exporter": "python",
   "pygments_lexer": "ipython3",
   "version": "3.9.5"
  }
 },
 "nbformat": 4,
 "nbformat_minor": 5
}
