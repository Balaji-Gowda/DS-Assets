{
 "cells": [
  {
   "cell_type": "code",
   "execution_count": 57,
   "id": "87c00c24",
   "metadata": {},
   "outputs": [],
   "source": [
    "import pandas as pd"
   ]
  },
  {
   "cell_type": "markdown",
   "id": "d2f5be1b",
   "metadata": {},
   "source": [
    "# pass a url to read_csv() method"
   ]
  },
  {
   "cell_type": "code",
   "execution_count": 3,
   "id": "23b7260b",
   "metadata": {},
   "outputs": [
    {
     "data": {
      "text/html": [
       "<div>\n",
       "<style scoped>\n",
       "    .dataframe tbody tr th:only-of-type {\n",
       "        vertical-align: middle;\n",
       "    }\n",
       "\n",
       "    .dataframe tbody tr th {\n",
       "        vertical-align: top;\n",
       "    }\n",
       "\n",
       "    .dataframe thead th {\n",
       "        text-align: right;\n",
       "    }\n",
       "</style>\n",
       "<table border=\"1\" class=\"dataframe\">\n",
       "  <thead>\n",
       "    <tr style=\"text-align: right;\">\n",
       "      <th></th>\n",
       "      <th>Year of Birth</th>\n",
       "      <th>Gender</th>\n",
       "      <th>Ethnicity</th>\n",
       "      <th>Child's First Name</th>\n",
       "      <th>Count</th>\n",
       "      <th>Rank</th>\n",
       "    </tr>\n",
       "  </thead>\n",
       "  <tbody>\n",
       "    <tr>\n",
       "      <th>0</th>\n",
       "      <td>2011</td>\n",
       "      <td>FEMALE</td>\n",
       "      <td>HISPANIC</td>\n",
       "      <td>GERALDINE</td>\n",
       "      <td>13</td>\n",
       "      <td>75</td>\n",
       "    </tr>\n",
       "    <tr>\n",
       "      <th>1</th>\n",
       "      <td>2011</td>\n",
       "      <td>FEMALE</td>\n",
       "      <td>HISPANIC</td>\n",
       "      <td>GIA</td>\n",
       "      <td>21</td>\n",
       "      <td>67</td>\n",
       "    </tr>\n",
       "    <tr>\n",
       "      <th>2</th>\n",
       "      <td>2011</td>\n",
       "      <td>FEMALE</td>\n",
       "      <td>HISPANIC</td>\n",
       "      <td>GIANNA</td>\n",
       "      <td>49</td>\n",
       "      <td>42</td>\n",
       "    </tr>\n",
       "    <tr>\n",
       "      <th>3</th>\n",
       "      <td>2011</td>\n",
       "      <td>FEMALE</td>\n",
       "      <td>HISPANIC</td>\n",
       "      <td>GISELLE</td>\n",
       "      <td>38</td>\n",
       "      <td>51</td>\n",
       "    </tr>\n",
       "    <tr>\n",
       "      <th>4</th>\n",
       "      <td>2011</td>\n",
       "      <td>FEMALE</td>\n",
       "      <td>HISPANIC</td>\n",
       "      <td>GRACE</td>\n",
       "      <td>36</td>\n",
       "      <td>53</td>\n",
       "    </tr>\n",
       "  </tbody>\n",
       "</table>\n",
       "</div>"
      ],
      "text/plain": [
       "   Year of Birth  Gender Ethnicity Child's First Name  Count  Rank\n",
       "0           2011  FEMALE  HISPANIC          GERALDINE     13    75\n",
       "1           2011  FEMALE  HISPANIC                GIA     21    67\n",
       "2           2011  FEMALE  HISPANIC             GIANNA     49    42\n",
       "3           2011  FEMALE  HISPANIC            GISELLE     38    51\n",
       "4           2011  FEMALE  HISPANIC              GRACE     36    53"
      ]
     },
     "execution_count": 3,
     "metadata": {},
     "output_type": "execute_result"
    }
   ],
   "source": [
    "url=\"https://data.cityofnewyork.us/api/views/25th-nujf/rows.csv?accessType=DOWNLOAD\"\n",
    "baby=pd.read_csv(url)\n",
    "baby.head()"
   ]
  },
  {
   "cell_type": "code",
   "execution_count": 4,
   "id": "aafb83be",
   "metadata": {},
   "outputs": [
    {
     "data": {
      "text/html": [
       "<div>\n",
       "<style scoped>\n",
       "    .dataframe tbody tr th:only-of-type {\n",
       "        vertical-align: middle;\n",
       "    }\n",
       "\n",
       "    .dataframe tbody tr th {\n",
       "        vertical-align: top;\n",
       "    }\n",
       "\n",
       "    .dataframe thead th {\n",
       "        text-align: right;\n",
       "    }\n",
       "</style>\n",
       "<table border=\"1\" class=\"dataframe\">\n",
       "  <thead>\n",
       "    <tr style=\"text-align: right;\">\n",
       "      <th></th>\n",
       "      <th>Year of Birth</th>\n",
       "      <th>Gender</th>\n",
       "      <th>Ethnicity</th>\n",
       "      <th>Child's First Name</th>\n",
       "      <th>Count</th>\n",
       "      <th>Rank</th>\n",
       "    </tr>\n",
       "  </thead>\n",
       "  <tbody>\n",
       "    <tr>\n",
       "      <th>0</th>\n",
       "      <td>2011</td>\n",
       "      <td>FEMALE</td>\n",
       "      <td>HISPANIC</td>\n",
       "      <td>GERALDINE</td>\n",
       "      <td>13</td>\n",
       "      <td>75</td>\n",
       "    </tr>\n",
       "    <tr>\n",
       "      <th>1</th>\n",
       "      <td>2011</td>\n",
       "      <td>FEMALE</td>\n",
       "      <td>HISPANIC</td>\n",
       "      <td>GIA</td>\n",
       "      <td>21</td>\n",
       "      <td>67</td>\n",
       "    </tr>\n",
       "    <tr>\n",
       "      <th>2</th>\n",
       "      <td>2011</td>\n",
       "      <td>FEMALE</td>\n",
       "      <td>HISPANIC</td>\n",
       "      <td>GIANNA</td>\n",
       "      <td>49</td>\n",
       "      <td>42</td>\n",
       "    </tr>\n",
       "    <tr>\n",
       "      <th>3</th>\n",
       "      <td>2011</td>\n",
       "      <td>FEMALE</td>\n",
       "      <td>HISPANIC</td>\n",
       "      <td>GISELLE</td>\n",
       "      <td>38</td>\n",
       "      <td>51</td>\n",
       "    </tr>\n",
       "    <tr>\n",
       "      <th>4</th>\n",
       "      <td>2011</td>\n",
       "      <td>FEMALE</td>\n",
       "      <td>HISPANIC</td>\n",
       "      <td>GRACE</td>\n",
       "      <td>36</td>\n",
       "      <td>53</td>\n",
       "    </tr>\n",
       "    <tr>\n",
       "      <th>5</th>\n",
       "      <td>2011</td>\n",
       "      <td>FEMALE</td>\n",
       "      <td>HISPANIC</td>\n",
       "      <td>GUADALUPE</td>\n",
       "      <td>26</td>\n",
       "      <td>62</td>\n",
       "    </tr>\n",
       "    <tr>\n",
       "      <th>6</th>\n",
       "      <td>2011</td>\n",
       "      <td>FEMALE</td>\n",
       "      <td>HISPANIC</td>\n",
       "      <td>HAILEY</td>\n",
       "      <td>126</td>\n",
       "      <td>8</td>\n",
       "    </tr>\n",
       "  </tbody>\n",
       "</table>\n",
       "</div>"
      ],
      "text/plain": [
       "   Year of Birth  Gender Ethnicity Child's First Name  Count  Rank\n",
       "0           2011  FEMALE  HISPANIC          GERALDINE     13    75\n",
       "1           2011  FEMALE  HISPANIC                GIA     21    67\n",
       "2           2011  FEMALE  HISPANIC             GIANNA     49    42\n",
       "3           2011  FEMALE  HISPANIC            GISELLE     38    51\n",
       "4           2011  FEMALE  HISPANIC              GRACE     36    53\n",
       "5           2011  FEMALE  HISPANIC          GUADALUPE     26    62\n",
       "6           2011  FEMALE  HISPANIC             HAILEY    126     8"
      ]
     },
     "execution_count": 4,
     "metadata": {},
     "output_type": "execute_result"
    }
   ],
   "source": [
    "baby.head(7)"
   ]
  },
  {
   "cell_type": "markdown",
   "id": "238ca26d",
   "metadata": {},
   "source": [
    "# Quick object conversations"
   ]
  },
  {
   "cell_type": "code",
   "execution_count": 58,
   "id": "0b2b60ef",
   "metadata": {
    "scrolled": true
   },
   "outputs": [
    {
     "data": {
      "text/html": [
       "<div>\n",
       "<style scoped>\n",
       "    .dataframe tbody tr th:only-of-type {\n",
       "        vertical-align: middle;\n",
       "    }\n",
       "\n",
       "    .dataframe tbody tr th {\n",
       "        vertical-align: top;\n",
       "    }\n",
       "\n",
       "    .dataframe thead th {\n",
       "        text-align: right;\n",
       "    }\n",
       "</style>\n",
       "<table border=\"1\" class=\"dataframe\">\n",
       "  <thead>\n",
       "    <tr style=\"text-align: right;\">\n",
       "      <th></th>\n",
       "      <th>Year of Birth</th>\n",
       "      <th>Gender</th>\n",
       "      <th>Ethnicity</th>\n",
       "      <th>Child's First Name</th>\n",
       "      <th>Count</th>\n",
       "      <th>Rank</th>\n",
       "    </tr>\n",
       "  </thead>\n",
       "  <tbody>\n",
       "    <tr>\n",
       "      <th>0</th>\n",
       "      <td>2011</td>\n",
       "      <td>FEMALE</td>\n",
       "      <td>HISPANIC</td>\n",
       "      <td>GERALDINE</td>\n",
       "      <td>13</td>\n",
       "      <td>75</td>\n",
       "    </tr>\n",
       "    <tr>\n",
       "      <th>1</th>\n",
       "      <td>2011</td>\n",
       "      <td>FEMALE</td>\n",
       "      <td>HISPANIC</td>\n",
       "      <td>GIA</td>\n",
       "      <td>21</td>\n",
       "      <td>67</td>\n",
       "    </tr>\n",
       "    <tr>\n",
       "      <th>2</th>\n",
       "      <td>2011</td>\n",
       "      <td>FEMALE</td>\n",
       "      <td>HISPANIC</td>\n",
       "      <td>GIANNA</td>\n",
       "      <td>49</td>\n",
       "      <td>42</td>\n",
       "    </tr>\n",
       "    <tr>\n",
       "      <th>3</th>\n",
       "      <td>2011</td>\n",
       "      <td>FEMALE</td>\n",
       "      <td>HISPANIC</td>\n",
       "      <td>GISELLE</td>\n",
       "      <td>38</td>\n",
       "      <td>51</td>\n",
       "    </tr>\n",
       "    <tr>\n",
       "      <th>4</th>\n",
       "      <td>2011</td>\n",
       "      <td>FEMALE</td>\n",
       "      <td>HISPANIC</td>\n",
       "      <td>GRACE</td>\n",
       "      <td>36</td>\n",
       "      <td>53</td>\n",
       "    </tr>\n",
       "  </tbody>\n",
       "</table>\n",
       "</div>"
      ],
      "text/plain": [
       "   Year of Birth  Gender Ethnicity Child's First Name  Count  Rank\n",
       "0           2011  FEMALE  HISPANIC          GERALDINE     13    75\n",
       "1           2011  FEMALE  HISPANIC                GIA     21    67\n",
       "2           2011  FEMALE  HISPANIC             GIANNA     49    42\n",
       "3           2011  FEMALE  HISPANIC            GISELLE     38    51\n",
       "4           2011  FEMALE  HISPANIC              GRACE     36    53"
      ]
     },
     "execution_count": 58,
     "metadata": {},
     "output_type": "execute_result"
    }
   ],
   "source": [
    "url=\"https://data.cityofnewyork.us/api/views/25th-nujf/rows.csv?accessType=DOWNLOAD\"\n",
    "baby=pd.read_csv(url)\n",
    "baby.head()"
   ]
  },
  {
   "cell_type": "code",
   "execution_count": null,
   "id": "af6223a5",
   "metadata": {},
   "outputs": [],
   "source": [
    "baby[\"Child's First Name\"]\n"
   ]
  },
  {
   "cell_type": "code",
   "execution_count": 59,
   "id": "96639e74",
   "metadata": {
    "scrolled": true
   },
   "outputs": [
    {
     "data": {
      "text/html": [
       "<div>\n",
       "<style scoped>\n",
       "    .dataframe tbody tr th:only-of-type {\n",
       "        vertical-align: middle;\n",
       "    }\n",
       "\n",
       "    .dataframe tbody tr th {\n",
       "        vertical-align: top;\n",
       "    }\n",
       "\n",
       "    .dataframe thead th {\n",
       "        text-align: right;\n",
       "    }\n",
       "</style>\n",
       "<table border=\"1\" class=\"dataframe\">\n",
       "  <thead>\n",
       "    <tr style=\"text-align: right;\">\n",
       "      <th></th>\n",
       "      <th>Child's First Name</th>\n",
       "    </tr>\n",
       "  </thead>\n",
       "  <tbody>\n",
       "    <tr>\n",
       "      <th>0</th>\n",
       "      <td>GERALDINE</td>\n",
       "    </tr>\n",
       "    <tr>\n",
       "      <th>1</th>\n",
       "      <td>GIA</td>\n",
       "    </tr>\n",
       "    <tr>\n",
       "      <th>2</th>\n",
       "      <td>GIANNA</td>\n",
       "    </tr>\n",
       "    <tr>\n",
       "      <th>3</th>\n",
       "      <td>GISELLE</td>\n",
       "    </tr>\n",
       "    <tr>\n",
       "      <th>4</th>\n",
       "      <td>GRACE</td>\n",
       "    </tr>\n",
       "  </tbody>\n",
       "</table>\n",
       "</div>"
      ],
      "text/plain": [
       "  Child's First Name\n",
       "0          GERALDINE\n",
       "1                GIA\n",
       "2             GIANNA\n",
       "3            GISELLE\n",
       "4              GRACE"
      ]
     },
     "execution_count": 59,
     "metadata": {},
     "output_type": "execute_result"
    }
   ],
   "source": [
    "baby_frame=baby[\"Child's First Name\"].to_frame()\n",
    "baby_frame.head()"
   ]
  },
  {
   "cell_type": "code",
   "execution_count": 62,
   "id": "ad124e1a",
   "metadata": {},
   "outputs": [
    {
     "data": {
      "text/plain": [
       "['GERALDINE',\n",
       " 'GIA',\n",
       " 'GIANNA',\n",
       " 'GISELLE',\n",
       " 'GRACE',\n",
       " 'GUADALUPE',\n",
       " 'HAILEY',\n",
       " 'HALEY',\n",
       " 'HANNAH',\n",
       " 'HAYLEE']"
      ]
     },
     "execution_count": 62,
     "metadata": {},
     "output_type": "execute_result"
    }
   ],
   "source": [
    "baby_list=baby[\"Child's First Name\"].to_list()\n",
    "baby_list[:10]"
   ]
  },
  {
   "cell_type": "code",
   "execution_count": null,
   "id": "c7c5155b",
   "metadata": {},
   "outputs": [],
   "source": []
  },
  {
   "cell_type": "code",
   "execution_count": 66,
   "id": "40695e95",
   "metadata": {},
   "outputs": [
    {
     "ename": "KeyError",
     "evalue": "(1, 2, 10)",
     "output_type": "error",
     "traceback": [
      "\u001b[1;31m---------------------------------------------------------------------------\u001b[0m",
      "\u001b[1;31mKeyError\u001b[0m                                  Traceback (most recent call last)",
      "\u001b[1;32m<ipython-input-66-a2ad522fc2e4>\u001b[0m in \u001b[0;36m<module>\u001b[1;34m\u001b[0m\n\u001b[0;32m      1\u001b[0m \u001b[0mbaby_dict\u001b[0m\u001b[1;33m=\u001b[0m\u001b[0mbaby\u001b[0m\u001b[1;33m[\u001b[0m\u001b[1;34m\"Child's First Name\"\u001b[0m\u001b[1;33m]\u001b[0m\u001b[1;33m.\u001b[0m\u001b[0mto_dict\u001b[0m\u001b[1;33m(\u001b[0m\u001b[1;33m)\u001b[0m\u001b[1;33m\u001b[0m\u001b[1;33m\u001b[0m\u001b[0m\n\u001b[1;32m----> 2\u001b[1;33m \u001b[0mbaby_dict\u001b[0m\u001b[1;33m[\u001b[0m\u001b[1;36m1\u001b[0m\u001b[1;33m,\u001b[0m\u001b[1;36m2\u001b[0m\u001b[1;33m,\u001b[0m\u001b[1;36m10\u001b[0m\u001b[1;33m]\u001b[0m\u001b[1;33m\u001b[0m\u001b[1;33m\u001b[0m\u001b[0m\n\u001b[0m",
      "\u001b[1;31mKeyError\u001b[0m: (1, 2, 10)"
     ]
    }
   ],
   "source": [
    "baby_dict=baby[\"Child's First Name\"].to_dict()\n",
    "baby_dict[1,2,10]"
   ]
  },
  {
   "cell_type": "code",
   "execution_count": 12,
   "id": "43e9f938",
   "metadata": {},
   "outputs": [
    {
     "data": {
      "text/plain": [
       "0        Geraldine\n",
       "1              Gia\n",
       "2           Gianna\n",
       "3          Giselle\n",
       "4            Grace\n",
       "           ...    \n",
       "37532       Yousef\n",
       "37533      Youssef\n",
       "37534        Yusuf\n",
       "37535      Zachary\n",
       "37536          Zev\n",
       "Name: Child's First Name, Length: 37537, dtype: object"
      ]
     },
     "execution_count": 12,
     "metadata": {},
     "output_type": "execute_result"
    }
   ],
   "source": [
    "baby[\"Child's First Name\"].str.title()"
   ]
  },
  {
   "cell_type": "code",
   "execution_count": 15,
   "id": "2205d9fa",
   "metadata": {},
   "outputs": [
    {
     "data": {
      "text/plain": [
       "'a!b!c'"
      ]
     },
     "execution_count": 15,
     "metadata": {},
     "output_type": "execute_result"
    }
   ],
   "source": [
    "\"!\".join([\"a\",\"b\",\"c\"])"
   ]
  },
  {
   "cell_type": "code",
   "execution_count": 18,
   "id": "31b1f5b5",
   "metadata": {},
   "outputs": [
    {
     "data": {
      "text/plain": [
       "\"Aahil, Aaliyah, Aarav, Aaron, Aarya, Aaryan, Aayan, Abby, Abdiel, Abdoul, Abdoulaye, Abdul, Abdullah, Abe, Abel, Abigail, Aboubacar, Abraham, Abrar, Abrielle, Abril, Ace, Ada, Adalynn, Adam, Adan, Addison, Adelaide, Adele, Adelina, Adeline, Adelyn, Aden, Adiel, Adina, Aditya, Adonis, Adrian, Adriana, Adrianna, Adriel, Adyan, Aharon, Ahmad, Ahmed, Ahnaf, Ahron, Ahuva, Aicha, Aidan, Aiden, Aileen, Aimee, Aisha, Aissata, Aissatou, Aitana, Aiza, Aizah, Akiva, Alaia, Alaina, Alan, Alana, Alani, Alanis, Alanna, Alayna, Alba, Albert, Alberto, Aldo, Aleah, Alec, Aleena, Alejandra, Alejandro, Aleksander, Aleksandra, Alessandra, Alessandro, Alessia, Alex, Alexa, Alexander, Alexandra, Alexandria, Alexia, Alexis, Alfred, Alfredo, Ali, Alia, Aliah, Alice, Alicia, Alijah, Alina, Alisa, Alisha, Alison, Alissa, Alisson, Aliyah, Aliza, Allan, Allen, Allison, Allyson, Alma, Alondra, Alonso, Alpha, Alston, Alter, Alvin, Alyson, Alyssa, Amadou, Amaia, Amalia, Amanda, Amani, Amar'E, Amara, Amare, Amari, Amaya, Amayah, Ambar, Amber, Amberly, Ameer, Amelia, Amelie, Amia, Amina, Aminata, Amir, Amira, Amirah, Amiya, Amiyah, Amrom, Amy, Ana, Anabel, Anabella, Anabelle, Anabia, Anahi, Anais, Analia, Ananya, Anas, Anastasia, Anaya, Anayah, Anderson, Andre, Andrea, Andres, Andrew, Andy, Angel, Angela, Angelica, Angelina, Angeline, Angelique, Angelo, Angely, Angie, Angus, Anika, Anisa, Anisha, Aniya, Aniyah, Anjali, Anna, Annabel, Annabella, Annabelle, Annalise, Anne, Annie, Annika, Anson, Anthony, Anton, Antonella, Antonia, Antonio, Anya, April, Arabella, Archer, Arden, Arely, Arham, Ari, Aria, Ariadna, Ariadne, Ariah, Arian, Ariana, Arianna, Arianny, Ariel, Ariela, Ariella, Arielle, Arisha, Ariyah, Arjun, Arlette, Arlo, Armaan, Armando, Armani, Aron, Arthur, Arturo, Arvin, Arya, Aryan, Arye, Aryeh, Asher, Ashley, Ashly, Ashton, Asia, Atara, Athena, Atticus, Aubree, Aubrey, Audrey, August, Augustus, Aurora, Austin, Autumn, Ava, Avery, Avi, Aviel, Avigail, Avital, Aviva, Avraham, Avril, Avrohom, Avrum, Awa, Axel, Aya, Ayaan, Ayala, Ayan, Ayanna, Ayat, Ayden, Aydin, Ayelet, Ayesha, Ayla, Ayleen, Aylin, Azaan, Azaria, Azariah, Aziza, Baila, Bailey, Barbara, Baruch, Basya, Batsheva, Batya, Beatrice, Beatrix, Beckett, Belen, Bella, Ben, Benjamin, Bennett, Benson, Bentzion, Benzion, Berish, Berl, Bethany, Bianca, Bintou, Binyamin, Binyomin, Blake, Blessing, Blima, Blimy, Bodhi, Bonnie, Boruch, Boubacar, Bowen, Bracha, Bradley, Brady, Brandon, Brayan, Brayden, Breindy, Brenda, Brendan, Bria, Brian, Briana, Brianna, Brianny, Bridget, Briella, Brielle, Brigitte, Britney, Brittany, Brody, Brooke, Brooklyn, Brooks, Bruce, Brucha, Bruchy, Bruno, Bryan, Bryanna, Bryant, Bryce, Brynn, Bryson, Byron, Caden, Caiden, Cairo, Caitlin, Caleb, Cali, Calvin, Camden, Cameron, Camila, Camilla, Camille, Camilo, Camren, Carina, Carla, Carlos, Carly, Carmelo, Carmen, Carmine, Carolina, Caroline, Carson, Carter, Casey, Cassandra, Cassidy, Cataleya, Catalina, Catherine, Cayden, Cecelia, Cecilia, Celeste, Celia, Celine, Cesar, Chace, Chad, Chaim, Chana, Chance, Chanel, Chanie, Chany, Charles, Charlie, Charlotte, Chase, Chava, Chavy, Chaya, Chelsea, Cheskel, Chesky, Cheyenne, Chiara, Chloe, Chris, Christian, Christina, Christine, Christopher, Christy, Cindy, Claire, Clara, Clark, Claudia, Clementine, Cleo, Cody, Cole, Colette, Colin, Colton, Connie, Connor, Conor, Cooper, Cora, Corey, Cormac, Cristian, Cristina, Cristofer, Cristopher, Crosby, Crystal, Cynthia, Cyrus, Dahlia, Daisy, Dakota, Daleyza, Dalia, Dallas, Damani, Damari, Damaris, Damian, Damien, Damon, Dana, Daniel, Daniela, Daniella, Danielle, Danna, Danny, Dante, Daphne, Daria, Dariel, Darius, Darren, Darwin, Dashiell, David, Dayana, Dean, Deborah, Declan, Delilah, Denis, Denise, Denisse, Dennis, Denzel, Dereck, Derek, Derick, Derrick, Desmond, Destiny, Devin, Devon, Devora, Devorah, Diana, Diego, Dilan, Dillon, Dina, Diya, Diyora, Dominic, Dominick, Donovan, Doris, Dov, Dovid, Drew, Dulce, Duvid, Dwayne, Dylan, Ean, Eason, Eddie, Eddy, Eden, Edgar, Edison, Edith, Eduardo, Edward, Edwin, Efraim, Egypt, Eileen, Eitan, Elaine, Elan, Eleanor, Elena, Eleni, Eli, Eliam, Elian, Eliana, Elianna, Elianny, Elias, Eliel, Eliezer, Elijah, Elimelech, Elina, Eliot, Elisa, Elise, Elisheva, Eliyahu, Eliza, Elizabeth, Ella, Elle, Elliana, Ellie, Elliot, Elliott, Ellis, Elodie, Eloise, Elsa, Eluzer, Elvin, Elvis, Elya, Emaan, Emani, Emanuel, Emely, Emerson, Emery, Emil, Emilia, Emiliano, Emilio, Emily, Emma, Emmanuel, Emmeline, Emmett, Empress, Enrique, Enzo, Ephraim, Eric, Erica, Erick, Erik, Erika, Erin, Eshaal, Eshal, Eshan, Esme, Esmeralda, Essence, Esteban, Estelle, Ester, Esther, Estrella, Esty, Ethan, Etty, Eunice, Eva, Evan, Evangeline, Eve, Evelina, Evelyn, Everett, Everly, Evie, Eyad, Ezekiel, Ezequiel, Ezra, Ezriel, Fabian, Faiga, Faigy, Faith, Fanta, Farah, Farhan, Farida, Fatima, Fatou, Fatoumata, Felipe, Felix, Fernanda, Fernando, Feynman, Filip, Finley, Finn, Fiona, Fishel, Fradel, Frady, Fraidy, Frances, Francesca, Francesco, Francis, Francisco, Frank, Franklin, Freddy, Frederick, Freida, Freya, Frieda, Frimet, Gabriel, Gabriela, Gabriella, Gabrielle, Gael, Gaia, Galilea, Gary, Gavin, Gavriel, Gemma, Genesis, Genevieve, George, Georgia, Geraldine, Gerard, Gerardo, Gia, Giada, Giancarlo, Gianluca, Gianna, Gianni, Gideon, Giovani, Giovanna, Giovanni, Giovanny, Giselle, Gittel, Gitty, Giulia, Giuliana, Giuseppe, Golda, Goldie, Goldy, Gordon, Grace, Graham, Grant, Grayson, Gregory, Greta, Greyson, Griffin, Guadalupe, Gustavo, Guy, Gwendolyn, Hadassa, Hadassah, Hadley, Hafsa, Hailey, Hailie, Haley, Hamza, Hana, Haniya, Hanley, Hanna, Hannah, Hao, Hareem, Harley, Harlow, Harmony, Harper, Harrison, Harry, Harvey, Hashim, Hassan, Hawa, Hayden, Haylee, Hayley, Hazel, Heaven, Hector, Heidi, Heidy, Helen, Helena, Henchy, Henny, Henry, Herman, Hersh, Hershel, Hershy, Hillel, Hinda, Hindy, Hoorain, Hope, Hudson, Hugo, Hunter, Ian, Ibrahim, Ibrahima, Idy, Iker, Ilan, Ilana, Imani, Imogen, Imran, Inaaya, Inaya, Ines, Ingrid, Irene, Iris, Isaac, Isabel, Isabela, Isabella, Isabelle, Isaiah, Isaias, Ishaan, Ishmael, Isiah, Isis, Isla, Ismael, Israel, Issac, Itzel, Ivan, Ivanna, Ivy, Izabella, Izaiah, Jabari, Jace, Jack, Jackson, Jacky, Jacob, Jacqueline, Jad, Jada, Jade, Jaden, Jadiel, Jael, Jaelyn, Jaelynn, Jaheim, Jahir, Jahmir, Jaiden, Jaime, Jair, Jake, Jakub, Jalen, Jaliyah, Jamal, Jamar, Jamari, Jamel, James, Jameson, Jamie, Jamir, Jana, Janae, Jane, Janelle, Janice, Janiel, Janiya, Janiyah, Jannat, Jannatul, Januel, Jared, Jariel, Jasiah, Jaslene, Jasmin, Jasmina, Jasmine, Jason, Jasper, Javier, Jax, Jaxon, Jaxson, Jay, Jayce, Jayceon, Jaycob, Jayda, Jayden, Jayla, Jaylah, Jaylee, Jayleen, Jaylen, Jaylene, Jaylin, Jaylyn, Jayren, Jayson, Jazlyn, Jazmin, Jazmine, Jazzlyn, Jean, Jeancarlos, Jefferson, Jeffrey, Jelani, Jencarlos, Jenna, Jennifer, Jenny, Jeremiah, Jeremias, Jeremy, Jermaine, Jerry, Jesse, Jessica, Jessie, Jesus, Jia, Jimena, Jimmy, Joanna, Joaquin, Jocelyn, Joel, Johan, Johann, Johanna, John, Johnathan, Johnny, Jolie, Jolin, Jonael, Jonah, Jonas, Jonathan, Jordan, Jordi, Jordyn, Jorge, Jose, Josef, Joselyn, Joseph, Josephine, Joshua, Josiah, Josie, Josue, Journee, Journey, Joy, Joyce, Joziah, Juan, Judah, Jude, Judy, Julia, Julian, Juliana, Julianna, Julie, Julien, Juliet, Juliette, Julio, Julissa, Julius, Jun, June, Junior, Juniper, Justice, Justin, Kabir, Kacper, Kaden, Kadiatou, Kaelyn, Kai, Kaia, Kaiden, Kailee, Kailey, Kailyn, Kaitlyn, Kaleb, Kali, Kaliyah, Kamari, Kameron, Kamila, Kamiyah, Kamren, Karas, Kareem, Karen, Karina, Karla, Karter, Kassandra, Kate, Katelyn, Katelynn, Katerina, Katherine, Kathryn, Katie, Kaya, Kayden, Kayla, Kaylani, Kaylee, Kayleen, Kayleigh, Kaylie, Kaylin, Kayson, Kazi, Kehlani, Keila, Keily, Keira, Keith, Kelly, Kelsey, Kelvin, Kendra, Kendrick, Kennedi, Kennedy, Kenneth, Kenny, Kenya, Kevin, Keyla, Khadija, Khadijah, Khaleesi, Khalil, Khloe, Kian, Kiara, Kiera, Kieran, Kimberly, Kimi, Kimora, King, Kingsley, Kingston, Kira, Kiyan, Kori, Kourtney, Krish, Kristen, Kristian, Kristina, Krystal, Kyla, Kyle, Kylee, Kylie, Kymani, Kyree, Kyrie, Kyson, Laila, Lailah, Laith, Lamar, Lana, Landon, Lara, Larry, Laura, Lauren, Lauryn, Lawrence, Layan, Layla, Lazer, Lea, Leah, Leandro, Leanna, Leela, Legend, Leia, Leibish, Leila, Leilani, Leilany, Lena, Lenny, Leo, Leon, Leona, Leonard, Leonardo, Leonel, Leonidas, Leora, Lesley, Leslie, Lesly, Lev, Levi, Leyla, Lia, Liam, Lian, Liana, Liba, Libby, Lielle, Lila, Lilah, Lilia, Lilian, Liliana, Lillian, Lilliana, Lilly, Lily, Lina, Lincoln, Linda, Lindsay, Lionel, Liora, Lipa, Lisa, Litzy, Liv, Livia, Liz, Lizbeth, Lizeth, Logan, Lola, London, Londyn, Lorenzo, Louis, Louisa, Louise, Luca, Lucas, Lucia, Lucian, Luciana, Lucien, Lucille, Lucy, Luis, Luka, Lukas, Luke, Luna, Luz, Lydia, Lyla, Lyric, Mabel, Mackenzie, Maddox, Madeleine, Madeline, Madelyn, Madina, Madison, Madisyn, Mae, Maeve, Magaly, Maggie, Mahamadou, Mahnoor, Maia, Maimouna, Maisie, Maison, Maite, Major, Makai, Makayla, Makenzie, Makhi, Maksim, Malachi, Malak, Malaysia, Malcolm, Malek, Malia, Maliha, Malik, Malika, Maliyah, Malka, Malky, Mamadou, Mandy, Manha, Manuel, Marc, Marcel, Marcelo, Marco, Marcos, Marcus, Margaret, Margaux, Margot, Maria, Mariah, Mariam, Mariama, Mariana, Marie, Marielle, Marilyn, Marina, Mario, Marisol, Marjorie, Mark, Marley, Marlon, Marlowe, Marquis, Martin, Marvin, Mary, Maryam, Mason, Massimo, Mateo, Mathew, Mathias, Matias, Matilda, Matteo, Matthew, Matthias, Maurice, Mauricio, Maverick, Max, Maxim, Maximilian, Maximiliano, Maximo, Maximus, Maxwell, Maya, Mayer, Mayson, Mckenzie, Md, Mechel, Meera, Megan, Meilech, Meir, Mekhi, Melania, Melanie, Melany, Melina, Melissa, Melody, Melvin, Menachem, Menashe, Mendel, Mendy, Menucha, Meshilem, Messiah, Meyer, Mia, Miah, Micah, Michael, Michaela, Michal, Michelle, Miguel, Mika, Mikael, Mikaela, Mikayla, Mike, Mila, Milagros, Milan, Milana, Milani, Milania, Milena, Miles, Miley, Millie, Milo, Mina, Mindy, Mira, Miracle, Miranda, Mirel, Miri, Miriam, Misael, Mohamed, Mohammad, Mohammed, Moises, Moishe, Molly, Monica, Monserrat, Montserrat, Mordche, Mordechai, Morgan, Morris, Moses, Moshe, Motty, Mouhamed, Moussa, Muhammad, Musa, Mushka, Mustafa, Mya, Myles, Myra, Nabiha, Nachman, Nadia, Naftali, Naftuli, Nahla, Nala, Nalani, Nana, Nancy, Naomi, Nashla, Nashley, Nashly, Nasir, Natalia, Natalie, Nataly, Natasha, Nathalia, Nathalie, Nathaly, Nathan, Nathanael, Nathaniel, Nava, Nayeli, Nayla, Nazir, Nechama, Nehemiah, Neil, Nelson, Nevaeh, Neymar, Nia, Niam, Nicholas, Nico, Nicolas, Nicole, Nicolette, Nigel, Nikhil, Nikita, Nikolai, Nikolas, Nina, Noa, Noach, Noah, Noam, Noel, Noelle, Noemi, Nolan, Noor, Nora, Norah, Nosson, Nova, Nuchem, Nusrat, Nyah, Nyla, Nylah, Olive, Oliver, Olivia, Omar, Omari, Oren, Ori, Orion, Orlando, Oscar, Otis, Otto, Oumar, Oumou, Ousmane, Owen, Pablo, Paige, Pamela, Paola, Paris, Parker, Patrick, Paul, Paula, Payton, Pearl, Pedro, Penelope, Perel, Peretz, Perl, Perla, Perry, Pessy, Peter, Peyton, Philip, Phoebe, Phoenix, Pierce, Pinchas, Pinchus, Piper, Polina, Poppy, Precious, Preston, Prince, Princess, Princeton, Priscilla, Queena, Queenie, Quincy, Quinn, Rachel, Rafael, Rahaf, Raina, Raizel, Raizy, Ralph, Randy, Raphael, Raquel, Raul, Raya, Rayan, Raymond, Rayna, Rayyan, Reagan, Rebecca, Reed, Reem, Reese, Rehan, Reid, Reign, Reizy, Rena, Renata, Renee, Reuben, Reuven, Rhys, Ricardo, Richard, Ricky, Rifka, Rifky, Rihanna, Riley, Rina, Riva, River, Rivka, Rivkah, Rivky, Riya, Robert, Roberto, Rocco, Rochel, Rodney, Rodrigo, Roger, Rohan, Roiza, Roizy, Roman, Romeo, Romy, Ronald, Ronaldo, Ronan, Rory, Rosa, Rose, Roselyn, Rosemary, Rosie, Rowan, Roy, Royal, Royalty, Royce, Ruben, Ruby, Ruchel, Ruchy, Russell, Ruth, Ryan, Ryder, Rylee, Sabiha, Sabina, Sabrina, Sade, Sadie, Safa, Safwan, Sage, Saifan, Saige, Salma, Salome, Salvatore, Sam, Sama, Samaira, Samantha, Samara, Sami, Samir, Samira, Samiya, Samiyah, Samuel, Sanaa, Sanai, Sandra, Saniya, Saniyah, Santiago, Santino, Saoirse, Sara, Sarah, Sarahi, Sarai, Sari, Sariah, Sarina, Sariyah, Sasha, Saul, Savanna, Savannah, Savion, Sawyer, Scarlet, Scarlett, Sean, Sebastian, Sekou, Selena, Selim, Selina, Selma, Serena, Serenity, Sergio, Seth, Sevyn, Shaina, Shaindel, Shaindy, Shalom, Shane, Shania, Shaniya, Sharon, Shaul, Shawn, Shaya, Shayaan, Shayan, Shayla, Shayna, Shea, Sheldon, Sherlyn, Sherry, Shevy, Shia, Shifra, Shiloh, Shimon, Shira, Shirley, Shloime, Shloimy, Shloma, Shlome, Shlomo, Shmiel, Shmuel, Shneur, Sholom, Shoshana, Shraga, Shreya, Shulem, Sidney, Siena, Sienna, Silas, Sima, Simcha, Simi, Simon, Simone, Sincere, Sky, Skye, Skyla, Skylah, Skylar, Skyler, Sloane, Sofia, Solomon, Sonia, Sophia, Sophie, Soraya, Spencer, Stacey, Stacy, Stanley, Stella, Stephanie, Stephany, Stephen, Steve, Steven, Subhan, Sulaiman, Summer, Sunny, Suri, Sury, Sydney, Syed, Syeda, Sylvia, Sylvie, Symphony, Tabitha, Tahmid, Talia, Taliyah, Tamar, Tamara, Tamia, Tanisha, Taraji, Tasnim, Tatiana, Taylor, Teagan, Tehila, Tenzin, Terrell, Terrence, Terry, Tess, Tessa, Thea, Theo, Theodora, Theodore, Thiago, Thomas, Tiana, Tianna, Tiffany, Timothy, Timur, Tina, Toba, Tobias, Toby, Tomas, Tony, Tori, Tova, Trany, Travis, Trinity, Tristan, Troy, Tyler, Tzipora, Tziporah, Tzippy, Tzirel, Tzivia, Tzvi, Umar, Uriel, Usher, Valentina, Valentino, Valeria, Valerie, Valery, Vanessa, Veer, Vera, Veronica, Veronika, Vicky, Victor, Victoria, Vienna, Vihaan, Vincent, Vincenzo, Violet, Violeta, Virginia, Vivian, Viviana, Vivienne, Walker, Walter, Wendy, Wesley, Weston, Willa, William, Willow, Wilson, Winnie, Winston, Winter, Wolf, Wyatt, Wynter, Xander, Xavier, Ximena, Xin, Yaakov, Yachet, Yadiel, Yael, Yahir, Yahya, Yair, Yakov, Yamilet, Yamileth, Yandel, Yaniel, Yanky, Yara, Yaretzi, Yariel, Yaritza, Yaseen, Yasmin, Yasmina, Yasmine, Yassin, Yechezkel, Yechiel, Yehoshua, Yehuda, Yehudah, Yehudis, Yerik, Yesenia, Yeshaya, Yida, Yidel, Yides, Yisrael, Yisroel, Yitta, Yitty, Yitzchak, Yitzchok, Yocheved, Yoel, Yona, Yonah, Yonatan, Yosef, Yossi, Yousef, Youssef, Yu, Yuna, Yusuf, Zabdiel, Zachariah, Zachary, Zahara, Zahir, Zahra, Zaiden, Zain, Zainab, Zaire, Zakaria, Zalmen, Zamir, Zander, Zane, Zaniyah, Zara, Zaria, Zariah, Zayan, Zayden, Zayn, Zelda, Zendaya, Zev, Zion, Zissy, Zoe, Zoey, Zoya, Zuri, Zyaire\""
      ]
     },
     "execution_count": 18,
     "metadata": {},
     "output_type": "execute_result"
    }
   ],
   "source": [
    "\", \".join(baby[\"Child's First Name\"].str.title().drop_duplicates().sort_values())"
   ]
  },
  {
   "cell_type": "markdown",
   "id": "d2a26bdd",
   "metadata": {},
   "source": [
    "# export as csv with to_csv() method"
   ]
  },
  {
   "cell_type": "code",
   "execution_count": 19,
   "id": "4fecdb43",
   "metadata": {
    "scrolled": true
   },
   "outputs": [
    {
     "data": {
      "text/html": [
       "<div>\n",
       "<style scoped>\n",
       "    .dataframe tbody tr th:only-of-type {\n",
       "        vertical-align: middle;\n",
       "    }\n",
       "\n",
       "    .dataframe tbody tr th {\n",
       "        vertical-align: top;\n",
       "    }\n",
       "\n",
       "    .dataframe thead th {\n",
       "        text-align: right;\n",
       "    }\n",
       "</style>\n",
       "<table border=\"1\" class=\"dataframe\">\n",
       "  <thead>\n",
       "    <tr style=\"text-align: right;\">\n",
       "      <th></th>\n",
       "      <th>Year of Birth</th>\n",
       "      <th>Gender</th>\n",
       "      <th>Ethnicity</th>\n",
       "      <th>Child's First Name</th>\n",
       "      <th>Count</th>\n",
       "      <th>Rank</th>\n",
       "    </tr>\n",
       "  </thead>\n",
       "  <tbody>\n",
       "    <tr>\n",
       "      <th>0</th>\n",
       "      <td>2011</td>\n",
       "      <td>FEMALE</td>\n",
       "      <td>HISPANIC</td>\n",
       "      <td>GERALDINE</td>\n",
       "      <td>13</td>\n",
       "      <td>75</td>\n",
       "    </tr>\n",
       "    <tr>\n",
       "      <th>1</th>\n",
       "      <td>2011</td>\n",
       "      <td>FEMALE</td>\n",
       "      <td>HISPANIC</td>\n",
       "      <td>GIA</td>\n",
       "      <td>21</td>\n",
       "      <td>67</td>\n",
       "    </tr>\n",
       "    <tr>\n",
       "      <th>2</th>\n",
       "      <td>2011</td>\n",
       "      <td>FEMALE</td>\n",
       "      <td>HISPANIC</td>\n",
       "      <td>GIANNA</td>\n",
       "      <td>49</td>\n",
       "      <td>42</td>\n",
       "    </tr>\n",
       "    <tr>\n",
       "      <th>3</th>\n",
       "      <td>2011</td>\n",
       "      <td>FEMALE</td>\n",
       "      <td>HISPANIC</td>\n",
       "      <td>GISELLE</td>\n",
       "      <td>38</td>\n",
       "      <td>51</td>\n",
       "    </tr>\n",
       "    <tr>\n",
       "      <th>4</th>\n",
       "      <td>2011</td>\n",
       "      <td>FEMALE</td>\n",
       "      <td>HISPANIC</td>\n",
       "      <td>GRACE</td>\n",
       "      <td>36</td>\n",
       "      <td>53</td>\n",
       "    </tr>\n",
       "  </tbody>\n",
       "</table>\n",
       "</div>"
      ],
      "text/plain": [
       "   Year of Birth  Gender Ethnicity Child's First Name  Count  Rank\n",
       "0           2011  FEMALE  HISPANIC          GERALDINE     13    75\n",
       "1           2011  FEMALE  HISPANIC                GIA     21    67\n",
       "2           2011  FEMALE  HISPANIC             GIANNA     49    42\n",
       "3           2011  FEMALE  HISPANIC            GISELLE     38    51\n",
       "4           2011  FEMALE  HISPANIC              GRACE     36    53"
      ]
     },
     "execution_count": 19,
     "metadata": {},
     "output_type": "execute_result"
    }
   ],
   "source": [
    "url=\"https://data.cityofnewyork.us/api/views/25th-nujf/rows.csv?accessType=DOWNLOAD\"\n",
    "baby=pd.read_csv(url)\n",
    "baby.head()"
   ]
  },
  {
   "cell_type": "code",
   "execution_count": 20,
   "id": "86b8fdcf",
   "metadata": {},
   "outputs": [],
   "source": [
    "baby.to_csv(\"NYC_Baby_Names.csv\")"
   ]
  },
  {
   "cell_type": "code",
   "execution_count": 21,
   "id": "5e91442d",
   "metadata": {},
   "outputs": [],
   "source": [
    "baby.to_csv(\"NYC_Baby_Names.csv\",index=False)##removing indices"
   ]
  },
  {
   "cell_type": "code",
   "execution_count": 24,
   "id": "5b5e378c",
   "metadata": {},
   "outputs": [],
   "source": [
    "baby.to_csv(\"NYC_Baby_Names.csv\",index=False,columns=[\"Gender\",\"Ethnicity\",\"Child's First Name\"],encoding=\"utf-8\")"
   ]
  },
  {
   "cell_type": "markdown",
   "id": "037ee72b",
   "metadata": {},
   "source": [
    "# Import excel files to pandas"
   ]
  },
  {
   "cell_type": "code",
   "execution_count": 25,
   "id": "28c2bd4a",
   "metadata": {},
   "outputs": [
    {
     "data": {
      "text/html": [
       "<div>\n",
       "<style scoped>\n",
       "    .dataframe tbody tr th:only-of-type {\n",
       "        vertical-align: middle;\n",
       "    }\n",
       "\n",
       "    .dataframe tbody tr th {\n",
       "        vertical-align: top;\n",
       "    }\n",
       "\n",
       "    .dataframe thead th {\n",
       "        text-align: right;\n",
       "    }\n",
       "</style>\n",
       "<table border=\"1\" class=\"dataframe\">\n",
       "  <thead>\n",
       "    <tr style=\"text-align: right;\">\n",
       "      <th></th>\n",
       "      <th>First Name</th>\n",
       "      <th>Last Name</th>\n",
       "      <th>City</th>\n",
       "      <th>Gender</th>\n",
       "    </tr>\n",
       "  </thead>\n",
       "  <tbody>\n",
       "    <tr>\n",
       "      <th>0</th>\n",
       "      <td>Brandon</td>\n",
       "      <td>James</td>\n",
       "      <td>Miami</td>\n",
       "      <td>M</td>\n",
       "    </tr>\n",
       "    <tr>\n",
       "      <th>1</th>\n",
       "      <td>Sean</td>\n",
       "      <td>Hawkins</td>\n",
       "      <td>Denver</td>\n",
       "      <td>M</td>\n",
       "    </tr>\n",
       "    <tr>\n",
       "      <th>2</th>\n",
       "      <td>Judy</td>\n",
       "      <td>Day</td>\n",
       "      <td>Los Angeles</td>\n",
       "      <td>F</td>\n",
       "    </tr>\n",
       "    <tr>\n",
       "      <th>3</th>\n",
       "      <td>Ashley</td>\n",
       "      <td>Ruiz</td>\n",
       "      <td>San Francisco</td>\n",
       "      <td>F</td>\n",
       "    </tr>\n",
       "    <tr>\n",
       "      <th>4</th>\n",
       "      <td>Stephanie</td>\n",
       "      <td>Gomez</td>\n",
       "      <td>Portland</td>\n",
       "      <td>F</td>\n",
       "    </tr>\n",
       "  </tbody>\n",
       "</table>\n",
       "</div>"
      ],
      "text/plain": [
       "  First Name Last Name           City Gender\n",
       "0    Brandon     James          Miami      M\n",
       "1       Sean   Hawkins         Denver      M\n",
       "2       Judy       Day    Los Angeles      F\n",
       "3     Ashley      Ruiz  San Francisco      F\n",
       "4  Stephanie     Gomez       Portland      F"
      ]
     },
     "execution_count": 25,
     "metadata": {},
     "output_type": "execute_result"
    }
   ],
   "source": [
    "pd.read_excel(\"Data - Single Worksheet.xlsx\")"
   ]
  },
  {
   "cell_type": "code",
   "execution_count": 26,
   "id": "380e5ae6",
   "metadata": {},
   "outputs": [
    {
     "data": {
      "text/html": [
       "<div>\n",
       "<style scoped>\n",
       "    .dataframe tbody tr th:only-of-type {\n",
       "        vertical-align: middle;\n",
       "    }\n",
       "\n",
       "    .dataframe tbody tr th {\n",
       "        vertical-align: top;\n",
       "    }\n",
       "\n",
       "    .dataframe thead th {\n",
       "        text-align: right;\n",
       "    }\n",
       "</style>\n",
       "<table border=\"1\" class=\"dataframe\">\n",
       "  <thead>\n",
       "    <tr style=\"text-align: right;\">\n",
       "      <th></th>\n",
       "      <th>First Name</th>\n",
       "      <th>Last Name</th>\n",
       "      <th>City</th>\n",
       "      <th>Gender</th>\n",
       "    </tr>\n",
       "  </thead>\n",
       "  <tbody>\n",
       "    <tr>\n",
       "      <th>0</th>\n",
       "      <td>Parker</td>\n",
       "      <td>Power</td>\n",
       "      <td>Raleigh</td>\n",
       "      <td>F</td>\n",
       "    </tr>\n",
       "    <tr>\n",
       "      <th>1</th>\n",
       "      <td>Preston</td>\n",
       "      <td>Prescott</td>\n",
       "      <td>Philadelphia</td>\n",
       "      <td>F</td>\n",
       "    </tr>\n",
       "    <tr>\n",
       "      <th>2</th>\n",
       "      <td>Ronaldo</td>\n",
       "      <td>Donaldo</td>\n",
       "      <td>Bangor</td>\n",
       "      <td>M</td>\n",
       "    </tr>\n",
       "    <tr>\n",
       "      <th>3</th>\n",
       "      <td>Megan</td>\n",
       "      <td>Stiller</td>\n",
       "      <td>San Francisco</td>\n",
       "      <td>M</td>\n",
       "    </tr>\n",
       "    <tr>\n",
       "      <th>4</th>\n",
       "      <td>Bustin</td>\n",
       "      <td>Jieber</td>\n",
       "      <td>Austin</td>\n",
       "      <td>F</td>\n",
       "    </tr>\n",
       "  </tbody>\n",
       "</table>\n",
       "</div>"
      ],
      "text/plain": [
       "  First Name Last Name           City Gender\n",
       "0     Parker     Power        Raleigh      F\n",
       "1    Preston  Prescott   Philadelphia      F\n",
       "2    Ronaldo   Donaldo         Bangor      M\n",
       "3      Megan   Stiller  San Francisco      M\n",
       "4     Bustin    Jieber         Austin      F"
      ]
     },
     "execution_count": 26,
     "metadata": {},
     "output_type": "execute_result"
    }
   ],
   "source": [
    "pd.read_excel(\"Data - Multiple Worksheets.xlsx\",sheet_name=1)"
   ]
  },
  {
   "cell_type": "code",
   "execution_count": 27,
   "id": "9945b062",
   "metadata": {},
   "outputs": [
    {
     "data": {
      "text/html": [
       "<div>\n",
       "<style scoped>\n",
       "    .dataframe tbody tr th:only-of-type {\n",
       "        vertical-align: middle;\n",
       "    }\n",
       "\n",
       "    .dataframe tbody tr th {\n",
       "        vertical-align: top;\n",
       "    }\n",
       "\n",
       "    .dataframe thead th {\n",
       "        text-align: right;\n",
       "    }\n",
       "</style>\n",
       "<table border=\"1\" class=\"dataframe\">\n",
       "  <thead>\n",
       "    <tr style=\"text-align: right;\">\n",
       "      <th></th>\n",
       "      <th>First Name</th>\n",
       "      <th>Last Name</th>\n",
       "      <th>City</th>\n",
       "      <th>Gender</th>\n",
       "    </tr>\n",
       "  </thead>\n",
       "  <tbody>\n",
       "    <tr>\n",
       "      <th>0</th>\n",
       "      <td>Brandon</td>\n",
       "      <td>James</td>\n",
       "      <td>Miami</td>\n",
       "      <td>M</td>\n",
       "    </tr>\n",
       "    <tr>\n",
       "      <th>1</th>\n",
       "      <td>Sean</td>\n",
       "      <td>Hawkins</td>\n",
       "      <td>Denver</td>\n",
       "      <td>M</td>\n",
       "    </tr>\n",
       "    <tr>\n",
       "      <th>2</th>\n",
       "      <td>Judy</td>\n",
       "      <td>Day</td>\n",
       "      <td>Los Angeles</td>\n",
       "      <td>F</td>\n",
       "    </tr>\n",
       "    <tr>\n",
       "      <th>3</th>\n",
       "      <td>Ashley</td>\n",
       "      <td>Ruiz</td>\n",
       "      <td>San Francisco</td>\n",
       "      <td>F</td>\n",
       "    </tr>\n",
       "    <tr>\n",
       "      <th>4</th>\n",
       "      <td>Stephanie</td>\n",
       "      <td>Gomez</td>\n",
       "      <td>Portland</td>\n",
       "      <td>F</td>\n",
       "    </tr>\n",
       "  </tbody>\n",
       "</table>\n",
       "</div>"
      ],
      "text/plain": [
       "  First Name Last Name           City Gender\n",
       "0    Brandon     James          Miami      M\n",
       "1       Sean   Hawkins         Denver      M\n",
       "2       Judy       Day    Los Angeles      F\n",
       "3     Ashley      Ruiz  San Francisco      F\n",
       "4  Stephanie     Gomez       Portland      F"
      ]
     },
     "execution_count": 27,
     "metadata": {},
     "output_type": "execute_result"
    }
   ],
   "source": [
    "pd.read_excel(\"Data - Multiple Worksheets.xlsx\",sheet_name=0)"
   ]
  },
  {
   "cell_type": "code",
   "execution_count": 31,
   "id": "742332c4",
   "metadata": {},
   "outputs": [
    {
     "data": {
      "text/html": [
       "<div>\n",
       "<style scoped>\n",
       "    .dataframe tbody tr th:only-of-type {\n",
       "        vertical-align: middle;\n",
       "    }\n",
       "\n",
       "    .dataframe tbody tr th {\n",
       "        vertical-align: top;\n",
       "    }\n",
       "\n",
       "    .dataframe thead th {\n",
       "        text-align: right;\n",
       "    }\n",
       "</style>\n",
       "<table border=\"1\" class=\"dataframe\">\n",
       "  <thead>\n",
       "    <tr style=\"text-align: right;\">\n",
       "      <th></th>\n",
       "      <th>First Name</th>\n",
       "      <th>Last Name</th>\n",
       "      <th>City</th>\n",
       "      <th>Gender</th>\n",
       "    </tr>\n",
       "  </thead>\n",
       "  <tbody>\n",
       "    <tr>\n",
       "      <th>0</th>\n",
       "      <td>Brandon</td>\n",
       "      <td>James</td>\n",
       "      <td>Miami</td>\n",
       "      <td>M</td>\n",
       "    </tr>\n",
       "    <tr>\n",
       "      <th>1</th>\n",
       "      <td>Sean</td>\n",
       "      <td>Hawkins</td>\n",
       "      <td>Denver</td>\n",
       "      <td>M</td>\n",
       "    </tr>\n",
       "    <tr>\n",
       "      <th>2</th>\n",
       "      <td>Judy</td>\n",
       "      <td>Day</td>\n",
       "      <td>Los Angeles</td>\n",
       "      <td>F</td>\n",
       "    </tr>\n",
       "    <tr>\n",
       "      <th>3</th>\n",
       "      <td>Ashley</td>\n",
       "      <td>Ruiz</td>\n",
       "      <td>San Francisco</td>\n",
       "      <td>F</td>\n",
       "    </tr>\n",
       "    <tr>\n",
       "      <th>4</th>\n",
       "      <td>Stephanie</td>\n",
       "      <td>Gomez</td>\n",
       "      <td>Portland</td>\n",
       "      <td>F</td>\n",
       "    </tr>\n",
       "  </tbody>\n",
       "</table>\n",
       "</div>"
      ],
      "text/plain": [
       "  First Name Last Name           City Gender\n",
       "0    Brandon     James          Miami      M\n",
       "1       Sean   Hawkins         Denver      M\n",
       "2       Judy       Day    Los Angeles      F\n",
       "3     Ashley      Ruiz  San Francisco      F\n",
       "4  Stephanie     Gomez       Portland      F"
      ]
     },
     "execution_count": 31,
     "metadata": {},
     "output_type": "execute_result"
    }
   ],
   "source": [
    "pd.read_excel(\"Data - Single Worksheet.xlsx\",sheet_name=0)"
   ]
  },
  {
   "cell_type": "code",
   "execution_count": 32,
   "id": "f2572a41",
   "metadata": {
    "scrolled": true
   },
   "outputs": [
    {
     "data": {
      "text/html": [
       "<div>\n",
       "<style scoped>\n",
       "    .dataframe tbody tr th:only-of-type {\n",
       "        vertical-align: middle;\n",
       "    }\n",
       "\n",
       "    .dataframe tbody tr th {\n",
       "        vertical-align: top;\n",
       "    }\n",
       "\n",
       "    .dataframe thead th {\n",
       "        text-align: right;\n",
       "    }\n",
       "</style>\n",
       "<table border=\"1\" class=\"dataframe\">\n",
       "  <thead>\n",
       "    <tr style=\"text-align: right;\">\n",
       "      <th></th>\n",
       "      <th>First Name</th>\n",
       "      <th>Last Name</th>\n",
       "      <th>City</th>\n",
       "      <th>Gender</th>\n",
       "    </tr>\n",
       "  </thead>\n",
       "  <tbody>\n",
       "    <tr>\n",
       "      <th>0</th>\n",
       "      <td>Brandon</td>\n",
       "      <td>James</td>\n",
       "      <td>Miami</td>\n",
       "      <td>M</td>\n",
       "    </tr>\n",
       "    <tr>\n",
       "      <th>1</th>\n",
       "      <td>Sean</td>\n",
       "      <td>Hawkins</td>\n",
       "      <td>Denver</td>\n",
       "      <td>M</td>\n",
       "    </tr>\n",
       "    <tr>\n",
       "      <th>2</th>\n",
       "      <td>Judy</td>\n",
       "      <td>Day</td>\n",
       "      <td>Los Angeles</td>\n",
       "      <td>F</td>\n",
       "    </tr>\n",
       "    <tr>\n",
       "      <th>3</th>\n",
       "      <td>Ashley</td>\n",
       "      <td>Ruiz</td>\n",
       "      <td>San Francisco</td>\n",
       "      <td>F</td>\n",
       "    </tr>\n",
       "    <tr>\n",
       "      <th>4</th>\n",
       "      <td>Stephanie</td>\n",
       "      <td>Gomez</td>\n",
       "      <td>Portland</td>\n",
       "      <td>F</td>\n",
       "    </tr>\n",
       "  </tbody>\n",
       "</table>\n",
       "</div>"
      ],
      "text/plain": [
       "  First Name Last Name           City Gender\n",
       "0    Brandon     James          Miami      M\n",
       "1       Sean   Hawkins         Denver      M\n",
       "2       Judy       Day    Los Angeles      F\n",
       "3     Ashley      Ruiz  San Francisco      F\n",
       "4  Stephanie     Gomez       Portland      F"
      ]
     },
     "execution_count": 32,
     "metadata": {},
     "output_type": "execute_result"
    }
   ],
   "source": [
    "pd.read_excel(\"Data - Multiple Worksheets.xlsx\",sheet_name=\"Data 1\")"
   ]
  },
  {
   "cell_type": "code",
   "execution_count": 33,
   "id": "2d7d61e4",
   "metadata": {
    "scrolled": true
   },
   "outputs": [
    {
     "data": {
      "text/plain": [
       "{0:   First Name Last Name           City Gender\n",
       " 0    Brandon     James          Miami      M\n",
       " 1       Sean   Hawkins         Denver      M\n",
       " 2       Judy       Day    Los Angeles      F\n",
       " 3     Ashley      Ruiz  San Francisco      F\n",
       " 4  Stephanie     Gomez       Portland      F,\n",
       " 1:   First Name Last Name           City Gender\n",
       " 0     Parker     Power        Raleigh      F\n",
       " 1    Preston  Prescott   Philadelphia      F\n",
       " 2    Ronaldo   Donaldo         Bangor      M\n",
       " 3      Megan   Stiller  San Francisco      M\n",
       " 4     Bustin    Jieber         Austin      F}"
      ]
     },
     "execution_count": 33,
     "metadata": {},
     "output_type": "execute_result"
    }
   ],
   "source": [
    "pd.read_excel(\"Data - Multiple Worksheets.xlsx\",sheet_name=[0,1])"
   ]
  },
  {
   "cell_type": "code",
   "execution_count": 34,
   "id": "b6e1b5df",
   "metadata": {
    "scrolled": true
   },
   "outputs": [],
   "source": [
    "data=pd.read_excel(\"Data - Multiple Worksheets.xlsx\",sheet_name=[0,1])#####dictorit format"
   ]
  },
  {
   "cell_type": "code",
   "execution_count": 35,
   "id": "25d02f73",
   "metadata": {},
   "outputs": [
    {
     "data": {
      "text/plain": [
       "dict"
      ]
     },
     "execution_count": 35,
     "metadata": {},
     "output_type": "execute_result"
    }
   ],
   "source": [
    "type(data)"
   ]
  },
  {
   "cell_type": "code",
   "execution_count": 36,
   "id": "4fdd2087",
   "metadata": {},
   "outputs": [
    {
     "data": {
      "text/html": [
       "<div>\n",
       "<style scoped>\n",
       "    .dataframe tbody tr th:only-of-type {\n",
       "        vertical-align: middle;\n",
       "    }\n",
       "\n",
       "    .dataframe tbody tr th {\n",
       "        vertical-align: top;\n",
       "    }\n",
       "\n",
       "    .dataframe thead th {\n",
       "        text-align: right;\n",
       "    }\n",
       "</style>\n",
       "<table border=\"1\" class=\"dataframe\">\n",
       "  <thead>\n",
       "    <tr style=\"text-align: right;\">\n",
       "      <th></th>\n",
       "      <th>First Name</th>\n",
       "      <th>Last Name</th>\n",
       "      <th>City</th>\n",
       "      <th>Gender</th>\n",
       "    </tr>\n",
       "  </thead>\n",
       "  <tbody>\n",
       "    <tr>\n",
       "      <th>0</th>\n",
       "      <td>Brandon</td>\n",
       "      <td>James</td>\n",
       "      <td>Miami</td>\n",
       "      <td>M</td>\n",
       "    </tr>\n",
       "    <tr>\n",
       "      <th>1</th>\n",
       "      <td>Sean</td>\n",
       "      <td>Hawkins</td>\n",
       "      <td>Denver</td>\n",
       "      <td>M</td>\n",
       "    </tr>\n",
       "    <tr>\n",
       "      <th>2</th>\n",
       "      <td>Judy</td>\n",
       "      <td>Day</td>\n",
       "      <td>Los Angeles</td>\n",
       "      <td>F</td>\n",
       "    </tr>\n",
       "    <tr>\n",
       "      <th>3</th>\n",
       "      <td>Ashley</td>\n",
       "      <td>Ruiz</td>\n",
       "      <td>San Francisco</td>\n",
       "      <td>F</td>\n",
       "    </tr>\n",
       "    <tr>\n",
       "      <th>4</th>\n",
       "      <td>Stephanie</td>\n",
       "      <td>Gomez</td>\n",
       "      <td>Portland</td>\n",
       "      <td>F</td>\n",
       "    </tr>\n",
       "  </tbody>\n",
       "</table>\n",
       "</div>"
      ],
      "text/plain": [
       "  First Name Last Name           City Gender\n",
       "0    Brandon     James          Miami      M\n",
       "1       Sean   Hawkins         Denver      M\n",
       "2       Judy       Day    Los Angeles      F\n",
       "3     Ashley      Ruiz  San Francisco      F\n",
       "4  Stephanie     Gomez       Portland      F"
      ]
     },
     "execution_count": 36,
     "metadata": {},
     "output_type": "execute_result"
    }
   ],
   "source": [
    "data[0]"
   ]
  },
  {
   "cell_type": "code",
   "execution_count": 37,
   "id": "4105e016",
   "metadata": {
    "scrolled": true
   },
   "outputs": [
    {
     "data": {
      "text/html": [
       "<div>\n",
       "<style scoped>\n",
       "    .dataframe tbody tr th:only-of-type {\n",
       "        vertical-align: middle;\n",
       "    }\n",
       "\n",
       "    .dataframe tbody tr th {\n",
       "        vertical-align: top;\n",
       "    }\n",
       "\n",
       "    .dataframe thead th {\n",
       "        text-align: right;\n",
       "    }\n",
       "</style>\n",
       "<table border=\"1\" class=\"dataframe\">\n",
       "  <thead>\n",
       "    <tr style=\"text-align: right;\">\n",
       "      <th></th>\n",
       "      <th>First Name</th>\n",
       "      <th>Last Name</th>\n",
       "      <th>City</th>\n",
       "      <th>Gender</th>\n",
       "    </tr>\n",
       "  </thead>\n",
       "  <tbody>\n",
       "    <tr>\n",
       "      <th>0</th>\n",
       "      <td>Parker</td>\n",
       "      <td>Power</td>\n",
       "      <td>Raleigh</td>\n",
       "      <td>F</td>\n",
       "    </tr>\n",
       "    <tr>\n",
       "      <th>1</th>\n",
       "      <td>Preston</td>\n",
       "      <td>Prescott</td>\n",
       "      <td>Philadelphia</td>\n",
       "      <td>F</td>\n",
       "    </tr>\n",
       "    <tr>\n",
       "      <th>2</th>\n",
       "      <td>Ronaldo</td>\n",
       "      <td>Donaldo</td>\n",
       "      <td>Bangor</td>\n",
       "      <td>M</td>\n",
       "    </tr>\n",
       "    <tr>\n",
       "      <th>3</th>\n",
       "      <td>Megan</td>\n",
       "      <td>Stiller</td>\n",
       "      <td>San Francisco</td>\n",
       "      <td>M</td>\n",
       "    </tr>\n",
       "    <tr>\n",
       "      <th>4</th>\n",
       "      <td>Bustin</td>\n",
       "      <td>Jieber</td>\n",
       "      <td>Austin</td>\n",
       "      <td>F</td>\n",
       "    </tr>\n",
       "  </tbody>\n",
       "</table>\n",
       "</div>"
      ],
      "text/plain": [
       "  First Name Last Name           City Gender\n",
       "0     Parker     Power        Raleigh      F\n",
       "1    Preston  Prescott   Philadelphia      F\n",
       "2    Ronaldo   Donaldo         Bangor      M\n",
       "3      Megan   Stiller  San Francisco      M\n",
       "4     Bustin    Jieber         Austin      F"
      ]
     },
     "execution_count": 37,
     "metadata": {},
     "output_type": "execute_result"
    }
   ],
   "source": [
    "data[1]"
   ]
  },
  {
   "cell_type": "code",
   "execution_count": 38,
   "id": "e3754021",
   "metadata": {
    "scrolled": true
   },
   "outputs": [],
   "source": [
    "data=pd.read_excel(\"Data - Multiple Worksheets.xlsx\",sheet_name=[\"Data 1\",\"Data 2\"])#####dictorit format"
   ]
  },
  {
   "cell_type": "code",
   "execution_count": 39,
   "id": "1303754b",
   "metadata": {},
   "outputs": [
    {
     "data": {
      "text/plain": [
       "{'Data 1':   First Name Last Name           City Gender\n",
       " 0    Brandon     James          Miami      M\n",
       " 1       Sean   Hawkins         Denver      M\n",
       " 2       Judy       Day    Los Angeles      F\n",
       " 3     Ashley      Ruiz  San Francisco      F\n",
       " 4  Stephanie     Gomez       Portland      F,\n",
       " 'Data 2':   First Name Last Name           City Gender\n",
       " 0     Parker     Power        Raleigh      F\n",
       " 1    Preston  Prescott   Philadelphia      F\n",
       " 2    Ronaldo   Donaldo         Bangor      M\n",
       " 3      Megan   Stiller  San Francisco      M\n",
       " 4     Bustin    Jieber         Austin      F}"
      ]
     },
     "execution_count": 39,
     "metadata": {},
     "output_type": "execute_result"
    }
   ],
   "source": [
    "data"
   ]
  },
  {
   "cell_type": "code",
   "execution_count": 40,
   "id": "8ba8f9b6",
   "metadata": {},
   "outputs": [
    {
     "data": {
      "text/html": [
       "<div>\n",
       "<style scoped>\n",
       "    .dataframe tbody tr th:only-of-type {\n",
       "        vertical-align: middle;\n",
       "    }\n",
       "\n",
       "    .dataframe tbody tr th {\n",
       "        vertical-align: top;\n",
       "    }\n",
       "\n",
       "    .dataframe thead th {\n",
       "        text-align: right;\n",
       "    }\n",
       "</style>\n",
       "<table border=\"1\" class=\"dataframe\">\n",
       "  <thead>\n",
       "    <tr style=\"text-align: right;\">\n",
       "      <th></th>\n",
       "      <th>First Name</th>\n",
       "      <th>Last Name</th>\n",
       "      <th>City</th>\n",
       "      <th>Gender</th>\n",
       "    </tr>\n",
       "  </thead>\n",
       "  <tbody>\n",
       "    <tr>\n",
       "      <th>0</th>\n",
       "      <td>Brandon</td>\n",
       "      <td>James</td>\n",
       "      <td>Miami</td>\n",
       "      <td>M</td>\n",
       "    </tr>\n",
       "    <tr>\n",
       "      <th>1</th>\n",
       "      <td>Sean</td>\n",
       "      <td>Hawkins</td>\n",
       "      <td>Denver</td>\n",
       "      <td>M</td>\n",
       "    </tr>\n",
       "    <tr>\n",
       "      <th>2</th>\n",
       "      <td>Judy</td>\n",
       "      <td>Day</td>\n",
       "      <td>Los Angeles</td>\n",
       "      <td>F</td>\n",
       "    </tr>\n",
       "    <tr>\n",
       "      <th>3</th>\n",
       "      <td>Ashley</td>\n",
       "      <td>Ruiz</td>\n",
       "      <td>San Francisco</td>\n",
       "      <td>F</td>\n",
       "    </tr>\n",
       "    <tr>\n",
       "      <th>4</th>\n",
       "      <td>Stephanie</td>\n",
       "      <td>Gomez</td>\n",
       "      <td>Portland</td>\n",
       "      <td>F</td>\n",
       "    </tr>\n",
       "  </tbody>\n",
       "</table>\n",
       "</div>"
      ],
      "text/plain": [
       "  First Name Last Name           City Gender\n",
       "0    Brandon     James          Miami      M\n",
       "1       Sean   Hawkins         Denver      M\n",
       "2       Judy       Day    Los Angeles      F\n",
       "3     Ashley      Ruiz  San Francisco      F\n",
       "4  Stephanie     Gomez       Portland      F"
      ]
     },
     "execution_count": 40,
     "metadata": {},
     "output_type": "execute_result"
    }
   ],
   "source": [
    "data[\"Data 1\"]"
   ]
  },
  {
   "cell_type": "code",
   "execution_count": 41,
   "id": "abc6471c",
   "metadata": {
    "scrolled": true
   },
   "outputs": [
    {
     "data": {
      "text/html": [
       "<div>\n",
       "<style scoped>\n",
       "    .dataframe tbody tr th:only-of-type {\n",
       "        vertical-align: middle;\n",
       "    }\n",
       "\n",
       "    .dataframe tbody tr th {\n",
       "        vertical-align: top;\n",
       "    }\n",
       "\n",
       "    .dataframe thead th {\n",
       "        text-align: right;\n",
       "    }\n",
       "</style>\n",
       "<table border=\"1\" class=\"dataframe\">\n",
       "  <thead>\n",
       "    <tr style=\"text-align: right;\">\n",
       "      <th></th>\n",
       "      <th>First Name</th>\n",
       "      <th>Last Name</th>\n",
       "      <th>City</th>\n",
       "      <th>Gender</th>\n",
       "    </tr>\n",
       "  </thead>\n",
       "  <tbody>\n",
       "    <tr>\n",
       "      <th>0</th>\n",
       "      <td>Parker</td>\n",
       "      <td>Power</td>\n",
       "      <td>Raleigh</td>\n",
       "      <td>F</td>\n",
       "    </tr>\n",
       "    <tr>\n",
       "      <th>1</th>\n",
       "      <td>Preston</td>\n",
       "      <td>Prescott</td>\n",
       "      <td>Philadelphia</td>\n",
       "      <td>F</td>\n",
       "    </tr>\n",
       "    <tr>\n",
       "      <th>2</th>\n",
       "      <td>Ronaldo</td>\n",
       "      <td>Donaldo</td>\n",
       "      <td>Bangor</td>\n",
       "      <td>M</td>\n",
       "    </tr>\n",
       "    <tr>\n",
       "      <th>3</th>\n",
       "      <td>Megan</td>\n",
       "      <td>Stiller</td>\n",
       "      <td>San Francisco</td>\n",
       "      <td>M</td>\n",
       "    </tr>\n",
       "    <tr>\n",
       "      <th>4</th>\n",
       "      <td>Bustin</td>\n",
       "      <td>Jieber</td>\n",
       "      <td>Austin</td>\n",
       "      <td>F</td>\n",
       "    </tr>\n",
       "  </tbody>\n",
       "</table>\n",
       "</div>"
      ],
      "text/plain": [
       "  First Name Last Name           City Gender\n",
       "0     Parker     Power        Raleigh      F\n",
       "1    Preston  Prescott   Philadelphia      F\n",
       "2    Ronaldo   Donaldo         Bangor      M\n",
       "3      Megan   Stiller  San Francisco      M\n",
       "4     Bustin    Jieber         Austin      F"
      ]
     },
     "execution_count": 41,
     "metadata": {},
     "output_type": "execute_result"
    }
   ],
   "source": [
    "data[\"Data 2\"]"
   ]
  },
  {
   "cell_type": "code",
   "execution_count": 42,
   "id": "7edc610f",
   "metadata": {
    "scrolled": true
   },
   "outputs": [],
   "source": [
    "data=pd.read_excel(\"Data - Multiple Worksheets.xlsx\",sheet_name=None)#####to import all sheets"
   ]
  },
  {
   "cell_type": "code",
   "execution_count": 43,
   "id": "491b8aba",
   "metadata": {},
   "outputs": [
    {
     "data": {
      "text/plain": [
       "{'Data 1':   First Name Last Name           City Gender\n",
       " 0    Brandon     James          Miami      M\n",
       " 1       Sean   Hawkins         Denver      M\n",
       " 2       Judy       Day    Los Angeles      F\n",
       " 3     Ashley      Ruiz  San Francisco      F\n",
       " 4  Stephanie     Gomez       Portland      F,\n",
       " 'Data 2':   First Name Last Name           City Gender\n",
       " 0     Parker     Power        Raleigh      F\n",
       " 1    Preston  Prescott   Philadelphia      F\n",
       " 2    Ronaldo   Donaldo         Bangor      M\n",
       " 3      Megan   Stiller  San Francisco      M\n",
       " 4     Bustin    Jieber         Austin      F}"
      ]
     },
     "execution_count": 43,
     "metadata": {},
     "output_type": "execute_result"
    }
   ],
   "source": [
    "data"
   ]
  },
  {
   "cell_type": "markdown",
   "id": "0a32486a",
   "metadata": {},
   "source": [
    "# Export the excel with to_excel() Mtd"
   ]
  },
  {
   "cell_type": "code",
   "execution_count": 44,
   "id": "ea7fde8c",
   "metadata": {},
   "outputs": [
    {
     "data": {
      "text/html": [
       "<div>\n",
       "<style scoped>\n",
       "    .dataframe tbody tr th:only-of-type {\n",
       "        vertical-align: middle;\n",
       "    }\n",
       "\n",
       "    .dataframe tbody tr th {\n",
       "        vertical-align: top;\n",
       "    }\n",
       "\n",
       "    .dataframe thead th {\n",
       "        text-align: right;\n",
       "    }\n",
       "</style>\n",
       "<table border=\"1\" class=\"dataframe\">\n",
       "  <thead>\n",
       "    <tr style=\"text-align: right;\">\n",
       "      <th></th>\n",
       "      <th>Year of Birth</th>\n",
       "      <th>Gender</th>\n",
       "      <th>Ethnicity</th>\n",
       "      <th>Child's First Name</th>\n",
       "      <th>Count</th>\n",
       "      <th>Rank</th>\n",
       "    </tr>\n",
       "  </thead>\n",
       "  <tbody>\n",
       "    <tr>\n",
       "      <th>0</th>\n",
       "      <td>2011</td>\n",
       "      <td>FEMALE</td>\n",
       "      <td>HISPANIC</td>\n",
       "      <td>GERALDINE</td>\n",
       "      <td>13</td>\n",
       "      <td>75</td>\n",
       "    </tr>\n",
       "    <tr>\n",
       "      <th>1</th>\n",
       "      <td>2011</td>\n",
       "      <td>FEMALE</td>\n",
       "      <td>HISPANIC</td>\n",
       "      <td>GIA</td>\n",
       "      <td>21</td>\n",
       "      <td>67</td>\n",
       "    </tr>\n",
       "    <tr>\n",
       "      <th>2</th>\n",
       "      <td>2011</td>\n",
       "      <td>FEMALE</td>\n",
       "      <td>HISPANIC</td>\n",
       "      <td>GIANNA</td>\n",
       "      <td>49</td>\n",
       "      <td>42</td>\n",
       "    </tr>\n",
       "    <tr>\n",
       "      <th>3</th>\n",
       "      <td>2011</td>\n",
       "      <td>FEMALE</td>\n",
       "      <td>HISPANIC</td>\n",
       "      <td>GISELLE</td>\n",
       "      <td>38</td>\n",
       "      <td>51</td>\n",
       "    </tr>\n",
       "    <tr>\n",
       "      <th>4</th>\n",
       "      <td>2011</td>\n",
       "      <td>FEMALE</td>\n",
       "      <td>HISPANIC</td>\n",
       "      <td>GRACE</td>\n",
       "      <td>36</td>\n",
       "      <td>53</td>\n",
       "    </tr>\n",
       "  </tbody>\n",
       "</table>\n",
       "</div>"
      ],
      "text/plain": [
       "   Year of Birth  Gender Ethnicity Child's First Name  Count  Rank\n",
       "0           2011  FEMALE  HISPANIC          GERALDINE     13    75\n",
       "1           2011  FEMALE  HISPANIC                GIA     21    67\n",
       "2           2011  FEMALE  HISPANIC             GIANNA     49    42\n",
       "3           2011  FEMALE  HISPANIC            GISELLE     38    51\n",
       "4           2011  FEMALE  HISPANIC              GRACE     36    53"
      ]
     },
     "execution_count": 44,
     "metadata": {},
     "output_type": "execute_result"
    }
   ],
   "source": [
    "url=\"https://data.cityofnewyork.us/api/views/25th-nujf/rows.csv?accessType=DOWNLOAD\"\n",
    "baby=pd.read_csv(url)\n",
    "baby.head()"
   ]
  },
  {
   "cell_type": "code",
   "execution_count": 49,
   "id": "c290bb95",
   "metadata": {},
   "outputs": [],
   "source": [
    "boys=baby[baby[\"Gender\"]==\"MALE\"]"
   ]
  },
  {
   "cell_type": "code",
   "execution_count": 50,
   "id": "2239a86d",
   "metadata": {},
   "outputs": [],
   "source": [
    "girls=baby[baby[\"Gender\"]==\"FEMALE\"]"
   ]
  },
  {
   "cell_type": "code",
   "execution_count": 53,
   "id": "b2baf93f",
   "metadata": {},
   "outputs": [],
   "source": [
    "ex_fil=pd.ExcelWriter(\"Baby_names.xlsx\")"
   ]
  },
  {
   "cell_type": "code",
   "execution_count": 54,
   "id": "ec5a4a39",
   "metadata": {},
   "outputs": [],
   "source": [
    "girls.to_excel(ex_fil,sheet_name=\"girls\",index=False)"
   ]
  },
  {
   "cell_type": "code",
   "execution_count": 55,
   "id": "91f728a6",
   "metadata": {},
   "outputs": [],
   "source": [
    "boys.to_excel(ex_fil,sheet_name=\"boys\",index=False,columns=[\"Year of Birth\",\"Child's First Name\",\"Ethnicity\"])"
   ]
  },
  {
   "cell_type": "code",
   "execution_count": 56,
   "id": "817f08f5",
   "metadata": {},
   "outputs": [],
   "source": [
    "ex_fil.save()"
   ]
  },
  {
   "cell_type": "code",
   "execution_count": null,
   "id": "8d797754",
   "metadata": {},
   "outputs": [],
   "source": []
  },
  {
   "cell_type": "code",
   "execution_count": null,
   "id": "8435d6eb",
   "metadata": {},
   "outputs": [],
   "source": []
  },
  {
   "cell_type": "code",
   "execution_count": null,
   "id": "5309e774",
   "metadata": {},
   "outputs": [],
   "source": []
  },
  {
   "cell_type": "code",
   "execution_count": null,
   "id": "5a8fb2a6",
   "metadata": {},
   "outputs": [],
   "source": []
  },
  {
   "cell_type": "code",
   "execution_count": null,
   "id": "d281cbbf",
   "metadata": {},
   "outputs": [],
   "source": []
  },
  {
   "cell_type": "code",
   "execution_count": null,
   "id": "b674762f",
   "metadata": {},
   "outputs": [],
   "source": []
  },
  {
   "cell_type": "code",
   "execution_count": null,
   "id": "bcf61546",
   "metadata": {},
   "outputs": [],
   "source": []
  },
  {
   "cell_type": "code",
   "execution_count": null,
   "id": "a6605e33",
   "metadata": {},
   "outputs": [],
   "source": []
  },
  {
   "cell_type": "code",
   "execution_count": null,
   "id": "bef19cf6",
   "metadata": {},
   "outputs": [],
   "source": []
  },
  {
   "cell_type": "code",
   "execution_count": null,
   "id": "0081a548",
   "metadata": {},
   "outputs": [],
   "source": []
  },
  {
   "cell_type": "code",
   "execution_count": null,
   "id": "7a7db9fc",
   "metadata": {},
   "outputs": [],
   "source": []
  },
  {
   "cell_type": "code",
   "execution_count": null,
   "id": "0632f98a",
   "metadata": {},
   "outputs": [],
   "source": []
  },
  {
   "cell_type": "code",
   "execution_count": null,
   "id": "9b77e008",
   "metadata": {},
   "outputs": [],
   "source": []
  },
  {
   "cell_type": "code",
   "execution_count": null,
   "id": "d9216c8d",
   "metadata": {},
   "outputs": [],
   "source": []
  },
  {
   "cell_type": "code",
   "execution_count": null,
   "id": "580a8ed3",
   "metadata": {},
   "outputs": [],
   "source": []
  },
  {
   "cell_type": "code",
   "execution_count": null,
   "id": "13f63814",
   "metadata": {},
   "outputs": [],
   "source": []
  },
  {
   "cell_type": "code",
   "execution_count": null,
   "id": "6ce545f6",
   "metadata": {},
   "outputs": [],
   "source": []
  },
  {
   "cell_type": "code",
   "execution_count": null,
   "id": "a3e7a1bd",
   "metadata": {},
   "outputs": [],
   "source": []
  },
  {
   "cell_type": "code",
   "execution_count": null,
   "id": "a81016ad",
   "metadata": {},
   "outputs": [],
   "source": []
  },
  {
   "cell_type": "code",
   "execution_count": null,
   "id": "1886ecc9",
   "metadata": {},
   "outputs": [],
   "source": []
  },
  {
   "cell_type": "code",
   "execution_count": null,
   "id": "424e76ee",
   "metadata": {},
   "outputs": [],
   "source": []
  },
  {
   "cell_type": "code",
   "execution_count": null,
   "id": "1a2c6e2a",
   "metadata": {},
   "outputs": [],
   "source": []
  },
  {
   "cell_type": "code",
   "execution_count": null,
   "id": "5c045540",
   "metadata": {},
   "outputs": [],
   "source": []
  },
  {
   "cell_type": "code",
   "execution_count": null,
   "id": "ac351707",
   "metadata": {},
   "outputs": [],
   "source": []
  },
  {
   "cell_type": "code",
   "execution_count": null,
   "id": "ccdf3652",
   "metadata": {},
   "outputs": [],
   "source": []
  },
  {
   "cell_type": "code",
   "execution_count": null,
   "id": "eeeb2719",
   "metadata": {},
   "outputs": [],
   "source": []
  },
  {
   "cell_type": "code",
   "execution_count": null,
   "id": "2fe92c6c",
   "metadata": {},
   "outputs": [],
   "source": []
  },
  {
   "cell_type": "code",
   "execution_count": null,
   "id": "7a11b854",
   "metadata": {},
   "outputs": [],
   "source": []
  },
  {
   "cell_type": "code",
   "execution_count": null,
   "id": "068338f4",
   "metadata": {},
   "outputs": [],
   "source": []
  },
  {
   "cell_type": "code",
   "execution_count": null,
   "id": "df371b2e",
   "metadata": {},
   "outputs": [],
   "source": []
  },
  {
   "cell_type": "code",
   "execution_count": null,
   "id": "97824b32",
   "metadata": {},
   "outputs": [],
   "source": []
  }
 ],
 "metadata": {
  "kernelspec": {
   "display_name": "Python 3",
   "language": "python",
   "name": "python3"
  },
  "language_info": {
   "codemirror_mode": {
    "name": "ipython",
    "version": 3
   },
   "file_extension": ".py",
   "mimetype": "text/x-python",
   "name": "python",
   "nbconvert_exporter": "python",
   "pygments_lexer": "ipython3",
   "version": "3.9.5"
  }
 },
 "nbformat": 4,
 "nbformat_minor": 5
}
