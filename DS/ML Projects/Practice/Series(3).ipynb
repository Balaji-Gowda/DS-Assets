{
 "cells": [
  {
   "cell_type": "markdown",
   "id": "ec6692ea",
   "metadata": {},
   "source": [
    "# SERIES"
   ]
  },
  {
   "cell_type": "code",
   "execution_count": 2,
   "id": "8e20a812",
   "metadata": {},
   "outputs": [],
   "source": [
    "import pandas as pd"
   ]
  },
  {
   "cell_type": "code",
   "execution_count": 2,
   "id": "4883f82a",
   "metadata": {},
   "outputs": [],
   "source": [
    "fruits=[\"mango\",\"grapes\",\"guava\",\"orange\"]"
   ]
  },
  {
   "cell_type": "code",
   "execution_count": 15,
   "id": "ecd62f2e",
   "metadata": {},
   "outputs": [
    {
     "data": {
      "text/plain": [
       "0     mango\n",
       "1    grapes\n",
       "2     guava\n",
       "3    orange\n",
       "dtype: object"
      ]
     },
     "execution_count": 15,
     "metadata": {},
     "output_type": "execute_result"
    }
   ],
   "source": [
    "f=pd.Series(fruits)\n",
    "f"
   ]
  },
  {
   "cell_type": "code",
   "execution_count": 5,
   "id": "f57c0af7",
   "metadata": {},
   "outputs": [
    {
     "data": {
      "text/plain": [
       "0     True\n",
       "1    False\n",
       "2     True\n",
       "dtype: bool"
      ]
     },
     "execution_count": 5,
     "metadata": {},
     "output_type": "execute_result"
    }
   ],
   "source": [
    "regis=[True,False,True]\n",
    "pd.Series(regis)"
   ]
  },
  {
   "cell_type": "code",
   "execution_count": 20,
   "id": "a4189f76",
   "metadata": {},
   "outputs": [
    {
     "data": {
      "text/plain": [
       "0    1\n",
       "1    2\n",
       "2    4\n",
       "3    5\n",
       "4    6\n",
       "5    4\n",
       "6    3\n",
       "dtype: int64"
      ]
     },
     "execution_count": 20,
     "metadata": {},
     "output_type": "execute_result"
    }
   ],
   "source": [
    "nums=[1,2,4,5,6,4,3]\n",
    "n=pd.Series(nums)\n",
    "n"
   ]
  },
  {
   "cell_type": "code",
   "execution_count": 11,
   "id": "c113000f",
   "metadata": {},
   "outputs": [
    {
     "data": {
      "text/plain": [
       "wild         Lion\n",
       "domestic      cow\n",
       "carnivore     fox\n",
       "dtype: object"
      ]
     },
     "execution_count": 11,
     "metadata": {},
     "output_type": "execute_result"
    }
   ],
   "source": [
    "#string indices\n",
    "animals={\n",
    "    \"wild\":\"Lion\",\n",
    "    \"domestic\":\"cow\",\n",
    "    \"carnivore\":\"fox\"\n",
    "}\n",
    "s=pd.Series(animals)\n",
    "s"
   ]
  },
  {
   "cell_type": "code",
   "execution_count": 12,
   "id": "280e5ba1",
   "metadata": {},
   "outputs": [
    {
     "data": {
      "text/plain": [
       "array(['Lion', 'cow', 'fox'], dtype=object)"
      ]
     },
     "execution_count": 12,
     "metadata": {},
     "output_type": "execute_result"
    }
   ],
   "source": [
    "s.values"
   ]
  },
  {
   "cell_type": "code",
   "execution_count": 13,
   "id": "a3be8ba5",
   "metadata": {},
   "outputs": [
    {
     "data": {
      "text/plain": [
       "Index(['wild', 'domestic', 'carnivore'], dtype='object')"
      ]
     },
     "execution_count": 13,
     "metadata": {},
     "output_type": "execute_result"
    }
   ],
   "source": [
    "s.index"
   ]
  },
  {
   "cell_type": "code",
   "execution_count": 16,
   "id": "9ee908ed",
   "metadata": {},
   "outputs": [
    {
     "data": {
      "text/plain": [
       "RangeIndex(start=0, stop=4, step=1)"
      ]
     },
     "execution_count": 16,
     "metadata": {},
     "output_type": "execute_result"
    }
   ],
   "source": [
    "f.index"
   ]
  },
  {
   "cell_type": "code",
   "execution_count": 18,
   "id": "b55ef0d2",
   "metadata": {},
   "outputs": [
    {
     "data": {
      "text/plain": [
       "dtype('O')"
      ]
     },
     "execution_count": 18,
     "metadata": {},
     "output_type": "execute_result"
    }
   ],
   "source": [
    "f.dtype"
   ]
  },
  {
   "cell_type": "code",
   "execution_count": 19,
   "id": "54ae59e3",
   "metadata": {},
   "outputs": [
    {
     "data": {
      "text/plain": [
       "dtype('O')"
      ]
     },
     "execution_count": 19,
     "metadata": {},
     "output_type": "execute_result"
    }
   ],
   "source": [
    "f.dtypes"
   ]
  },
  {
   "cell_type": "code",
   "execution_count": 21,
   "id": "5a16be95",
   "metadata": {},
   "outputs": [
    {
     "data": {
      "text/plain": [
       "25"
      ]
     },
     "execution_count": 21,
     "metadata": {},
     "output_type": "execute_result"
    }
   ],
   "source": [
    "n.sum()"
   ]
  },
  {
   "cell_type": "code",
   "execution_count": 22,
   "id": "47faad51",
   "metadata": {},
   "outputs": [
    {
     "data": {
      "text/plain": [
       "2880"
      ]
     },
     "execution_count": 22,
     "metadata": {},
     "output_type": "execute_result"
    }
   ],
   "source": [
    "n.product()"
   ]
  },
  {
   "cell_type": "code",
   "execution_count": 23,
   "id": "fe33580d",
   "metadata": {},
   "outputs": [
    {
     "data": {
      "text/plain": [
       "3.5714285714285716"
      ]
     },
     "execution_count": 23,
     "metadata": {},
     "output_type": "execute_result"
    }
   ],
   "source": [
    "n.mean()"
   ]
  },
  {
   "cell_type": "markdown",
   "id": "00329638",
   "metadata": {},
   "source": [
    "# parameters and args"
   ]
  },
  {
   "cell_type": "code",
   "execution_count": 26,
   "id": "66cdcadb",
   "metadata": {},
   "outputs": [
    {
     "data": {
      "text/plain": [
       "sunday        mango\n",
       "monday       grapes\n",
       "tuesday       guava\n",
       "wednesday    orange\n",
       "dtype: object"
      ]
     },
     "execution_count": 26,
     "metadata": {},
     "output_type": "execute_result"
    }
   ],
   "source": [
    "fruits=[\"mango\",\"grapes\",\"guava\",\"orange\"]\n",
    "Days=[\"sunday\",\"monday\",\"tuesday\",\"wednesday\"]\n",
    "\n",
    "pd.Series(data=fruits,index=Days)"
   ]
  },
  {
   "cell_type": "code",
   "execution_count": 27,
   "id": "5387372f",
   "metadata": {},
   "outputs": [
    {
     "data": {
      "text/plain": [
       "sunday      mango\n",
       "monday     grapes\n",
       "tuesday     guava\n",
       "sunday     orange\n",
       "dtype: object"
      ]
     },
     "execution_count": 27,
     "metadata": {},
     "output_type": "execute_result"
    }
   ],
   "source": [
    "fruits=[\"mango\",\"grapes\",\"guava\",\"orange\"]\n",
    "Days=[\"sunday\",\"monday\",\"tuesday\",\"sunday\"]#duplicate keys\n",
    "\n",
    "pd.Series(data=fruits,index=Days)"
   ]
  },
  {
   "cell_type": "markdown",
   "id": "73955156",
   "metadata": {},
   "source": [
    "# import series with read_csv mtd"
   ]
  },
  {
   "cell_type": "code",
   "execution_count": 3,
   "id": "38a283de",
   "metadata": {},
   "outputs": [
    {
     "data": {
      "text/plain": [
       "0     Bulbasaur\n",
       "1       Ivysaur\n",
       "2      Venusaur\n",
       "3    Charmander\n",
       "4    Charmeleon\n",
       "Name: Pokemon, dtype: object"
      ]
     },
     "execution_count": 3,
     "metadata": {},
     "output_type": "execute_result"
    }
   ],
   "source": [
    "pm=pd.read_csv(\"pokemon.csv\",usecols=[\"Pokemon\"],squeeze=True)\n",
    "pm.head(5)"
   ]
  },
  {
   "cell_type": "code",
   "execution_count": 4,
   "id": "e89e2ddc",
   "metadata": {},
   "outputs": [
    {
     "data": {
      "text/html": [
       "<div>\n",
       "<style scoped>\n",
       "    .dataframe tbody tr th:only-of-type {\n",
       "        vertical-align: middle;\n",
       "    }\n",
       "\n",
       "    .dataframe tbody tr th {\n",
       "        vertical-align: top;\n",
       "    }\n",
       "\n",
       "    .dataframe thead th {\n",
       "        text-align: right;\n",
       "    }\n",
       "</style>\n",
       "<table border=\"1\" class=\"dataframe\">\n",
       "  <thead>\n",
       "    <tr style=\"text-align: right;\">\n",
       "      <th></th>\n",
       "      <th>Salesperson ID</th>\n",
       "      <th>Salesperson</th>\n",
       "      <th>Distributor ID</th>\n",
       "    </tr>\n",
       "  </thead>\n",
       "  <tbody>\n",
       "    <tr>\n",
       "      <th>0</th>\n",
       "      <td>2009</td>\n",
       "      <td>David Letterman</td>\n",
       "      <td>A1</td>\n",
       "    </tr>\n",
       "    <tr>\n",
       "      <th>1</th>\n",
       "      <td>2015</td>\n",
       "      <td>John Cleaves</td>\n",
       "      <td>A1</td>\n",
       "    </tr>\n",
       "    <tr>\n",
       "      <th>2</th>\n",
       "      <td>2026</td>\n",
       "      <td>Miro Takako</td>\n",
       "      <td>A1</td>\n",
       "    </tr>\n",
       "    <tr>\n",
       "      <th>3</th>\n",
       "      <td>2003</td>\n",
       "      <td>Binh Protzmann</td>\n",
       "      <td>A2</td>\n",
       "    </tr>\n",
       "    <tr>\n",
       "      <th>4</th>\n",
       "      <td>2005</td>\n",
       "      <td>Cezar Sandu</td>\n",
       "      <td>A2</td>\n",
       "    </tr>\n",
       "  </tbody>\n",
       "</table>\n",
       "</div>"
      ],
      "text/plain": [
       "   Salesperson ID      Salesperson Distributor ID\n",
       "0            2009  David Letterman             A1\n",
       "1            2015     John Cleaves             A1\n",
       "2            2026      Miro Takako             A1\n",
       "3            2003   Binh Protzmann             A2\n",
       "4            2005      Cezar Sandu             A2"
      ]
     },
     "execution_count": 4,
     "metadata": {},
     "output_type": "execute_result"
    }
   ],
   "source": [
    "sp=pd.read_excel(\"C:\\Documents\\QlikView Tutorial\\Tutorials source\\Creating a Document\\Data Sources\\Salesperson.xlsx\")\n",
    "sp.head(5)"
   ]
  },
  {
   "cell_type": "code",
   "execution_count": 5,
   "id": "48554470",
   "metadata": {},
   "outputs": [
    {
     "data": {
      "text/plain": [
       "0     Bulbasaur\n",
       "1       Ivysaur\n",
       "2      Venusaur\n",
       "3    Charmander\n",
       "4    Charmeleon\n",
       "Name: Pokemon, dtype: object"
      ]
     },
     "execution_count": 5,
     "metadata": {},
     "output_type": "execute_result"
    }
   ],
   "source": [
    "pm=pd.read_csv(\"pokemon.csv\",usecols=[\"Pokemon\"],squeeze=True)\n",
    "pm.head(5)"
   ]
  },
  {
   "cell_type": "code",
   "execution_count": 8,
   "id": "361d5451",
   "metadata": {},
   "outputs": [],
   "source": [
    "pokemon=pd.read_csv(\"pokemon.csv\",usecols=[\"Pokemon\"],squeeze=True)\n",
    "google=pd.read_csv(\"google_stock_price.csv\", squeeze=True)"
   ]
  },
  {
   "cell_type": "code",
   "execution_count": 16,
   "id": "e889eca6",
   "metadata": {},
   "outputs": [
    {
     "data": {
      "text/plain": [
       "0     Bulbasaur\n",
       "1       Ivysaur\n",
       "2      Venusaur\n",
       "3    Charmander\n",
       "4    Charmeleon\n",
       "5     Charizard\n",
       "6      Squirtle\n",
       "7     Wartortle\n",
       "8     Blastoise\n",
       "9      Caterpie\n",
       "Name: Pokemon, dtype: object"
      ]
     },
     "execution_count": 16,
     "metadata": {},
     "output_type": "execute_result"
    }
   ],
   "source": [
    "pokemon.head(10)"
   ]
  },
  {
   "cell_type": "code",
   "execution_count": 18,
   "id": "7f0a54a1",
   "metadata": {},
   "outputs": [
    {
     "data": {
      "text/plain": [
       "719        Hoopa\n",
       "720    Volcanion\n",
       "Name: Pokemon, dtype: object"
      ]
     },
     "execution_count": 18,
     "metadata": {},
     "output_type": "execute_result"
    }
   ],
   "source": [
    "pokemon.tail(2)"
   ]
  },
  {
   "cell_type": "code",
   "execution_count": 30,
   "id": "fe28071a",
   "metadata": {},
   "outputs": [
    {
     "data": {
      "text/plain": [
       "array([ 50.12,  54.1 ,  54.65, ..., 773.18, 771.61, 782.22])"
      ]
     },
     "execution_count": 30,
     "metadata": {},
     "output_type": "execute_result"
    }
   ],
   "source": [
    "pokemon.values\n",
    "google.values"
   ]
  },
  {
   "cell_type": "markdown",
   "id": "29a59e68",
   "metadata": {},
   "source": [
    "# python built in functs"
   ]
  },
  {
   "cell_type": "code",
   "execution_count": 9,
   "id": "d1d45d1d",
   "metadata": {},
   "outputs": [
    {
     "data": {
      "text/plain": [
       "721"
      ]
     },
     "execution_count": 9,
     "metadata": {},
     "output_type": "execute_result"
    }
   ],
   "source": [
    "len(pokemon)\n"
   ]
  },
  {
   "cell_type": "code",
   "execution_count": 20,
   "id": "ad159f40",
   "metadata": {},
   "outputs": [
    {
     "data": {
      "text/plain": [
       "3012"
      ]
     },
     "execution_count": 20,
     "metadata": {},
     "output_type": "execute_result"
    }
   ],
   "source": [
    "len(google)"
   ]
  },
  {
   "cell_type": "code",
   "execution_count": 21,
   "id": "b87df411",
   "metadata": {
    "collapsed": true
   },
   "outputs": [
    {
     "data": {
      "text/plain": [
       "['T',\n",
       " '_AXIS_LEN',\n",
       " '_AXIS_ORDERS',\n",
       " '_AXIS_REVERSED',\n",
       " '_AXIS_TO_AXIS_NUMBER',\n",
       " '_HANDLED_TYPES',\n",
       " '__abs__',\n",
       " '__add__',\n",
       " '__and__',\n",
       " '__annotations__',\n",
       " '__array__',\n",
       " '__array_priority__',\n",
       " '__array_ufunc__',\n",
       " '__array_wrap__',\n",
       " '__bool__',\n",
       " '__class__',\n",
       " '__contains__',\n",
       " '__copy__',\n",
       " '__deepcopy__',\n",
       " '__delattr__',\n",
       " '__delitem__',\n",
       " '__dict__',\n",
       " '__dir__',\n",
       " '__divmod__',\n",
       " '__doc__',\n",
       " '__eq__',\n",
       " '__finalize__',\n",
       " '__float__',\n",
       " '__floordiv__',\n",
       " '__format__',\n",
       " '__ge__',\n",
       " '__getattr__',\n",
       " '__getattribute__',\n",
       " '__getitem__',\n",
       " '__getstate__',\n",
       " '__gt__',\n",
       " '__hash__',\n",
       " '__iadd__',\n",
       " '__iand__',\n",
       " '__ifloordiv__',\n",
       " '__imod__',\n",
       " '__imul__',\n",
       " '__init__',\n",
       " '__init_subclass__',\n",
       " '__int__',\n",
       " '__invert__',\n",
       " '__ior__',\n",
       " '__ipow__',\n",
       " '__isub__',\n",
       " '__iter__',\n",
       " '__itruediv__',\n",
       " '__ixor__',\n",
       " '__le__',\n",
       " '__len__',\n",
       " '__long__',\n",
       " '__lt__',\n",
       " '__matmul__',\n",
       " '__mod__',\n",
       " '__module__',\n",
       " '__mul__',\n",
       " '__ne__',\n",
       " '__neg__',\n",
       " '__new__',\n",
       " '__nonzero__',\n",
       " '__or__',\n",
       " '__pos__',\n",
       " '__pow__',\n",
       " '__radd__',\n",
       " '__rand__',\n",
       " '__rdivmod__',\n",
       " '__reduce__',\n",
       " '__reduce_ex__',\n",
       " '__repr__',\n",
       " '__rfloordiv__',\n",
       " '__rmatmul__',\n",
       " '__rmod__',\n",
       " '__rmul__',\n",
       " '__ror__',\n",
       " '__round__',\n",
       " '__rpow__',\n",
       " '__rsub__',\n",
       " '__rtruediv__',\n",
       " '__rxor__',\n",
       " '__setattr__',\n",
       " '__setitem__',\n",
       " '__setstate__',\n",
       " '__sizeof__',\n",
       " '__str__',\n",
       " '__sub__',\n",
       " '__subclasshook__',\n",
       " '__truediv__',\n",
       " '__weakref__',\n",
       " '__xor__',\n",
       " '_accessors',\n",
       " '_accum_func',\n",
       " '_add_numeric_operations',\n",
       " '_agg_by_level',\n",
       " '_agg_examples_doc',\n",
       " '_agg_see_also_doc',\n",
       " '_align_frame',\n",
       " '_align_series',\n",
       " '_arith_method',\n",
       " '_as_manager',\n",
       " '_attrs',\n",
       " '_binop',\n",
       " '_can_hold_na',\n",
       " '_check_inplace_and_allows_duplicate_labels',\n",
       " '_check_inplace_setting',\n",
       " '_check_is_chained_assignment_possible',\n",
       " '_check_label_or_level_ambiguity',\n",
       " '_check_setitem_copy',\n",
       " '_clear_item_cache',\n",
       " '_clip_with_one_bound',\n",
       " '_clip_with_scalar',\n",
       " '_cmp_method',\n",
       " '_consolidate',\n",
       " '_consolidate_inplace',\n",
       " '_construct_axes_dict',\n",
       " '_construct_axes_from_arguments',\n",
       " '_construct_result',\n",
       " '_constructor',\n",
       " '_constructor_expanddim',\n",
       " '_convert',\n",
       " '_convert_dtypes',\n",
       " '_data',\n",
       " '_dir_additions',\n",
       " '_dir_deletions',\n",
       " '_drop_axis',\n",
       " '_drop_labels_or_levels',\n",
       " '_duplicated',\n",
       " '_find_valid_index',\n",
       " '_flags',\n",
       " '_from_mgr',\n",
       " '_get_axis',\n",
       " '_get_axis_name',\n",
       " '_get_axis_number',\n",
       " '_get_axis_resolvers',\n",
       " '_get_block_manager_axis',\n",
       " '_get_bool_data',\n",
       " '_get_cacher',\n",
       " '_get_cleaned_column_resolvers',\n",
       " '_get_index_resolvers',\n",
       " '_get_label_or_level_values',\n",
       " '_get_numeric_data',\n",
       " '_get_value',\n",
       " '_get_values',\n",
       " '_get_values_tuple',\n",
       " '_get_with',\n",
       " '_gotitem',\n",
       " '_hidden_attrs',\n",
       " '_index',\n",
       " '_indexed_same',\n",
       " '_info_axis',\n",
       " '_info_axis_name',\n",
       " '_info_axis_number',\n",
       " '_init_dict',\n",
       " '_init_mgr',\n",
       " '_inplace_method',\n",
       " '_internal_names',\n",
       " '_internal_names_set',\n",
       " '_is_cached',\n",
       " '_is_copy',\n",
       " '_is_label_or_level_reference',\n",
       " '_is_label_reference',\n",
       " '_is_level_reference',\n",
       " '_is_mixed_type',\n",
       " '_is_view',\n",
       " '_item_cache',\n",
       " '_ixs',\n",
       " '_logical_func',\n",
       " '_logical_method',\n",
       " '_map_values',\n",
       " '_maybe_update_cacher',\n",
       " '_memory_usage',\n",
       " '_metadata',\n",
       " '_mgr',\n",
       " '_min_count_stat_function',\n",
       " '_name',\n",
       " '_needs_reindex_multi',\n",
       " '_protect_consolidate',\n",
       " '_reduce',\n",
       " '_reindex_axes',\n",
       " '_reindex_indexer',\n",
       " '_reindex_multi',\n",
       " '_reindex_with_indexers',\n",
       " '_replace_single',\n",
       " '_repr_data_resource_',\n",
       " '_repr_latex_',\n",
       " '_reset_cache',\n",
       " '_reset_cacher',\n",
       " '_set_as_cached',\n",
       " '_set_axis',\n",
       " '_set_axis_name',\n",
       " '_set_axis_nocheck',\n",
       " '_set_is_copy',\n",
       " '_set_labels',\n",
       " '_set_name',\n",
       " '_set_value',\n",
       " '_set_values',\n",
       " '_set_with',\n",
       " '_set_with_engine',\n",
       " '_slice',\n",
       " '_stat_axis',\n",
       " '_stat_axis_name',\n",
       " '_stat_axis_number',\n",
       " '_stat_function',\n",
       " '_stat_function_ddof',\n",
       " '_take_with_is_copy',\n",
       " '_typ',\n",
       " '_update_inplace',\n",
       " '_validate_dtype',\n",
       " '_values',\n",
       " '_where',\n",
       " 'abs',\n",
       " 'add',\n",
       " 'add_prefix',\n",
       " 'add_suffix',\n",
       " 'agg',\n",
       " 'aggregate',\n",
       " 'align',\n",
       " 'all',\n",
       " 'any',\n",
       " 'append',\n",
       " 'apply',\n",
       " 'argmax',\n",
       " 'argmin',\n",
       " 'argsort',\n",
       " 'array',\n",
       " 'asfreq',\n",
       " 'asof',\n",
       " 'astype',\n",
       " 'at',\n",
       " 'at_time',\n",
       " 'attrs',\n",
       " 'autocorr',\n",
       " 'axes',\n",
       " 'backfill',\n",
       " 'between',\n",
       " 'between_time',\n",
       " 'bfill',\n",
       " 'bool',\n",
       " 'clip',\n",
       " 'combine',\n",
       " 'combine_first',\n",
       " 'compare',\n",
       " 'convert_dtypes',\n",
       " 'copy',\n",
       " 'corr',\n",
       " 'count',\n",
       " 'cov',\n",
       " 'cummax',\n",
       " 'cummin',\n",
       " 'cumprod',\n",
       " 'cumsum',\n",
       " 'describe',\n",
       " 'diff',\n",
       " 'div',\n",
       " 'divide',\n",
       " 'divmod',\n",
       " 'dot',\n",
       " 'drop',\n",
       " 'drop_duplicates',\n",
       " 'droplevel',\n",
       " 'dropna',\n",
       " 'dtype',\n",
       " 'dtypes',\n",
       " 'duplicated',\n",
       " 'empty',\n",
       " 'eq',\n",
       " 'equals',\n",
       " 'ewm',\n",
       " 'expanding',\n",
       " 'explode',\n",
       " 'factorize',\n",
       " 'ffill',\n",
       " 'fillna',\n",
       " 'filter',\n",
       " 'first',\n",
       " 'first_valid_index',\n",
       " 'flags',\n",
       " 'floordiv',\n",
       " 'ge',\n",
       " 'get',\n",
       " 'groupby',\n",
       " 'gt',\n",
       " 'hasnans',\n",
       " 'head',\n",
       " 'hist',\n",
       " 'iat',\n",
       " 'idxmax',\n",
       " 'idxmin',\n",
       " 'iloc',\n",
       " 'index',\n",
       " 'infer_objects',\n",
       " 'interpolate',\n",
       " 'is_monotonic',\n",
       " 'is_monotonic_decreasing',\n",
       " 'is_monotonic_increasing',\n",
       " 'is_unique',\n",
       " 'isin',\n",
       " 'isna',\n",
       " 'isnull',\n",
       " 'item',\n",
       " 'items',\n",
       " 'iteritems',\n",
       " 'keys',\n",
       " 'kurt',\n",
       " 'kurtosis',\n",
       " 'last',\n",
       " 'last_valid_index',\n",
       " 'le',\n",
       " 'loc',\n",
       " 'lt',\n",
       " 'mad',\n",
       " 'map',\n",
       " 'mask',\n",
       " 'max',\n",
       " 'mean',\n",
       " 'median',\n",
       " 'memory_usage',\n",
       " 'min',\n",
       " 'mod',\n",
       " 'mode',\n",
       " 'mul',\n",
       " 'multiply',\n",
       " 'name',\n",
       " 'nbytes',\n",
       " 'ndim',\n",
       " 'ne',\n",
       " 'nlargest',\n",
       " 'notna',\n",
       " 'notnull',\n",
       " 'nsmallest',\n",
       " 'nunique',\n",
       " 'pad',\n",
       " 'pct_change',\n",
       " 'pipe',\n",
       " 'plot',\n",
       " 'pop',\n",
       " 'pow',\n",
       " 'prod',\n",
       " 'product',\n",
       " 'quantile',\n",
       " 'radd',\n",
       " 'rank',\n",
       " 'ravel',\n",
       " 'rdiv',\n",
       " 'rdivmod',\n",
       " 'reindex',\n",
       " 'reindex_like',\n",
       " 'rename',\n",
       " 'rename_axis',\n",
       " 'reorder_levels',\n",
       " 'repeat',\n",
       " 'replace',\n",
       " 'resample',\n",
       " 'reset_index',\n",
       " 'rfloordiv',\n",
       " 'rmod',\n",
       " 'rmul',\n",
       " 'rolling',\n",
       " 'round',\n",
       " 'rpow',\n",
       " 'rsub',\n",
       " 'rtruediv',\n",
       " 'sample',\n",
       " 'searchsorted',\n",
       " 'sem',\n",
       " 'set_axis',\n",
       " 'set_flags',\n",
       " 'shape',\n",
       " 'shift',\n",
       " 'size',\n",
       " 'skew',\n",
       " 'slice_shift',\n",
       " 'sort_index',\n",
       " 'sort_values',\n",
       " 'squeeze',\n",
       " 'std',\n",
       " 'str',\n",
       " 'sub',\n",
       " 'subtract',\n",
       " 'sum',\n",
       " 'swapaxes',\n",
       " 'swaplevel',\n",
       " 'tail',\n",
       " 'take',\n",
       " 'to_clipboard',\n",
       " 'to_csv',\n",
       " 'to_dict',\n",
       " 'to_excel',\n",
       " 'to_frame',\n",
       " 'to_hdf',\n",
       " 'to_json',\n",
       " 'to_latex',\n",
       " 'to_list',\n",
       " 'to_markdown',\n",
       " 'to_numpy',\n",
       " 'to_period',\n",
       " 'to_pickle',\n",
       " 'to_sql',\n",
       " 'to_string',\n",
       " 'to_timestamp',\n",
       " 'to_xarray',\n",
       " 'transform',\n",
       " 'transpose',\n",
       " 'truediv',\n",
       " 'truncate',\n",
       " 'tz_convert',\n",
       " 'tz_localize',\n",
       " 'unique',\n",
       " 'unstack',\n",
       " 'update',\n",
       " 'value_counts',\n",
       " 'values',\n",
       " 'var',\n",
       " 'view',\n",
       " 'where',\n",
       " 'xs']"
      ]
     },
     "execution_count": 21,
     "metadata": {},
     "output_type": "execute_result"
    }
   ],
   "source": [
    "dir(pokemon)"
   ]
  },
  {
   "cell_type": "code",
   "execution_count": 12,
   "id": "0e96f1b6",
   "metadata": {},
   "outputs": [
    {
     "data": {
      "text/plain": [
       "[49.95, 50.07, 50.12, 50.7, 50.74, 50.95, 51.1, 51.1, 51.13, 52.38]"
      ]
     },
     "execution_count": 12,
     "metadata": {},
     "output_type": "execute_result"
    }
   ],
   "source": [
    "sorted(pokemon)\n",
    "sorted(google)[:10]"
   ]
  },
  {
   "cell_type": "code",
   "execution_count": 13,
   "id": "c3d0ed25",
   "metadata": {},
   "outputs": [
    {
     "data": {
      "text/plain": [
       "['Bulbasaur',\n",
       " 'Ivysaur',\n",
       " 'Venusaur',\n",
       " 'Charmander',\n",
       " 'Charmeleon',\n",
       " 'Charizard',\n",
       " 'Squirtle',\n",
       " 'Wartortle',\n",
       " 'Blastoise',\n",
       " 'Caterpie']"
      ]
     },
     "execution_count": 13,
     "metadata": {},
     "output_type": "execute_result"
    }
   ],
   "source": [
    "list(pokemon)[:10]"
   ]
  },
  {
   "cell_type": "code",
   "execution_count": 15,
   "id": "4608324a",
   "metadata": {
    "scrolled": true
   },
   "outputs": [
    {
     "data": {
      "text/plain": [
       "{0: 50.12,\n",
       " 1: 54.1,\n",
       " 2: 54.65,\n",
       " 3: 52.38,\n",
       " 4: 52.95,\n",
       " 5: 53.9,\n",
       " 6: 53.02,\n",
       " 7: 50.95,\n",
       " 8: 51.13,\n",
       " 9: 50.07,\n",
       " 10: 50.7,\n",
       " 11: 49.95,\n",
       " 12: 50.74,\n",
       " 13: 51.1,\n",
       " 14: 51.1,\n",
       " 15: 52.61,\n",
       " 16: 53.7,\n",
       " 17: 55.69,\n",
       " 18: 55.94,\n",
       " 19: 56.93,\n",
       " 20: 58.69,\n",
       " 21: 59.62,\n",
       " 22: 58.86,\n",
       " 23: 59.13,\n",
       " 24: 60.35,\n",
       " 25: 59.86,\n",
       " 26: 59.07,\n",
       " 27: 63.37,\n",
       " 28: 65.47,\n",
       " 29: 64.74,\n",
       " 30: 66.22,\n",
       " 31: 67.46,\n",
       " 32: 69.12,\n",
       " 33: 68.47,\n",
       " 34: 69.36,\n",
       " 35: 68.8,\n",
       " 36: 67.56,\n",
       " 37: 68.63,\n",
       " 38: 70.38,\n",
       " 39: 70.93,\n",
       " 40: 71.98,\n",
       " 41: 74.51,\n",
       " 42: 73.9,\n",
       " 43: 70.17,\n",
       " 44: 74.62,\n",
       " 45: 86.13,\n",
       " 46: 93.61,\n",
       " 47: 90.81,\n",
       " 48: 92.89,\n",
       " 49: 96.55,\n",
       " 50: 95.22,\n",
       " 51: 97.92,\n",
       " 52: 97.34,\n",
       " 53: 95.74,\n",
       " 54: 92.26,\n",
       " 55: 84.59,\n",
       " 56: 86.19,\n",
       " 57: 84.27,\n",
       " 58: 83.85,\n",
       " 59: 91.42,\n",
       " 60: 90.91,\n",
       " 61: 92.34,\n",
       " 62: 86.19,\n",
       " 63: 86.16,\n",
       " 64: 83.69,\n",
       " 65: 84.62,\n",
       " 66: 82.47,\n",
       " 67: 83.68,\n",
       " 68: 87.29,\n",
       " 69: 89.61,\n",
       " 70: 90.43,\n",
       " 71: 90.9,\n",
       " 72: 89.89,\n",
       " 73: 89.61,\n",
       " 74: 90.11,\n",
       " 75: 88.06,\n",
       " 76: 85.63,\n",
       " 77: 84.91,\n",
       " 78: 86.63,\n",
       " 79: 85.74,\n",
       " 80: 85.14,\n",
       " 81: 89.26,\n",
       " 82: 89.8,\n",
       " 83: 88.15,\n",
       " 84: 89.95,\n",
       " 85: 92.42,\n",
       " 86: 91.78,\n",
       " 87: 93.06,\n",
       " 88: 93.86,\n",
       " 89: 95.86,\n",
       " 90: 96.28,\n",
       " 91: 96.35,\n",
       " 92: 98.7,\n",
       " 93: 96.3,\n",
       " 94: 101.25,\n",
       " 95: 97.15,\n",
       " 96: 96.66,\n",
       " 97: 94.18,\n",
       " 98: 96.83,\n",
       " 99: 97.43,\n",
       " 100: 96.67,\n",
       " 101: 97.59,\n",
       " 102: 97.57,\n",
       " 103: 99.89,\n",
       " 104: 101.85,\n",
       " 105: 98.55,\n",
       " 106: 96.86,\n",
       " 107: 94.05,\n",
       " 108: 90.27,\n",
       " 109: 88.47,\n",
       " 110: 94.53,\n",
       " 111: 93.95,\n",
       " 112: 95.07,\n",
       " 113: 97.71,\n",
       " 114: 95.85,\n",
       " 115: 102.88,\n",
       " 116: 105.32,\n",
       " 117: 102.08,\n",
       " 118: 97.92,\n",
       " 119: 99.22,\n",
       " 120: 95.69,\n",
       " 121: 93.9,\n",
       " 122: 93.61,\n",
       " 123: 96.4,\n",
       " 124: 97.52,\n",
       " 125: 99.11,\n",
       " 126: 98.85,\n",
       " 127: 98.88,\n",
       " 128: 95.59,\n",
       " 129: 96.88,\n",
       " 130: 94.35,\n",
       " 131: 92.84,\n",
       " 132: 93.9,\n",
       " 133: 92.94,\n",
       " 134: 92.5,\n",
       " 135: 93.41,\n",
       " 136: 92.86,\n",
       " 137: 94.31,\n",
       " 138: 92.51,\n",
       " 139: 90.58,\n",
       " 140: 89.9,\n",
       " 141: 88.81,\n",
       " 142: 87.41,\n",
       " 143: 89.22,\n",
       " 144: 87.71,\n",
       " 145: 89.56,\n",
       " 146: 89.93,\n",
       " 147: 90.35,\n",
       " 148: 89.21,\n",
       " 149: 89.4,\n",
       " 150: 89.54,\n",
       " 151: 90.62,\n",
       " 152: 89.7,\n",
       " 153: 90.13,\n",
       " 154: 90.16,\n",
       " 155: 89.93,\n",
       " 156: 92.55,\n",
       " 157: 94.19,\n",
       " 158: 94.52,\n",
       " 159: 96.78,\n",
       " 160: 95.93,\n",
       " 161: 96.52,\n",
       " 162: 96.88,\n",
       " 163: 96.37,\n",
       " 164: 95.63,\n",
       " 165: 92.41,\n",
       " 166: 93.39,\n",
       " 167: 95.6,\n",
       " 168: 98.95,\n",
       " 169: 102.01,\n",
       " 170: 107.8,\n",
       " 171: 111.65,\n",
       " 172: 109.27,\n",
       " 173: 109.78,\n",
       " 174: 109.62,\n",
       " 175: 109.89,\n",
       " 176: 111.03,\n",
       " 177: 112.98,\n",
       " 178: 114.14,\n",
       " 179: 113.38,\n",
       " 180: 113.9,\n",
       " 181: 112.9,\n",
       " 182: 113.79,\n",
       " 183: 115.53,\n",
       " 184: 114.25,\n",
       " 185: 114.51,\n",
       " 186: 115.41,\n",
       " 187: 116.45,\n",
       " 188: 119.46,\n",
       " 189: 119.47,\n",
       " 190: 120.68,\n",
       " 191: 127.6,\n",
       " 192: 127.87,\n",
       " 193: 130.27,\n",
       " 194: 129.47,\n",
       " 195: 132.87,\n",
       " 196: 138.5,\n",
       " 197: 143.86,\n",
       " 198: 143.81,\n",
       " 199: 139.99,\n",
       " 200: 145.32,\n",
       " 201: 146.41,\n",
       " 202: 139.64,\n",
       " 203: 143.01,\n",
       " 204: 141.11,\n",
       " 205: 141.23,\n",
       " 206: 139.04,\n",
       " 207: 137.26,\n",
       " 208: 138.58,\n",
       " 209: 140.0,\n",
       " 210: 143.21,\n",
       " 211: 143.78,\n",
       " 212: 144.51,\n",
       " 213: 144.71,\n",
       " 214: 148.48,\n",
       " 215: 151.9,\n",
       " 216: 150.85,\n",
       " 217: 146.21,\n",
       " 218: 146.93,\n",
       " 219: 145.48,\n",
       " 220: 147.71,\n",
       " 221: 145.62,\n",
       " 222: 147.62,\n",
       " 223: 147.97,\n",
       " 224: 146.53,\n",
       " 225: 145.75,\n",
       " 226: 149.28,\n",
       " 227: 150.29,\n",
       " 228: 150.44,\n",
       " 229: 149.62,\n",
       " 230: 154.8,\n",
       " 231: 155.84,\n",
       " 232: 156.81,\n",
       " 233: 151.05,\n",
       " 234: 147.78,\n",
       " 235: 147.9,\n",
       " 236: 148.32,\n",
       " 237: 146.6,\n",
       " 238: 143.74,\n",
       " 239: 145.66,\n",
       " 240: 149.45,\n",
       " 241: 148.5,\n",
       " 242: 148.72,\n",
       " 243: 146.03,\n",
       " 244: 145.48,\n",
       " 245: 145.64,\n",
       " 246: 142.7,\n",
       " 247: 141.88,\n",
       " 248: 144.72,\n",
       " 249: 141.86,\n",
       " 250: 142.68,\n",
       " 251: 142.41,\n",
       " 252: 139.86,\n",
       " 253: 139.86,\n",
       " 254: 136.87,\n",
       " 255: 139.65,\n",
       " 256: 141.14,\n",
       " 257: 141.15,\n",
       " 258: 141.65,\n",
       " 259: 144.08,\n",
       " 260: 143.49,\n",
       " 261: 142.86,\n",
       " 262: 142.98,\n",
       " 263: 144.08,\n",
       " 264: 143.41,\n",
       " 265: 147.29,\n",
       " 266: 147.55,\n",
       " 267: 149.4,\n",
       " 268: 154.72,\n",
       " 269: 155.68,\n",
       " 270: 151.35,\n",
       " 271: 151.16,\n",
       " 272: 149.95,\n",
       " 273: 151.74,\n",
       " 274: 153.8,\n",
       " 275: 155.79,\n",
       " 276: 155.53,\n",
       " 277: 157.52,\n",
       " 278: 156.98,\n",
       " 279: 156.81,\n",
       " 280: 152.85,\n",
       " 281: 154.66,\n",
       " 282: 158.07,\n",
       " 283: 159.18,\n",
       " 284: 155.34,\n",
       " 285: 155.2,\n",
       " 286: 156.22,\n",
       " 287: 156.34,\n",
       " 288: 155.17,\n",
       " 289: 152.9,\n",
       " 290: 150.33,\n",
       " 291: 148.57,\n",
       " 292: 147.92,\n",
       " 293: 152.35,\n",
       " 294: 151.49,\n",
       " 295: 154.2,\n",
       " 296: 151.45,\n",
       " 297: 169.78,\n",
       " 298: 174.15,\n",
       " 299: 173.28,\n",
       " 300: 177.54,\n",
       " 301: 176.35,\n",
       " 302: 178.91,\n",
       " 303: 185.88,\n",
       " 304: 189.5,\n",
       " 305: 189.65,\n",
       " 306: 192.78,\n",
       " 307: 195.02,\n",
       " 308: 197.32,\n",
       " 309: 194.76,\n",
       " 310: 189.39,\n",
       " 311: 195.35,\n",
       " 312: 195.0,\n",
       " 313: 198.29,\n",
       " 314: 196.2,\n",
       " 315: 198.88,\n",
       " 316: 201.52,\n",
       " 317: 199.9,\n",
       " 318: 204.48,\n",
       " 319: 208.03,\n",
       " 320: 211.22,\n",
       " 321: 214.1,\n",
       " 322: 211.53,\n",
       " 323: 201.57,\n",
       " 324: 202.25,\n",
       " 325: 206.84,\n",
       " 326: 208.64,\n",
       " 327: 202.72,\n",
       " 328: 202.07,\n",
       " 329: 201.91,\n",
       " 330: 205.12,\n",
       " 331: 204.4,\n",
       " 332: 206.1,\n",
       " 333: 208.54,\n",
       " 334: 209.27,\n",
       " 335: 211.05,\n",
       " 336: 214.86,\n",
       " 337: 212.09,\n",
       " 338: 214.66,\n",
       " 339: 212.95,\n",
       " 340: 215.8,\n",
       " 341: 215.25,\n",
       " 342: 212.11,\n",
       " 343: 213.13,\n",
       " 344: 209.86,\n",
       " 345: 207.22,\n",
       " 346: 217.4,\n",
       " 347: 222.4,\n",
       " 348: 225.39,\n",
       " 349: 232.6,\n",
       " 350: 233.22,\n",
       " 351: 234.65,\n",
       " 352: 235.58,\n",
       " 353: 231.58,\n",
       " 354: 232.89,\n",
       " 355: 233.32,\n",
       " 356: 222.23,\n",
       " 357: 218.0,\n",
       " 358: 199.53,\n",
       " 359: 213.54,\n",
       " 360: 221.29,\n",
       " 361: 216.28,\n",
       " 362: 216.92,\n",
       " 363: 216.53,\n",
       " 364: 213.2,\n",
       " 365: 216.11,\n",
       " 366: 200.69,\n",
       " 367: 197.82,\n",
       " 368: 190.59,\n",
       " 369: 192.36,\n",
       " 370: 183.78,\n",
       " 371: 184.36,\n",
       " 372: 179.21,\n",
       " 373: 181.12,\n",
       " 374: 172.68,\n",
       " 375: 171.49,\n",
       " 376: 171.02,\n",
       " 377: 183.05,\n",
       " 378: 184.19,\n",
       " 379: 183.11,\n",
       " 380: 182.56,\n",
       " 381: 188.85,\n",
       " 382: 188.51,\n",
       " 383: 194.99,\n",
       " 384: 181.13,\n",
       " 385: 182.22,\n",
       " 386: 188.04,\n",
       " 387: 188.9,\n",
       " 388: 183.87,\n",
       " 389: 182.04,\n",
       " 390: 176.76,\n",
       " 391: 171.33,\n",
       " 392: 168.58,\n",
       " 393: 168.36,\n",
       " 394: 175.4,\n",
       " 395: 172.08,\n",
       " 396: 169.22,\n",
       " 397: 169.73,\n",
       " 398: 173.92,\n",
       " 399: 169.79,\n",
       " 400: 169.94,\n",
       " 401: 170.77,\n",
       " 402: 182.72,\n",
       " 403: 184.66,\n",
       " 404: 188.41,\n",
       " 405: 197.29,\n",
       " 406: 194.03,\n",
       " 407: 194.8,\n",
       " 408: 194.66,\n",
       " 409: 201.97,\n",
       " 410: 203.79,\n",
       " 411: 205.38,\n",
       " 412: 202.88,\n",
       " 413: 207.98,\n",
       " 414: 204.63,\n",
       " 415: 204.27,\n",
       " 416: 200.88,\n",
       " 417: 203.21,\n",
       " 418: 201.92,\n",
       " 419: 205.04,\n",
       " 420: 207.29,\n",
       " 421: 218.33,\n",
       " 422: 220.03,\n",
       " 423: 213.37,\n",
       " 424: 212.77,\n",
       " 425: 209.8,\n",
       " 426: 208.76,\n",
       " 427: 199.25,\n",
       " 428: 197.2,\n",
       " 429: 196.89,\n",
       " 430: 197.18,\n",
       " 431: 196.95,\n",
       " 432: 197.19,\n",
       " 433: 204.2,\n",
       " 434: 201.29,\n",
       " 435: 193.31,\n",
       " 436: 186.88,\n",
       " 437: 187.91,\n",
       " 438: 185.46,\n",
       " 439: 187.06,\n",
       " 440: 185.31,\n",
       " 441: 184.82,\n",
       " 442: 185.29,\n",
       " 443: 187.6,\n",
       " 444: 190.43,\n",
       " 445: 191.3,\n",
       " 446: 190.48,\n",
       " 447: 185.78,\n",
       " 448: 185.72,\n",
       " 449: 191.12,\n",
       " 450: 189.53,\n",
       " 451: 187.03,\n",
       " 452: 194.8,\n",
       " 453: 193.06,\n",
       " 454: 196.45,\n",
       " 455: 193.09,\n",
       " 456: 190.58,\n",
       " 457: 193.07,\n",
       " 458: 192.0,\n",
       " 459: 195.3,\n",
       " 460: 195.15,\n",
       " 461: 193.88,\n",
       " 462: 193.39,\n",
       " 463: 200.86,\n",
       " 464: 199.78,\n",
       " 465: 202.23,\n",
       " 466: 201.91,\n",
       " 467: 200.96,\n",
       " 468: 202.85,\n",
       " 469: 208.7,\n",
       " 470: 209.46,\n",
       " 471: 211.39,\n",
       " 472: 210.52,\n",
       " 473: 211.38,\n",
       " 474: 210.01,\n",
       " 475: 208.89,\n",
       " 476: 212.07,\n",
       " 477: 208.42,\n",
       " 478: 204.21,\n",
       " 479: 201.55,\n",
       " 480: 203.74,\n",
       " 481: 201.32,\n",
       " 482: 199.3,\n",
       " 483: 193.37,\n",
       " 484: 194.86,\n",
       " 485: 195.25,\n",
       " 486: 194.49,\n",
       " 487: 192.56,\n",
       " 488: 191.01,\n",
       " 489: 193.87,\n",
       " 490: 193.11,\n",
       " 491: 187.57,\n",
       " 492: 183.43,\n",
       " 493: 187.51,\n",
       " 494: 186.74,\n",
       " 495: 188.79,\n",
       " 496: 190.31,\n",
       " 497: 188.28,\n",
       " 498: 186.91,\n",
       " 499: 184.07,\n",
       " 500: 184.53,\n",
       " 501: 190.29,\n",
       " 502: 193.67,\n",
       " 503: 192.71,\n",
       " 504: 191.49,\n",
       " 505: 188.46,\n",
       " 506: 188.96,\n",
       " 507: 186.53,\n",
       " 508: 186.68,\n",
       " 509: 186.44,\n",
       " 510: 190.28,\n",
       " 511: 189.29,\n",
       " 512: 190.18,\n",
       " 513: 189.08,\n",
       " 514: 189.11,\n",
       " 515: 191.99,\n",
       " 516: 189.88,\n",
       " 517: 189.06,\n",
       " 518: 188.74,\n",
       " 519: 191.85,\n",
       " 520: 195.75,\n",
       " 521: 203.08,\n",
       " 522: 201.79,\n",
       " 523: 204.74,\n",
       " 524: 207.14,\n",
       " 525: 201.7,\n",
       " 526: 198.3,\n",
       " 527: 203.22,\n",
       " 528: 201.69,\n",
       " 529: 201.79,\n",
       " 530: 203.23,\n",
       " 531: 201.26,\n",
       " 532: 201.59,\n",
       " 533: 200.75,\n",
       " 534: 200.52,\n",
       " 535: 201.82,\n",
       " 536: 207.64,\n",
       " 537: 205.7,\n",
       " 538: 210.04,\n",
       " 539: 214.29,\n",
       " 540: 213.11,\n",
       " 541: 213.04,\n",
       " 542: 213.51,\n",
       " 543: 213.44,\n",
       " 544: 210.66,\n",
       " 545: 210.11,\n",
       " 546: 209.44,\n",
       " 547: 212.82,\n",
       " 548: 229.61,\n",
       " 549: 240.15,\n",
       " 550: 236.42,\n",
       " 551: 243.06,\n",
       " 552: 242.31,\n",
       " 553: 237.36,\n",
       " 554: 238.05,\n",
       " 555: 237.96,\n",
       " 556: 233.52,\n",
       " 557: 234.72,\n",
       " 558: 235.66,\n",
       " 559: 238.24,\n",
       " 560: 236.05,\n",
       " 561: 237.26,\n",
       " 562: 236.08,\n",
       " 563: 236.54,\n",
       " 564: 240.27,\n",
       " 565: 244.41,\n",
       " 566: 245.72,\n",
       " 567: 247.7,\n",
       " 568: 249.15,\n",
       " 569: 247.28,\n",
       " 570: 254.57,\n",
       " 571: 253.75,\n",
       " 572: 252.2,\n",
       " 573: 242.13,\n",
       " 574: 244.51,\n",
       " 575: 242.08,\n",
       " 576: 242.16,\n",
       " 577: 240.16,\n",
       " 578: 242.18,\n",
       " 579: 243.26,\n",
       " 580: 244.11,\n",
       " 581: 241.08,\n",
       " 582: 241.81,\n",
       " 583: 241.72,\n",
       " 584: 240.65,\n",
       " 585: 239.26,\n",
       " 586: 240.82,\n",
       " 587: 239.91,\n",
       " 588: 231.17,\n",
       " 589: 234.08,\n",
       " 590: 231.22,\n",
       " 591: 227.87,\n",
       " 592: 227.56,\n",
       " 593: 228.54,\n",
       " 594: 233.78,\n",
       " 595: 231.05,\n",
       " 596: 230.01,\n",
       " 597: 233.56,\n",
       " 598: 241.39,\n",
       " 599: 243.35,\n",
       " 600: 241.55,\n",
       " 601: 242.51,\n",
       " 602: 244.49,\n",
       " 603: 249.61,\n",
       " 604: 252.25,\n",
       " 605: 251.89,\n",
       " 606: 248.39,\n",
       " 607: 243.67,\n",
       " 608: 244.63,\n",
       " 609: 240.18,\n",
       " 610: 239.29,\n",
       " 611: 249.28,\n",
       " 612: 243.8,\n",
       " 613: 247.67,\n",
       " 614: 245.99,\n",
       " 615: 246.91,\n",
       " 616: 250.5,\n",
       " 617: 240.63,\n",
       " 618: 240.51,\n",
       " 619: 233.35,\n",
       " 620: 235.5,\n",
       " 621: 234.77,\n",
       " 622: 235.28,\n",
       " 623: 230.71,\n",
       " 624: 228.92,\n",
       " 625: 229.32,\n",
       " 626: 232.73,\n",
       " 627: 230.5,\n",
       " 628: 234.74,\n",
       " 629: 235.81,\n",
       " 630: 237.69,\n",
       " 631: 237.69,\n",
       " 632: 235.07,\n",
       " 633: 232.23,\n",
       " 634: 224.16,\n",
       " 635: 224.5,\n",
       " 636: 223.89,\n",
       " 637: 219.12,\n",
       " 638: 220.25,\n",
       " 639: 228.55,\n",
       " 640: 227.59,\n",
       " 641: 227.13,\n",
       " 642: 226.25,\n",
       " 643: 227.15,\n",
       " 644: 221.29,\n",
       " 645: 223.78,\n",
       " 646: 222.87,\n",
       " 647: 220.2,\n",
       " 648: 223.39,\n",
       " 649: 222.42,\n",
       " 650: 228.05,\n",
       " 651: 230.79,\n",
       " 652: 230.68,\n",
       " 653: 232.27,\n",
       " 654: 231.58,\n",
       " 655: 230.71,\n",
       " 656: 230.23,\n",
       " 657: 228.85,\n",
       " 658: 229.04,\n",
       " 659: 236.06,\n",
       " 660: 235.27,\n",
       " 661: 235.52,\n",
       " 662: 233.87,\n",
       " 663: 233.02,\n",
       " 664: 232.03,\n",
       " 665: 233.46,\n",
       " 666: 232.91,\n",
       " 667: 236.9,\n",
       " 668: 236.16,\n",
       " 669: 237.77,\n",
       " 670: 235.59,\n",
       " 671: 241.0,\n",
       " 672: 239.3,\n",
       " 673: 238.53,\n",
       " 674: 238.76,\n",
       " 675: 240.35,\n",
       " 676: 239.27,\n",
       " 677: 235.45,\n",
       " 678: 234.27,\n",
       " 679: 232.66,\n",
       " 680: 236.38,\n",
       " 681: 235.32,\n",
       " 682: 233.4,\n",
       " 683: 233.17,\n",
       " 684: 234.39,\n",
       " 685: 230.5,\n",
       " 686: 233.14,\n",
       " 687: 230.66,\n",
       " 688: 228.77,\n",
       " 689: 236.07,\n",
       " 690: 235.24,\n",
       " 691: 234.92,\n",
       " 692: 235.06,\n",
       " 693: 237.69,\n",
       " 694: 236.75,\n",
       " 695: 236.93,\n",
       " 696: 241.52,\n",
       " 697: 243.31,\n",
       " 698: 249.05,\n",
       " 699: 248.71,\n",
       " 700: 249.95,\n",
       " 701: 253.28,\n",
       " 702: 259.16,\n",
       " 703: 258.87,\n",
       " 704: 257.27,\n",
       " 705: 257.49,\n",
       " 706: 255.41,\n",
       " 707: 252.13,\n",
       " 708: 252.37,\n",
       " 709: 251.17,\n",
       " 710: 252.69,\n",
       " 711: 257.34,\n",
       " 712: 256.9,\n",
       " 713: 254.73,\n",
       " 714: 256.8,\n",
       " 715: 262.23,\n",
       " 716: 263.45,\n",
       " 717: 264.86,\n",
       " 718: 262.88,\n",
       " 719: 262.24,\n",
       " 720: 261.09,\n",
       " 721: 264.92,\n",
       " 722: 266.9,\n",
       " 723: 270.54,\n",
       " 724: 269.43,\n",
       " 725: 271.01,\n",
       " 726: 271.4,\n",
       " 727: 271.96,\n",
       " 728: 272.39,\n",
       " 729: 275.8,\n",
       " 730: 276.22,\n",
       " 731: 277.22,\n",
       " 732: 274.48,\n",
       " 733: 274.02,\n",
       " 734: 259.8,\n",
       " 735: 256.0,\n",
       " 736: 256.74,\n",
       " 737: 254.63,\n",
       " 738: 253.75,\n",
       " 739: 255.69,\n",
       " 740: 257.8,\n",
       " 741: 254.74,\n",
       " 742: 256.21,\n",
       " 743: 255.25,\n",
       " 744: 251.25,\n",
       " 745: 254.74,\n",
       " 746: 257.75,\n",
       " 747: 262.63,\n",
       " 748: 257.11,\n",
       " 749: 257.62,\n",
       " 750: 257.49,\n",
       " 751: 254.05,\n",
       " 752: 248.53,\n",
       " 753: 245.51,\n",
       " 754: 249.77,\n",
       " 755: 248.71,\n",
       " 756: 253.05,\n",
       " 757: 256.12,\n",
       " 758: 255.84,\n",
       " 759: 257.24,\n",
       " 760: 256.37,\n",
       " 761: 252.95,\n",
       " 762: 256.18,\n",
       " 763: 255.44,\n",
       " 764: 257.37,\n",
       " 765: 262.31,\n",
       " 766: 263.64,\n",
       " 767: 261.5,\n",
       " 768: 259.42,\n",
       " 769: 256.98,\n",
       " 770: 260.4,\n",
       " 771: 261.06,\n",
       " 772: 262.13,\n",
       " 773: 264.11,\n",
       " 774: 262.39,\n",
       " 775: 267.37,\n",
       " 776: 273.15,\n",
       " 777: 276.14,\n",
       " 778: 279.77,\n",
       " 779: 283.73,\n",
       " 780: 284.22,\n",
       " 781: 283.8,\n",
       " 782: 283.47,\n",
       " 783: 283.35,\n",
       " 784: 290.98,\n",
       " 785: 291.9,\n",
       " 786: 291.72,\n",
       " 787: 289.23,\n",
       " 788: 296.73,\n",
       " 789: 304.51,\n",
       " 790: 307.28,\n",
       " 791: 312.38,\n",
       " 792: 310.69,\n",
       " 793: 318.38,\n",
       " 794: 309.74,\n",
       " 795: 307.69,\n",
       " 796: 316.42,\n",
       " 797: 319.49,\n",
       " 798: 322.03,\n",
       " 799: 325.05,\n",
       " 800: 337.55,\n",
       " 801: 337.57,\n",
       " 802: 333.92,\n",
       " 803: 336.96,\n",
       " 804: 339.28,\n",
       " 805: 347.04,\n",
       " 806: 353.15,\n",
       " 807: 351.25,\n",
       " 808: 355.27,\n",
       " 809: 362.46,\n",
       " 810: 370.52,\n",
       " 811: 366.1,\n",
       " 812: 346.57,\n",
       " 813: 331.65,\n",
       " 814: 315.72,\n",
       " 815: 329.94,\n",
       " 816: 320.52,\n",
       " 817: 314.51,\n",
       " 818: 316.5,\n",
       " 819: 312.61,\n",
       " 820: 323.95,\n",
       " 821: 329.93,\n",
       " 822: 338.01,\n",
       " 823: 332.7,\n",
       " 824: 336.45,\n",
       " 825: 345.78,\n",
       " 826: 348.15,\n",
       " 827: 346.15,\n",
       " 828: 340.42,\n",
       " 829: 341.74,\n",
       " 830: 348.91,\n",
       " 831: 357.27,\n",
       " 832: 357.08,\n",
       " 833: 358.85,\n",
       " 834: 349.25,\n",
       " 835: 349.33,\n",
       " 836: 346.68,\n",
       " 837: 344.64,\n",
       " 838: 334.28,\n",
       " 839: 336.34,\n",
       " 840: 338.35,\n",
       " 841: 344.5,\n",
       " 842: 348.0,\n",
       " 843: 350.01,\n",
       " 844: 355.06,\n",
       " 845: 350.02,\n",
       " 846: 350.91,\n",
       " 847: 345.39,\n",
       " 848: 342.25,\n",
       " 849: 342.32,\n",
       " 850: 328.17,\n",
       " 851: 324.3,\n",
       " 852: 315.52,\n",
       " 853: 326.27,\n",
       " 854: 323.04,\n",
       " 855: 318.81,\n",
       " 856: 326.58,\n",
       " 857: 318.51,\n",
       " 858: 307.67,\n",
       " 859: 300.09,\n",
       " 860: 299.82,\n",
       " 861: 291.88,\n",
       " 862: 274.04,\n",
       " 863: 286.96,\n",
       " 864: 282.92,\n",
       " 865: 277.71,\n",
       " 866: 274.98,\n",
       " 867: 273.86,\n",
       " 868: 281.87,\n",
       " 869: 257.69,\n",
       " 870: 247.47,\n",
       " 871: 253.15,\n",
       " 872: 250.6,\n",
       " 873: 252.22,\n",
       " 874: 258.09,\n",
       " 875: 260.32,\n",
       " 876: 258.79,\n",
       " 877: 267.04,\n",
       " 878: 265.86,\n",
       " 879: 264.56,\n",
       " 880: 254.22,\n",
       " 881: 254.25,\n",
       " 882: 251.18,\n",
       " 883: 253.65,\n",
       " 884: 242.98,\n",
       " 885: 231.86,\n",
       " 886: 236.19,\n",
       " 887: 237.46,\n",
       " 888: 235.35,\n",
       " 889: 228.28,\n",
       " 890: 222.08,\n",
       " 891: 223.63,\n",
       " 892: 216.13,\n",
       " 893: 216.46,\n",
       " 894: 206.6,\n",
       " 895: 219.7,\n",
       " 896: 219.87,\n",
       " 897: 221.28,\n",
       " 898: 218.74,\n",
       " 899: 209.73,\n",
       " 900: 219.36,\n",
       " 901: 215.78,\n",
       " 902: 216.56,\n",
       " 903: 230.05,\n",
       " 904: 225.16,\n",
       " 905: 228.87,\n",
       " 906: 221.82,\n",
       " 907: 218.82,\n",
       " 908: 220.01,\n",
       " 909: 232.62,\n",
       " 910: 232.62,\n",
       " 911: 227.33,\n",
       " 912: 235.31,\n",
       " 913: 238.17,\n",
       " 914: 233.67,\n",
       " 915: 231.86,\n",
       " 916: 234.3,\n",
       " 917: 228.5,\n",
       " 918: 225.6,\n",
       " 919: 223.2,\n",
       " 920: 227.29,\n",
       " 921: 224.55,\n",
       " 922: 269.44,\n",
       " 923: 268.63,\n",
       " 924: 277.22,\n",
       " 925: 272.97,\n",
       " 926: 271.25,\n",
       " 927: 271.76,\n",
       " 928: 275.78,\n",
       " 929: 278.96,\n",
       " 930: 286.86,\n",
       " 931: 296.24,\n",
       " 932: 290.35,\n",
       " 933: 297.15,\n",
       " 934: 292.89,\n",
       " 935: 289.21,\n",
       " 936: 291.21,\n",
       " 937: 286.3,\n",
       " 938: 292.18,\n",
       " 939: 291.21,\n",
       " 940: 287.86,\n",
       " 941: 290.21,\n",
       " 942: 289.74,\n",
       " 943: 288.47,\n",
       " 944: 289.01,\n",
       " 945: 274.72,\n",
       " 946: 274.46,\n",
       " 947: 272.04,\n",
       " 948: 280.17,\n",
       " 949: 283.84,\n",
       " 950: 291.21,\n",
       " 951: 292.61,\n",
       " 952: 287.21,\n",
       " 953: 283.37,\n",
       " 954: 285.82,\n",
       " 955: 292.86,\n",
       " 956: 283.22,\n",
       " 957: 278.66,\n",
       " 958: 276.81,\n",
       " 959: 272.33,\n",
       " 960: 276.2,\n",
       " 961: 285.47,\n",
       " 962: 286.12,\n",
       " 963: 284.45,\n",
       " 964: 280.91,\n",
       " 965: 279.82,\n",
       " 966: 272.94,\n",
       " 967: 272.33,\n",
       " 968: 270.88,\n",
       " 969: 275.22,\n",
       " 970: 264.15,\n",
       " 971: 263.77,\n",
       " 972: 262.95,\n",
       " 973: 267.1,\n",
       " 974: 263.26,\n",
       " 975: 268.23,\n",
       " 976: 271.68,\n",
       " 977: 276.99,\n",
       " 978: 270.5,\n",
       " 979: 270.02,\n",
       " 980: 266.63,\n",
       " 981: 260.55,\n",
       " 982: 257.79,\n",
       " 983: 267.53,\n",
       " 984: 266.45,\n",
       " 985: 240.42,\n",
       " 986: 234.17,\n",
       " 987: 238.32,\n",
       " 988: 244.37,\n",
       " 989: 237.57,\n",
       " 990: 245.74,\n",
       " 991: 238.32,\n",
       " 992: 241.31,\n",
       " 993: 241.11,\n",
       " 994: 236.64,\n",
       " 995: 233.7,\n",
       " 996: 231.27,\n",
       " 997: 239.69,\n",
       " 998: 242.93,\n",
       " 999: 239.32,\n",
       " ...}"
      ]
     },
     "execution_count": 15,
     "metadata": {},
     "output_type": "execute_result"
    }
   ],
   "source": [
    "dict(google)"
   ]
  },
  {
   "cell_type": "code",
   "execution_count": 26,
   "id": "f901cec8",
   "metadata": {},
   "outputs": [
    {
     "data": {
      "text/plain": [
       "'Zygarde'"
      ]
     },
     "execution_count": 26,
     "metadata": {},
     "output_type": "execute_result"
    }
   ],
   "source": [
    "max(pokemon)"
   ]
  },
  {
   "cell_type": "code",
   "execution_count": 27,
   "id": "bf1f1b70",
   "metadata": {},
   "outputs": [
    {
     "data": {
      "text/plain": [
       "782.22"
      ]
     },
     "execution_count": 27,
     "metadata": {},
     "output_type": "execute_result"
    }
   ],
   "source": [
    "max(google)"
   ]
  },
  {
   "cell_type": "code",
   "execution_count": 28,
   "id": "ce2b3bc0",
   "metadata": {},
   "outputs": [
    {
     "data": {
      "text/plain": [
       "49.95"
      ]
     },
     "execution_count": 28,
     "metadata": {},
     "output_type": "execute_result"
    }
   ],
   "source": [
    "min(google\n",
    "   )"
   ]
  },
  {
   "cell_type": "markdown",
   "id": "7566eacc",
   "metadata": {},
   "source": [
    "# more series attributes"
   ]
  },
  {
   "cell_type": "code",
   "execution_count": 31,
   "id": "f7775f31",
   "metadata": {},
   "outputs": [
    {
     "data": {
      "text/plain": [
       "array([ 50.12,  54.1 ,  54.65, ..., 773.18, 771.61, 782.22])"
      ]
     },
     "execution_count": 31,
     "metadata": {},
     "output_type": "execute_result"
    }
   ],
   "source": [
    "pokemon.values\n",
    "google.values"
   ]
  },
  {
   "cell_type": "code",
   "execution_count": 33,
   "id": "96d71ca4",
   "metadata": {},
   "outputs": [
    {
     "data": {
      "text/plain": [
       "RangeIndex(start=0, stop=3012, step=1)"
      ]
     },
     "execution_count": 33,
     "metadata": {},
     "output_type": "execute_result"
    }
   ],
   "source": [
    "pokemon.index\n",
    "google.index"
   ]
  },
  {
   "cell_type": "code",
   "execution_count": 34,
   "id": "9c350114",
   "metadata": {},
   "outputs": [
    {
     "data": {
      "text/plain": [
       "dtype('float64')"
      ]
     },
     "execution_count": 34,
     "metadata": {},
     "output_type": "execute_result"
    }
   ],
   "source": [
    "google.dtype"
   ]
  },
  {
   "cell_type": "code",
   "execution_count": 36,
   "id": "9feb6fea",
   "metadata": {},
   "outputs": [
    {
     "data": {
      "text/plain": [
       "False"
      ]
     },
     "execution_count": 36,
     "metadata": {},
     "output_type": "execute_result"
    }
   ],
   "source": [
    "pokemon.is_unique\n",
    "google.is_unique"
   ]
  },
  {
   "cell_type": "code",
   "execution_count": 37,
   "id": "c0743519",
   "metadata": {},
   "outputs": [
    {
     "data": {
      "text/plain": [
       "1"
      ]
     },
     "execution_count": 37,
     "metadata": {},
     "output_type": "execute_result"
    }
   ],
   "source": [
    "pokemon.ndim"
   ]
  },
  {
   "cell_type": "code",
   "execution_count": 38,
   "id": "f01673c2",
   "metadata": {},
   "outputs": [
    {
     "data": {
      "text/plain": [
       "(721,)"
      ]
     },
     "execution_count": 38,
     "metadata": {},
     "output_type": "execute_result"
    }
   ],
   "source": [
    "pokemon.shape"
   ]
  },
  {
   "cell_type": "code",
   "execution_count": 39,
   "id": "40595824",
   "metadata": {},
   "outputs": [
    {
     "data": {
      "text/plain": [
       "721"
      ]
     },
     "execution_count": 39,
     "metadata": {},
     "output_type": "execute_result"
    }
   ],
   "source": [
    "pokemon.size"
   ]
  },
  {
   "cell_type": "code",
   "execution_count": 40,
   "id": "d5246245",
   "metadata": {},
   "outputs": [
    {
     "data": {
      "text/plain": [
       "'Pokemon'"
      ]
     },
     "execution_count": 40,
     "metadata": {},
     "output_type": "execute_result"
    }
   ],
   "source": [
    "pokemon.name"
   ]
  },
  {
   "cell_type": "code",
   "execution_count": 41,
   "id": "845dfc97",
   "metadata": {
    "collapsed": true
   },
   "outputs": [
    {
     "data": {
      "text/plain": [
       "0       Bulbasaur\n",
       "1         Ivysaur\n",
       "2        Venusaur\n",
       "3      Charmander\n",
       "4      Charmeleon\n",
       "          ...    \n",
       "716       Yveltal\n",
       "717       Zygarde\n",
       "718       Diancie\n",
       "719         Hoopa\n",
       "720     Volcanion\n",
       "Name: Pokemon, Length: 721, dtype: object"
      ]
     },
     "execution_count": 41,
     "metadata": {},
     "output_type": "execute_result"
    }
   ],
   "source": [
    "pokemon"
   ]
  },
  {
   "cell_type": "code",
   "execution_count": 42,
   "id": "01534bbb",
   "metadata": {},
   "outputs": [],
   "source": [
    "pokemon.name=\"monsters\""
   ]
  },
  {
   "cell_type": "code",
   "execution_count": 43,
   "id": "1f19d020",
   "metadata": {
    "collapsed": true
   },
   "outputs": [
    {
     "data": {
      "text/plain": [
       "0       Bulbasaur\n",
       "1         Ivysaur\n",
       "2        Venusaur\n",
       "3      Charmander\n",
       "4      Charmeleon\n",
       "          ...    \n",
       "716       Yveltal\n",
       "717       Zygarde\n",
       "718       Diancie\n",
       "719         Hoopa\n",
       "720     Volcanion\n",
       "Name: monsters, Length: 721, dtype: object"
      ]
     },
     "execution_count": 43,
     "metadata": {},
     "output_type": "execute_result"
    }
   ],
   "source": [
    "pokemon"
   ]
  },
  {
   "cell_type": "code",
   "execution_count": 44,
   "id": "00b898d8",
   "metadata": {
    "collapsed": true
   },
   "outputs": [
    {
     "data": {
      "text/plain": [
       "0       Bulbasaur\n",
       "1         Ivysaur\n",
       "2        Venusaur\n",
       "3      Charmander\n",
       "4      Charmeleon\n",
       "          ...    \n",
       "716       Yveltal\n",
       "717       Zygarde\n",
       "718       Diancie\n",
       "719         Hoopa\n",
       "720     Volcanion\n",
       "Name: monsters, Length: 721, dtype: object"
      ]
     },
     "execution_count": 44,
     "metadata": {},
     "output_type": "execute_result"
    }
   ],
   "source": [
    "pokemon"
   ]
  },
  {
   "cell_type": "markdown",
   "id": "565909b0",
   "metadata": {},
   "source": [
    "# Sort_values method"
   ]
  },
  {
   "cell_type": "code",
   "execution_count": 46,
   "id": "e0c3846d",
   "metadata": {},
   "outputs": [
    {
     "data": {
      "text/plain": [
       "459    Abomasnow\n",
       "62          Abra\n",
       "358        Absol\n",
       "616     Accelgor\n",
       "680    Aegislash\n",
       "Name: monsters, dtype: object"
      ]
     },
     "execution_count": 46,
     "metadata": {},
     "output_type": "execute_result"
    }
   ],
   "source": [
    "pokemon.sort_values().head()"
   ]
  },
  {
   "cell_type": "code",
   "execution_count": 49,
   "id": "13f21192",
   "metadata": {},
   "outputs": [
    {
     "data": {
      "text/plain": [
       "680    Aegislash\n",
       "616     Accelgor\n",
       "358        Absol\n",
       "62          Abra\n",
       "459    Abomasnow\n",
       "Name: monsters, dtype: object"
      ]
     },
     "execution_count": 49,
     "metadata": {},
     "output_type": "execute_result"
    }
   ],
   "source": [
    "pokemon.sort_values(ascending=False).tail()"
   ]
  },
  {
   "cell_type": "code",
   "execution_count": 51,
   "id": "5bf28e59",
   "metadata": {},
   "outputs": [
    {
     "data": {
      "text/plain": [
       "3011    782.22\n",
       "2859    776.60\n",
       "3009    773.18\n",
       "3007    772.88\n",
       "3010    771.61\n",
       "         ...  \n",
       "12       50.74\n",
       "10       50.70\n",
       "0        50.12\n",
       "9        50.07\n",
       "11       49.95\n",
       "Name: Stock Price, Length: 3012, dtype: float64"
      ]
     },
     "execution_count": 51,
     "metadata": {},
     "output_type": "execute_result"
    }
   ],
   "source": [
    "google.sort_values(ascending=False)"
   ]
  },
  {
   "cell_type": "markdown",
   "id": "b1a82254",
   "metadata": {},
   "source": [
    "# Inplace parameter"
   ]
  },
  {
   "cell_type": "code",
   "execution_count": 52,
   "id": "5a852301",
   "metadata": {},
   "outputs": [
    {
     "data": {
      "text/plain": [
       "11       49.95\n",
       "9        50.07\n",
       "0        50.12\n",
       "10       50.70\n",
       "12       50.74\n",
       "         ...  \n",
       "3010    771.61\n",
       "3007    772.88\n",
       "3009    773.18\n",
       "2859    776.60\n",
       "3011    782.22\n",
       "Name: Stock Price, Length: 3012, dtype: float64"
      ]
     },
     "execution_count": 52,
     "metadata": {},
     "output_type": "execute_result"
    }
   ],
   "source": [
    "google.sort_values()"
   ]
  },
  {
   "cell_type": "code",
   "execution_count": 55,
   "id": "5a581b76",
   "metadata": {},
   "outputs": [],
   "source": [
    "google = google.sort_index()"
   ]
  },
  {
   "cell_type": "code",
   "execution_count": 56,
   "id": "fa85f8cc",
   "metadata": {},
   "outputs": [
    {
     "data": {
      "text/plain": [
       "0        50.12\n",
       "1        54.10\n",
       "2        54.65\n",
       "3        52.38\n",
       "4        52.95\n",
       "         ...  \n",
       "3007    772.88\n",
       "3008    771.07\n",
       "3009    773.18\n",
       "3010    771.61\n",
       "3011    782.22\n",
       "Name: Stock Price, Length: 3012, dtype: float64"
      ]
     },
     "execution_count": 56,
     "metadata": {},
     "output_type": "execute_result"
    }
   ],
   "source": [
    "google"
   ]
  },
  {
   "cell_type": "code",
   "execution_count": 62,
   "id": "d74e77ce",
   "metadata": {},
   "outputs": [
    {
     "data": {
      "text/plain": [
       "3011    782.22\n",
       "2859    776.60\n",
       "3009    773.18\n",
       "3007    772.88\n",
       "3010    771.61\n",
       "         ...  \n",
       "12       50.74\n",
       "10       50.70\n",
       "0        50.12\n",
       "9        50.07\n",
       "11       49.95\n",
       "Name: Stock Price, Length: 3012, dtype: float64"
      ]
     },
     "execution_count": 62,
     "metadata": {},
     "output_type": "execute_result"
    }
   ],
   "source": [
    "google"
   ]
  },
  {
   "cell_type": "code",
   "execution_count": 61,
   "id": "f967e9f2",
   "metadata": {},
   "outputs": [],
   "source": [
    "google.sort_values(ascending=False,inplace=True)"
   ]
  },
  {
   "cell_type": "code",
   "execution_count": 63,
   "id": "8cc8e9a2",
   "metadata": {},
   "outputs": [
    {
     "data": {
      "text/plain": [
       "3011    782.22\n",
       "2859    776.60\n",
       "3009    773.18\n",
       "3007    772.88\n",
       "3010    771.61\n",
       "         ...  \n",
       "12       50.74\n",
       "10       50.70\n",
       "0        50.12\n",
       "9        50.07\n",
       "11       49.95\n",
       "Name: Stock Price, Length: 3012, dtype: float64"
      ]
     },
     "execution_count": 63,
     "metadata": {},
     "output_type": "execute_result"
    }
   ],
   "source": [
    "google"
   ]
  },
  {
   "cell_type": "markdown",
   "id": "85073253",
   "metadata": {},
   "source": [
    "# Sort index()"
   ]
  },
  {
   "cell_type": "code",
   "execution_count": 64,
   "id": "00203b00",
   "metadata": {},
   "outputs": [
    {
     "data": {
      "text/plain": [
       "0        50.12\n",
       "1        54.10\n",
       "2        54.65\n",
       "3        52.38\n",
       "4        52.95\n",
       "         ...  \n",
       "3007    772.88\n",
       "3008    771.07\n",
       "3009    773.18\n",
       "3010    771.61\n",
       "3011    782.22\n",
       "Name: Stock Price, Length: 3012, dtype: float64"
      ]
     },
     "execution_count": 64,
     "metadata": {},
     "output_type": "execute_result"
    }
   ],
   "source": [
    "google.sort_index()"
   ]
  },
  {
   "cell_type": "code",
   "execution_count": 66,
   "id": "6ea4aae0",
   "metadata": {},
   "outputs": [
    {
     "data": {
      "text/plain": [
       "3011    782.22\n",
       "2859    776.60\n",
       "3009    773.18\n",
       "3007    772.88\n",
       "3010    771.61\n",
       "         ...  \n",
       "12       50.74\n",
       "10       50.70\n",
       "0        50.12\n",
       "9        50.07\n",
       "11       49.95\n",
       "Name: Stock Price, Length: 3012, dtype: float64"
      ]
     },
     "execution_count": 66,
     "metadata": {},
     "output_type": "execute_result"
    }
   ],
   "source": [
    "google"
   ]
  },
  {
   "cell_type": "markdown",
   "id": "e49ebca2",
   "metadata": {},
   "source": [
    "# in parameter"
   ]
  },
  {
   "cell_type": "code",
   "execution_count": 67,
   "id": "aaed14a5",
   "metadata": {},
   "outputs": [],
   "source": [
    "pokemon=pd.read_csv(\"pokemon.csv\",usecols=[\"Pokemon\"],squeeze=True)\n",
    "google=pd.read_csv(\"google_stock_price.csv\", squeeze=True)"
   ]
  },
  {
   "cell_type": "code",
   "execution_count": 69,
   "id": "f4e3cfa2",
   "metadata": {},
   "outputs": [
    {
     "data": {
      "text/plain": [
       "0        50.12\n",
       "1        54.10\n",
       "2        54.65\n",
       "3        52.38\n",
       "4        52.95\n",
       "         ...  \n",
       "3007    772.88\n",
       "3008    771.07\n",
       "3009    773.18\n",
       "3010    771.61\n",
       "3011    782.22\n",
       "Name: Stock Price, Length: 3012, dtype: float64"
      ]
     },
     "execution_count": 69,
     "metadata": {},
     "output_type": "execute_result"
    }
   ],
   "source": [
    "pokemon\n",
    "google"
   ]
  },
  {
   "cell_type": "code",
   "execution_count": 70,
   "id": "ec794afc",
   "metadata": {},
   "outputs": [
    {
     "data": {
      "text/plain": [
       "True"
      ]
     },
     "execution_count": 70,
     "metadata": {},
     "output_type": "execute_result"
    }
   ],
   "source": [
    "2 in [1,3,5,2]"
   ]
  },
  {
   "cell_type": "code",
   "execution_count": 71,
   "id": "5d90eaa1",
   "metadata": {},
   "outputs": [
    {
     "data": {
      "text/plain": [
       "False"
      ]
     },
     "execution_count": 71,
     "metadata": {},
     "output_type": "execute_result"
    }
   ],
   "source": [
    "2 in [1,3,5]"
   ]
  },
  {
   "cell_type": "code",
   "execution_count": 72,
   "id": "d7c3c1cf",
   "metadata": {},
   "outputs": [
    {
     "data": {
      "text/plain": [
       "0    Bulbasaur\n",
       "1      Ivysaur\n",
       "2     Venusaur\n",
       "Name: Pokemon, dtype: object"
      ]
     },
     "execution_count": 72,
     "metadata": {},
     "output_type": "execute_result"
    }
   ],
   "source": [
    "pokemon.head(3)"
   ]
  },
  {
   "cell_type": "code",
   "execution_count": 73,
   "id": "bdd5bd4b",
   "metadata": {},
   "outputs": [
    {
     "data": {
      "text/plain": [
       "False"
      ]
     },
     "execution_count": 73,
     "metadata": {},
     "output_type": "execute_result"
    }
   ],
   "source": [
    "\"Bulbasaur\" in pokemon"
   ]
  },
  {
   "cell_type": "code",
   "execution_count": 74,
   "id": "5f1439e5",
   "metadata": {},
   "outputs": [
    {
     "data": {
      "text/plain": [
       "True"
      ]
     },
     "execution_count": 74,
     "metadata": {},
     "output_type": "execute_result"
    }
   ],
   "source": [
    "\"Bulbasaur\" in pokemon.values"
   ]
  },
  {
   "cell_type": "markdown",
   "id": "6189a9b7",
   "metadata": {},
   "source": [
    "# Extract values based on index from series"
   ]
  },
  {
   "cell_type": "code",
   "execution_count": 76,
   "id": "76778ad4",
   "metadata": {},
   "outputs": [
    {
     "data": {
      "text/plain": [
       "'Bulbasaur'"
      ]
     },
     "execution_count": 76,
     "metadata": {},
     "output_type": "execute_result"
    }
   ],
   "source": [
    "pokemon[0]"
   ]
  },
  {
   "cell_type": "code",
   "execution_count": 77,
   "id": "5116a36f",
   "metadata": {},
   "outputs": [
    {
     "data": {
      "text/plain": [
       "0      Bulbasaur\n",
       "3     Charmander\n",
       "10       Metapod\n",
       "Name: Pokemon, dtype: object"
      ]
     },
     "execution_count": 77,
     "metadata": {},
     "output_type": "execute_result"
    }
   ],
   "source": [
    "pokemon[[0,3,10]]"
   ]
  },
  {
   "cell_type": "code",
   "execution_count": 78,
   "id": "dd0e5245",
   "metadata": {},
   "outputs": [
    {
     "data": {
      "text/plain": [
       "10       Metapod\n",
       "11    Butterfree\n",
       "12        Weedle\n",
       "13        Kakuna\n",
       "14      Beedrill\n",
       "15        Pidgey\n",
       "16     Pidgeotto\n",
       "17       Pidgeot\n",
       "18       Rattata\n",
       "19      Raticate\n",
       "Name: Pokemon, dtype: object"
      ]
     },
     "execution_count": 78,
     "metadata": {},
     "output_type": "execute_result"
    }
   ],
   "source": [
    "pokemon[10:20]"
   ]
  },
  {
   "cell_type": "code",
   "execution_count": 79,
   "id": "e9c29ae1",
   "metadata": {},
   "outputs": [
    {
     "data": {
      "text/plain": [
       "0      Bulbasaur\n",
       "1        Ivysaur\n",
       "2       Venusaur\n",
       "3     Charmander\n",
       "4     Charmeleon\n",
       "5      Charizard\n",
       "6       Squirtle\n",
       "7      Wartortle\n",
       "8      Blastoise\n",
       "9       Caterpie\n",
       "10       Metapod\n",
       "11    Butterfree\n",
       "12        Weedle\n",
       "13        Kakuna\n",
       "14      Beedrill\n",
       "15        Pidgey\n",
       "16     Pidgeotto\n",
       "17       Pidgeot\n",
       "18       Rattata\n",
       "19      Raticate\n",
       "Name: Pokemon, dtype: object"
      ]
     },
     "execution_count": 79,
     "metadata": {},
     "output_type": "execute_result"
    }
   ],
   "source": [
    "pokemon[:20]"
   ]
  },
  {
   "cell_type": "code",
   "execution_count": 80,
   "id": "1aeb1246",
   "metadata": {},
   "outputs": [
    {
     "data": {
      "text/plain": [
       "701      Dedenne\n",
       "702      Carbink\n",
       "703        Goomy\n",
       "704      Sliggoo\n",
       "705       Goodra\n",
       "706       Klefki\n",
       "707     Phantump\n",
       "708    Trevenant\n",
       "709    Pumpkaboo\n",
       "710    Gourgeist\n",
       "711     Bergmite\n",
       "712      Avalugg\n",
       "713       Noibat\n",
       "714      Noivern\n",
       "715      Xerneas\n",
       "716      Yveltal\n",
       "717      Zygarde\n",
       "718      Diancie\n",
       "719        Hoopa\n",
       "720    Volcanion\n",
       "Name: Pokemon, dtype: object"
      ]
     },
     "execution_count": 80,
     "metadata": {},
     "output_type": "execute_result"
    }
   ],
   "source": [
    "pokemon.tail(20)"
   ]
  },
  {
   "cell_type": "code",
   "execution_count": 81,
   "id": "94dd60f3",
   "metadata": {},
   "outputs": [
    {
     "data": {
      "text/plain": [
       "711    Bergmite\n",
       "712     Avalugg\n",
       "713      Noibat\n",
       "714     Noivern\n",
       "715     Xerneas\n",
       "Name: Pokemon, dtype: object"
      ]
     },
     "execution_count": 81,
     "metadata": {},
     "output_type": "execute_result"
    }
   ],
   "source": [
    "pokemon[-10:-5]"
   ]
  },
  {
   "cell_type": "code",
   "execution_count": 135,
   "id": "2b79baaa",
   "metadata": {},
   "outputs": [
    {
     "data": {
      "text/plain": [
       "Pokemon\n",
       "Clauncher        Water\n",
       "Clawitzer        Water\n",
       "Helioptile    Electric\n",
       "Heliolisk     Electric\n",
       "Tyrunt            Rock\n",
       "Tyrantrum         Rock\n",
       "Amaura            Rock\n",
       "Aurorus           Rock\n",
       "Sylveon          Fairy\n",
       "Hawlucha      Fighting\n",
       "Dedenne       Electric\n",
       "Carbink           Rock\n",
       "Goomy           Dragon\n",
       "Sliggoo         Dragon\n",
       "Goodra          Dragon\n",
       "Klefki           Steel\n",
       "Phantump         Ghost\n",
       "Trevenant        Ghost\n",
       "Pumpkaboo        Ghost\n",
       "Gourgeist        Ghost\n",
       "Bergmite           Ice\n",
       "Avalugg            Ice\n",
       "Noibat          Flying\n",
       "Noivern         Flying\n",
       "Xerneas          Fairy\n",
       "Name: Type, dtype: object"
      ]
     },
     "execution_count": 135,
     "metadata": {},
     "output_type": "execute_result"
    }
   ],
   "source": [
    "pokemon[-30:-5]"
   ]
  },
  {
   "cell_type": "markdown",
   "id": "edad9368",
   "metadata": {},
   "source": [
    "# Extract values by index Labels"
   ]
  },
  {
   "cell_type": "code",
   "execution_count": 86,
   "id": "81a0c6b8",
   "metadata": {},
   "outputs": [],
   "source": [
    "pokemon=pd.read_csv(\"pokemon.csv\",index_col=\"Pokemon\", squeeze=True)#making column as index"
   ]
  },
  {
   "cell_type": "code",
   "execution_count": 87,
   "id": "c77e3aaa",
   "metadata": {},
   "outputs": [
    {
     "data": {
      "text/plain": [
       "Pokemon\n",
       "Bulbasaur       Grass\n",
       "Ivysaur         Grass\n",
       "Venusaur        Grass\n",
       "Charmander       Fire\n",
       "Charmeleon       Fire\n",
       "               ...   \n",
       "Yveltal          Dark\n",
       "Zygarde        Dragon\n",
       "Diancie          Rock\n",
       "Hoopa         Psychic\n",
       "Volcanion        Fire\n",
       "Name: Type, Length: 721, dtype: object"
      ]
     },
     "execution_count": 87,
     "metadata": {},
     "output_type": "execute_result"
    }
   ],
   "source": [
    "pokemon"
   ]
  },
  {
   "cell_type": "code",
   "execution_count": 88,
   "id": "ca0300ac",
   "metadata": {},
   "outputs": [
    {
     "data": {
      "text/plain": [
       "'Grass'"
      ]
     },
     "execution_count": 88,
     "metadata": {},
     "output_type": "execute_result"
    }
   ],
   "source": [
    "pokemon[\"Ivysaur\"]"
   ]
  },
  {
   "cell_type": "code",
   "execution_count": 90,
   "id": "400e9dd8",
   "metadata": {},
   "outputs": [
    {
     "data": {
      "text/plain": [
       "'Grass'"
      ]
     },
     "execution_count": 90,
     "metadata": {},
     "output_type": "execute_result"
    }
   ],
   "source": [
    "pokemon[0]"
   ]
  },
  {
   "cell_type": "code",
   "execution_count": 91,
   "id": "7ab4b511",
   "metadata": {},
   "outputs": [
    {
     "data": {
      "text/plain": [
       "Pokemon\n",
       "Bulbasaur     Grass\n",
       "Ivysaur       Grass\n",
       "Venusaur      Grass\n",
       "Charmander     Fire\n",
       "Charmeleon     Fire\n",
       "Name: Type, dtype: object"
      ]
     },
     "execution_count": 91,
     "metadata": {},
     "output_type": "execute_result"
    }
   ],
   "source": [
    "pokemon[0:5]"
   ]
  },
  {
   "cell_type": "code",
   "execution_count": 92,
   "id": "ddfbb886",
   "metadata": {},
   "outputs": [
    {
     "data": {
      "text/plain": [
       "Pokemon\n",
       "Bulbasaur     Grass\n",
       "Ivysaur       Grass\n",
       "Venusaur      Grass\n",
       "Charmander     Fire\n",
       "Charmeleon     Fire\n",
       "Name: Type, dtype: object"
      ]
     },
     "execution_count": 92,
     "metadata": {},
     "output_type": "execute_result"
    }
   ],
   "source": [
    "pokemon[\"Bulbasaur\":\"Charmeleon\"]"
   ]
  },
  {
   "cell_type": "code",
   "execution_count": 94,
   "id": "8287c471",
   "metadata": {},
   "outputs": [],
   "source": [
    "pokemon.name=\"Pokemon Type\""
   ]
  },
  {
   "cell_type": "code",
   "execution_count": 131,
   "id": "a0a57a5f",
   "metadata": {},
   "outputs": [
    {
     "data": {
      "text/plain": [
       "Pokemon\n",
       "Abomasnow      Grass\n",
       "Abra         Psychic\n",
       "Absol           Dark\n",
       "Accelgor         Bug\n",
       "Aegislash      Steel\n",
       "              ...   \n",
       "Zoroark         Dark\n",
       "Zorua           Dark\n",
       "Zubat         Poison\n",
       "Zweilous        Dark\n",
       "Zygarde       Dragon\n",
       "Name: Type, Length: 721, dtype: object"
      ]
     },
     "execution_count": 131,
     "metadata": {},
     "output_type": "execute_result"
    }
   ],
   "source": [
    "pokemon"
   ]
  },
  {
   "cell_type": "code",
   "execution_count": 130,
   "id": "ad9253a1",
   "metadata": {},
   "outputs": [
    {
     "data": {
      "text/plain": [
       "'Grass'"
      ]
     },
     "execution_count": 130,
     "metadata": {},
     "output_type": "execute_result"
    }
   ],
   "source": [
    "pokemon.get(0)"
   ]
  },
  {
   "cell_type": "code",
   "execution_count": 97,
   "id": "e1ec10e7",
   "metadata": {},
   "outputs": [
    {
     "data": {
      "text/plain": [
       "Pokemon\n",
       "Bulbasaur     Grass\n",
       "Ivysaur       Grass\n",
       "Venusaur      Grass\n",
       "Charmander     Fire\n",
       "Charmeleon     Fire\n",
       "Name: Pokemon Type, dtype: object"
      ]
     },
     "execution_count": 97,
     "metadata": {},
     "output_type": "execute_result"
    }
   ],
   "source": [
    "pokemon[\"Bulbasaur\":\"Charmeleon\"]"
   ]
  },
  {
   "cell_type": "code",
   "execution_count": 100,
   "id": "6f3082ec",
   "metadata": {},
   "outputs": [
    {
     "data": {
      "text/plain": [
       "Pokemon\n",
       "Bulbasaur     Grass\n",
       "Ivysaur       Grass\n",
       "Venusaur      Grass\n",
       "Charmander     Fire\n",
       "Charmeleon     Fire\n",
       "Charizard      Fire\n",
       "Squirtle      Water\n",
       "Wartortle     Water\n",
       "Blastoise     Water\n",
       "Caterpie        Bug\n",
       "Name: Pokemon Type, dtype: object"
      ]
     },
     "execution_count": 100,
     "metadata": {},
     "output_type": "execute_result"
    }
   ],
   "source": [
    "pokemon.head(10)"
   ]
  },
  {
   "cell_type": "code",
   "execution_count": 102,
   "id": "9f3bf6ec",
   "metadata": {},
   "outputs": [
    {
     "data": {
      "text/plain": [
       "Pokemon\n",
       "Ivysaur     Grass\n",
       "Venusaur    Grass\n",
       "Name: Pokemon Type, dtype: object"
      ]
     },
     "execution_count": 102,
     "metadata": {},
     "output_type": "execute_result"
    }
   ],
   "source": [
    "pokemon.head(10)[1:3]\n"
   ]
  },
  {
   "cell_type": "code",
   "execution_count": 103,
   "id": "9885b1a6",
   "metadata": {},
   "outputs": [
    {
     "data": {
      "text/plain": [
       "Pokemon\n",
       "Caterpie        Bug\n",
       "Blastoise     Water\n",
       "Wartortle     Water\n",
       "Squirtle      Water\n",
       "Charizard      Fire\n",
       "Charmeleon     Fire\n",
       "Charmander     Fire\n",
       "Venusaur      Grass\n",
       "Ivysaur       Grass\n",
       "Bulbasaur     Grass\n",
       "Name: Pokemon Type, dtype: object"
      ]
     },
     "execution_count": 103,
     "metadata": {},
     "output_type": "execute_result"
    }
   ],
   "source": [
    "pokemon.head(10)[::-1]"
   ]
  },
  {
   "cell_type": "code",
   "execution_count": 104,
   "id": "4b953c8b",
   "metadata": {},
   "outputs": [
    {
     "data": {
      "text/plain": [
       "Pokemon\n",
       "Bulbasaur     Grass\n",
       "Ivysaur       Grass\n",
       "Venusaur      Grass\n",
       "Charmander     Fire\n",
       "Charmeleon     Fire\n",
       "Charizard      Fire\n",
       "Squirtle      Water\n",
       "Wartortle     Water\n",
       "Blastoise     Water\n",
       "Caterpie        Bug\n",
       "Name: Pokemon Type, dtype: object"
      ]
     },
     "execution_count": 104,
     "metadata": {},
     "output_type": "execute_result"
    }
   ],
   "source": [
    "pokemon.head(10)[::1]"
   ]
  },
  {
   "cell_type": "code",
   "execution_count": 164,
   "id": "2cd717a3",
   "metadata": {
    "collapsed": true
   },
   "outputs": [
    {
     "data": {
      "text/plain": [
       "Pokemon\n",
       "Bulbasaur       Grass\n",
       "Buneary        Normal\n",
       "Bunnelby       Normal\n",
       "Burmy             Bug\n",
       "Butterfree        Bug\n",
       "Cacnea          Grass\n",
       "Cacturne        Grass\n",
       "Camerupt         Fire\n",
       "Carbink          Rock\n",
       "Carnivine       Grass\n",
       "Carracosta      Water\n",
       "Carvanha        Water\n",
       "Cascoon           Bug\n",
       "Castform       Normal\n",
       "Caterpie          Bug\n",
       "Celebi        Psychic\n",
       "Chandelure      Ghost\n",
       "Chansey        Normal\n",
       "Charizard        Fire\n",
       "Charmander       Fire\n",
       "Charmeleon       Fire\n",
       "Name: Type, dtype: object"
      ]
     },
     "execution_count": 164,
     "metadata": {},
     "output_type": "execute_result"
    }
   ],
   "source": [
    "pokemon[\"Bulbasaur\":\"Charmeleon\"]\n"
   ]
  },
  {
   "cell_type": "code",
   "execution_count": 107,
   "id": "b6fded18",
   "metadata": {},
   "outputs": [
    {
     "data": {
      "text/plain": [
       "Pokemon\n",
       "Bulbasaur    Grass\n",
       "Venusaur     Grass\n",
       "Name: Pokemon Type, dtype: object"
      ]
     },
     "execution_count": 107,
     "metadata": {},
     "output_type": "execute_result"
    }
   ],
   "source": [
    "pokemon[\"Bulbasaur\":\"Charmander\":2]"
   ]
  },
  {
   "cell_type": "code",
   "execution_count": 112,
   "id": "04e1514b",
   "metadata": {
    "collapsed": true
   },
   "outputs": [
    {
     "ename": "KeyError",
     "evalue": "\"['Digimon'] not in index\"",
     "output_type": "error",
     "traceback": [
      "\u001b[1;31m---------------------------------------------------------------------------\u001b[0m",
      "\u001b[1;31mKeyError\u001b[0m                                  Traceback (most recent call last)",
      "\u001b[1;32m<ipython-input-112-46ef7d6dfaf0>\u001b[0m in \u001b[0;36m<module>\u001b[1;34m\u001b[0m\n\u001b[1;32m----> 1\u001b[1;33m \u001b[0mpokemon\u001b[0m\u001b[1;33m[\u001b[0m\u001b[1;33m[\u001b[0m\u001b[1;34m\"Pikachu\"\u001b[0m\u001b[1;33m,\u001b[0m\u001b[1;34m\"Digimon\"\u001b[0m\u001b[1;33m]\u001b[0m\u001b[1;33m]\u001b[0m\u001b[1;33m\u001b[0m\u001b[1;33m\u001b[0m\u001b[0m\n\u001b[0m",
      "\u001b[1;32m~\\.conda\\envs\\pandas_pg\\lib\\site-packages\\pandas\\core\\series.py\u001b[0m in \u001b[0;36m__getitem__\u001b[1;34m(self, key)\u001b[0m\n\u001b[0;32m    964\u001b[0m             \u001b[1;32mreturn\u001b[0m \u001b[0mself\u001b[0m\u001b[1;33m.\u001b[0m\u001b[0m_get_values\u001b[0m\u001b[1;33m(\u001b[0m\u001b[0mkey\u001b[0m\u001b[1;33m)\u001b[0m\u001b[1;33m\u001b[0m\u001b[1;33m\u001b[0m\u001b[0m\n\u001b[0;32m    965\u001b[0m \u001b[1;33m\u001b[0m\u001b[0m\n\u001b[1;32m--> 966\u001b[1;33m         \u001b[1;32mreturn\u001b[0m \u001b[0mself\u001b[0m\u001b[1;33m.\u001b[0m\u001b[0m_get_with\u001b[0m\u001b[1;33m(\u001b[0m\u001b[0mkey\u001b[0m\u001b[1;33m)\u001b[0m\u001b[1;33m\u001b[0m\u001b[1;33m\u001b[0m\u001b[0m\n\u001b[0m\u001b[0;32m    967\u001b[0m \u001b[1;33m\u001b[0m\u001b[0m\n\u001b[0;32m    968\u001b[0m     \u001b[1;32mdef\u001b[0m \u001b[0m_get_with\u001b[0m\u001b[1;33m(\u001b[0m\u001b[0mself\u001b[0m\u001b[1;33m,\u001b[0m \u001b[0mkey\u001b[0m\u001b[1;33m)\u001b[0m\u001b[1;33m:\u001b[0m\u001b[1;33m\u001b[0m\u001b[1;33m\u001b[0m\u001b[0m\n",
      "\u001b[1;32m~\\.conda\\envs\\pandas_pg\\lib\\site-packages\\pandas\\core\\series.py\u001b[0m in \u001b[0;36m_get_with\u001b[1;34m(self, key)\u001b[0m\n\u001b[0;32m   1004\u001b[0m \u001b[1;33m\u001b[0m\u001b[0m\n\u001b[0;32m   1005\u001b[0m         \u001b[1;31m# handle the dup indexing case GH#4246\u001b[0m\u001b[1;33m\u001b[0m\u001b[1;33m\u001b[0m\u001b[1;33m\u001b[0m\u001b[0m\n\u001b[1;32m-> 1006\u001b[1;33m         \u001b[1;32mreturn\u001b[0m \u001b[0mself\u001b[0m\u001b[1;33m.\u001b[0m\u001b[0mloc\u001b[0m\u001b[1;33m[\u001b[0m\u001b[0mkey\u001b[0m\u001b[1;33m]\u001b[0m\u001b[1;33m\u001b[0m\u001b[1;33m\u001b[0m\u001b[0m\n\u001b[0m\u001b[0;32m   1007\u001b[0m \u001b[1;33m\u001b[0m\u001b[0m\n\u001b[0;32m   1008\u001b[0m     \u001b[1;32mdef\u001b[0m \u001b[0m_get_values_tuple\u001b[0m\u001b[1;33m(\u001b[0m\u001b[0mself\u001b[0m\u001b[1;33m,\u001b[0m \u001b[0mkey\u001b[0m\u001b[1;33m)\u001b[0m\u001b[1;33m:\u001b[0m\u001b[1;33m\u001b[0m\u001b[1;33m\u001b[0m\u001b[0m\n",
      "\u001b[1;32m~\\.conda\\envs\\pandas_pg\\lib\\site-packages\\pandas\\core\\indexing.py\u001b[0m in \u001b[0;36m__getitem__\u001b[1;34m(self, key)\u001b[0m\n\u001b[0;32m    929\u001b[0m \u001b[1;33m\u001b[0m\u001b[0m\n\u001b[0;32m    930\u001b[0m             \u001b[0mmaybe_callable\u001b[0m \u001b[1;33m=\u001b[0m \u001b[0mcom\u001b[0m\u001b[1;33m.\u001b[0m\u001b[0mapply_if_callable\u001b[0m\u001b[1;33m(\u001b[0m\u001b[0mkey\u001b[0m\u001b[1;33m,\u001b[0m \u001b[0mself\u001b[0m\u001b[1;33m.\u001b[0m\u001b[0mobj\u001b[0m\u001b[1;33m)\u001b[0m\u001b[1;33m\u001b[0m\u001b[1;33m\u001b[0m\u001b[0m\n\u001b[1;32m--> 931\u001b[1;33m             \u001b[1;32mreturn\u001b[0m \u001b[0mself\u001b[0m\u001b[1;33m.\u001b[0m\u001b[0m_getitem_axis\u001b[0m\u001b[1;33m(\u001b[0m\u001b[0mmaybe_callable\u001b[0m\u001b[1;33m,\u001b[0m \u001b[0maxis\u001b[0m\u001b[1;33m=\u001b[0m\u001b[0maxis\u001b[0m\u001b[1;33m)\u001b[0m\u001b[1;33m\u001b[0m\u001b[1;33m\u001b[0m\u001b[0m\n\u001b[0m\u001b[0;32m    932\u001b[0m \u001b[1;33m\u001b[0m\u001b[0m\n\u001b[0;32m    933\u001b[0m     \u001b[1;32mdef\u001b[0m \u001b[0m_is_scalar_access\u001b[0m\u001b[1;33m(\u001b[0m\u001b[0mself\u001b[0m\u001b[1;33m,\u001b[0m \u001b[0mkey\u001b[0m\u001b[1;33m:\u001b[0m \u001b[0mtuple\u001b[0m\u001b[1;33m)\u001b[0m\u001b[1;33m:\u001b[0m\u001b[1;33m\u001b[0m\u001b[1;33m\u001b[0m\u001b[0m\n",
      "\u001b[1;32m~\\.conda\\envs\\pandas_pg\\lib\\site-packages\\pandas\\core\\indexing.py\u001b[0m in \u001b[0;36m_getitem_axis\u001b[1;34m(self, key, axis)\u001b[0m\n\u001b[0;32m   1151\u001b[0m                     \u001b[1;32mraise\u001b[0m \u001b[0mValueError\u001b[0m\u001b[1;33m(\u001b[0m\u001b[1;34m\"Cannot index with multidimensional key\"\u001b[0m\u001b[1;33m)\u001b[0m\u001b[1;33m\u001b[0m\u001b[1;33m\u001b[0m\u001b[0m\n\u001b[0;32m   1152\u001b[0m \u001b[1;33m\u001b[0m\u001b[0m\n\u001b[1;32m-> 1153\u001b[1;33m                 \u001b[1;32mreturn\u001b[0m \u001b[0mself\u001b[0m\u001b[1;33m.\u001b[0m\u001b[0m_getitem_iterable\u001b[0m\u001b[1;33m(\u001b[0m\u001b[0mkey\u001b[0m\u001b[1;33m,\u001b[0m \u001b[0maxis\u001b[0m\u001b[1;33m=\u001b[0m\u001b[0maxis\u001b[0m\u001b[1;33m)\u001b[0m\u001b[1;33m\u001b[0m\u001b[1;33m\u001b[0m\u001b[0m\n\u001b[0m\u001b[0;32m   1154\u001b[0m \u001b[1;33m\u001b[0m\u001b[0m\n\u001b[0;32m   1155\u001b[0m             \u001b[1;31m# nested tuple slicing\u001b[0m\u001b[1;33m\u001b[0m\u001b[1;33m\u001b[0m\u001b[1;33m\u001b[0m\u001b[0m\n",
      "\u001b[1;32m~\\.conda\\envs\\pandas_pg\\lib\\site-packages\\pandas\\core\\indexing.py\u001b[0m in \u001b[0;36m_getitem_iterable\u001b[1;34m(self, key, axis)\u001b[0m\n\u001b[0;32m   1091\u001b[0m \u001b[1;33m\u001b[0m\u001b[0m\n\u001b[0;32m   1092\u001b[0m         \u001b[1;31m# A collection of keys\u001b[0m\u001b[1;33m\u001b[0m\u001b[1;33m\u001b[0m\u001b[1;33m\u001b[0m\u001b[0m\n\u001b[1;32m-> 1093\u001b[1;33m         \u001b[0mkeyarr\u001b[0m\u001b[1;33m,\u001b[0m \u001b[0mindexer\u001b[0m \u001b[1;33m=\u001b[0m \u001b[0mself\u001b[0m\u001b[1;33m.\u001b[0m\u001b[0m_get_listlike_indexer\u001b[0m\u001b[1;33m(\u001b[0m\u001b[0mkey\u001b[0m\u001b[1;33m,\u001b[0m \u001b[0maxis\u001b[0m\u001b[1;33m)\u001b[0m\u001b[1;33m\u001b[0m\u001b[1;33m\u001b[0m\u001b[0m\n\u001b[0m\u001b[0;32m   1094\u001b[0m         return self.obj._reindex_with_indexers(\n\u001b[0;32m   1095\u001b[0m             \u001b[1;33m{\u001b[0m\u001b[0maxis\u001b[0m\u001b[1;33m:\u001b[0m \u001b[1;33m[\u001b[0m\u001b[0mkeyarr\u001b[0m\u001b[1;33m,\u001b[0m \u001b[0mindexer\u001b[0m\u001b[1;33m]\u001b[0m\u001b[1;33m}\u001b[0m\u001b[1;33m,\u001b[0m \u001b[0mcopy\u001b[0m\u001b[1;33m=\u001b[0m\u001b[1;32mTrue\u001b[0m\u001b[1;33m,\u001b[0m \u001b[0mallow_dups\u001b[0m\u001b[1;33m=\u001b[0m\u001b[1;32mTrue\u001b[0m\u001b[1;33m\u001b[0m\u001b[1;33m\u001b[0m\u001b[0m\n",
      "\u001b[1;32m~\\.conda\\envs\\pandas_pg\\lib\\site-packages\\pandas\\core\\indexing.py\u001b[0m in \u001b[0;36m_get_listlike_indexer\u001b[1;34m(self, key, axis)\u001b[0m\n\u001b[0;32m   1312\u001b[0m             \u001b[0mkeyarr\u001b[0m\u001b[1;33m,\u001b[0m \u001b[0mindexer\u001b[0m\u001b[1;33m,\u001b[0m \u001b[0mnew_indexer\u001b[0m \u001b[1;33m=\u001b[0m \u001b[0max\u001b[0m\u001b[1;33m.\u001b[0m\u001b[0m_reindex_non_unique\u001b[0m\u001b[1;33m(\u001b[0m\u001b[0mkeyarr\u001b[0m\u001b[1;33m)\u001b[0m\u001b[1;33m\u001b[0m\u001b[1;33m\u001b[0m\u001b[0m\n\u001b[0;32m   1313\u001b[0m \u001b[1;33m\u001b[0m\u001b[0m\n\u001b[1;32m-> 1314\u001b[1;33m         \u001b[0mself\u001b[0m\u001b[1;33m.\u001b[0m\u001b[0m_validate_read_indexer\u001b[0m\u001b[1;33m(\u001b[0m\u001b[0mkeyarr\u001b[0m\u001b[1;33m,\u001b[0m \u001b[0mindexer\u001b[0m\u001b[1;33m,\u001b[0m \u001b[0maxis\u001b[0m\u001b[1;33m)\u001b[0m\u001b[1;33m\u001b[0m\u001b[1;33m\u001b[0m\u001b[0m\n\u001b[0m\u001b[0;32m   1315\u001b[0m \u001b[1;33m\u001b[0m\u001b[0m\n\u001b[0;32m   1316\u001b[0m         if needs_i8_conversion(ax.dtype) or isinstance(\n",
      "\u001b[1;32m~\\.conda\\envs\\pandas_pg\\lib\\site-packages\\pandas\\core\\indexing.py\u001b[0m in \u001b[0;36m_validate_read_indexer\u001b[1;34m(self, key, indexer, axis)\u001b[0m\n\u001b[0;32m   1375\u001b[0m \u001b[1;33m\u001b[0m\u001b[0m\n\u001b[0;32m   1376\u001b[0m             \u001b[0mnot_found\u001b[0m \u001b[1;33m=\u001b[0m \u001b[0mlist\u001b[0m\u001b[1;33m(\u001b[0m\u001b[0mensure_index\u001b[0m\u001b[1;33m(\u001b[0m\u001b[0mkey\u001b[0m\u001b[1;33m)\u001b[0m\u001b[1;33m[\u001b[0m\u001b[0mmissing_mask\u001b[0m\u001b[1;33m.\u001b[0m\u001b[0mnonzero\u001b[0m\u001b[1;33m(\u001b[0m\u001b[1;33m)\u001b[0m\u001b[1;33m[\u001b[0m\u001b[1;36m0\u001b[0m\u001b[1;33m]\u001b[0m\u001b[1;33m]\u001b[0m\u001b[1;33m.\u001b[0m\u001b[0munique\u001b[0m\u001b[1;33m(\u001b[0m\u001b[1;33m)\u001b[0m\u001b[1;33m)\u001b[0m\u001b[1;33m\u001b[0m\u001b[1;33m\u001b[0m\u001b[0m\n\u001b[1;32m-> 1377\u001b[1;33m             \u001b[1;32mraise\u001b[0m \u001b[0mKeyError\u001b[0m\u001b[1;33m(\u001b[0m\u001b[1;34mf\"{not_found} not in index\"\u001b[0m\u001b[1;33m)\u001b[0m\u001b[1;33m\u001b[0m\u001b[1;33m\u001b[0m\u001b[0m\n\u001b[0m\u001b[0;32m   1378\u001b[0m \u001b[1;33m\u001b[0m\u001b[0m\n\u001b[0;32m   1379\u001b[0m \u001b[1;33m\u001b[0m\u001b[0m\n",
      "\u001b[1;31mKeyError\u001b[0m: \"['Digimon'] not in index\""
     ]
    }
   ],
   "source": [
    "pokemon[[\"Pikachu\",\"Digimon\"]]"
   ]
  },
  {
   "cell_type": "code",
   "execution_count": 119,
   "id": "cd21e338",
   "metadata": {},
   "outputs": [
    {
     "data": {
      "text/plain": [
       "Pokemon\n",
       "Pikachu    Electric\n",
       "Digimon         NaN\n",
       "Name: Pokemon Type, dtype: object"
      ]
     },
     "execution_count": 119,
     "metadata": {},
     "output_type": "execute_result"
    }
   ],
   "source": [
    "pokemon.reindex(index=[\"Pikachu\",\"Digimon\"])#optional indices"
   ]
  },
  {
   "cell_type": "code",
   "execution_count": 120,
   "id": "a23372ff",
   "metadata": {
    "collapsed": true
   },
   "outputs": [
    {
     "ename": "TypeError",
     "evalue": "Index(...) must be called with a collection of some kind, 'Digimon' was passed",
     "output_type": "error",
     "traceback": [
      "\u001b[1;31m---------------------------------------------------------------------------\u001b[0m",
      "\u001b[1;31mTypeError\u001b[0m                                 Traceback (most recent call last)",
      "\u001b[1;32m<ipython-input-120-491a89b74fdd>\u001b[0m in \u001b[0;36m<module>\u001b[1;34m\u001b[0m\n\u001b[1;32m----> 1\u001b[1;33m \u001b[0mpokemon\u001b[0m\u001b[1;33m.\u001b[0m\u001b[0mreindex\u001b[0m\u001b[1;33m(\u001b[0m\u001b[0mindex\u001b[0m\u001b[1;33m=\u001b[0m\u001b[1;34m\"Digimon\"\u001b[0m\u001b[1;33m)\u001b[0m\u001b[1;33m\u001b[0m\u001b[1;33m\u001b[0m\u001b[0m\n\u001b[0m",
      "\u001b[1;32m~\\.conda\\envs\\pandas_pg\\lib\\site-packages\\pandas\\core\\series.py\u001b[0m in \u001b[0;36mreindex\u001b[1;34m(self, index, **kwargs)\u001b[0m\n\u001b[0;32m   4577\u001b[0m     )\n\u001b[0;32m   4578\u001b[0m     \u001b[1;32mdef\u001b[0m \u001b[0mreindex\u001b[0m\u001b[1;33m(\u001b[0m\u001b[0mself\u001b[0m\u001b[1;33m,\u001b[0m \u001b[0mindex\u001b[0m\u001b[1;33m=\u001b[0m\u001b[1;32mNone\u001b[0m\u001b[1;33m,\u001b[0m \u001b[1;33m**\u001b[0m\u001b[0mkwargs\u001b[0m\u001b[1;33m)\u001b[0m\u001b[1;33m:\u001b[0m\u001b[1;33m\u001b[0m\u001b[1;33m\u001b[0m\u001b[0m\n\u001b[1;32m-> 4579\u001b[1;33m         \u001b[1;32mreturn\u001b[0m \u001b[0msuper\u001b[0m\u001b[1;33m(\u001b[0m\u001b[1;33m)\u001b[0m\u001b[1;33m.\u001b[0m\u001b[0mreindex\u001b[0m\u001b[1;33m(\u001b[0m\u001b[0mindex\u001b[0m\u001b[1;33m=\u001b[0m\u001b[0mindex\u001b[0m\u001b[1;33m,\u001b[0m \u001b[1;33m**\u001b[0m\u001b[0mkwargs\u001b[0m\u001b[1;33m)\u001b[0m\u001b[1;33m\u001b[0m\u001b[1;33m\u001b[0m\u001b[0m\n\u001b[0m\u001b[0;32m   4580\u001b[0m \u001b[1;33m\u001b[0m\u001b[0m\n\u001b[0;32m   4581\u001b[0m     \u001b[1;33m@\u001b[0m\u001b[0mdeprecate_nonkeyword_arguments\u001b[0m\u001b[1;33m(\u001b[0m\u001b[0mversion\u001b[0m\u001b[1;33m=\u001b[0m\u001b[1;32mNone\u001b[0m\u001b[1;33m,\u001b[0m \u001b[0mallowed_args\u001b[0m\u001b[1;33m=\u001b[0m\u001b[1;33m[\u001b[0m\u001b[1;34m\"self\"\u001b[0m\u001b[1;33m,\u001b[0m \u001b[1;34m\"labels\"\u001b[0m\u001b[1;33m]\u001b[0m\u001b[1;33m)\u001b[0m\u001b[1;33m\u001b[0m\u001b[1;33m\u001b[0m\u001b[0m\n",
      "\u001b[1;32m~\\.conda\\envs\\pandas_pg\\lib\\site-packages\\pandas\\core\\generic.py\u001b[0m in \u001b[0;36mreindex\u001b[1;34m(self, *args, **kwargs)\u001b[0m\n\u001b[0;32m   4807\u001b[0m \u001b[1;33m\u001b[0m\u001b[0m\n\u001b[0;32m   4808\u001b[0m         \u001b[1;31m# perform the reindex on the axes\u001b[0m\u001b[1;33m\u001b[0m\u001b[1;33m\u001b[0m\u001b[1;33m\u001b[0m\u001b[0m\n\u001b[1;32m-> 4809\u001b[1;33m         return self._reindex_axes(\n\u001b[0m\u001b[0;32m   4810\u001b[0m             \u001b[0maxes\u001b[0m\u001b[1;33m,\u001b[0m \u001b[0mlevel\u001b[0m\u001b[1;33m,\u001b[0m \u001b[0mlimit\u001b[0m\u001b[1;33m,\u001b[0m \u001b[0mtolerance\u001b[0m\u001b[1;33m,\u001b[0m \u001b[0mmethod\u001b[0m\u001b[1;33m,\u001b[0m \u001b[0mfill_value\u001b[0m\u001b[1;33m,\u001b[0m \u001b[0mcopy\u001b[0m\u001b[1;33m\u001b[0m\u001b[1;33m\u001b[0m\u001b[0m\n\u001b[0;32m   4811\u001b[0m         ).__finalize__(self, method=\"reindex\")\n",
      "\u001b[1;32m~\\.conda\\envs\\pandas_pg\\lib\\site-packages\\pandas\\core\\generic.py\u001b[0m in \u001b[0;36m_reindex_axes\u001b[1;34m(self, axes, level, limit, tolerance, method, fill_value, copy)\u001b[0m\n\u001b[0;32m   4823\u001b[0m \u001b[1;33m\u001b[0m\u001b[0m\n\u001b[0;32m   4824\u001b[0m             \u001b[0max\u001b[0m \u001b[1;33m=\u001b[0m \u001b[0mself\u001b[0m\u001b[1;33m.\u001b[0m\u001b[0m_get_axis\u001b[0m\u001b[1;33m(\u001b[0m\u001b[0ma\u001b[0m\u001b[1;33m)\u001b[0m\u001b[1;33m\u001b[0m\u001b[1;33m\u001b[0m\u001b[0m\n\u001b[1;32m-> 4825\u001b[1;33m             new_index, indexer = ax.reindex(\n\u001b[0m\u001b[0;32m   4826\u001b[0m                 \u001b[0mlabels\u001b[0m\u001b[1;33m,\u001b[0m \u001b[0mlevel\u001b[0m\u001b[1;33m=\u001b[0m\u001b[0mlevel\u001b[0m\u001b[1;33m,\u001b[0m \u001b[0mlimit\u001b[0m\u001b[1;33m=\u001b[0m\u001b[0mlimit\u001b[0m\u001b[1;33m,\u001b[0m \u001b[0mtolerance\u001b[0m\u001b[1;33m=\u001b[0m\u001b[0mtolerance\u001b[0m\u001b[1;33m,\u001b[0m \u001b[0mmethod\u001b[0m\u001b[1;33m=\u001b[0m\u001b[0mmethod\u001b[0m\u001b[1;33m\u001b[0m\u001b[1;33m\u001b[0m\u001b[0m\n\u001b[0;32m   4827\u001b[0m             )\n",
      "\u001b[1;32m~\\.conda\\envs\\pandas_pg\\lib\\site-packages\\pandas\\core\\indexes\\base.py\u001b[0m in \u001b[0;36mreindex\u001b[1;34m(self, target, method, level, limit, tolerance)\u001b[0m\n\u001b[0;32m   3812\u001b[0m             \u001b[0mtarget\u001b[0m \u001b[1;33m=\u001b[0m \u001b[0mself\u001b[0m\u001b[1;33m[\u001b[0m\u001b[1;33m:\u001b[0m\u001b[1;36m0\u001b[0m\u001b[1;33m]\u001b[0m\u001b[1;33m\u001b[0m\u001b[1;33m\u001b[0m\u001b[0m\n\u001b[0;32m   3813\u001b[0m         \u001b[1;32melse\u001b[0m\u001b[1;33m:\u001b[0m\u001b[1;33m\u001b[0m\u001b[1;33m\u001b[0m\u001b[0m\n\u001b[1;32m-> 3814\u001b[1;33m             \u001b[0mtarget\u001b[0m \u001b[1;33m=\u001b[0m \u001b[0mensure_index\u001b[0m\u001b[1;33m(\u001b[0m\u001b[0mtarget\u001b[0m\u001b[1;33m)\u001b[0m\u001b[1;33m\u001b[0m\u001b[1;33m\u001b[0m\u001b[0m\n\u001b[0m\u001b[0;32m   3815\u001b[0m \u001b[1;33m\u001b[0m\u001b[0m\n\u001b[0;32m   3816\u001b[0m         \u001b[1;32mif\u001b[0m \u001b[0mlevel\u001b[0m \u001b[1;32mis\u001b[0m \u001b[1;32mnot\u001b[0m \u001b[1;32mNone\u001b[0m\u001b[1;33m:\u001b[0m\u001b[1;33m\u001b[0m\u001b[1;33m\u001b[0m\u001b[0m\n",
      "\u001b[1;32m~\\.conda\\envs\\pandas_pg\\lib\\site-packages\\pandas\\core\\indexes\\base.py\u001b[0m in \u001b[0;36mensure_index\u001b[1;34m(index_like, copy)\u001b[0m\n\u001b[0;32m   6335\u001b[0m     \u001b[1;32melse\u001b[0m\u001b[1;33m:\u001b[0m\u001b[1;33m\u001b[0m\u001b[1;33m\u001b[0m\u001b[0m\n\u001b[0;32m   6336\u001b[0m \u001b[1;33m\u001b[0m\u001b[0m\n\u001b[1;32m-> 6337\u001b[1;33m         \u001b[1;32mreturn\u001b[0m \u001b[0mIndex\u001b[0m\u001b[1;33m(\u001b[0m\u001b[0mindex_like\u001b[0m\u001b[1;33m,\u001b[0m \u001b[0mcopy\u001b[0m\u001b[1;33m=\u001b[0m\u001b[0mcopy\u001b[0m\u001b[1;33m)\u001b[0m\u001b[1;33m\u001b[0m\u001b[1;33m\u001b[0m\u001b[0m\n\u001b[0m\u001b[0;32m   6338\u001b[0m \u001b[1;33m\u001b[0m\u001b[0m\n\u001b[0;32m   6339\u001b[0m \u001b[1;33m\u001b[0m\u001b[0m\n",
      "\u001b[1;32m~\\.conda\\envs\\pandas_pg\\lib\\site-packages\\pandas\\core\\indexes\\base.py\u001b[0m in \u001b[0;36m__new__\u001b[1;34m(cls, data, dtype, copy, name, tupleize_cols, **kwargs)\u001b[0m\n\u001b[0;32m    472\u001b[0m \u001b[1;33m\u001b[0m\u001b[0m\n\u001b[0;32m    473\u001b[0m         \u001b[1;32melif\u001b[0m \u001b[0mis_scalar\u001b[0m\u001b[1;33m(\u001b[0m\u001b[0mdata\u001b[0m\u001b[1;33m)\u001b[0m\u001b[1;33m:\u001b[0m\u001b[1;33m\u001b[0m\u001b[1;33m\u001b[0m\u001b[0m\n\u001b[1;32m--> 474\u001b[1;33m             \u001b[1;32mraise\u001b[0m \u001b[0mcls\u001b[0m\u001b[1;33m.\u001b[0m\u001b[0m_scalar_data_error\u001b[0m\u001b[1;33m(\u001b[0m\u001b[0mdata\u001b[0m\u001b[1;33m)\u001b[0m\u001b[1;33m\u001b[0m\u001b[1;33m\u001b[0m\u001b[0m\n\u001b[0m\u001b[0;32m    475\u001b[0m         \u001b[1;32melif\u001b[0m \u001b[0mhasattr\u001b[0m\u001b[1;33m(\u001b[0m\u001b[0mdata\u001b[0m\u001b[1;33m,\u001b[0m \u001b[1;34m\"__array__\"\u001b[0m\u001b[1;33m)\u001b[0m\u001b[1;33m:\u001b[0m\u001b[1;33m\u001b[0m\u001b[1;33m\u001b[0m\u001b[0m\n\u001b[0;32m    476\u001b[0m             \u001b[1;32mreturn\u001b[0m \u001b[0mIndex\u001b[0m\u001b[1;33m(\u001b[0m\u001b[0mnp\u001b[0m\u001b[1;33m.\u001b[0m\u001b[0masarray\u001b[0m\u001b[1;33m(\u001b[0m\u001b[0mdata\u001b[0m\u001b[1;33m)\u001b[0m\u001b[1;33m,\u001b[0m \u001b[0mdtype\u001b[0m\u001b[1;33m=\u001b[0m\u001b[0mdtype\u001b[0m\u001b[1;33m,\u001b[0m \u001b[0mcopy\u001b[0m\u001b[1;33m=\u001b[0m\u001b[0mcopy\u001b[0m\u001b[1;33m,\u001b[0m \u001b[0mname\u001b[0m\u001b[1;33m=\u001b[0m\u001b[0mname\u001b[0m\u001b[1;33m,\u001b[0m \u001b[1;33m**\u001b[0m\u001b[0mkwargs\u001b[0m\u001b[1;33m)\u001b[0m\u001b[1;33m\u001b[0m\u001b[1;33m\u001b[0m\u001b[0m\n",
      "\u001b[1;31mTypeError\u001b[0m: Index(...) must be called with a collection of some kind, 'Digimon' was passed"
     ]
    }
   ],
   "source": [
    "pokemon.reindex(index=\"Digimon\")"
   ]
  },
  {
   "cell_type": "markdown",
   "id": "c955121a",
   "metadata": {},
   "source": [
    "# The .get() on Series"
   ]
  },
  {
   "cell_type": "code",
   "execution_count": 139,
   "id": "d6c55f51",
   "metadata": {
    "scrolled": true
   },
   "outputs": [
    {
     "data": {
      "text/plain": [
       "Pokemon\n",
       "Abomasnow      Grass\n",
       "Abra         Psychic\n",
       "Absol           Dark\n",
       "Name: Type, dtype: object"
      ]
     },
     "execution_count": 139,
     "metadata": {},
     "output_type": "execute_result"
    }
   ],
   "source": [
    "pokemon=pd.read_csv(\"pokemon.csv\",index_col=\"Pokemon\",squeeze=True)\n",
    "pokemon.sort_index(inplace=True)\n",
    "pokemon.head(3)"
   ]
  },
  {
   "cell_type": "code",
   "execution_count": 149,
   "id": "4d60b06b",
   "metadata": {},
   "outputs": [
    {
     "data": {
      "text/plain": [
       "'Grass'"
      ]
     },
     "execution_count": 149,
     "metadata": {},
     "output_type": "execute_result"
    }
   ],
   "source": [
    "pokemon.get(\"Abomasnow\")"
   ]
  },
  {
   "cell_type": "code",
   "execution_count": 154,
   "id": "2793df9f",
   "metadata": {},
   "outputs": [
    {
     "data": {
      "text/plain": [
       "'Dark'"
      ]
     },
     "execution_count": 154,
     "metadata": {},
     "output_type": "execute_result"
    }
   ],
   "source": [
    "pokemon.get(2)"
   ]
  },
  {
   "cell_type": "code",
   "execution_count": 151,
   "id": "25edf75f",
   "metadata": {
    "collapsed": true
   },
   "outputs": [
    {
     "data": {
      "text/plain": [
       "Pokemon\n",
       "Bulbasaur       Grass\n",
       "Ivysaur         Grass\n",
       "Venusaur        Grass\n",
       "Charmander       Fire\n",
       "Charmeleon       Fire\n",
       "               ...   \n",
       "Yveltal          Dark\n",
       "Zygarde        Dragon\n",
       "Diancie          Rock\n",
       "Hoopa         Psychic\n",
       "Volcanion        Fire\n",
       "Name: Type, Length: 721, dtype: object"
      ]
     },
     "execution_count": 151,
     "metadata": {},
     "output_type": "execute_result"
    }
   ],
   "source": [
    "pds=pd.read_csv(\"pokemon.csv\",index_col=\"Pokemon\",squeeze=True)\n",
    "pds"
   ]
  },
  {
   "cell_type": "code",
   "execution_count": 153,
   "id": "5ed6352a",
   "metadata": {},
   "outputs": [
    {
     "data": {
      "text/plain": [
       "'Grass'"
      ]
     },
     "execution_count": 153,
     "metadata": {},
     "output_type": "execute_result"
    }
   ],
   "source": [
    "pds.get(1)"
   ]
  },
  {
   "cell_type": "code",
   "execution_count": 157,
   "id": "4a2a7569",
   "metadata": {},
   "outputs": [],
   "source": [
    "pokemon.get(\"Abomastfhtnow\")\n"
   ]
  },
  {
   "cell_type": "code",
   "execution_count": 161,
   "id": "f6667c39",
   "metadata": {},
   "outputs": [
    {
     "data": {
      "text/plain": [
       "['Pikachu', 'Digimon']"
      ]
     },
     "execution_count": 161,
     "metadata": {},
     "output_type": "execute_result"
    }
   ],
   "source": [
    "pokemon.get([\"Pikachu\",\"Digimon\"],default=[\"Pikachu\",\"Digimon\"])"
   ]
  },
  {
   "cell_type": "markdown",
   "id": "8e060e70",
   "metadata": {},
   "source": [
    "# Math methods on series"
   ]
  },
  {
   "cell_type": "code",
   "execution_count": 19,
   "id": "4418fff0",
   "metadata": {},
   "outputs": [
    {
     "data": {
      "text/plain": [
       "0    50.12\n",
       "1    54.10\n",
       "2    54.65\n",
       "3    52.38\n",
       "4    52.95\n",
       "Name: Stock Price, dtype: float64"
      ]
     },
     "execution_count": 19,
     "metadata": {},
     "output_type": "execute_result"
    }
   ],
   "source": [
    "google=pd.read_csv(\"google_stock_price.csv\",squeeze=True)\n",
    "google.head(5)"
   ]
  },
  {
   "cell_type": "code",
   "execution_count": 166,
   "id": "63ae56fb",
   "metadata": {},
   "outputs": [
    {
     "data": {
      "text/plain": [
       "3012"
      ]
     },
     "execution_count": 166,
     "metadata": {},
     "output_type": "execute_result"
    }
   ],
   "source": [
    "google.count()#omit null values"
   ]
  },
  {
   "cell_type": "code",
   "execution_count": 168,
   "id": "f167b9cd",
   "metadata": {},
   "outputs": [
    {
     "data": {
      "text/plain": [
       "3012"
      ]
     },
     "execution_count": 168,
     "metadata": {},
     "output_type": "execute_result"
    }
   ],
   "source": [
    "len(google)#include null values"
   ]
  },
  {
   "cell_type": "code",
   "execution_count": 170,
   "id": "3a9562fd",
   "metadata": {},
   "outputs": [
    {
     "data": {
      "text/plain": [
       "1006942.0"
      ]
     },
     "execution_count": 170,
     "metadata": {},
     "output_type": "execute_result"
    }
   ],
   "source": [
    "google.sum()"
   ]
  },
  {
   "cell_type": "code",
   "execution_count": 172,
   "id": "10cf4000",
   "metadata": {},
   "outputs": [
    {
     "data": {
      "text/plain": [
       "334.31009296148744"
      ]
     },
     "execution_count": 172,
     "metadata": {},
     "output_type": "execute_result"
    }
   ],
   "source": [
    "google.mean()"
   ]
  },
  {
   "cell_type": "code",
   "execution_count": 174,
   "id": "724257e3",
   "metadata": {},
   "outputs": [
    {
     "data": {
      "text/plain": [
       "334.3100929614874"
      ]
     },
     "execution_count": 174,
     "metadata": {},
     "output_type": "execute_result"
    }
   ],
   "source": [
    "google.sum()/google.count()"
   ]
  },
  {
   "cell_type": "code",
   "execution_count": 176,
   "id": "a2cd90f0",
   "metadata": {},
   "outputs": [
    {
     "data": {
      "text/plain": [
       "173.18720477113106"
      ]
     },
     "execution_count": 176,
     "metadata": {},
     "output_type": "execute_result"
    }
   ],
   "source": [
    "google.std()"
   ]
  },
  {
   "cell_type": "code",
   "execution_count": 178,
   "id": "1dc78300",
   "metadata": {},
   "outputs": [
    {
     "data": {
      "text/plain": [
       "49.95"
      ]
     },
     "execution_count": 178,
     "metadata": {},
     "output_type": "execute_result"
    }
   ],
   "source": [
    "google.min()"
   ]
  },
  {
   "cell_type": "code",
   "execution_count": 180,
   "id": "d6770a11",
   "metadata": {},
   "outputs": [
    {
     "data": {
      "text/plain": [
       "782.22"
      ]
     },
     "execution_count": 180,
     "metadata": {},
     "output_type": "execute_result"
    }
   ],
   "source": [
    "google.max()"
   ]
  },
  {
   "cell_type": "code",
   "execution_count": 182,
   "id": "b00b4d52",
   "metadata": {},
   "outputs": [
    {
     "data": {
      "text/plain": [
       "283.315"
      ]
     },
     "execution_count": 182,
     "metadata": {},
     "output_type": "execute_result"
    }
   ],
   "source": [
    "google.median()"
   ]
  },
  {
   "cell_type": "code",
   "execution_count": 184,
   "id": "711d8bc2",
   "metadata": {},
   "outputs": [
    {
     "data": {
      "text/plain": [
       "0    291.21\n",
       "dtype: float64"
      ]
     },
     "execution_count": 184,
     "metadata": {},
     "output_type": "execute_result"
    }
   ],
   "source": [
    "google.mode()#most repeated value"
   ]
  },
  {
   "cell_type": "code",
   "execution_count": 185,
   "id": "fb836f30",
   "metadata": {},
   "outputs": [
    {
     "data": {
      "text/plain": [
       "count    3012.000000\n",
       "mean      334.310093\n",
       "std       173.187205\n",
       "min        49.950000\n",
       "25%       218.045000\n",
       "50%       283.315000\n",
       "75%       443.000000\n",
       "max       782.220000\n",
       "Name: Stock Price, dtype: float64"
      ]
     },
     "execution_count": 185,
     "metadata": {},
     "output_type": "execute_result"
    }
   ],
   "source": [
    "google.describe()"
   ]
  },
  {
   "cell_type": "markdown",
   "id": "ff2f504a",
   "metadata": {},
   "source": [
    "# The .idxmax() &  .idxmin()"
   ]
  },
  {
   "cell_type": "code",
   "execution_count": 186,
   "id": "f4459df8",
   "metadata": {},
   "outputs": [],
   "source": [
    "google = pd.read_csv(\"google_stock_price.csv\",squeeze=True)"
   ]
  },
  {
   "cell_type": "code",
   "execution_count": 20,
   "id": "b4a552f3",
   "metadata": {},
   "outputs": [
    {
     "data": {
      "text/plain": [
       "0    50.12\n",
       "1    54.10\n",
       "2    54.65\n",
       "3    52.38\n",
       "4    52.95\n",
       "Name: Stock Price, dtype: float64"
      ]
     },
     "execution_count": 20,
     "metadata": {},
     "output_type": "execute_result"
    }
   ],
   "source": [
    "google.head(5)"
   ]
  },
  {
   "cell_type": "code",
   "execution_count": 188,
   "id": "f33be3be",
   "metadata": {},
   "outputs": [
    {
     "data": {
      "text/plain": [
       "782.22"
      ]
     },
     "execution_count": 188,
     "metadata": {},
     "output_type": "execute_result"
    }
   ],
   "source": [
    "google.max()"
   ]
  },
  {
   "cell_type": "code",
   "execution_count": 189,
   "id": "18d3126f",
   "metadata": {},
   "outputs": [
    {
     "data": {
      "text/plain": [
       "49.95"
      ]
     },
     "execution_count": 189,
     "metadata": {},
     "output_type": "execute_result"
    }
   ],
   "source": [
    "google.min()"
   ]
  },
  {
   "cell_type": "code",
   "execution_count": 190,
   "id": "69c68287",
   "metadata": {},
   "outputs": [
    {
     "data": {
      "text/plain": [
       "3011"
      ]
     },
     "execution_count": 190,
     "metadata": {},
     "output_type": "execute_result"
    }
   ],
   "source": [
    "google.idxmax()"
   ]
  },
  {
   "cell_type": "code",
   "execution_count": 192,
   "id": "a817ebf4",
   "metadata": {},
   "outputs": [
    {
     "data": {
      "text/plain": [
       "782.22"
      ]
     },
     "execution_count": 192,
     "metadata": {},
     "output_type": "execute_result"
    }
   ],
   "source": [
    "google[3011]"
   ]
  },
  {
   "cell_type": "code",
   "execution_count": 193,
   "id": "49c2306d",
   "metadata": {},
   "outputs": [
    {
     "data": {
      "text/plain": [
       "49.95"
      ]
     },
     "execution_count": 193,
     "metadata": {},
     "output_type": "execute_result"
    }
   ],
   "source": [
    "google.min()"
   ]
  },
  {
   "cell_type": "code",
   "execution_count": 194,
   "id": "6b7be474",
   "metadata": {},
   "outputs": [
    {
     "data": {
      "text/plain": [
       "11"
      ]
     },
     "execution_count": 194,
     "metadata": {},
     "output_type": "execute_result"
    }
   ],
   "source": [
    "google.idxmin()"
   ]
  },
  {
   "cell_type": "code",
   "execution_count": 195,
   "id": "f77c0140",
   "metadata": {},
   "outputs": [
    {
     "data": {
      "text/plain": [
       "49.95"
      ]
     },
     "execution_count": 195,
     "metadata": {},
     "output_type": "execute_result"
    }
   ],
   "source": [
    "google[11]"
   ]
  },
  {
   "cell_type": "code",
   "execution_count": 196,
   "id": "7803c840",
   "metadata": {},
   "outputs": [
    {
     "data": {
      "text/plain": [
       "49.95"
      ]
     },
     "execution_count": 196,
     "metadata": {},
     "output_type": "execute_result"
    }
   ],
   "source": [
    "google[google.idxmin()]"
   ]
  },
  {
   "cell_type": "markdown",
   "id": "5a498032",
   "metadata": {},
   "source": [
    "# The .value_counts() method"
   ]
  },
  {
   "cell_type": "code",
   "execution_count": 21,
   "id": "0249f932",
   "metadata": {},
   "outputs": [
    {
     "data": {
      "text/plain": [
       "Pokemon\n",
       "Bulbasaur     Grass\n",
       "Ivysaur       Grass\n",
       "Venusaur      Grass\n",
       "Charmander     Fire\n",
       "Charmeleon     Fire\n",
       "Name: Type, dtype: object"
      ]
     },
     "execution_count": 21,
     "metadata": {},
     "output_type": "execute_result"
    }
   ],
   "source": [
    "pokemon=pd.read_csv(\"pokemon.csv\",index_col=\"Pokemon\",squeeze=True)\n",
    "pokemon.head(5)\n"
   ]
  },
  {
   "cell_type": "code",
   "execution_count": 198,
   "id": "1f0a5a80",
   "metadata": {},
   "outputs": [
    {
     "data": {
      "text/plain": [
       "Water       105\n",
       "Normal       93\n",
       "Grass        66\n",
       "Bug          63\n",
       "Fire         47\n",
       "Psychic      47\n",
       "Rock         41\n",
       "Electric     36\n",
       "Ground       30\n",
       "Poison       28\n",
       "Dark         28\n",
       "Fighting     25\n",
       "Dragon       24\n",
       "Ghost        23\n",
       "Ice          23\n",
       "Steel        22\n",
       "Fairy        17\n",
       "Flying        3\n",
       "Name: Type, dtype: int64"
      ]
     },
     "execution_count": 198,
     "metadata": {},
     "output_type": "execute_result"
    }
   ],
   "source": [
    "  pokemon.value_counts()"
   ]
  },
  {
   "cell_type": "code",
   "execution_count": 200,
   "id": "cf2ff95d",
   "metadata": {},
   "outputs": [
    {
     "data": {
      "text/plain": [
       "Series([], Name: Type, dtype: object)"
      ]
     },
     "execution_count": 200,
     "metadata": {},
     "output_type": "execute_result"
    }
   ],
   "source": [
    "grs=pokemon.filter(items=[\"Grass\"])\n",
    "grs"
   ]
  },
  {
   "cell_type": "code",
   "execution_count": 201,
   "id": "4bed87b3",
   "metadata": {},
   "outputs": [
    {
     "data": {
      "text/plain": [
       "721"
      ]
     },
     "execution_count": 201,
     "metadata": {},
     "output_type": "execute_result"
    }
   ],
   "source": [
    "  pokemon.value_counts().sum()"
   ]
  },
  {
   "cell_type": "code",
   "execution_count": 202,
   "id": "7a7a868a",
   "metadata": {},
   "outputs": [
    {
     "data": {
      "text/plain": [
       "721"
      ]
     },
     "execution_count": 202,
     "metadata": {},
     "output_type": "execute_result"
    }
   ],
   "source": [
    "pokemon.count()"
   ]
  },
  {
   "cell_type": "markdown",
   "id": "402365cd",
   "metadata": {},
   "source": [
    "# The .apply() Method"
   ]
  },
  {
   "cell_type": "code",
   "execution_count": 17,
   "id": "4da42bf1",
   "metadata": {},
   "outputs": [
    {
     "data": {
      "text/plain": [
       "0    50.12\n",
       "1    54.10\n",
       "2    54.65\n",
       "3    52.38\n",
       "4    52.95\n",
       "Name: Stock Price, dtype: float64"
      ]
     },
     "execution_count": 17,
     "metadata": {},
     "output_type": "execute_result"
    }
   ],
   "source": [
    "google.head(5)"
   ]
  },
  {
   "cell_type": "code",
   "execution_count": 23,
   "id": "8f8fb6ff",
   "metadata": {},
   "outputs": [],
   "source": [
    "def clsfy_perfrmce(num):\n",
    "    if num<300:\n",
    "        return \"ok\"\n",
    "    elif num>=300 and num<650:\n",
    "        return \"satisfactory\"\n",
    "    else:\n",
    "        return \"incredible\""
   ]
  },
  {
   "cell_type": "code",
   "execution_count": 24,
   "id": "fb0b4467",
   "metadata": {},
   "outputs": [
    {
     "data": {
      "text/plain": [
       "0               ok\n",
       "1               ok\n",
       "2               ok\n",
       "3               ok\n",
       "4               ok\n",
       "           ...    \n",
       "3007    incredible\n",
       "3008    incredible\n",
       "3009    incredible\n",
       "3010    incredible\n",
       "3011    incredible\n",
       "Name: Stock Price, Length: 3012, dtype: object"
      ]
     },
     "execution_count": 24,
     "metadata": {},
     "output_type": "execute_result"
    }
   ],
   "source": [
    "google.apply(clsfy_perfrmce)"
   ]
  },
  {
   "cell_type": "code",
   "execution_count": 206,
   "id": "1a1ee7e8",
   "metadata": {},
   "outputs": [
    {
     "data": {
      "text/plain": [
       "0    50.12\n",
       "1    54.10\n",
       "2    54.65\n",
       "3    52.38\n",
       "4    52.95\n",
       "5    53.90\n",
       "Name: Stock Price, dtype: float64"
      ]
     },
     "execution_count": 206,
     "metadata": {},
     "output_type": "execute_result"
    }
   ],
   "source": [
    "google.head(6)"
   ]
  },
  {
   "cell_type": "code",
   "execution_count": 207,
   "id": "f4464b6b",
   "metadata": {},
   "outputs": [
    {
     "data": {
      "text/plain": [
       "0        51.12\n",
       "1        55.10\n",
       "2        55.65\n",
       "3        53.38\n",
       "4        53.95\n",
       "         ...  \n",
       "3007    773.88\n",
       "3008    772.07\n",
       "3009    774.18\n",
       "3010    772.61\n",
       "3011    783.22\n",
       "Name: Stock Price, Length: 3012, dtype: float64"
      ]
     },
     "execution_count": 207,
     "metadata": {},
     "output_type": "execute_result"
    }
   ],
   "source": [
    "google.apply(lambda stock_price:stock_price+1)"
   ]
  },
  {
   "cell_type": "markdown",
   "id": "f772cf2f",
   "metadata": {},
   "source": [
    "# The .map() method"
   ]
  },
  {
   "cell_type": "code",
   "execution_count": 213,
   "id": "e55a809d",
   "metadata": {},
   "outputs": [
    {
     "data": {
      "text/plain": [
       "0    Bulbasaur\n",
       "1      Ivysaur\n",
       "2     Venusaur\n",
       "Name: Pokemon, dtype: object"
      ]
     },
     "execution_count": 213,
     "metadata": {},
     "output_type": "execute_result"
    }
   ],
   "source": [
    "pokemon=pd.read_csv(\"pokemon.csv\",usecols=[\"Pokemon\"],squeeze=True)\n",
    "pokemon.head(3)"
   ]
  },
  {
   "cell_type": "code",
   "execution_count": 212,
   "id": "c7287c1a",
   "metadata": {},
   "outputs": [
    {
     "data": {
      "text/plain": [
       "Pokemon\n",
       "Bulbasaur    Grass\n",
       "Ivysaur      Grass\n",
       "Venusaur     Grass\n",
       "Name: Type, dtype: object"
      ]
     },
     "execution_count": 212,
     "metadata": {},
     "output_type": "execute_result"
    }
   ],
   "source": [
    "pokemon_types=pd.read_csv(\"pokemon.csv\",index_col=\"Pokemon\",squeeze=True)\n",
    "pokemon_types.head(3)"
   ]
  },
  {
   "cell_type": "code",
   "execution_count": 214,
   "id": "1a4c96ab",
   "metadata": {},
   "outputs": [
    {
     "data": {
      "text/plain": [
       "0        Grass\n",
       "1        Grass\n",
       "2        Grass\n",
       "3         Fire\n",
       "4         Fire\n",
       "        ...   \n",
       "716       Dark\n",
       "717     Dragon\n",
       "718       Rock\n",
       "719    Psychic\n",
       "720       Fire\n",
       "Name: Pokemon, Length: 721, dtype: object"
      ]
     },
     "execution_count": 214,
     "metadata": {},
     "output_type": "execute_result"
    }
   ],
   "source": [
    "pokemon.map(pokemon_types)"
   ]
  },
  {
   "cell_type": "code",
   "execution_count": 225,
   "id": "88077b7e",
   "metadata": {},
   "outputs": [],
   "source": [
    "pokemon=pd.read_csv(\"pokemon.csv\",usecols=[\"Pokemon\"],squeeze=True)\n",
    "pokemon_types=pd.read_csv(\"pokemon.csv\",index_col=\"Pokemon\",squeeze=True).to_dict()\n"
   ]
  },
  {
   "cell_type": "code",
   "execution_count": 226,
   "id": "f9127922",
   "metadata": {},
   "outputs": [
    {
     "data": {
      "text/plain": [
       "0    Bulbasaur\n",
       "1      Ivysaur\n",
       "2     Venusaur\n",
       "Name: Pokemon, dtype: object"
      ]
     },
     "execution_count": 226,
     "metadata": {},
     "output_type": "execute_result"
    }
   ],
   "source": [
    "pokemon.head(3)"
   ]
  },
  {
   "cell_type": "code",
   "execution_count": 229,
   "id": "4753bea3",
   "metadata": {},
   "outputs": [
    {
     "data": {
      "text/plain": [
       "{'Bulbasaur': 'Grass',\n",
       " 'Ivysaur': 'Grass',\n",
       " 'Venusaur': 'Grass',\n",
       " 'Charmander': 'Fire',\n",
       " 'Charmeleon': 'Fire',\n",
       " 'Charizard': 'Fire',\n",
       " 'Squirtle': 'Water',\n",
       " 'Wartortle': 'Water',\n",
       " 'Blastoise': 'Water',\n",
       " 'Caterpie': 'Bug',\n",
       " 'Metapod': 'Bug',\n",
       " 'Butterfree': 'Bug',\n",
       " 'Weedle': 'Bug',\n",
       " 'Kakuna': 'Bug',\n",
       " 'Beedrill': 'Bug',\n",
       " 'Pidgey': 'Normal',\n",
       " 'Pidgeotto': 'Normal',\n",
       " 'Pidgeot': 'Normal',\n",
       " 'Rattata': 'Normal',\n",
       " 'Raticate': 'Normal',\n",
       " 'Spearow': 'Normal',\n",
       " 'Fearow': 'Normal',\n",
       " 'Ekans': 'Poison',\n",
       " 'Arbok': 'Poison',\n",
       " 'Pikachu': 'Electric',\n",
       " 'Raichu': 'Electric',\n",
       " 'Sandshrew': 'Ground',\n",
       " 'Sandslash': 'Ground',\n",
       " 'Nidoran': 'Poison',\n",
       " 'Nidorina': 'Poison',\n",
       " 'Nidoqueen': 'Poison',\n",
       " 'Nidoran♂': 'Poison',\n",
       " 'Nidorino': 'Poison',\n",
       " 'Nidoking': 'Poison',\n",
       " 'Clefairy': 'Fairy',\n",
       " 'Clefable': 'Fairy',\n",
       " 'Vulpix': 'Fire',\n",
       " 'Ninetales': 'Fire',\n",
       " 'Jigglypuff': 'Normal',\n",
       " 'Wigglytuff': 'Normal',\n",
       " 'Zubat': 'Poison',\n",
       " 'Golbat': 'Poison',\n",
       " 'Oddish': 'Grass',\n",
       " 'Gloom': 'Grass',\n",
       " 'Vileplume': 'Grass',\n",
       " 'Paras': 'Bug',\n",
       " 'Parasect': 'Bug',\n",
       " 'Venonat': 'Bug',\n",
       " 'Venomoth': 'Bug',\n",
       " 'Diglett': 'Ground',\n",
       " 'Dugtrio': 'Ground',\n",
       " 'Meowth': 'Normal',\n",
       " 'Persian': 'Normal',\n",
       " 'Psyduck': 'Water',\n",
       " 'Golduck': 'Water',\n",
       " 'Mankey': 'Fighting',\n",
       " 'Primeape': 'Fighting',\n",
       " 'Growlithe': 'Fire',\n",
       " 'Arcanine': 'Fire',\n",
       " 'Poliwag': 'Water',\n",
       " 'Poliwhirl': 'Water',\n",
       " 'Poliwrath': 'Water',\n",
       " 'Abra': 'Psychic',\n",
       " 'Kadabra': 'Psychic',\n",
       " 'Alakazam': 'Psychic',\n",
       " 'Machop': 'Fighting',\n",
       " 'Machoke': 'Fighting',\n",
       " 'Machamp': 'Fighting',\n",
       " 'Bellsprout': 'Grass',\n",
       " 'Weepinbell': 'Grass',\n",
       " 'Victreebel': 'Grass',\n",
       " 'Tentacool': 'Water',\n",
       " 'Tentacruel': 'Water',\n",
       " 'Geodude': 'Rock',\n",
       " 'Graveler': 'Rock',\n",
       " 'Golem': 'Rock',\n",
       " 'Ponyta': 'Fire',\n",
       " 'Rapidash': 'Fire',\n",
       " 'Slowpoke': 'Water',\n",
       " 'Slowbro': 'Water',\n",
       " 'Magnemite': 'Electric',\n",
       " 'Magneton': 'Electric',\n",
       " \"Farfetch'd\": 'Normal',\n",
       " 'Doduo': 'Normal',\n",
       " 'Dodrio': 'Normal',\n",
       " 'Seel': 'Water',\n",
       " 'Dewgong': 'Water',\n",
       " 'Grimer': 'Poison',\n",
       " 'Muk': 'Poison',\n",
       " 'Shellder': 'Water',\n",
       " 'Cloyster': 'Water',\n",
       " 'Gastly': 'Ghost',\n",
       " 'Haunter': 'Ghost',\n",
       " 'Gengar': 'Ghost',\n",
       " 'Onix': 'Rock',\n",
       " 'Drowzee': 'Psychic',\n",
       " 'Hypno': 'Psychic',\n",
       " 'Krabby': 'Water',\n",
       " 'Kingler': 'Water',\n",
       " 'Voltorb': 'Electric',\n",
       " 'Electrode': 'Electric',\n",
       " 'Exeggcute': 'Grass',\n",
       " 'Exeggutor': 'Grass',\n",
       " 'Cubone': 'Ground',\n",
       " 'Marowak': 'Ground',\n",
       " 'Hitmonlee': 'Fighting',\n",
       " 'Hitmonchan': 'Fighting',\n",
       " 'Lickitung': 'Normal',\n",
       " 'Koffing': 'Poison',\n",
       " 'Weezing': 'Poison',\n",
       " 'Rhyhorn': 'Ground',\n",
       " 'Rhydon': 'Ground',\n",
       " 'Chansey': 'Normal',\n",
       " 'Tangela': 'Grass',\n",
       " 'Kangaskhan': 'Normal',\n",
       " 'Horsea': 'Water',\n",
       " 'Seadra': 'Water',\n",
       " 'Goldeen': 'Water',\n",
       " 'Seaking': 'Water',\n",
       " 'Staryu': 'Water',\n",
       " 'Starmie': 'Water',\n",
       " 'Mr. Mime': 'Psychic',\n",
       " 'Scyther': 'Bug',\n",
       " 'Jynx': 'Ice',\n",
       " 'Electabuzz': 'Electric',\n",
       " 'Magmar': 'Fire',\n",
       " 'Pinsir': 'Bug',\n",
       " 'Tauros': 'Normal',\n",
       " 'Magikarp': 'Water',\n",
       " 'Gyarados': 'Water',\n",
       " 'Lapras': 'Water',\n",
       " 'Ditto': 'Normal',\n",
       " 'Eevee': 'Normal',\n",
       " 'Vaporeon': 'Water',\n",
       " 'Jolteon': 'Electric',\n",
       " 'Flareon': 'Fire',\n",
       " 'Porygon': 'Normal',\n",
       " 'Omanyte': 'Rock',\n",
       " 'Omastar': 'Rock',\n",
       " 'Kabuto': 'Rock',\n",
       " 'Kabutops': 'Rock',\n",
       " 'Aerodactyl': 'Rock',\n",
       " 'Snorlax': 'Normal',\n",
       " 'Articuno': 'Ice',\n",
       " 'Zapdos': 'Electric',\n",
       " 'Moltres': 'Fire',\n",
       " 'Dratini': 'Dragon',\n",
       " 'Dragonair': 'Dragon',\n",
       " 'Dragonite': 'Dragon',\n",
       " 'Mewtwo': 'Psychic',\n",
       " 'Mew': 'Psychic',\n",
       " 'Chikorita': 'Grass',\n",
       " 'Bayleef': 'Grass',\n",
       " 'Meganium': 'Grass',\n",
       " 'Cyndaquil': 'Fire',\n",
       " 'Quilava': 'Fire',\n",
       " 'Typhlosion': 'Fire',\n",
       " 'Totodile': 'Water',\n",
       " 'Croconaw': 'Water',\n",
       " 'Feraligatr': 'Water',\n",
       " 'Sentret': 'Normal',\n",
       " 'Furret': 'Normal',\n",
       " 'Hoothoot': 'Normal',\n",
       " 'Noctowl': 'Normal',\n",
       " 'Ledyba': 'Bug',\n",
       " 'Ledian': 'Bug',\n",
       " 'Spinarak': 'Bug',\n",
       " 'Ariados': 'Bug',\n",
       " 'Crobat': 'Poison',\n",
       " 'Chinchou': 'Water',\n",
       " 'Lanturn': 'Water',\n",
       " 'Pichu': 'Electric',\n",
       " 'Cleffa': 'Fairy',\n",
       " 'Igglybuff': 'Normal',\n",
       " 'Togepi': 'Fairy',\n",
       " 'Togetic': 'Fairy',\n",
       " 'Natu': 'Psychic',\n",
       " 'Xatu': 'Psychic',\n",
       " 'Mareep': 'Electric',\n",
       " 'Flaaffy': 'Electric',\n",
       " 'Ampharos': 'Electric',\n",
       " 'Bellossom': 'Grass',\n",
       " 'Marill': 'Water',\n",
       " 'Azumarill': 'Water',\n",
       " 'Sudowoodo': 'Rock',\n",
       " 'Politoed': 'Water',\n",
       " 'Hoppip': 'Grass',\n",
       " 'Skiploom': 'Grass',\n",
       " 'Jumpluff': 'Grass',\n",
       " 'Aipom': 'Normal',\n",
       " 'Sunkern': 'Grass',\n",
       " 'Sunflora': 'Grass',\n",
       " 'Yanma': 'Bug',\n",
       " 'Wooper': 'Water',\n",
       " 'Quagsire': 'Water',\n",
       " 'Espeon': 'Psychic',\n",
       " 'Umbreon': 'Dark',\n",
       " 'Murkrow': 'Dark',\n",
       " 'Slowking': 'Water',\n",
       " 'Misdreavus': 'Ghost',\n",
       " 'Unown': 'Psychic',\n",
       " 'Wobbuffet': 'Psychic',\n",
       " 'Girafarig': 'Normal',\n",
       " 'Pineco': 'Bug',\n",
       " 'Forretress': 'Bug',\n",
       " 'Dunsparce': 'Normal',\n",
       " 'Gligar': 'Ground',\n",
       " 'Steelix': 'Steel',\n",
       " 'Snubbull': 'Fairy',\n",
       " 'Granbull': 'Fairy',\n",
       " 'Qwilfish': 'Water',\n",
       " 'Scizor': 'Bug',\n",
       " 'Shuckle': 'Bug',\n",
       " 'Heracross': 'Bug',\n",
       " 'Sneasel': 'Dark',\n",
       " 'Teddiursa': 'Normal',\n",
       " 'Ursaring': 'Normal',\n",
       " 'Slugma': 'Fire',\n",
       " 'Magcargo': 'Fire',\n",
       " 'Swinub': 'Ice',\n",
       " 'Piloswine': 'Ice',\n",
       " 'Corsola': 'Water',\n",
       " 'Remoraid': 'Water',\n",
       " 'Octillery': 'Water',\n",
       " 'Delibird': 'Ice',\n",
       " 'Mantine': 'Water',\n",
       " 'Skarmory': 'Steel',\n",
       " 'Houndour': 'Dark',\n",
       " 'Houndoom': 'Dark',\n",
       " 'Kingdra': 'Water',\n",
       " 'Phanpy': 'Ground',\n",
       " 'Donphan': 'Ground',\n",
       " 'Porygon2': 'Normal',\n",
       " 'Stantler': 'Normal',\n",
       " 'Smeargle': 'Normal',\n",
       " 'Tyrogue': 'Fighting',\n",
       " 'Hitmontop': 'Fighting',\n",
       " 'Smoochum': 'Ice',\n",
       " 'Elekid': 'Electric',\n",
       " 'Magby': 'Fire',\n",
       " 'Miltank': 'Normal',\n",
       " 'Blissey': 'Normal',\n",
       " 'Raikou': 'Electric',\n",
       " 'Entei': 'Fire',\n",
       " 'Suicune': 'Water',\n",
       " 'Larvitar': 'Rock',\n",
       " 'Pupitar': 'Rock',\n",
       " 'Tyranitar': 'Rock',\n",
       " 'Lugia': 'Psychic',\n",
       " 'Ho-oh': 'Fire',\n",
       " 'Celebi': 'Psychic',\n",
       " 'Treecko': 'Grass',\n",
       " 'Grovyle': 'Grass',\n",
       " 'Sceptile': 'Grass',\n",
       " 'Torchic': 'Fire',\n",
       " 'Combusken': 'Fire',\n",
       " 'Blaziken': 'Fire',\n",
       " 'Mudkip': 'Water',\n",
       " 'Marshtomp': 'Water',\n",
       " 'Swampert': 'Water',\n",
       " 'Poochyena': 'Dark',\n",
       " 'Mightyena': 'Dark',\n",
       " 'Zigzagoon': 'Normal',\n",
       " 'Linoone': 'Normal',\n",
       " 'Wurmple': 'Bug',\n",
       " 'Silcoon': 'Bug',\n",
       " 'Beautifly': 'Bug',\n",
       " 'Cascoon': 'Bug',\n",
       " 'Dustox': 'Bug',\n",
       " 'Lotad': 'Water',\n",
       " 'Lombre': 'Water',\n",
       " 'Ludicolo': 'Water',\n",
       " 'Seedot': 'Grass',\n",
       " 'Nuzleaf': 'Grass',\n",
       " 'Shiftry': 'Grass',\n",
       " 'Taillow': 'Normal',\n",
       " 'Swellow': 'Normal',\n",
       " 'Wingull': 'Water',\n",
       " 'Pelipper': 'Water',\n",
       " 'Ralts': 'Psychic',\n",
       " 'Kirlia': 'Psychic',\n",
       " 'Gardevoir': 'Psychic',\n",
       " 'Surskit': 'Bug',\n",
       " 'Masquerain': 'Bug',\n",
       " 'Shroomish': 'Grass',\n",
       " 'Breloom': 'Grass',\n",
       " 'Slakoth': 'Normal',\n",
       " 'Vigoroth': 'Normal',\n",
       " 'Slaking': 'Normal',\n",
       " 'Nincada': 'Bug',\n",
       " 'Ninjask': 'Bug',\n",
       " 'Shedinja': 'Bug',\n",
       " 'Whismur': 'Normal',\n",
       " 'Loudred': 'Normal',\n",
       " 'Exploud': 'Normal',\n",
       " 'Makuhita': 'Fighting',\n",
       " 'Hariyama': 'Fighting',\n",
       " 'Azurill': 'Normal',\n",
       " 'Nosepass': 'Rock',\n",
       " 'Skitty': 'Normal',\n",
       " 'Delcatty': 'Normal',\n",
       " 'Sableye': 'Dark',\n",
       " 'Mawile': 'Steel',\n",
       " 'Aron': 'Steel',\n",
       " 'Lairon': 'Steel',\n",
       " 'Aggron': 'Steel',\n",
       " 'Meditite': 'Fighting',\n",
       " 'Medicham': 'Fighting',\n",
       " 'Electrike': 'Electric',\n",
       " 'Manectric': 'Electric',\n",
       " 'Plusle': 'Electric',\n",
       " 'Minun': 'Electric',\n",
       " 'Volbeat': 'Bug',\n",
       " 'Illumise': 'Bug',\n",
       " 'Roselia': 'Grass',\n",
       " 'Gulpin': 'Poison',\n",
       " 'Swalot': 'Poison',\n",
       " 'Carvanha': 'Water',\n",
       " 'Sharpedo': 'Water',\n",
       " 'Wailmer': 'Water',\n",
       " 'Wailord': 'Water',\n",
       " 'Numel': 'Fire',\n",
       " 'Camerupt': 'Fire',\n",
       " 'Torkoal': 'Fire',\n",
       " 'Spoink': 'Psychic',\n",
       " 'Grumpig': 'Psychic',\n",
       " 'Spinda': 'Normal',\n",
       " 'Trapinch': 'Ground',\n",
       " 'Vibrava': 'Ground',\n",
       " 'Flygon': 'Ground',\n",
       " 'Cacnea': 'Grass',\n",
       " 'Cacturne': 'Grass',\n",
       " 'Swablu': 'Normal',\n",
       " 'Altaria': 'Dragon',\n",
       " 'Zangoose': 'Normal',\n",
       " 'Seviper': 'Poison',\n",
       " 'Lunatone': 'Rock',\n",
       " 'Solrock': 'Rock',\n",
       " 'Barboach': 'Water',\n",
       " 'Whiscash': 'Water',\n",
       " 'Corphish': 'Water',\n",
       " 'Crawdaunt': 'Water',\n",
       " 'Baltoy': 'Ground',\n",
       " 'Claydol': 'Ground',\n",
       " 'Lileep': 'Rock',\n",
       " 'Cradily': 'Rock',\n",
       " 'Anorith': 'Rock',\n",
       " 'Armaldo': 'Rock',\n",
       " 'Feebas': 'Water',\n",
       " 'Milotic': 'Water',\n",
       " 'Castform': 'Normal',\n",
       " 'Kecleon': 'Normal',\n",
       " 'Shuppet': 'Ghost',\n",
       " 'Banette': 'Ghost',\n",
       " 'Duskull': 'Ghost',\n",
       " 'Dusclops': 'Ghost',\n",
       " 'Tropius': 'Grass',\n",
       " 'Chimecho': 'Psychic',\n",
       " 'Absol': 'Dark',\n",
       " 'Wynaut': 'Psychic',\n",
       " 'Snorunt': 'Ice',\n",
       " 'Glalie': 'Ice',\n",
       " 'Spheal': 'Ice',\n",
       " 'Sealeo': 'Ice',\n",
       " 'Walrein': 'Ice',\n",
       " 'Clamperl': 'Water',\n",
       " 'Huntail': 'Water',\n",
       " 'Gorebyss': 'Water',\n",
       " 'Relicanth': 'Water',\n",
       " 'Luvdisc': 'Water',\n",
       " 'Bagon': 'Dragon',\n",
       " 'Shelgon': 'Dragon',\n",
       " 'Salamence': 'Dragon',\n",
       " 'Beldum': 'Steel',\n",
       " 'Metang': 'Steel',\n",
       " 'Metagross': 'Steel',\n",
       " 'Regirock': 'Rock',\n",
       " 'Regice': 'Ice',\n",
       " 'Registeel': 'Steel',\n",
       " 'Latias': 'Dragon',\n",
       " 'Latios': 'Dragon',\n",
       " 'Kyogre': 'Water',\n",
       " 'Groudon': 'Ground',\n",
       " 'Rayquaza': 'Dragon',\n",
       " 'Jirachi': 'Steel',\n",
       " 'Deoxys': 'Psychic',\n",
       " 'Turtwig': 'Grass',\n",
       " 'Grotle': 'Grass',\n",
       " 'Torterra': 'Grass',\n",
       " 'Chimchar': 'Fire',\n",
       " 'Monferno': 'Fire',\n",
       " 'Infernape': 'Fire',\n",
       " 'Piplup': 'Water',\n",
       " 'Prinplup': 'Water',\n",
       " 'Empoleon': 'Water',\n",
       " 'Starly': 'Normal',\n",
       " 'Staravia': 'Normal',\n",
       " 'Staraptor': 'Normal',\n",
       " 'Bidoof': 'Normal',\n",
       " 'Bibarel': 'Normal',\n",
       " 'Kricketot': 'Bug',\n",
       " 'Kricketune': 'Bug',\n",
       " 'Shinx': 'Electric',\n",
       " 'Luxio': 'Electric',\n",
       " 'Luxray': 'Electric',\n",
       " 'Budew': 'Grass',\n",
       " 'Roserade': 'Grass',\n",
       " 'Cranidos': 'Rock',\n",
       " 'Rampardos': 'Rock',\n",
       " 'Shieldon': 'Rock',\n",
       " 'Bastiodon': 'Rock',\n",
       " 'Burmy': 'Bug',\n",
       " 'Wormadam': 'Bug',\n",
       " 'Mothim': 'Bug',\n",
       " 'Combee': 'Bug',\n",
       " 'Vespiquen': 'Bug',\n",
       " 'Pachirisu': 'Electric',\n",
       " 'Buizel': 'Water',\n",
       " 'Floatzel': 'Water',\n",
       " 'Cherubi': 'Grass',\n",
       " 'Cherrim': 'Grass',\n",
       " 'Shellos': 'Water',\n",
       " 'Gastrodon': 'Water',\n",
       " 'Ambipom': 'Normal',\n",
       " 'Drifloon': 'Ghost',\n",
       " 'Drifblim': 'Ghost',\n",
       " 'Buneary': 'Normal',\n",
       " 'Lopunny': 'Normal',\n",
       " 'Mismagius': 'Ghost',\n",
       " 'Honchkrow': 'Dark',\n",
       " 'Glameow': 'Normal',\n",
       " 'Purugly': 'Normal',\n",
       " 'Chingling': 'Psychic',\n",
       " 'Stunky': 'Poison',\n",
       " 'Skuntank': 'Poison',\n",
       " 'Bronzor': 'Steel',\n",
       " 'Bronzong': 'Steel',\n",
       " 'Bonsly': 'Rock',\n",
       " 'Mime Jr.': 'Psychic',\n",
       " 'Happiny': 'Normal',\n",
       " 'Chatot': 'Normal',\n",
       " 'Spiritomb': 'Ghost',\n",
       " 'Gible': 'Dragon',\n",
       " 'Gabite': 'Dragon',\n",
       " 'Garchomp': 'Dragon',\n",
       " 'Munchlax': 'Normal',\n",
       " 'Riolu': 'Fighting',\n",
       " 'Lucario': 'Fighting',\n",
       " 'Hippopotas': 'Ground',\n",
       " 'Hippowdon': 'Ground',\n",
       " 'Skorupi': 'Poison',\n",
       " 'Drapion': 'Poison',\n",
       " 'Croagunk': 'Poison',\n",
       " 'Toxicroak': 'Poison',\n",
       " 'Carnivine': 'Grass',\n",
       " 'Finneon': 'Water',\n",
       " 'Lumineon': 'Water',\n",
       " 'Mantyke': 'Water',\n",
       " 'Snover': 'Grass',\n",
       " 'Abomasnow': 'Grass',\n",
       " 'Weavile': 'Dark',\n",
       " 'Magnezone': 'Electric',\n",
       " 'Lickilicky': 'Normal',\n",
       " 'Rhyperior': 'Ground',\n",
       " 'Tangrowth': 'Grass',\n",
       " 'Electivire': 'Electric',\n",
       " 'Magmortar': 'Fire',\n",
       " 'Togekiss': 'Fairy',\n",
       " 'Yanmega': 'Bug',\n",
       " 'Leafeon': 'Grass',\n",
       " 'Glaceon': 'Ice',\n",
       " 'Gliscor': 'Ground',\n",
       " 'Mamoswine': 'Ice',\n",
       " 'Porygon-Z': 'Normal',\n",
       " 'Gallade': 'Psychic',\n",
       " 'Probopass': 'Rock',\n",
       " 'Dusknoir': 'Ghost',\n",
       " 'Froslass': 'Ice',\n",
       " 'Rotom': 'Electric',\n",
       " 'Uxie': 'Psychic',\n",
       " 'Mesprit': 'Psychic',\n",
       " 'Azelf': 'Psychic',\n",
       " 'Dialga': 'Steel',\n",
       " 'Palkia': 'Water',\n",
       " 'Heatran': 'Fire',\n",
       " 'Regigigas': 'Normal',\n",
       " 'Giratina': 'Ghost',\n",
       " 'Cresselia': 'Psychic',\n",
       " 'Phione': 'Water',\n",
       " 'Manaphy': 'Water',\n",
       " 'Darkrai': 'Dark',\n",
       " 'Shaymin': 'Grass',\n",
       " 'Arceus': 'Normal',\n",
       " 'Victini': 'Psychic',\n",
       " 'Snivy': 'Grass',\n",
       " 'Servine': 'Grass',\n",
       " 'Serperior': 'Grass',\n",
       " 'Tepig': 'Fire',\n",
       " 'Pignite': 'Fire',\n",
       " 'Emboar': 'Fire',\n",
       " 'Oshawott': 'Water',\n",
       " 'Dewott': 'Water',\n",
       " 'Samurott': 'Water',\n",
       " 'Patrat': 'Normal',\n",
       " 'Watchog': 'Normal',\n",
       " 'Lillipup': 'Normal',\n",
       " 'Herdier': 'Normal',\n",
       " 'Stoutland': 'Normal',\n",
       " 'Purrloin': 'Dark',\n",
       " 'Liepard': 'Dark',\n",
       " 'Pansage': 'Grass',\n",
       " 'Simisage': 'Grass',\n",
       " 'Pansear': 'Fire',\n",
       " 'Simisear': 'Fire',\n",
       " 'Panpour': 'Water',\n",
       " 'Simipour': 'Water',\n",
       " 'Munna': 'Psychic',\n",
       " 'Musharna': 'Psychic',\n",
       " 'Pidove': 'Normal',\n",
       " 'Tranquill': 'Normal',\n",
       " 'Unfezant': 'Normal',\n",
       " 'Blitzle': 'Electric',\n",
       " 'Zebstrika': 'Electric',\n",
       " 'Roggenrola': 'Rock',\n",
       " 'Boldore': 'Rock',\n",
       " 'Gigalith': 'Rock',\n",
       " 'Woobat': 'Psychic',\n",
       " 'Swoobat': 'Psychic',\n",
       " 'Drilbur': 'Ground',\n",
       " 'Excadrill': 'Ground',\n",
       " 'Audino': 'Normal',\n",
       " 'Timburr': 'Fighting',\n",
       " 'Gurdurr': 'Fighting',\n",
       " 'Conkeldurr': 'Fighting',\n",
       " 'Tympole': 'Water',\n",
       " 'Palpitoad': 'Water',\n",
       " 'Seismitoad': 'Water',\n",
       " 'Throh': 'Fighting',\n",
       " 'Sawk': 'Fighting',\n",
       " 'Sewaddle': 'Bug',\n",
       " 'Swadloon': 'Bug',\n",
       " 'Leavanny': 'Bug',\n",
       " 'Venipede': 'Bug',\n",
       " 'Whirlipede': 'Bug',\n",
       " 'Scolipede': 'Bug',\n",
       " 'Cottonee': 'Grass',\n",
       " 'Whimsicott': 'Grass',\n",
       " 'Petilil': 'Grass',\n",
       " 'Lilligant': 'Grass',\n",
       " 'Basculin': 'Water',\n",
       " 'Sandile': 'Ground',\n",
       " 'Krokorok': 'Ground',\n",
       " 'Krookodile': 'Ground',\n",
       " 'Darumaka': 'Fire',\n",
       " 'Darmanitan': 'Fire',\n",
       " 'Maractus': 'Grass',\n",
       " 'Dwebble': 'Bug',\n",
       " 'Crustle': 'Bug',\n",
       " 'Scraggy': 'Dark',\n",
       " 'Scrafty': 'Dark',\n",
       " 'Sigilyph': 'Psychic',\n",
       " 'Yamask': 'Ghost',\n",
       " 'Cofagrigus': 'Ghost',\n",
       " 'Tirtouga': 'Water',\n",
       " 'Carracosta': 'Water',\n",
       " 'Archen': 'Rock',\n",
       " 'Archeops': 'Rock',\n",
       " 'Trubbish': 'Poison',\n",
       " 'Garbodor': 'Poison',\n",
       " 'Zorua': 'Dark',\n",
       " 'Zoroark': 'Dark',\n",
       " 'Minccino': 'Normal',\n",
       " 'Cinccino': 'Normal',\n",
       " 'Gothita': 'Psychic',\n",
       " 'Gothorita': 'Psychic',\n",
       " 'Gothitelle': 'Psychic',\n",
       " 'Solosis': 'Psychic',\n",
       " 'Duosion': 'Psychic',\n",
       " 'Reuniclus': 'Psychic',\n",
       " 'Ducklett': 'Water',\n",
       " 'Swanna': 'Water',\n",
       " 'Vanillite': 'Ice',\n",
       " 'Vanillish': 'Ice',\n",
       " 'Vanilluxe': 'Ice',\n",
       " 'Deerling': 'Normal',\n",
       " 'Sawsbuck': 'Normal',\n",
       " 'Emolga': 'Electric',\n",
       " 'Karrablast': 'Bug',\n",
       " 'Escavalier': 'Bug',\n",
       " 'Foongus': 'Grass',\n",
       " 'Amoonguss': 'Grass',\n",
       " 'Frillish': 'Water',\n",
       " 'Jellicent': 'Water',\n",
       " 'Alomomola': 'Water',\n",
       " 'Joltik': 'Bug',\n",
       " 'Galvantula': 'Bug',\n",
       " 'Ferroseed': 'Grass',\n",
       " 'Ferrothorn': 'Grass',\n",
       " 'Klink': 'Steel',\n",
       " 'Klang': 'Steel',\n",
       " 'Klinklang': 'Steel',\n",
       " 'Tynamo': 'Electric',\n",
       " 'Eelektrik': 'Electric',\n",
       " 'Eelektross': 'Electric',\n",
       " 'Elgyem': 'Psychic',\n",
       " 'Beheeyem': 'Psychic',\n",
       " 'Litwick': 'Ghost',\n",
       " 'Lampent': 'Ghost',\n",
       " 'Chandelure': 'Ghost',\n",
       " 'Axew': 'Dragon',\n",
       " 'Fraxure': 'Dragon',\n",
       " 'Haxorus': 'Dragon',\n",
       " 'Cubchoo': 'Ice',\n",
       " 'Beartic': 'Ice',\n",
       " 'Cryogonal': 'Ice',\n",
       " 'Shelmet': 'Bug',\n",
       " 'Accelgor': 'Bug',\n",
       " 'Stunfisk': 'Ground',\n",
       " 'Mienfoo': 'Fighting',\n",
       " 'Mienshao': 'Fighting',\n",
       " 'Druddigon': 'Dragon',\n",
       " 'Golett': 'Ground',\n",
       " 'Golurk': 'Ground',\n",
       " 'Pawniard': 'Dark',\n",
       " 'Bisharp': 'Dark',\n",
       " 'Bouffalant': 'Normal',\n",
       " 'Rufflet': 'Normal',\n",
       " 'Braviary': 'Normal',\n",
       " 'Vullaby': 'Dark',\n",
       " 'Mandibuzz': 'Dark',\n",
       " 'Heatmor': 'Fire',\n",
       " 'Durant': 'Bug',\n",
       " 'Deino': 'Dark',\n",
       " 'Zweilous': 'Dark',\n",
       " 'Hydreigon': 'Dark',\n",
       " 'Larvesta': 'Bug',\n",
       " 'Volcarona': 'Bug',\n",
       " 'Cobalion': 'Steel',\n",
       " 'Terrakion': 'Rock',\n",
       " 'Virizion': 'Grass',\n",
       " 'Tornadus': 'Flying',\n",
       " 'Thundurus': 'Electric',\n",
       " 'Reshiram': 'Dragon',\n",
       " 'Zekrom': 'Dragon',\n",
       " 'Landorus': 'Ground',\n",
       " 'Kyurem': 'Dragon',\n",
       " 'Keldeo': 'Water',\n",
       " 'Meloetta': 'Normal',\n",
       " 'Genesect': 'Bug',\n",
       " 'Chespin': 'Grass',\n",
       " 'Quilladin': 'Grass',\n",
       " 'Chesnaught': 'Grass',\n",
       " 'Fennekin': 'Fire',\n",
       " 'Braixen': 'Fire',\n",
       " 'Delphox': 'Fire',\n",
       " 'Froakie': 'Water',\n",
       " 'Frogadier': 'Water',\n",
       " 'Greninja': 'Water',\n",
       " 'Bunnelby': 'Normal',\n",
       " 'Diggersby': 'Normal',\n",
       " 'Fletchling': 'Normal',\n",
       " 'Fletchinder': 'Fire',\n",
       " 'Talonflame': 'Fire',\n",
       " 'Scatterbug': 'Bug',\n",
       " 'Spewpa': 'Bug',\n",
       " 'Vivillon': 'Bug',\n",
       " 'Litleo': 'Fire',\n",
       " 'Pyroar': 'Fire',\n",
       " 'Flabébé': 'Fairy',\n",
       " 'Floette': 'Fairy',\n",
       " 'Florges': 'Fairy',\n",
       " 'Skiddo': 'Grass',\n",
       " 'Gogoat': 'Grass',\n",
       " 'Pancham': 'Fighting',\n",
       " 'Pangoro': 'Fighting',\n",
       " 'Furfrou': 'Normal',\n",
       " 'Espurr': 'Psychic',\n",
       " 'Meowstic': 'Psychic',\n",
       " 'Honedge': 'Steel',\n",
       " 'Doublade': 'Steel',\n",
       " 'Aegislash': 'Steel',\n",
       " 'Spritzee': 'Fairy',\n",
       " 'Aromatisse': 'Fairy',\n",
       " 'Swirlix': 'Fairy',\n",
       " 'Slurpuff': 'Fairy',\n",
       " 'Inkay': 'Dark',\n",
       " 'Malamar': 'Dark',\n",
       " 'Binacle': 'Rock',\n",
       " 'Barbaracle': 'Rock',\n",
       " 'Skrelp': 'Poison',\n",
       " 'Dragalge': 'Poison',\n",
       " 'Clauncher': 'Water',\n",
       " 'Clawitzer': 'Water',\n",
       " 'Helioptile': 'Electric',\n",
       " 'Heliolisk': 'Electric',\n",
       " 'Tyrunt': 'Rock',\n",
       " 'Tyrantrum': 'Rock',\n",
       " 'Amaura': 'Rock',\n",
       " 'Aurorus': 'Rock',\n",
       " 'Sylveon': 'Fairy',\n",
       " 'Hawlucha': 'Fighting',\n",
       " 'Dedenne': 'Electric',\n",
       " 'Carbink': 'Rock',\n",
       " 'Goomy': 'Dragon',\n",
       " 'Sliggoo': 'Dragon',\n",
       " 'Goodra': 'Dragon',\n",
       " 'Klefki': 'Steel',\n",
       " 'Phantump': 'Ghost',\n",
       " 'Trevenant': 'Ghost',\n",
       " 'Pumpkaboo': 'Ghost',\n",
       " 'Gourgeist': 'Ghost',\n",
       " 'Bergmite': 'Ice',\n",
       " 'Avalugg': 'Ice',\n",
       " 'Noibat': 'Flying',\n",
       " 'Noivern': 'Flying',\n",
       " 'Xerneas': 'Fairy',\n",
       " 'Yveltal': 'Dark',\n",
       " 'Zygarde': 'Dragon',\n",
       " 'Diancie': 'Rock',\n",
       " 'Hoopa': 'Psychic',\n",
       " 'Volcanion': 'Fire'}"
      ]
     },
     "execution_count": 229,
     "metadata": {},
     "output_type": "execute_result"
    }
   ],
   "source": [
    "pokemon_types"
   ]
  },
  {
   "cell_type": "code",
   "execution_count": 230,
   "id": "b2d2e804",
   "metadata": {
    "scrolled": true
   },
   "outputs": [
    {
     "data": {
      "text/plain": [
       "0        Grass\n",
       "1        Grass\n",
       "2        Grass\n",
       "3         Fire\n",
       "4         Fire\n",
       "        ...   \n",
       "716       Dark\n",
       "717     Dragon\n",
       "718       Rock\n",
       "719    Psychic\n",
       "720       Fire\n",
       "Name: Pokemon, Length: 721, dtype: object"
      ]
     },
     "execution_count": 230,
     "metadata": {},
     "output_type": "execute_result"
    }
   ],
   "source": [
    "pokemon.map(pokemon_types)"
   ]
  },
  {
   "cell_type": "code",
   "execution_count": 28,
   "id": "9f423c73",
   "metadata": {},
   "outputs": [
    {
     "data": {
      "text/plain": [
       "0    1\n",
       "1    2\n",
       "2    3\n",
       "3    4\n",
       "4    5\n",
       "5    3\n",
       "dtype: int64"
      ]
     },
     "execution_count": 28,
     "metadata": {},
     "output_type": "execute_result"
    }
   ],
   "source": [
    "l1=[1,2,3,4,5,3]\n",
    "l1=pd.Series(l1)\n",
    "l1"
   ]
  },
  {
   "cell_type": "code",
   "execution_count": 29,
   "id": "b6c266a0",
   "metadata": {},
   "outputs": [
    {
     "data": {
      "text/plain": [
       "0    Bob\n",
       "1    rob\n",
       "2    jim\n",
       "3    kim\n",
       "4    rim\n",
       "dtype: object"
      ]
     },
     "execution_count": 29,
     "metadata": {},
     "output_type": "execute_result"
    }
   ],
   "source": [
    "l2=[\"Bob\",\"rob\",\"jim\",\"kim\",\"rim\"]\n",
    "l2=pd.Series(l2)\n",
    "l2"
   ]
  },
  {
   "cell_type": "code",
   "execution_count": 30,
   "id": "8980742c",
   "metadata": {},
   "outputs": [
    {
     "data": {
      "text/plain": [
       "0    rob\n",
       "1    jim\n",
       "2    kim\n",
       "3    rim\n",
       "4    NaN\n",
       "5    kim\n",
       "dtype: object"
      ]
     },
     "execution_count": 30,
     "metadata": {},
     "output_type": "execute_result"
    }
   ],
   "source": [
    "l1.map(l2)"
   ]
  },
  {
   "cell_type": "code",
   "execution_count": 31,
   "id": "35add84c",
   "metadata": {},
   "outputs": [
    {
     "data": {
      "text/plain": [
       "{0: 'Bob', 1: 'rob', 2: 'jim', 3: 'kim', 4: 'rim'}"
      ]
     },
     "execution_count": 31,
     "metadata": {},
     "output_type": "execute_result"
    }
   ],
   "source": [
    "l2=dict(l2)\n",
    "l2"
   ]
  },
  {
   "cell_type": "code",
   "execution_count": 32,
   "id": "d7282abc",
   "metadata": {},
   "outputs": [
    {
     "data": {
      "text/plain": [
       "0    rob\n",
       "1    jim\n",
       "2    kim\n",
       "3    rim\n",
       "4    NaN\n",
       "5    kim\n",
       "dtype: object"
      ]
     },
     "execution_count": 32,
     "metadata": {},
     "output_type": "execute_result"
    }
   ],
   "source": [
    "l1.map(l2)"
   ]
  }
 ],
 "metadata": {
  "kernelspec": {
   "display_name": "Python 3",
   "language": "python",
   "name": "python3"
  },
  "language_info": {
   "codemirror_mode": {
    "name": "ipython",
    "version": 3
   },
   "file_extension": ".py",
   "mimetype": "text/x-python",
   "name": "python",
   "nbconvert_exporter": "python",
   "pygments_lexer": "ipython3",
   "version": "3.9.5"
  }
 },
 "nbformat": 4,
 "nbformat_minor": 5
}
