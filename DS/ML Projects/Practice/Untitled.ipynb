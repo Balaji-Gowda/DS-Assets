{
 "cells": [
  {
   "cell_type": "code",
   "execution_count": null,
   "id": "18c003b8",
   "metadata": {},
   "outputs": [],
   "source": [
    "from pyspark.sql import *\n",
    "import pandas as pd"
   ]
  },
  {
   "cell_type": "code",
   "execution_count": 2,
   "id": "b7d84931",
   "metadata": {},
   "outputs": [
    {
     "ename": "ModuleNotFoundError",
     "evalue": "No module named 'pyspark'",
     "output_type": "error",
     "traceback": [
      "\u001b[1;31m---------------------------------------------------------------------------\u001b[0m",
      "\u001b[1;31mModuleNotFoundError\u001b[0m                       Traceback (most recent call last)",
      "\u001b[1;32m<ipython-input-2-6859cf37abce>\u001b[0m in \u001b[0;36m<module>\u001b[1;34m\u001b[0m\n\u001b[1;32m----> 1\u001b[1;33m \u001b[1;32mfrom\u001b[0m \u001b[0mpyspark\u001b[0m\u001b[1;33m.\u001b[0m\u001b[0msql\u001b[0m \u001b[1;32mimport\u001b[0m \u001b[1;33m*\u001b[0m\u001b[1;33m\u001b[0m\u001b[1;33m\u001b[0m\u001b[0m\n\u001b[0m\u001b[0;32m      2\u001b[0m \u001b[1;32mimport\u001b[0m \u001b[0mpandas\u001b[0m \u001b[1;32mas\u001b[0m \u001b[0mpd\u001b[0m\u001b[1;33m\u001b[0m\u001b[1;33m\u001b[0m\u001b[0m\n\u001b[0;32m      3\u001b[0m \u001b[0mmyfinaldf\u001b[0m \u001b[1;33m=\u001b[0m \u001b[0mDataFrameWriter\u001b[0m\u001b[1;33m(\u001b[0m\u001b[0mmydf\u001b[0m\u001b[1;33m)\u001b[0m\u001b[1;33m\u001b[0m\u001b[1;33m\u001b[0m\u001b[0m\n\u001b[0;32m      4\u001b[0m \u001b[0mmyfinaldf\u001b[0m\u001b[1;33m.\u001b[0m\u001b[0mjdbc\u001b[0m\u001b[1;33m(\u001b[0m\u001b[0murl\u001b[0m\u001b[1;33m=\u001b[0m\u001b[0murl\u001b[0m\u001b[1;33m,\u001b[0m \u001b[0mtable\u001b[0m\u001b[1;33m=\u001b[0m \u001b[1;34m\"Active_Product\"\u001b[0m\u001b[1;33m,\u001b[0m \u001b[0mmode\u001b[0m \u001b[1;33m=\u001b[0m\u001b[1;34m\"app\"\u001b[0m\u001b[1;33m,\u001b[0m \u001b[0mproperties\u001b[0m \u001b[1;33m=\u001b[0m \u001b[0mproperties\u001b[0m\u001b[1;33m)\u001b[0m\u001b[1;33m\u001b[0m\u001b[1;33m\u001b[0m\u001b[0m\n",
      "\u001b[1;31mModuleNotFoundError\u001b[0m: No module named 'pyspark'"
     ]
    }
   ],
   "source": [
    "from pyspark.sql import *\n",
    "import pandas as pd\n",
    "myfinaldf = DataFrameWriter(mydf)\n",
    "myfinaldf.jdbc(url=url, table= \"Active_Product\", mode =\"app\", properties = properties)"
   ]
  },
  {
   "cell_type": "code",
   "execution_count": 1,
   "id": "23b7cf81",
   "metadata": {},
   "outputs": [
    {
     "name": "stdout",
     "output_type": "stream",
     "text": [
      "Collecting klib\n",
      "  Downloading klib-0.1.5-py3-none-any.whl (29 kB)\n",
      "Requirement already satisfied: numpy>=1.15.4 in c:\\users\\894524\\.conda\\envs\\pandas_pg\\lib\\site-packages (from klib) (1.20.3)\n",
      "Requirement already satisfied: scipy>=1.0.0 in c:\\users\\894524\\.conda\\envs\\pandas_pg\\lib\\site-packages (from klib) (1.6.2)\n",
      "Requirement already satisfied: scikit-learn>=0.23 in c:\\users\\894524\\.conda\\envs\\pandas_pg\\lib\\site-packages (from klib) (0.24.2)\n",
      "Requirement already satisfied: seaborn>=0.11.1 in c:\\users\\894524\\.conda\\envs\\pandas_pg\\lib\\site-packages (from klib) (0.11.1)\n",
      "Requirement already satisfied: matplotlib>=3.0.3 in c:\\users\\894524\\.conda\\envs\\pandas_pg\\lib\\site-packages (from klib) (3.3.4)\n",
      "Requirement already satisfied: pandas>=1.1 in c:\\users\\894524\\.conda\\envs\\pandas_pg\\lib\\site-packages (from klib) (1.3.0)\n",
      "Requirement already satisfied: python-dateutil>=2.1 in c:\\users\\894524\\.conda\\envs\\pandas_pg\\lib\\site-packages (from matplotlib>=3.0.3->klib) (2.8.2)\n",
      "Requirement already satisfied: kiwisolver>=1.0.1 in c:\\users\\894524\\.conda\\envs\\pandas_pg\\lib\\site-packages (from matplotlib>=3.0.3->klib) (1.3.1)\n",
      "Requirement already satisfied: cycler>=0.10 in c:\\users\\894524\\.conda\\envs\\pandas_pg\\lib\\site-packages (from matplotlib>=3.0.3->klib) (0.10.0)\n",
      "Requirement already satisfied: pyparsing!=2.0.4,!=2.1.2,!=2.1.6,>=2.0.3 in c:\\users\\894524\\.conda\\envs\\pandas_pg\\lib\\site-packages (from matplotlib>=3.0.3->klib) (2.4.7)\n",
      "Requirement already satisfied: pillow>=6.2.0 in c:\\users\\894524\\.conda\\envs\\pandas_pg\\lib\\site-packages (from matplotlib>=3.0.3->klib) (8.3.1)\n",
      "Requirement already satisfied: six in c:\\users\\894524\\appdata\\roaming\\python\\python39\\site-packages (from cycler>=0.10->matplotlib>=3.0.3->klib) (1.16.0)\n",
      "Requirement already satisfied: pytz>=2017.3 in c:\\users\\894524\\.conda\\envs\\pandas_pg\\lib\\site-packages (from pandas>=1.1->klib) (2021.1)\n",
      "Requirement already satisfied: threadpoolctl>=2.0.0 in c:\\users\\894524\\.conda\\envs\\pandas_pg\\lib\\site-packages (from scikit-learn>=0.23->klib) (2.2.0)\n",
      "Requirement already satisfied: joblib>=0.11 in c:\\users\\894524\\.conda\\envs\\pandas_pg\\lib\\site-packages (from scikit-learn>=0.23->klib) (1.0.1)\n",
      "Installing collected packages: klib\n",
      "Successfully installed klib-0.1.5\n"
     ]
    }
   ],
   "source": [
    "!pip install klib"
   ]
  },
  {
   "cell_type": "code",
   "execution_count": 2,
   "id": "320a3544",
   "metadata": {},
   "outputs": [
    {
     "name": "stderr",
     "output_type": "stream",
     "text": [
      "'kaggle' is not recognized as an internal or external command,\n",
      "operable program or batch file.\n"
     ]
    }
   ],
   "source": [
    "!kaggle datasets download -d mlg-ulb/creditcardfraud"
   ]
  },
  {
   "cell_type": "code",
   "execution_count": 6,
   "id": "fd479d1c",
   "metadata": {},
   "outputs": [],
   "source": [
    "import klib\n",
    "import pandas as pd\n",
    "from zipfile import ZipFile\n",
    "%load_ext memory_profiler"
   ]
  },
  {
   "cell_type": "code",
   "execution_count": 4,
   "id": "ea03c78c",
   "metadata": {},
   "outputs": [
    {
     "name": "stdout",
     "output_type": "stream",
     "text": [
      "Collecting memory_profiler\n",
      "  Downloading memory_profiler-0.58.0.tar.gz (36 kB)\n",
      "Collecting psutil\n",
      "  Downloading psutil-5.8.0-cp39-cp39-win_amd64.whl (246 kB)\n",
      "Building wheels for collected packages: memory-profiler\n",
      "  Building wheel for memory-profiler (setup.py): started\n",
      "  Building wheel for memory-profiler (setup.py): finished with status 'done'\n",
      "  Created wheel for memory-profiler: filename=memory_profiler-0.58.0-py3-none-any.whl size=30183 sha256=e6c0885e13c848ac88111a52ad23792697a0b2af026fb277e5563a22ae2cacc9\n",
      "  Stored in directory: c:\\users\\894524\\appdata\\local\\pip\\cache\\wheels\\65\\a0\\a0\\ac95edbf01d3951fe0c4a9f95cec469ac595297b81ebd28f4d\n",
      "Successfully built memory-profiler\n",
      "Installing collected packages: psutil, memory-profiler\n",
      "Successfully installed memory-profiler-0.58.0 psutil-5.8.0\n"
     ]
    }
   ],
   "source": [
    "!pip install memory_profiler"
   ]
  },
  {
   "cell_type": "code",
   "execution_count": 5,
   "id": "d101a540",
   "metadata": {
    "scrolled": false
   },
   "outputs": [
    {
     "name": "stdout",
     "output_type": "stream",
     "text": [
      "Collecting zip"
     ]
    },
    {
     "name": "stderr",
     "output_type": "stream",
     "text": [
      "    ERROR: Command errored out with exit status 1:\n",
      "     command: 'C:\\Users\\894524\\.conda\\envs\\pandas_pg\\python.exe' -c 'import io, os, sys, setuptools, tokenize; sys.argv[0] = '\"'\"'C:\\\\Users\\\\894524\\\\AppData\\\\Local\\\\Temp\\\\pip-install-2fnlxz_4\\\\wsgiref_649e9fe6cb014a35a2f7a52aab55803f\\\\setup.py'\"'\"'; __file__='\"'\"'C:\\\\Users\\\\894524\\\\AppData\\\\Local\\\\Temp\\\\pip-install-2fnlxz_4\\\\wsgiref_649e9fe6cb014a35a2f7a52aab55803f\\\\setup.py'\"'\"';f = getattr(tokenize, '\"'\"'open'\"'\"', open)(__file__) if os.path.exists(__file__) else io.StringIO('\"'\"'from setuptools import setup; setup()'\"'\"');code = f.read().replace('\"'\"'\\r\\n'\"'\"', '\"'\"'\\n'\"'\"');f.close();exec(compile(code, __file__, '\"'\"'exec'\"'\"'))' egg_info --egg-base 'C:\\Users\\894524\\AppData\\Local\\Temp\\pip-pip-egg-info-cwv4qy_m'\n",
      "         cwd: C:\\Users\\894524\\AppData\\Local\\Temp\\pip-install-2fnlxz_4\\wsgiref_649e9fe6cb014a35a2f7a52aab55803f\\\n",
      "    Complete output (8 lines):\n",
      "    Traceback (most recent call last):\n",
      "      File \"<string>\", line 1, in <module>\n",
      "      File \"C:\\Users\\894524\\AppData\\Local\\Temp\\pip-install-2fnlxz_4\\wsgiref_649e9fe6cb014a35a2f7a52aab55803f\\setup.py\", line 5, in <module>\n",
      "        import ez_setup\n",
      "      File \"C:\\Users\\894524\\AppData\\Local\\Temp\\pip-install-2fnlxz_4\\wsgiref_649e9fe6cb014a35a2f7a52aab55803f\\ez_setup\\__init__.py\", line 170\n",
      "        print \"Setuptools version\",version,\"or greater has been installed.\"\n",
      "              ^\n",
      "    SyntaxError: Missing parentheses in call to 'print'. Did you mean print(\"Setuptools version\",version,\"or greater has been installed.\")?\n",
      "    ----------------------------------------\n",
      "WARNING: Discarding https://files.pythonhosted.org/packages/41/9e/309259ce8dff8c596e8c26df86dbc4e848b9249fd36797fd60be456f03fc/wsgiref-0.1.2.zip#sha256=c7e610c800957046c04c8014aab8cce8f0b9f0495c8cd349e57c1f7cabf40e79 (from https://pypi.org/simple/wsgiref/). Command errored out with exit status 1: python setup.py egg_info Check the logs for full command output.\n",
      "    ERROR: Command errored out with exit status 1:\n",
      "     command: 'C:\\Users\\894524\\.conda\\envs\\pandas_pg\\python.exe' -c 'import io, os, sys, setuptools, tokenize; sys.argv[0] = '\"'\"'C:\\\\Users\\\\894524\\\\AppData\\\\Local\\\\Temp\\\\pip-install-2fnlxz_4\\\\zip_d55868a08d6047eeadd4b762132520d8\\\\setup.py'\"'\"'; __file__='\"'\"'C:\\\\Users\\\\894524\\\\AppData\\\\Local\\\\Temp\\\\pip-install-2fnlxz_4\\\\zip_d55868a08d6047eeadd4b762132520d8\\\\setup.py'\"'\"';f = getattr(tokenize, '\"'\"'open'\"'\"', open)(__file__) if os.path.exists(__file__) else io.StringIO('\"'\"'from setuptools import setup; setup()'\"'\"');code = f.read().replace('\"'\"'\\r\\n'\"'\"', '\"'\"'\\n'\"'\"');f.close();exec(compile(code, __file__, '\"'\"'exec'\"'\"'))' egg_info --egg-base 'C:\\Users\\894524\\AppData\\Local\\Temp\\pip-pip-egg-info-c344dvii'\n",
      "         cwd: C:\\Users\\894524\\AppData\\Local\\Temp\\pip-install-2fnlxz_4\\zip_d55868a08d6047eeadd4b762132520d8\\\n",
      "    Complete output (5 lines):\n",
      "    Traceback (most recent call last):\n",
      "      File \"<string>\", line 1, in <module>\n",
      "      File \"C:\\Users\\894524\\AppData\\Local\\Temp\\pip-install-2fnlxz_4\\zip_d55868a08d6047eeadd4b762132520d8\\setup.py\", line 4, in <module>\n",
      "        from pip.req import parse_requirements\n",
      "    ModuleNotFoundError: No module named 'pip.req'\n",
      "    ----------------------------------------\n",
      "WARNING: Discarding https://files.pythonhosted.org/packages/b1/e7/212bf1ce8d65b357c337da56934922d18c3845127e8a188182266157c663/zip-0.0.1.tar.gz#sha256=970ba619ab742b5023ff1dbe88ed82b150dacbbad28aacf4a5ec18c54639988e (from https://pypi.org/simple/zip/). Command errored out with exit status 1: python setup.py egg_info Check the logs for full command output.\n",
      "ERROR: Could not find a version that satisfies the requirement wsgiref>=0.1.2 (from zip) (from versions: 0.1, 0.1.1, 0.1.2)\n",
      "ERROR: No matching distribution found for wsgiref>=0.1.2\n"
     ]
    },
    {
     "name": "stdout",
     "output_type": "stream",
     "text": [
      "\n",
      "  Downloading zip-0.0.2.tar.gz (3.0 kB)\n",
      "Collecting Flask-Admin>=1.0.4\n",
      "  Downloading Flask-Admin-1.5.8.tar.gz (6.6 MB)\n",
      "Collecting Flask-Bootstrap>=2.2.2-1\n",
      "  Downloading Flask-Bootstrap-3.3.7.1.tar.gz (456 kB)\n",
      "Collecting Flask-Cache>=0.10.1\n",
      "  Downloading Flask-Cache-0.13.1.tar.gz (45 kB)\n",
      "Collecting Flask-FlatPages>=0.3\n",
      "  Downloading Flask_FlatPages-0.7.3-py2.py3-none-any.whl (9.4 kB)\n",
      "Collecting Flask-Gravatar>=0.2.4\n",
      "  Downloading Flask_Gravatar-0.5.0-py2.py3-none-any.whl (7.5 kB)\n",
      "Collecting Flask-Login>=0.1.3\n",
      "  Downloading Flask_Login-0.5.0-py2.py3-none-any.whl (16 kB)\n",
      "Collecting Flask-Mail>=0.7.4\n",
      "  Downloading Flask-Mail-0.9.1.tar.gz (45 kB)\n",
      "Collecting Flask-PyMongo>=0.2.1\n",
      "  Downloading Flask_PyMongo-2.3.0-py2.py3-none-any.whl (12 kB)\n",
      "Collecting Flask-Restless>=0.9.1\n",
      "  Downloading Flask-Restless-0.17.0.tar.gz (42 kB)\n",
      "Collecting Flask-SQLAlchemy>=0.16\n",
      "  Downloading Flask_SQLAlchemy-2.5.1-py2.py3-none-any.whl (17 kB)\n",
      "Collecting Flask-Themes>=0.1.3\n",
      "  Downloading Flask-Themes-0.1.3.tar.gz (9.7 kB)\n",
      "Collecting Flask-Uploads>=0.1.3\n",
      "  Downloading Flask-Uploads-0.2.1.tar.gz (7.6 kB)\n",
      "Collecting Flask-WTF>=0.8.2\n",
      "  Downloading Flask_WTF-0.15.1-py2.py3-none-any.whl (13 kB)\n",
      "Collecting Flask>=0.9\n",
      "  Downloading Flask-2.0.1-py3-none-any.whl (94 kB)\n",
      "Collecting frozen-flask\n",
      "  Downloading Frozen_Flask-0.18-py3-none-any.whl (21 kB)\n",
      "Requirement already satisfied: Jinja2>=2.6 in c:\\users\\894524\\.conda\\envs\\pandas_pg\\lib\\site-packages (from zip) (3.0.1)\n",
      "Collecting Markdown>=2.2.1\n",
      "  Downloading Markdown-3.3.4-py3-none-any.whl (97 kB)\n",
      "Collecting PyYAML>=3.11\n",
      "  Downloading PyYAML-5.4.1-cp39-cp39-win_amd64.whl (213 kB)\n",
      "Requirement already satisfied: SQLAlchemy>=0.8.0b2 in c:\\users\\894524\\.conda\\envs\\pandas_pg\\lib\\site-packages (from zip) (1.4.22)\n",
      "Collecting Sphinx>=1.3.1\n",
      "  Downloading Sphinx-4.1.2-py3-none-any.whl (2.9 MB)\n",
      "Collecting WTForms>=1.0.3\n",
      "  Downloading WTForms-2.3.3-py2.py3-none-any.whl (169 kB)\n",
      "Collecting Werkzeug>=0.8.3\n",
      "  Downloading Werkzeug-2.0.1-py3-none-any.whl (288 kB)\n",
      "Collecting argparse>=1.2.1\n",
      "  Downloading argparse-1.4.0-py2.py3-none-any.whl (23 kB)\n",
      "Collecting blinker>=1.2\n",
      "  Downloading blinker-1.4.tar.gz (111 kB)\n",
      "Collecting bumpversion>=0.5.3\n",
      "  Downloading bumpversion-0.6.0-py2.py3-none-any.whl (8.4 kB)\n",
      "Collecting click>=6.3\n",
      "  Downloading click-8.0.1-py3-none-any.whl (97 kB)\n",
      "Requirement already satisfied: colorama>=0.3.7 in c:\\users\\894524\\.conda\\envs\\pandas_pg\\lib\\site-packages (from zip) (0.4.4)\n",
      "Collecting coverage>=4.0\n",
      "  Downloading coverage-5.5-cp39-cp39-win_amd64.whl (211 kB)\n",
      "Requirement already satisfied: cryptography>=1.0.1 in c:\\users\\894524\\.conda\\envs\\pandas_pg\\lib\\site-packages (from zip) (3.4.7)\n",
      "Collecting flake8>=2.4.1\n",
      "  Downloading flake8-3.9.2-py2.py3-none-any.whl (73 kB)\n",
      "Collecting networkx>=1.11\n",
      "  Downloading networkx-2.6.2-py3-none-any.whl (1.9 MB)\n",
      "Collecting pymongo>=2.5.1\n",
      "  Downloading pymongo-3.12.0-cp39-cp39-win_amd64.whl (397 kB)\n",
      "Collecting pytest>=2.8.3\n",
      "  Downloading pytest-6.2.4-py3-none-any.whl (280 kB)\n",
      "Requirement already satisfied: python-dateutil>=1.5 in c:\\users\\894524\\.conda\\envs\\pandas_pg\\lib\\site-packages (from zip) (2.8.2)\n",
      "Requirement already satisfied: six>=1.10.0 in c:\\users\\894524\\appdata\\roaming\\python\\python39\\site-packages (from zip) (1.16.0)\n",
      "Collecting tox>=2.1.1\n",
      "  Downloading tox-3.24.3-py2.py3-none-any.whl (85 kB)\n",
      "Collecting watchdog>=0.8.3\n",
      "  Downloading watchdog-2.1.4-py3-none-win_amd64.whl (75 kB)\n",
      "Requirement already satisfied: wheel>=0.23.0 in c:\\users\\894524\\.conda\\envs\\pandas_pg\\lib\\site-packages (from zip) (0.36.2)\n",
      "Collecting wsgiref>=0.1.2\n",
      "  Downloading wsgiref-0.1.2.zip (37 kB)\n",
      "Collecting zip\n",
      "  Downloading zip-0.0.1.tar.gz (2.3 kB)\n"
     ]
    }
   ],
   "source": [
    "!pip install zip"
   ]
  },
  {
   "cell_type": "code",
   "execution_count": 11,
   "id": "d0d3d1df",
   "metadata": {},
   "outputs": [
    {
     "name": "stderr",
     "output_type": "stream",
     "text": [
      "Traceback (most recent call last):\n",
      "  File \"c:\\users\\894524\\.conda\\envs\\pandas_pg\\lib\\runpy.py\", line 197, in _run_module_as_main\n",
      "    return _run_code(code, main_globals, None,\n",
      "  File \"c:\\users\\894524\\.conda\\envs\\pandas_pg\\lib\\runpy.py\", line 87, in _run_code\n",
      "    exec(code, run_globals)\n",
      "  File \"C:\\Users\\894524\\.conda\\envs\\pandas_pg\\Scripts\\kaggle.exe\\__main__.py\", line 4, in <module>\n",
      "  File \"c:\\users\\894524\\.conda\\envs\\pandas_pg\\lib\\site-packages\\kaggle\\__init__.py\", line 23, in <module>\n",
      "    api.authenticate()\n",
      "  File \"c:\\users\\894524\\.conda\\envs\\pandas_pg\\lib\\site-packages\\kaggle\\api\\kaggle_api_extended.py\", line 164, in authenticate\n",
      "    raise IOError('Could not find {}. Make sure it\\'s located in'\n",
      "OSError: Could not find kaggle.json. Make sure it's located in C:\\Users\\894524\\.kaggle. Or use the environment method.\n",
      "Traceback (most recent call last):\n",
      "  File \"c:\\users\\894524\\.conda\\envs\\pandas_pg\\lib\\runpy.py\", line 197, in _run_module_as_main\n",
      "    return _run_code(code, main_globals, None,\n",
      "  File \"c:\\users\\894524\\.conda\\envs\\pandas_pg\\lib\\runpy.py\", line 87, in _run_code\n",
      "    exec(code, run_globals)\n",
      "  File \"C:\\Users\\894524\\.conda\\envs\\pandas_pg\\Scripts\\kaggle.exe\\__main__.py\", line 4, in <module>\n",
      "  File \"c:\\users\\894524\\.conda\\envs\\pandas_pg\\lib\\site-packages\\kaggle\\__init__.py\", line 23, in <module>\n",
      "    api.authenticate()\n",
      "  File \"c:\\users\\894524\\.conda\\envs\\pandas_pg\\lib\\site-packages\\kaggle\\api\\kaggle_api_extended.py\", line 164, in authenticate\n",
      "    raise IOError('Could not find {}. Make sure it\\'s located in'\n",
      "OSError: Could not find kaggle.json. Make sure it's located in C:\\Users\\894524\\.kaggle. Or use the environment method.\n",
      "Traceback (most recent call last):\n",
      "  File \"c:\\users\\894524\\.conda\\envs\\pandas_pg\\lib\\runpy.py\", line 197, in _run_module_as_main\n",
      "    return _run_code(code, main_globals, None,\n",
      "  File \"c:\\users\\894524\\.conda\\envs\\pandas_pg\\lib\\runpy.py\", line 87, in _run_code\n",
      "    exec(code, run_globals)\n",
      "  File \"C:\\Users\\894524\\.conda\\envs\\pandas_pg\\Scripts\\kaggle.exe\\__main__.py\", line 4, in <module>\n",
      "  File \"c:\\users\\894524\\.conda\\envs\\pandas_pg\\lib\\site-packages\\kaggle\\__init__.py\", line 23, in <module>\n",
      "    api.authenticate()\n",
      "  File \"c:\\users\\894524\\.conda\\envs\\pandas_pg\\lib\\site-packages\\kaggle\\api\\kaggle_api_extended.py\", line 164, in authenticate\n",
      "    raise IOError('Could not find {}. Make sure it\\'s located in'\n",
      "OSError: Could not find kaggle.json. Make sure it's located in C:\\Users\\894524\\.kaggle. Or use the environment method.\n"
     ]
    }
   ],
   "source": [
    "# Go to https://www.kaggle.com/**your_username**/account\n",
    "# Create an API token and save it under ~/.kaggle/kaggle.json\n",
    "\n",
    "!kaggle datasets download -d mlg-ulb/creditcardfraud\n",
    "!kaggle datasets download -d sogun3/uspollution\n",
    "!kaggle datasets download -d jiashenliu/515k-hotel-reviews-data-in-europe"
   ]
  },
  {
   "cell_type": "code",
   "execution_count": 10,
   "id": "e73e0bbe",
   "metadata": {},
   "outputs": [
    {
     "name": "stdout",
     "output_type": "stream",
     "text": [
      "Requirement already satisfied: kaggle in c:\\users\\894524\\.conda\\envs\\pandas_pg\\lib\\site-packages (1.5.12)\n",
      "Requirement already satisfied: requests in c:\\users\\894524\\.conda\\envs\\pandas_pg\\lib\\site-packages (from kaggle) (2.25.1)\n",
      "Requirement already satisfied: urllib3 in c:\\users\\894524\\.conda\\envs\\pandas_pg\\lib\\site-packages (from kaggle) (1.26.6)\n",
      "Requirement already satisfied: six>=1.10 in c:\\users\\894524\\appdata\\roaming\\python\\python39\\site-packages (from kaggle) (1.16.0)\n",
      "Requirement already satisfied: tqdm in c:\\users\\894524\\.conda\\envs\\pandas_pg\\lib\\site-packages (from kaggle) (4.61.2)\n",
      "Requirement already satisfied: python-slugify in c:\\users\\894524\\.conda\\envs\\pandas_pg\\lib\\site-packages (from kaggle) (5.0.2)\n",
      "Requirement already satisfied: certifi in c:\\users\\894524\\.conda\\envs\\pandas_pg\\lib\\site-packages (from kaggle) (2021.5.30)\n",
      "Requirement already satisfied: python-dateutil in c:\\users\\894524\\.conda\\envs\\pandas_pg\\lib\\site-packages (from kaggle) (2.8.2)\n",
      "Requirement already satisfied: text-unidecode>=1.3 in c:\\users\\894524\\.conda\\envs\\pandas_pg\\lib\\site-packages (from python-slugify->kaggle) (1.3)\n",
      "Requirement already satisfied: chardet<5,>=3.0.2 in c:\\users\\894524\\.conda\\envs\\pandas_pg\\lib\\site-packages (from requests->kaggle) (4.0.0)\n",
      "Requirement already satisfied: idna<3,>=2.5 in c:\\users\\894524\\.conda\\envs\\pandas_pg\\lib\\site-packages (from requests->kaggle) (2.10)\n",
      "Requirement already satisfied: colorama in c:\\users\\894524\\.conda\\envs\\pandas_pg\\lib\\site-packages (from tqdm->kaggle) (0.4.4)\n"
     ]
    }
   ],
   "source": [
    "!pip install kaggle\n"
   ]
  },
  {
   "cell_type": "code",
   "execution_count": null,
   "id": "a5279d56",
   "metadata": {},
   "outputs": [],
   "source": []
  }
 ],
 "metadata": {
  "kernelspec": {
   "display_name": "Python 3",
   "language": "python",
   "name": "python3"
  },
  "language_info": {
   "codemirror_mode": {
    "name": "ipython",
    "version": 3
   },
   "file_extension": ".py",
   "mimetype": "text/x-python",
   "name": "python",
   "nbconvert_exporter": "python",
   "pygments_lexer": "ipython3",
   "version": "3.9.5"
  }
 },
 "nbformat": 4,
 "nbformat_minor": 5
}
