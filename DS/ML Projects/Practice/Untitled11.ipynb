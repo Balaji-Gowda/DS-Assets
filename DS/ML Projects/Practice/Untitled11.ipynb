{
 "cells": [
  {
   "cell_type": "code",
   "execution_count": 1,
   "id": "abf52b63",
   "metadata": {},
   "outputs": [
    {
     "data": {
      "text/plain": [
       "165.24319860999998"
      ]
     },
     "execution_count": 1,
     "metadata": {},
     "output_type": "execute_result"
    }
   ],
   "source": [
    "139*1.18879999\n"
   ]
  },
  {
   "cell_type": "code",
   "execution_count": 6,
   "id": "60c17c20",
   "metadata": {},
   "outputs": [
    {
     "data": {
      "text/plain": [
       "34.47519971"
      ]
     },
     "execution_count": 6,
     "metadata": {},
     "output_type": "execute_result"
    }
   ],
   "source": [
    "29*1.18879999\n"
   ]
  },
  {
   "cell_type": "code",
   "execution_count": null,
   "id": "22151b72",
   "metadata": {},
   "outputs": [],
   "source": [
    "0.84118440\n"
   ]
  },
  {
   "cell_type": "code",
   "execution_count": null,
   "id": "b8d7e054",
   "metadata": {},
   "outputs": [],
   "source": [
    "1.18879999"
   ]
  }
 ],
 "metadata": {
  "kernelspec": {
   "display_name": "Python 3",
   "language": "python",
   "name": "python3"
  },
  "language_info": {
   "codemirror_mode": {
    "name": "ipython",
    "version": 3
   },
   "file_extension": ".py",
   "mimetype": "text/x-python",
   "name": "python",
   "nbconvert_exporter": "python",
   "pygments_lexer": "ipython3",
   "version": "3.8.8"
  }
 },
 "nbformat": 4,
 "nbformat_minor": 5
}
