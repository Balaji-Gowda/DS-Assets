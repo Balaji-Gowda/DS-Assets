{
 "cells": [
  {
   "cell_type": "code",
   "execution_count": 2,
   "id": "07e7a268",
   "metadata": {},
   "outputs": [
    {
     "data": {
      "text/plain": [
       "6227.12"
      ]
     },
     "execution_count": 2,
     "metadata": {},
     "output_type": "execute_result"
    }
   ],
   "source": [
    "6227.12"
   ]
  },
  {
   "cell_type": "code",
   "execution_count": 3,
   "id": "415eb571",
   "metadata": {},
   "outputs": [
    {
     "data": {
      "text/plain": [
       "5238.1562009280005"
      ]
     },
     "execution_count": 3,
     "metadata": {},
     "output_type": "execute_result"
    }
   ],
   "source": [
    "0.84118440*6227.12\n"
   ]
  },
  {
   "cell_type": "code",
   "execution_count": 5,
   "id": "a452f734",
   "metadata": {},
   "outputs": [
    {
     "data": {
      "text/plain": [
       "888.568317252"
      ]
     },
     "execution_count": 5,
     "metadata": {},
     "output_type": "execute_result"
    }
   ],
   "source": [
    "1056.33*0.84118440\n"
   ]
  },
  {
   "cell_type": "code",
   "execution_count": 7,
   "id": "1982e9a8",
   "metadata": {},
   "outputs": [
    {
     "data": {
      "text/plain": [
       "1056.334133988"
      ]
     },
     "execution_count": 7,
     "metadata": {},
     "output_type": "execute_result"
    }
   ],
   "source": [
    "1255.77*0.84118440\n",
    "\n"
   ]
  },
  {
   "cell_type": "code",
   "execution_count": 8,
   "id": "94a0e692",
   "metadata": {},
   "outputs": [
    {
     "data": {
      "text/plain": [
       "22035.002006724"
      ]
     },
     "execution_count": 8,
     "metadata": {},
     "output_type": "execute_result"
    }
   ],
   "source": [
    "26195.21*0.84118440\n",
    "\n"
   ]
  },
  {
   "cell_type": "code",
   "execution_count": 10,
   "id": "29a26966",
   "metadata": {},
   "outputs": [
    {
     "data": {
      "text/plain": [
       "2371.1558222520002"
      ]
     },
     "execution_count": 10,
     "metadata": {},
     "output_type": "execute_result"
    }
   ],
   "source": [
    "2818.83*0.84118440\n"
   ]
  },
  {
   "cell_type": "code",
   "execution_count": 11,
   "id": "0b33f2eb",
   "metadata": {},
   "outputs": [
    {
     "data": {
      "text/plain": [
       "1294.851970608"
      ]
     },
     "execution_count": 11,
     "metadata": {},
     "output_type": "execute_result"
    }
   ],
   "source": [
    "1539.32*0.84118440\n",
    "\n"
   ]
  },
  {
   "cell_type": "code",
   "execution_count": 13,
   "id": "c4ec4f5c",
   "metadata": {},
   "outputs": [
    {
     "data": {
      "text/plain": [
       "5238.150324399422"
      ]
     },
     "execution_count": 13,
     "metadata": {},
     "output_type": "execute_result"
    }
   ],
   "source": [
    "38986.4*0.1343583999651012"
   ]
  },
  {
   "cell_type": "code",
   "execution_count": 12,
   "id": "eb185649",
   "metadata": {},
   "outputs": [
    {
     "data": {
      "text/plain": [
       "0.1343583999651012"
      ]
     },
     "execution_count": 12,
     "metadata": {},
     "output_type": "execute_result"
    }
   ],
   "source": [
    "1/7.44277991\n"
   ]
  },
  {
   "cell_type": "code",
   "execution_count": 6,
   "id": "8534b1d7",
   "metadata": {},
   "outputs": [
    {
     "data": {
      "text/plain": [
       "0.8411844"
      ]
     },
     "execution_count": 6,
     "metadata": {},
     "output_type": "execute_result"
    }
   ],
   "source": [
    "0.84118440\n"
   ]
  }
 ],
 "metadata": {
  "kernelspec": {
   "display_name": "Python 3",
   "language": "python",
   "name": "python3"
  },
  "language_info": {
   "codemirror_mode": {
    "name": "ipython",
    "version": 3
   },
   "file_extension": ".py",
   "mimetype": "text/x-python",
   "name": "python",
   "nbconvert_exporter": "python",
   "pygments_lexer": "ipython3",
   "version": "3.8.8"
  }
 },
 "nbformat": 4,
 "nbformat_minor": 5
}
