{
 "cells": [
  {
   "cell_type": "markdown",
   "id": "c553d510",
   "metadata": {},
   "source": [
    "# Decision Point Analytics - Python Assesment"
   ]
  },
  {
   "cell_type": "code",
   "execution_count": 1,
   "id": "3adb43e7",
   "metadata": {},
   "outputs": [],
   "source": [
    "import pandas as pd"
   ]
  },
  {
   "cell_type": "code",
   "execution_count": 2,
   "id": "2f2fab75",
   "metadata": {},
   "outputs": [],
   "source": [
    "#Hardcoded input\n",
    "l=['a','b','c','d','e','f','g','h']"
   ]
  },
  {
   "cell_type": "markdown",
   "id": "67a2ef72",
   "metadata": {},
   "source": [
    "#### Problem"
   ]
  },
  {
   "cell_type": "markdown",
   "id": "9eb81207",
   "metadata": {},
   "source": [
    "    Problem: Here we need to pick 5 unique letters repeatedly (without replacement) and to frame all possible patterns \n",
    "        without considering any order.\n",
    "    \n",
    "    Note: It's nothing but we should find different combinations of 5 digit words with no letter repeated twice or more \n",
    "        for single combination.\n",
    "        \n",
    "    So, the maximum possible combinations would be like:\n",
    "        8(Intially we can 8 possible letters to pick from the list) * \n",
    "        7(after picking 1 letter we left with 7 only ) * \n",
    "        6(after picking 2 letters we have only 6 unique letters) * \n",
    "        5(we left with 5 unique letters to pick) * \n",
    "        4(we have only 4 letters so as to make 5 digit sequence)       = 6720\n",
    "        \n",
    "    In total we will get 8*7*6*5*4 = 6720 combinations without any letter repeated in the sequence."
   ]
  },
  {
   "cell_type": "markdown",
   "id": "53b126ab",
   "metadata": {},
   "source": [
    "#### Approach"
   ]
  },
  {
   "cell_type": "markdown",
   "id": "b38b99e6",
   "metadata": {},
   "source": [
    "    \n",
    "    Approach: Here i am going with nested for loops(neglecting Time complexity as of now)\n",
    "    * first I am picking 1 element from list l as a:\n",
    "          for that I am connecting with same list l with element name b:\n",
    "              this I am repeating for 5 times because we need 5 letter word.\n",
    "            \n",
    "    * After iterating through all the loops we concating each and every letter from single \"for\" \n",
    "    loop and creating 5 digit sequence.\n",
    "    * then we will get many such sequences with letters repeated 1 or more number of times.\n",
    "    * then we have have to eleminate sequences with duplicate letters if there exists any.\n",
    "    * for that I have performed a check and took only unique lettered sequence and stored in list.\n",
    "    * finally I have converted the stored string into dataframe.\n",
    "    "
   ]
  },
  {
   "cell_type": "code",
   "execution_count": 3,
   "id": "f1b9d954",
   "metadata": {},
   "outputs": [
    {
     "name": "stdout",
     "output_type": "stream",
     "text": [
      "6720\n"
     ]
    }
   ],
   "source": [
    "#declaring empty list to store output sequence\n",
    "arr=[]\n",
    "#iterating through the loops\n",
    "for a in l:\n",
    "    for b in l:\n",
    "        for c in l:\n",
    "            for d in l:\n",
    "                for e in l:\n",
    "                    #taking only unique values\n",
    "                    if a!=b and b!=c and c!=d and d!=e and e!=a:\n",
    "                        res=a+b+c+d+e\n",
    "                        #filtering out if still I had any other duplicate records\n",
    "                        if len(set(list(res)))==5:\n",
    "                            arr.append(res)\n",
    "print(len(arr))\n"
   ]
  },
  {
   "cell_type": "code",
   "execution_count": 8,
   "id": "8207e003",
   "metadata": {},
   "outputs": [
    {
     "data": {
      "text/plain": [
       "['abcde',\n",
       " 'abcdf',\n",
       " 'abcdg',\n",
       " 'abcdh',\n",
       " 'abced',\n",
       " 'abcef',\n",
       " 'abceg',\n",
       " 'abceh',\n",
       " 'abcfd',\n",
       " 'abcfe',\n",
       " 'abcfg',\n",
       " 'abcfh',\n",
       " 'abcgd',\n",
       " 'abcge',\n",
       " 'abcgf',\n",
       " 'abcgh',\n",
       " 'abchd',\n",
       " 'abche',\n",
       " 'abchf',\n",
       " 'abchg']"
      ]
     },
     "execution_count": 8,
     "metadata": {},
     "output_type": "execute_result"
    }
   ],
   "source": [
    "#Sample output\n",
    "arr[:20]"
   ]
  },
  {
   "cell_type": "code",
   "execution_count": 4,
   "id": "f1bc921a",
   "metadata": {},
   "outputs": [
    {
     "data": {
      "text/plain": [
       "6720"
      ]
     },
     "execution_count": 4,
     "metadata": {},
     "output_type": "execute_result"
    }
   ],
   "source": [
    "#finding unique sequence count\n",
    "len(set(arr))"
   ]
  },
  {
   "cell_type": "code",
   "execution_count": 5,
   "id": "64673cbb",
   "metadata": {},
   "outputs": [],
   "source": [
    "#declaring empty list to store output sequence\n",
    "l2=[]\n",
    "for i in arr:\n",
    "    #storing strings in list format into a new list\n",
    "    l2.append(list(i))"
   ]
  },
  {
   "cell_type": "code",
   "execution_count": 6,
   "id": "7dc21b72",
   "metadata": {},
   "outputs": [
    {
     "data": {
      "text/html": [
       "<div>\n",
       "<style scoped>\n",
       "    .dataframe tbody tr th:only-of-type {\n",
       "        vertical-align: middle;\n",
       "    }\n",
       "\n",
       "    .dataframe tbody tr th {\n",
       "        vertical-align: top;\n",
       "    }\n",
       "\n",
       "    .dataframe thead th {\n",
       "        text-align: right;\n",
       "    }\n",
       "</style>\n",
       "<table border=\"1\" class=\"dataframe\">\n",
       "  <thead>\n",
       "    <tr style=\"text-align: right;\">\n",
       "      <th></th>\n",
       "      <th>I</th>\n",
       "      <th>II</th>\n",
       "      <th>III</th>\n",
       "      <th>IV</th>\n",
       "      <th>V</th>\n",
       "    </tr>\n",
       "  </thead>\n",
       "  <tbody>\n",
       "    <tr>\n",
       "      <th>0</th>\n",
       "      <td>a</td>\n",
       "      <td>b</td>\n",
       "      <td>c</td>\n",
       "      <td>d</td>\n",
       "      <td>e</td>\n",
       "    </tr>\n",
       "    <tr>\n",
       "      <th>1</th>\n",
       "      <td>a</td>\n",
       "      <td>b</td>\n",
       "      <td>c</td>\n",
       "      <td>d</td>\n",
       "      <td>f</td>\n",
       "    </tr>\n",
       "    <tr>\n",
       "      <th>2</th>\n",
       "      <td>a</td>\n",
       "      <td>b</td>\n",
       "      <td>c</td>\n",
       "      <td>d</td>\n",
       "      <td>g</td>\n",
       "    </tr>\n",
       "    <tr>\n",
       "      <th>3</th>\n",
       "      <td>a</td>\n",
       "      <td>b</td>\n",
       "      <td>c</td>\n",
       "      <td>d</td>\n",
       "      <td>h</td>\n",
       "    </tr>\n",
       "    <tr>\n",
       "      <th>4</th>\n",
       "      <td>a</td>\n",
       "      <td>b</td>\n",
       "      <td>c</td>\n",
       "      <td>e</td>\n",
       "      <td>d</td>\n",
       "    </tr>\n",
       "  </tbody>\n",
       "</table>\n",
       "</div>"
      ],
      "text/plain": [
       "   I II III IV  V\n",
       "0  a  b   c  d  e\n",
       "1  a  b   c  d  f\n",
       "2  a  b   c  d  g\n",
       "3  a  b   c  d  h\n",
       "4  a  b   c  e  d"
      ]
     },
     "execution_count": 6,
     "metadata": {},
     "output_type": "execute_result"
    }
   ],
   "source": [
    "#converting multi dimensional list into dataframe and assigning desired column names\n",
    "output = pd.DataFrame(l2,columns=['I','II','III','IV','V'])\n",
    "#showing first five rows of data\n",
    "output.head()"
   ]
  },
  {
   "cell_type": "code",
   "execution_count": 7,
   "id": "e1ee1596",
   "metadata": {
    "scrolled": true
   },
   "outputs": [
    {
     "data": {
      "text/plain": [
       "(6720, 5)"
      ]
     },
     "execution_count": 7,
     "metadata": {},
     "output_type": "execute_result"
    }
   ],
   "source": [
    "#final dataframe we got has 6720 different unique patterns of strings of length 5\n",
    "output.shape"
   ]
  },
  {
   "cell_type": "markdown",
   "id": "8013035d",
   "metadata": {},
   "source": [
    "# Thank you"
   ]
  }
 ],
 "metadata": {
  "kernelspec": {
   "display_name": "Python 3",
   "language": "python",
   "name": "python3"
  },
  "language_info": {
   "codemirror_mode": {
    "name": "ipython",
    "version": 3
   },
   "file_extension": ".py",
   "mimetype": "text/x-python",
   "name": "python",
   "nbconvert_exporter": "python",
   "pygments_lexer": "ipython3",
   "version": "3.8.8"
  }
 },
 "nbformat": 4,
 "nbformat_minor": 5
}
