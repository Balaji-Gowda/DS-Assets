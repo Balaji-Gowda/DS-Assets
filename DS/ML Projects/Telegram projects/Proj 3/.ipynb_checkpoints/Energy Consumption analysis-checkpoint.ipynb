{
 "cells": [
  {
   "cell_type": "code",
   "execution_count": 1,
   "id": "e604e5a2",
   "metadata": {},
   "outputs": [],
   "source": [
    "import pandas as pd"
   ]
  },
  {
   "cell_type": "code",
   "execution_count": 2,
   "id": "ca197290",
   "metadata": {},
   "outputs": [
    {
     "data": {
      "text/html": [
       "<div>\n",
       "<style scoped>\n",
       "    .dataframe tbody tr th:only-of-type {\n",
       "        vertical-align: middle;\n",
       "    }\n",
       "\n",
       "    .dataframe tbody tr th {\n",
       "        vertical-align: top;\n",
       "    }\n",
       "\n",
       "    .dataframe thead th {\n",
       "        text-align: right;\n",
       "    }\n",
       "</style>\n",
       "<table border=\"1\" class=\"dataframe\">\n",
       "  <thead>\n",
       "    <tr style=\"text-align: right;\">\n",
       "      <th></th>\n",
       "      <th>DeviceTimeStamp</th>\n",
       "      <th>KWH</th>\n",
       "      <th>KWH_I</th>\n",
       "      <th>KVARH</th>\n",
       "      <th>KW</th>\n",
       "      <th>KVA</th>\n",
       "      <th>KVAR</th>\n",
       "      <th>MPD</th>\n",
       "      <th>MKVAD</th>\n",
       "    </tr>\n",
       "  </thead>\n",
       "  <tbody>\n",
       "    <tr>\n",
       "      <th>0</th>\n",
       "      <td>2019-06-27T10:51</td>\n",
       "      <td>54.501</td>\n",
       "      <td>0.0</td>\n",
       "      <td>57.731</td>\n",
       "      <td>0.0</td>\n",
       "      <td>0.0</td>\n",
       "      <td>0.0</td>\n",
       "      <td>23.6</td>\n",
       "      <td>23.6</td>\n",
       "    </tr>\n",
       "    <tr>\n",
       "      <th>1</th>\n",
       "      <td>2019-06-27T10:52</td>\n",
       "      <td>54.501</td>\n",
       "      <td>0.0</td>\n",
       "      <td>57.731</td>\n",
       "      <td>0.0</td>\n",
       "      <td>0.0</td>\n",
       "      <td>0.0</td>\n",
       "      <td>23.6</td>\n",
       "      <td>23.6</td>\n",
       "    </tr>\n",
       "    <tr>\n",
       "      <th>2</th>\n",
       "      <td>2019-06-27T10:53</td>\n",
       "      <td>54.501</td>\n",
       "      <td>0.0</td>\n",
       "      <td>57.731</td>\n",
       "      <td>0.0</td>\n",
       "      <td>0.0</td>\n",
       "      <td>0.0</td>\n",
       "      <td>23.6</td>\n",
       "      <td>23.6</td>\n",
       "    </tr>\n",
       "    <tr>\n",
       "      <th>3</th>\n",
       "      <td>2019-06-27T10:53</td>\n",
       "      <td>54.501</td>\n",
       "      <td>0.0</td>\n",
       "      <td>57.731</td>\n",
       "      <td>0.0</td>\n",
       "      <td>0.0</td>\n",
       "      <td>0.0</td>\n",
       "      <td>23.6</td>\n",
       "      <td>23.6</td>\n",
       "    </tr>\n",
       "    <tr>\n",
       "      <th>4</th>\n",
       "      <td>2019-06-27T10:56</td>\n",
       "      <td>54.501</td>\n",
       "      <td>0.0</td>\n",
       "      <td>57.731</td>\n",
       "      <td>0.0</td>\n",
       "      <td>0.0</td>\n",
       "      <td>0.0</td>\n",
       "      <td>23.6</td>\n",
       "      <td>23.6</td>\n",
       "    </tr>\n",
       "  </tbody>\n",
       "</table>\n",
       "</div>"
      ],
      "text/plain": [
       "    DeviceTimeStamp     KWH  KWH_I   KVARH   KW  KVA  KVAR   MPD  MKVAD\n",
       "0  2019-06-27T10:51  54.501    0.0  57.731  0.0  0.0   0.0  23.6   23.6\n",
       "1  2019-06-27T10:52  54.501    0.0  57.731  0.0  0.0   0.0  23.6   23.6\n",
       "2  2019-06-27T10:53  54.501    0.0  57.731  0.0  0.0   0.0  23.6   23.6\n",
       "3  2019-06-27T10:53  54.501    0.0  57.731  0.0  0.0   0.0  23.6   23.6\n",
       "4  2019-06-27T10:56  54.501    0.0  57.731  0.0  0.0   0.0  23.6   23.6"
      ]
     },
     "execution_count": 2,
     "metadata": {},
     "output_type": "execute_result"
    }
   ],
   "source": [
    "df=pd.read_csv(\"TotalPower.csv\")\n",
    "df.head()"
   ]
  },
  {
   "cell_type": "code",
   "execution_count": null,
   "id": "0cd70165",
   "metadata": {},
   "outputs": [],
   "source": []
  }
 ],
 "metadata": {
  "kernelspec": {
   "display_name": "Python 3",
   "language": "python",
   "name": "python3"
  },
  "language_info": {
   "codemirror_mode": {
    "name": "ipython",
    "version": 3
   },
   "file_extension": ".py",
   "mimetype": "text/x-python",
   "name": "python",
   "nbconvert_exporter": "python",
   "pygments_lexer": "ipython3",
   "version": "3.8.8"
  }
 },
 "nbformat": 4,
 "nbformat_minor": 5
}
