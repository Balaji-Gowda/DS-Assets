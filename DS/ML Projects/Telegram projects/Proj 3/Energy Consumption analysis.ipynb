{
 "cells": [
  {
   "cell_type": "code",
   "execution_count": 4,
   "id": "e604e5a2",
   "metadata": {},
   "outputs": [],
   "source": [
    "import pandas as pd"
   ]
  },
  {
   "cell_type": "code",
   "execution_count": 8,
   "id": "ca197290",
   "metadata": {},
   "outputs": [
    {
     "data": {
      "text/html": [
       "<div>\n",
       "<style scoped>\n",
       "    .dataframe tbody tr th:only-of-type {\n",
       "        vertical-align: middle;\n",
       "    }\n",
       "\n",
       "    .dataframe tbody tr th {\n",
       "        vertical-align: top;\n",
       "    }\n",
       "\n",
       "    .dataframe thead th {\n",
       "        text-align: right;\n",
       "    }\n",
       "</style>\n",
       "<table border=\"1\" class=\"dataframe\">\n",
       "  <thead>\n",
       "    <tr style=\"text-align: right;\">\n",
       "      <th></th>\n",
       "      <th>DeviceTimeStamp</th>\n",
       "      <th>KWH</th>\n",
       "      <th>KWH_I</th>\n",
       "      <th>KVARH</th>\n",
       "      <th>KW</th>\n",
       "      <th>KVA</th>\n",
       "      <th>KVAR</th>\n",
       "      <th>MPD</th>\n",
       "      <th>MKVAD</th>\n",
       "    </tr>\n",
       "  </thead>\n",
       "  <tbody>\n",
       "    <tr>\n",
       "      <th>0</th>\n",
       "      <td>2019-06-27 10:51:00</td>\n",
       "      <td>54.501</td>\n",
       "      <td>0.0</td>\n",
       "      <td>57.731</td>\n",
       "      <td>0.0</td>\n",
       "      <td>0.0</td>\n",
       "      <td>0.0</td>\n",
       "      <td>23.6</td>\n",
       "      <td>23.6</td>\n",
       "    </tr>\n",
       "    <tr>\n",
       "      <th>1</th>\n",
       "      <td>2019-06-27 10:52:00</td>\n",
       "      <td>54.501</td>\n",
       "      <td>0.0</td>\n",
       "      <td>57.731</td>\n",
       "      <td>0.0</td>\n",
       "      <td>0.0</td>\n",
       "      <td>0.0</td>\n",
       "      <td>23.6</td>\n",
       "      <td>23.6</td>\n",
       "    </tr>\n",
       "    <tr>\n",
       "      <th>2</th>\n",
       "      <td>2019-06-27 10:53:00</td>\n",
       "      <td>54.501</td>\n",
       "      <td>0.0</td>\n",
       "      <td>57.731</td>\n",
       "      <td>0.0</td>\n",
       "      <td>0.0</td>\n",
       "      <td>0.0</td>\n",
       "      <td>23.6</td>\n",
       "      <td>23.6</td>\n",
       "    </tr>\n",
       "    <tr>\n",
       "      <th>3</th>\n",
       "      <td>2019-06-27 10:53:00</td>\n",
       "      <td>54.501</td>\n",
       "      <td>0.0</td>\n",
       "      <td>57.731</td>\n",
       "      <td>0.0</td>\n",
       "      <td>0.0</td>\n",
       "      <td>0.0</td>\n",
       "      <td>23.6</td>\n",
       "      <td>23.6</td>\n",
       "    </tr>\n",
       "    <tr>\n",
       "      <th>4</th>\n",
       "      <td>2019-06-27 10:56:00</td>\n",
       "      <td>54.501</td>\n",
       "      <td>0.0</td>\n",
       "      <td>57.731</td>\n",
       "      <td>0.0</td>\n",
       "      <td>0.0</td>\n",
       "      <td>0.0</td>\n",
       "      <td>23.6</td>\n",
       "      <td>23.6</td>\n",
       "    </tr>\n",
       "  </tbody>\n",
       "</table>\n",
       "</div>"
      ],
      "text/plain": [
       "      DeviceTimeStamp     KWH  KWH_I   KVARH   KW  KVA  KVAR   MPD  MKVAD\n",
       "0 2019-06-27 10:51:00  54.501    0.0  57.731  0.0  0.0   0.0  23.6   23.6\n",
       "1 2019-06-27 10:52:00  54.501    0.0  57.731  0.0  0.0   0.0  23.6   23.6\n",
       "2 2019-06-27 10:53:00  54.501    0.0  57.731  0.0  0.0   0.0  23.6   23.6\n",
       "3 2019-06-27 10:53:00  54.501    0.0  57.731  0.0  0.0   0.0  23.6   23.6\n",
       "4 2019-06-27 10:56:00  54.501    0.0  57.731  0.0  0.0   0.0  23.6   23.6"
      ]
     },
     "execution_count": 8,
     "metadata": {},
     "output_type": "execute_result"
    }
   ],
   "source": [
    "df=pd.read_csv(\"TotalPower.csv\",parse_dates=['DeviceTimeStamp'])\n",
    "df.head()"
   ]
  },
  {
   "cell_type": "code",
   "execution_count": 12,
   "id": "643b2ada",
   "metadata": {},
   "outputs": [
    {
     "data": {
      "text/plain": [
       "(19248, 9)"
      ]
     },
     "execution_count": 12,
     "metadata": {},
     "output_type": "execute_result"
    }
   ],
   "source": [
    "df.shape"
   ]
  },
  {
   "cell_type": "code",
   "execution_count": 9,
   "id": "0cd70165",
   "metadata": {},
   "outputs": [],
   "source": [
    "from datetime import datetime\n",
    "from datetime import date"
   ]
  },
  {
   "cell_type": "code",
   "execution_count": 10,
   "id": "6774b0ad",
   "metadata": {},
   "outputs": [
    {
     "data": {
      "text/plain": [
       "0       2019-06-27 10:51:00\n",
       "1       2019-06-27 10:52:00\n",
       "2       2019-06-27 10:53:00\n",
       "3       2019-06-27 10:53:00\n",
       "4       2019-06-27 10:56:00\n",
       "                ...        \n",
       "19243   2020-04-13 23:30:00\n",
       "19244   2020-04-13 23:45:00\n",
       "19245   2020-04-14 00:00:00\n",
       "19246   2020-04-14 00:15:00\n",
       "19247   2020-04-14 00:30:00\n",
       "Name: DeviceTimeStamp, Length: 19248, dtype: datetime64[ns]"
      ]
     },
     "execution_count": 10,
     "metadata": {},
     "output_type": "execute_result"
    }
   ],
   "source": [
    "df[\"DeviceTimeStamp\"]"
   ]
  },
  {
   "cell_type": "code",
   "execution_count": 15,
   "id": "49a7ef27",
   "metadata": {},
   "outputs": [
    {
     "data": {
      "text/plain": [
       "array([2019, 2020], dtype=int64)"
      ]
     },
     "execution_count": 15,
     "metadata": {},
     "output_type": "execute_result"
    }
   ],
   "source": [
    "df.DeviceTimeStamp.dt.year.unique()"
   ]
  },
  {
   "cell_type": "code",
   "execution_count": 16,
   "id": "bfc5ebc4",
   "metadata": {},
   "outputs": [
    {
     "data": {
      "text/plain": [
       "0        2019-06-27\n",
       "1        2019-06-27\n",
       "2        2019-06-27\n",
       "3        2019-06-27\n",
       "4        2019-06-27\n",
       "            ...    \n",
       "19243    2020-04-13\n",
       "19244    2020-04-13\n",
       "19245    2020-04-14\n",
       "19246    2020-04-14\n",
       "19247    2020-04-14\n",
       "Name: DeviceTimeStamp, Length: 19248, dtype: object"
      ]
     },
     "execution_count": 16,
     "metadata": {},
     "output_type": "execute_result"
    }
   ],
   "source": [
    "df.DeviceTimeStamp.dt.date.groupby()"
   ]
  },
  {
   "cell_type": "code",
   "execution_count": 20,
   "id": "8f2b4e07",
   "metadata": {},
   "outputs": [],
   "source": [
    "df_grpd_avg=pd.DataFrame(df.groupby(df.DeviceTimeStamp.dt.date)[\"KWH\"].mean())"
   ]
  },
  {
   "cell_type": "code",
   "execution_count": 21,
   "id": "816f8d9c",
   "metadata": {},
   "outputs": [
    {
     "data": {
      "text/html": [
       "<div>\n",
       "<style scoped>\n",
       "    .dataframe tbody tr th:only-of-type {\n",
       "        vertical-align: middle;\n",
       "    }\n",
       "\n",
       "    .dataframe tbody tr th {\n",
       "        vertical-align: top;\n",
       "    }\n",
       "\n",
       "    .dataframe thead th {\n",
       "        text-align: right;\n",
       "    }\n",
       "</style>\n",
       "<table border=\"1\" class=\"dataframe\">\n",
       "  <thead>\n",
       "    <tr style=\"text-align: right;\">\n",
       "      <th></th>\n",
       "      <th>KWH</th>\n",
       "    </tr>\n",
       "    <tr>\n",
       "      <th>DeviceTimeStamp</th>\n",
       "      <th></th>\n",
       "    </tr>\n",
       "  </thead>\n",
       "  <tbody>\n",
       "    <tr>\n",
       "      <th>2019-06-27</th>\n",
       "      <td>54.501000</td>\n",
       "    </tr>\n",
       "    <tr>\n",
       "      <th>2019-06-28</th>\n",
       "      <td>54.501000</td>\n",
       "    </tr>\n",
       "    <tr>\n",
       "      <th>2019-06-29</th>\n",
       "      <td>54.501000</td>\n",
       "    </tr>\n",
       "    <tr>\n",
       "      <th>2019-07-01</th>\n",
       "      <td>41.021750</td>\n",
       "    </tr>\n",
       "    <tr>\n",
       "      <th>2019-07-02</th>\n",
       "      <td>54.720000</td>\n",
       "    </tr>\n",
       "    <tr>\n",
       "      <th>...</th>\n",
       "      <td>...</td>\n",
       "    </tr>\n",
       "    <tr>\n",
       "      <th>2020-04-10</th>\n",
       "      <td>342522.179167</td>\n",
       "    </tr>\n",
       "    <tr>\n",
       "      <th>2020-04-11</th>\n",
       "      <td>343652.351042</td>\n",
       "    </tr>\n",
       "    <tr>\n",
       "      <th>2020-04-12</th>\n",
       "      <td>344615.784314</td>\n",
       "    </tr>\n",
       "    <tr>\n",
       "      <th>2020-04-13</th>\n",
       "      <td>345513.610526</td>\n",
       "    </tr>\n",
       "    <tr>\n",
       "      <th>2020-04-14</th>\n",
       "      <td>346060.100000</td>\n",
       "    </tr>\n",
       "  </tbody>\n",
       "</table>\n",
       "<p>217 rows × 1 columns</p>\n",
       "</div>"
      ],
      "text/plain": [
       "                           KWH\n",
       "DeviceTimeStamp               \n",
       "2019-06-27           54.501000\n",
       "2019-06-28           54.501000\n",
       "2019-06-29           54.501000\n",
       "2019-07-01           41.021750\n",
       "2019-07-02           54.720000\n",
       "...                        ...\n",
       "2020-04-10       342522.179167\n",
       "2020-04-11       343652.351042\n",
       "2020-04-12       344615.784314\n",
       "2020-04-13       345513.610526\n",
       "2020-04-14       346060.100000\n",
       "\n",
       "[217 rows x 1 columns]"
      ]
     },
     "execution_count": 21,
     "metadata": {},
     "output_type": "execute_result"
    }
   ],
   "source": [
    "df_grpd_avg"
   ]
  },
  {
   "cell_type": "code",
   "execution_count": 35,
   "id": "86b0a38e",
   "metadata": {},
   "outputs": [
    {
     "data": {
      "text/plain": [
       "<Figure size 2160x1152 with 0 Axes>"
      ]
     },
     "execution_count": 35,
     "metadata": {},
     "output_type": "execute_result"
    },
    {
     "data": {
      "text/plain": [
       "<Figure size 2160x1152 with 0 Axes>"
      ]
     },
     "metadata": {},
     "output_type": "display_data"
    }
   ],
   "source": [
    "import matplotlib.pyplot  as plt\n",
    "%matplotlib inline\n",
    "plt.style.use('dark_background')\n"
   ]
  },
  {
   "cell_type": "code",
   "execution_count": 44,
   "id": "add26312",
   "metadata": {},
   "outputs": [
    {
     "data": {
      "text/plain": [
       "[<matplotlib.lines.Line2D at 0x193c4ebfa30>]"
      ]
     },
     "execution_count": 44,
     "metadata": {},
     "output_type": "execute_result"
    },
    {
     "data": {
      "image/png": "[encoded data removed]",
      "text/plain": [
       "<Figure size 1296x720 with 1 Axes>"
      ]
     },
     "metadata": {},
     "output_type": "display_data"
    }
   ],
   "source": [
    "plt.figure(figsize=(18,10))\n",
    "plt.plot(df_grpd_avg)"
   ]
  },
  {
   "cell_type": "code",
   "execution_count": null,
   "id": "a1edc0ff",
   "metadata": {},
   "outputs": [],
   "source": []
  },
  {
   "cell_type": "code",
   "execution_count": null,
   "id": "0f255870",
   "metadata": {},
   "outputs": [],
   "source": []
  }
 ],
 "metadata": {
  "kernelspec": {
   "display_name": "Python 3",
   "language": "python",
   "name": "python3"
  },
  "language_info": {
   "codemirror_mode": {
    "name": "ipython",
    "version": 3
   },
   "file_extension": ".py",
   "mimetype": "text/x-python",
   "name": "python",
   "nbconvert_exporter": "python",
   "pygments_lexer": "ipython3",
   "version": "3.8.8"
  }
 },
 "nbformat": 4,
 "nbformat_minor": 5
}
