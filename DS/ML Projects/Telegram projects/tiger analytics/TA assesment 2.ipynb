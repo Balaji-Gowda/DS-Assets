{
 "cells": [
  {
   "cell_type": "code",
   "execution_count": 1,
   "id": "ab3e88dc",
   "metadata": {},
   "outputs": [
    {
     "name": "stdout",
     "output_type": "stream",
     "text": [
      "[(2, 5), (4, 10), (3, 17), (1, 25), (5, 45)]\n",
      "OrderedDict([(2, 5), (4, 10), (3, 17), (1, 25), (5, 45)])\n"
     ]
    }
   ],
   "source": [
    "import operator\n",
    "from collections import OrderedDict\n",
    "\n",
    "dict1 = {1: 25, 2: 5, 3: 17, 4: 10, 5: 45}\n",
    "sorted_tuples = sorted(dict1.items(), key=operator.itemgetter(1))\n",
    "print(sorted_tuples)  # [(1, 1), (3, 4), (2, 9)]\n",
    "\n",
    "sorted_dict = OrderedDict()\n",
    "for k, v in sorted_tuples:\n",
    "    sorted_dict[k] = v\n",
    "\n",
    "print(sorted_dict)  # {1: 1, 3: 4, 2: 9}"
   ]
  },
  {
   "cell_type": "code",
   "execution_count": 3,
   "id": "b01fb3c8",
   "metadata": {},
   "outputs": [
    {
     "name": "stdout",
     "output_type": "stream",
     "text": [
      "8\n"
     ]
    }
   ],
   "source": [
    "s=3\n",
    "x=60\n",
    "\n",
    "\n",
    "print(int(x%(s*12)/s))"
   ]
  }
 ],
 "metadata": {
  "kernelspec": {
   "display_name": "Python 3",
   "language": "python",
   "name": "python3"
  },
  "language_info": {
   "codemirror_mode": {
    "name": "ipython",
    "version": 3
   },
   "file_extension": ".py",
   "mimetype": "text/x-python",
   "name": "python",
   "nbconvert_exporter": "python",
   "pygments_lexer": "ipython3",
   "version": "3.8.8"
  }
 },
 "nbformat": 4,
 "nbformat_minor": 5
}
