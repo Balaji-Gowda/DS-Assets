{
 "cells": [
  {
   "cell_type": "code",
   "execution_count": 1,
   "id": "d1c03d04",
   "metadata": {},
   "outputs": [],
   "source": [
    "import pandas as pd"
   ]
  },
  {
   "cell_type": "code",
   "execution_count": 3,
   "id": "db3c4cd3",
   "metadata": {},
   "outputs": [],
   "source": [
    "df1=pd.read_excel('df1.xlsx')"
   ]
  },
  {
   "cell_type": "code",
   "execution_count": 4,
   "id": "624751f7",
   "metadata": {},
   "outputs": [
    {
     "data": {
      "text/html": [
       "<div>\n",
       "<style scoped>\n",
       "    .dataframe tbody tr th:only-of-type {\n",
       "        vertical-align: middle;\n",
       "    }\n",
       "\n",
       "    .dataframe tbody tr th {\n",
       "        vertical-align: top;\n",
       "    }\n",
       "\n",
       "    .dataframe thead th {\n",
       "        text-align: right;\n",
       "    }\n",
       "</style>\n",
       "<table border=\"1\" class=\"dataframe\">\n",
       "  <thead>\n",
       "    <tr style=\"text-align: right;\">\n",
       "      <th></th>\n",
       "      <th>IP Address</th>\n",
       "      <th>AddressSource</th>\n",
       "      <th>LeaseTimeRemaining</th>\n",
       "      <th>MACAddress</th>\n",
       "      <th>HostName</th>\n",
       "      <th>InterfaceType</th>\n",
       "      <th>Layer2interface</th>\n",
       "      <th>Active</th>\n",
       "      <th>LastActive</th>\n",
       "      <th>IPv6AddressNumberofEntries</th>\n",
       "      <th>IPv6Address</th>\n",
       "    </tr>\n",
       "  </thead>\n",
       "  <tbody>\n",
       "    <tr>\n",
       "      <th>0</th>\n",
       "      <td>NaN</td>\n",
       "      <td>Static</td>\n",
       "      <td>0</td>\n",
       "      <td>a8:5e:45:6b:e7:93</td>\n",
       "      <td>Unknown</td>\n",
       "      <td>Ethernet</td>\n",
       "      <td>1</td>\n",
       "      <td>0</td>\n",
       "      <td>Mon</td>\n",
       "      <td>0</td>\n",
       "      <td>NaN</td>\n",
       "    </tr>\n",
       "    <tr>\n",
       "      <th>1</th>\n",
       "      <td>NaN</td>\n",
       "      <td>DHCP</td>\n",
       "      <td>0</td>\n",
       "      <td>a8:5e:45:6b:e7:93</td>\n",
       "      <td>iphone</td>\n",
       "      <td>802.11</td>\n",
       "      <td>2</td>\n",
       "      <td>0</td>\n",
       "      <td>Tue</td>\n",
       "      <td>0</td>\n",
       "      <td>NaN</td>\n",
       "    </tr>\n",
       "    <tr>\n",
       "      <th>2</th>\n",
       "      <td>NaN</td>\n",
       "      <td>DHCP</td>\n",
       "      <td>0</td>\n",
       "      <td>a8:5e:45:6b:e7:93</td>\n",
       "      <td>Carlosple</td>\n",
       "      <td>802.11</td>\n",
       "      <td>3</td>\n",
       "      <td>0</td>\n",
       "      <td>Wed</td>\n",
       "      <td>0</td>\n",
       "      <td>NaN</td>\n",
       "    </tr>\n",
       "    <tr>\n",
       "      <th>3</th>\n",
       "      <td>NaN</td>\n",
       "      <td>DHCP</td>\n",
       "      <td>0</td>\n",
       "      <td>a8:5e:45:6b:e7:93</td>\n",
       "      <td>iphone</td>\n",
       "      <td>802.11</td>\n",
       "      <td>1</td>\n",
       "      <td>0</td>\n",
       "      <td>Thus</td>\n",
       "      <td>0</td>\n",
       "      <td>NaN</td>\n",
       "    </tr>\n",
       "    <tr>\n",
       "      <th>4</th>\n",
       "      <td>NaN</td>\n",
       "      <td>DHCP</td>\n",
       "      <td>0</td>\n",
       "      <td>a8:5e:45:6b:e7:93</td>\n",
       "      <td>iphone</td>\n",
       "      <td>802.11</td>\n",
       "      <td>5</td>\n",
       "      <td>0</td>\n",
       "      <td>Fri</td>\n",
       "      <td>0</td>\n",
       "      <td>NaN</td>\n",
       "    </tr>\n",
       "  </tbody>\n",
       "</table>\n",
       "</div>"
      ],
      "text/plain": [
       "  IP Address AddressSource  LeaseTimeRemaining         MACAddress   HostName  \\\n",
       "0        NaN        Static                   0  a8:5e:45:6b:e7:93    Unknown   \n",
       "1        NaN          DHCP                   0  a8:5e:45:6b:e7:93     iphone   \n",
       "2        NaN          DHCP                   0  a8:5e:45:6b:e7:93  Carlosple   \n",
       "3        NaN          DHCP                   0  a8:5e:45:6b:e7:93     iphone   \n",
       "4        NaN          DHCP                   0  a8:5e:45:6b:e7:93     iphone   \n",
       "\n",
       "  InterfaceType  Layer2interface  Active LastActive  \\\n",
       "0      Ethernet                1       0        Mon   \n",
       "1        802.11                2       0        Tue   \n",
       "2        802.11                3       0        Wed   \n",
       "3        802.11                1       0       Thus   \n",
       "4        802.11                5       0        Fri   \n",
       "\n",
       "   IPv6AddressNumberofEntries IPv6Address  \n",
       "0                           0         NaN  \n",
       "1                           0         NaN  \n",
       "2                           0         NaN  \n",
       "3                           0         NaN  \n",
       "4                           0         NaN  "
      ]
     },
     "execution_count": 4,
     "metadata": {},
     "output_type": "execute_result"
    }
   ],
   "source": [
    "df1.head()"
   ]
  },
  {
   "cell_type": "code",
   "execution_count": 5,
   "id": "04463c53",
   "metadata": {},
   "outputs": [
    {
     "data": {
      "text/plain": [
       "(30, 11)"
      ]
     },
     "execution_count": 5,
     "metadata": {},
     "output_type": "execute_result"
    }
   ],
   "source": [
    "df1.shape"
   ]
  },
  {
   "cell_type": "code",
   "execution_count": 6,
   "id": "6f5a4825",
   "metadata": {},
   "outputs": [],
   "source": [
    "df2=pd.read_excel('df2.xlsx')"
   ]
  },
  {
   "cell_type": "code",
   "execution_count": 7,
   "id": "450f5bbd",
   "metadata": {},
   "outputs": [
    {
     "data": {
      "text/html": [
       "<div>\n",
       "<style scoped>\n",
       "    .dataframe tbody tr th:only-of-type {\n",
       "        vertical-align: middle;\n",
       "    }\n",
       "\n",
       "    .dataframe tbody tr th {\n",
       "        vertical-align: top;\n",
       "    }\n",
       "\n",
       "    .dataframe thead th {\n",
       "        text-align: right;\n",
       "    }\n",
       "</style>\n",
       "<table border=\"1\" class=\"dataframe\">\n",
       "  <thead>\n",
       "    <tr style=\"text-align: right;\">\n",
       "      <th></th>\n",
       "      <th>AssociadeviceAuthenticationState</th>\n",
       "      <th>AssociatedDeviceConnectionType</th>\n",
       "      <th>AssociatedDeviceIPAddress</th>\n",
       "      <th>AssociatedDecviceMacAddress</th>\n",
       "      <th>AssociatedDeviceMeshClient</th>\n",
       "      <th>LastDataTransmit</th>\n",
       "      <th>Stat_number</th>\n",
       "      <th>ByteReceived</th>\n",
       "      <th>ByteSent</th>\n",
       "      <th>count</th>\n",
       "      <th>Disassociated</th>\n",
       "      <th>packetRecives</th>\n",
       "      <th>PacketsentRSSI</th>\n",
       "      <th>SingalStrenght</th>\n",
       "      <th>Devicetype</th>\n",
       "      <th>ErrorSent</th>\n",
       "      <th>TimeAss</th>\n",
       "    </tr>\n",
       "  </thead>\n",
       "  <tbody>\n",
       "    <tr>\n",
       "      <th>0</th>\n",
       "      <td>1</td>\n",
       "      <td>NaN</td>\n",
       "      <td>192.168,1,75</td>\n",
       "      <td>d8:f1:5b:84:ff:bb</td>\n",
       "      <td>No</td>\n",
       "      <td>72222</td>\n",
       "      <td>96</td>\n",
       "      <td>135000</td>\n",
       "      <td>15000</td>\n",
       "      <td>0</td>\n",
       "      <td>0</td>\n",
       "      <td>396</td>\n",
       "      <td>22805230</td>\n",
       "      <td>-49</td>\n",
       "      <td>49</td>\n",
       "      <td>Unknown</td>\n",
       "      <td>6127901</td>\n",
       "    </tr>\n",
       "  </tbody>\n",
       "</table>\n",
       "</div>"
      ],
      "text/plain": [
       "   AssociadeviceAuthenticationState  AssociatedDeviceConnectionType  \\\n",
       "0                                 1                             NaN   \n",
       "\n",
       "  AssociatedDeviceIPAddress AssociatedDecviceMacAddress  \\\n",
       "0              192.168,1,75           d8:f1:5b:84:ff:bb   \n",
       "\n",
       "  AssociatedDeviceMeshClient  LastDataTransmit  Stat_number  ByteReceived  \\\n",
       "0                         No             72222           96        135000   \n",
       "\n",
       "   ByteSent  count  Disassociated  packetRecives  PacketsentRSSI  \\\n",
       "0     15000      0              0            396        22805230   \n",
       "\n",
       "   SingalStrenght  Devicetype ErrorSent  TimeAss  \n",
       "0             -49          49   Unknown  6127901  "
      ]
     },
     "execution_count": 7,
     "metadata": {},
     "output_type": "execute_result"
    }
   ],
   "source": [
    "df2.head()"
   ]
  },
  {
   "cell_type": "code",
   "execution_count": 8,
   "id": "59c8f77f",
   "metadata": {},
   "outputs": [
    {
     "data": {
      "text/plain": [
       "(1, 17)"
      ]
     },
     "execution_count": 8,
     "metadata": {},
     "output_type": "execute_result"
    }
   ],
   "source": [
    "df2.shape"
   ]
  },
  {
   "cell_type": "code",
   "execution_count": 10,
   "id": "cd08c5c6",
   "metadata": {},
   "outputs": [],
   "source": [
    "mrg=pd.merge(df1,df2,how='left',left_on=['MACAddress','Active'],right_on=['AssociatedDecviceMacAddress','AssociadeviceAuthenticationState'])"
   ]
  },
  {
   "cell_type": "code",
   "execution_count": 13,
   "id": "85697ed7",
   "metadata": {},
   "outputs": [],
   "source": [
    "mrg.to_excel('MergeOutput.xlsx',index=False, sheet_name='output')"
   ]
  },
  {
   "cell_type": "code",
   "execution_count": null,
   "id": "1ae469f5",
   "metadata": {},
   "outputs": [],
   "source": []
  },
  {
   "cell_type": "code",
   "execution_count": null,
   "id": "5bc6f331",
   "metadata": {},
   "outputs": [],
   "source": []
  },
  {
   "cell_type": "code",
   "execution_count": null,
   "id": "112ce01a",
   "metadata": {},
   "outputs": [],
   "source": []
  }
 ],
 "metadata": {
  "kernelspec": {
   "display_name": "Python 3",
   "language": "python",
   "name": "python3"
  },
  "language_info": {
   "codemirror_mode": {
    "name": "ipython",
    "version": 3
   },
   "file_extension": ".py",
   "mimetype": "text/x-python",
   "name": "python",
   "nbconvert_exporter": "python",
   "pygments_lexer": "ipython3",
   "version": "3.8.8"
  }
 },
 "nbformat": 4,
 "nbformat_minor": 5
}
