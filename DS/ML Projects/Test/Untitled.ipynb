{
 "cells": [
  {
   "cell_type": "code",
   "execution_count": 1,
   "id": "4c74c07b",
   "metadata": {},
   "outputs": [],
   "source": [
    "import pandas as pd"
   ]
  },
  {
   "cell_type": "code",
   "execution_count": 9,
   "id": "c7bbd644",
   "metadata": {
    "scrolled": true
   },
   "outputs": [
    {
     "data": {
      "text/html": [
       "<div>\n",
       "<style scoped>\n",
       "    .dataframe tbody tr th:only-of-type {\n",
       "        vertical-align: middle;\n",
       "    }\n",
       "\n",
       "    .dataframe tbody tr th {\n",
       "        vertical-align: top;\n",
       "    }\n",
       "\n",
       "    .dataframe thead th {\n",
       "        text-align: right;\n",
       "    }\n",
       "</style>\n",
       "<table border=\"1\" class=\"dataframe\">\n",
       "  <thead>\n",
       "    <tr style=\"text-align: right;\">\n",
       "      <th></th>\n",
       "      <th>Master_SKU_Code</th>\n",
       "      <th>at_Master_SKU_Desc</th>\n",
       "      <th>Sub_Brand_Code</th>\n",
       "      <th>at_Sub_Brand_Desc</th>\n",
       "      <th>CPG</th>\n",
       "      <th>at_CPG_Desc</th>\n",
       "      <th>Sector</th>\n",
       "      <th>at_Sector_Desc</th>\n",
       "      <th>Brand_Code</th>\n",
       "      <th>at_Brand_Desc</th>\n",
       "      <th>...</th>\n",
       "      <th>at_Company_Desc</th>\n",
       "      <th>TOP_Code</th>\n",
       "      <th>at_TOP_Desc</th>\n",
       "      <th>at_Grammage</th>\n",
       "      <th>at_UOM</th>\n",
       "      <th>at_Plant</th>\n",
       "      <th>at_Currency</th>\n",
       "      <th>at_Tax_Regime</th>\n",
       "      <th>at_CARAT_ULCODE</th>\n",
       "      <th>at_Material_Code</th>\n",
       "    </tr>\n",
       "  </thead>\n",
       "  <tbody>\n",
       "    <tr>\n",
       "      <th>0</th>\n",
       "      <td>441741B84B6010A02</td>\n",
       "      <td>CLEAR SHAMPOO BLACK SHINE 400ML</td>\n",
       "      <td>441741B84B6010A</td>\n",
       "      <td>CLEAR SHAMPOO BLACK</td>\n",
       "      <td>441741B84B601</td>\n",
       "      <td>CLEAR SHAMPOO</td>\n",
       "      <td>441741B84B6</td>\n",
       "      <td>SHAMPOO/2IN1</td>\n",
       "      <td>441741B84</td>\n",
       "      <td>CLEAR</td>\n",
       "      <td>...</td>\n",
       "      <td>UPL</td>\n",
       "      <td>TC</td>\n",
       "      <td>TOTAL COMPANY</td>\n",
       "      <td>NaN</td>\n",
       "      <td>NaN</td>\n",
       "      <td>NaN</td>\n",
       "      <td>NaN</td>\n",
       "      <td>NaN</td>\n",
       "      <td>CH2048</td>\n",
       "      <td>68306198</td>\n",
       "    </tr>\n",
       "    <tr>\n",
       "      <th>1</th>\n",
       "      <td>441741B84B6010A02</td>\n",
       "      <td>CLEAR SHAMPOO BLACK SHINE 400ML</td>\n",
       "      <td>441741B84B6010A</td>\n",
       "      <td>CLEAR SHAMPOO BLACK</td>\n",
       "      <td>441741B84B601</td>\n",
       "      <td>CLEAR SHAMPOO</td>\n",
       "      <td>441741B84B6</td>\n",
       "      <td>SHAMPOO/2IN1</td>\n",
       "      <td>441741B84</td>\n",
       "      <td>CLEAR</td>\n",
       "      <td>...</td>\n",
       "      <td>UPL</td>\n",
       "      <td>TC</td>\n",
       "      <td>TOTAL COMPANY</td>\n",
       "      <td>NaN</td>\n",
       "      <td>NaN</td>\n",
       "      <td>NaN</td>\n",
       "      <td>NaN</td>\n",
       "      <td>NaN</td>\n",
       "      <td>CH2048</td>\n",
       "      <td>68462089</td>\n",
       "    </tr>\n",
       "    <tr>\n",
       "      <th>2</th>\n",
       "      <td>441741B84B6010A02</td>\n",
       "      <td>CLEAR SHAMPOO BLACK SHINE 400ML</td>\n",
       "      <td>441741B84B6010A</td>\n",
       "      <td>CLEAR SHAMPOO BLACK</td>\n",
       "      <td>441741B84B601</td>\n",
       "      <td>CLEAR SHAMPOO</td>\n",
       "      <td>441741B84B6</td>\n",
       "      <td>SHAMPOO/2IN1</td>\n",
       "      <td>441741B84</td>\n",
       "      <td>CLEAR</td>\n",
       "      <td>...</td>\n",
       "      <td>UPL</td>\n",
       "      <td>TC</td>\n",
       "      <td>TOTAL COMPANY</td>\n",
       "      <td>NaN</td>\n",
       "      <td>NaN</td>\n",
       "      <td>NaN</td>\n",
       "      <td>NaN</td>\n",
       "      <td>NaN</td>\n",
       "      <td>CH2048</td>\n",
       "      <td>68514744</td>\n",
       "    </tr>\n",
       "    <tr>\n",
       "      <th>3</th>\n",
       "      <td>441741B84B6010A05</td>\n",
       "      <td>CLEAR SHAMPOO BLACK SHINE 185ML</td>\n",
       "      <td>441741B84B6010A</td>\n",
       "      <td>CLEAR SHAMPOO BLACK</td>\n",
       "      <td>441741B84B601</td>\n",
       "      <td>CLEAR SHAMPOO</td>\n",
       "      <td>441741B84B6</td>\n",
       "      <td>SHAMPOO/2IN1</td>\n",
       "      <td>441741B84</td>\n",
       "      <td>CLEAR</td>\n",
       "      <td>...</td>\n",
       "      <td>UPL</td>\n",
       "      <td>TC</td>\n",
       "      <td>TOTAL COMPANY</td>\n",
       "      <td>NaN</td>\n",
       "      <td>NaN</td>\n",
       "      <td>NaN</td>\n",
       "      <td>NaN</td>\n",
       "      <td>NaN</td>\n",
       "      <td>CH2048</td>\n",
       "      <td>67944902</td>\n",
       "    </tr>\n",
       "    <tr>\n",
       "      <th>4</th>\n",
       "      <td>441741B84B6010A05</td>\n",
       "      <td>CLEAR SHAMPOO BLACK SHINE 185ML</td>\n",
       "      <td>441741B84B6010A</td>\n",
       "      <td>CLEAR SHAMPOO BLACK</td>\n",
       "      <td>441741B84B601</td>\n",
       "      <td>CLEAR SHAMPOO</td>\n",
       "      <td>441741B84B6</td>\n",
       "      <td>SHAMPOO/2IN1</td>\n",
       "      <td>441741B84</td>\n",
       "      <td>CLEAR</td>\n",
       "      <td>...</td>\n",
       "      <td>UPL</td>\n",
       "      <td>TC</td>\n",
       "      <td>TOTAL COMPANY</td>\n",
       "      <td>NaN</td>\n",
       "      <td>NaN</td>\n",
       "      <td>NaN</td>\n",
       "      <td>NaN</td>\n",
       "      <td>NaN</td>\n",
       "      <td>CH2048</td>\n",
       "      <td>68306193</td>\n",
       "    </tr>\n",
       "  </tbody>\n",
       "</table>\n",
       "<p>5 rows × 29 columns</p>\n",
       "</div>"
      ],
      "text/plain": [
       "     Master_SKU_Code               at_Master_SKU_Desc   Sub_Brand_Code  \\\n",
       "0  441741B84B6010A02  CLEAR SHAMPOO BLACK SHINE 400ML  441741B84B6010A   \n",
       "1  441741B84B6010A02  CLEAR SHAMPOO BLACK SHINE 400ML  441741B84B6010A   \n",
       "2  441741B84B6010A02  CLEAR SHAMPOO BLACK SHINE 400ML  441741B84B6010A   \n",
       "3  441741B84B6010A05  CLEAR SHAMPOO BLACK SHINE 185ML  441741B84B6010A   \n",
       "4  441741B84B6010A05  CLEAR SHAMPOO BLACK SHINE 185ML  441741B84B6010A   \n",
       "\n",
       "     at_Sub_Brand_Desc            CPG    at_CPG_Desc       Sector  \\\n",
       "0  CLEAR SHAMPOO BLACK  441741B84B601  CLEAR SHAMPOO  441741B84B6   \n",
       "1  CLEAR SHAMPOO BLACK  441741B84B601  CLEAR SHAMPOO  441741B84B6   \n",
       "2  CLEAR SHAMPOO BLACK  441741B84B601  CLEAR SHAMPOO  441741B84B6   \n",
       "3  CLEAR SHAMPOO BLACK  441741B84B601  CLEAR SHAMPOO  441741B84B6   \n",
       "4  CLEAR SHAMPOO BLACK  441741B84B601  CLEAR SHAMPOO  441741B84B6   \n",
       "\n",
       "  at_Sector_Desc Brand_Code at_Brand_Desc  ... at_Company_Desc TOP_Code  \\\n",
       "0   SHAMPOO/2IN1  441741B84         CLEAR  ...             UPL       TC   \n",
       "1   SHAMPOO/2IN1  441741B84         CLEAR  ...             UPL       TC   \n",
       "2   SHAMPOO/2IN1  441741B84         CLEAR  ...             UPL       TC   \n",
       "3   SHAMPOO/2IN1  441741B84         CLEAR  ...             UPL       TC   \n",
       "4   SHAMPOO/2IN1  441741B84         CLEAR  ...             UPL       TC   \n",
       "\n",
       "     at_TOP_Desc at_Grammage at_UOM at_Plant  at_Currency at_Tax_Regime  \\\n",
       "0  TOTAL COMPANY         NaN    NaN      NaN          NaN           NaN   \n",
       "1  TOTAL COMPANY         NaN    NaN      NaN          NaN           NaN   \n",
       "2  TOTAL COMPANY         NaN    NaN      NaN          NaN           NaN   \n",
       "3  TOTAL COMPANY         NaN    NaN      NaN          NaN           NaN   \n",
       "4  TOTAL COMPANY         NaN    NaN      NaN          NaN           NaN   \n",
       "\n",
       "  at_CARAT_ULCODE at_Material_Code  \n",
       "0          CH2048         68306198  \n",
       "1          CH2048         68462089  \n",
       "2          CH2048         68514744  \n",
       "3          CH2048         67944902  \n",
       "4          CH2048         68306193  \n",
       "\n",
       "[5 rows x 29 columns]"
      ]
     },
     "execution_count": 9,
     "metadata": {},
     "output_type": "execute_result"
    }
   ],
   "source": [
    "df=pd.read_csv(\"ProductHierarchy.csv\",header=1)\n",
    "df.head()"
   ]
  },
  {
   "cell_type": "code",
   "execution_count": 26,
   "id": "0cc589e5",
   "metadata": {},
   "outputs": [
    {
     "data": {
      "text/plain": [
       "(2172, 29)"
      ]
     },
     "execution_count": 26,
     "metadata": {},
     "output_type": "execute_result"
    }
   ],
   "source": [
    "df.shape"
   ]
  },
  {
   "cell_type": "code",
   "execution_count": 16,
   "id": "940e34db",
   "metadata": {
    "collapsed": true
   },
   "outputs": [
    {
     "data": {
      "text/plain": [
       "['Master_SKU_Code',\n",
       " 'at_Master_SKU_Desc',\n",
       " 'Sub_Brand_Code',\n",
       " 'at_Sub_Brand_Desc',\n",
       " 'CPG',\n",
       " 'at_CPG_Desc',\n",
       " 'Sector',\n",
       " 'at_Sector_Desc',\n",
       " 'Brand_Code',\n",
       " 'at_Brand_Desc',\n",
       " 'Market_Code',\n",
       " 'at_Market_Desc',\n",
       " 'Category_Code',\n",
       " 'at_Category_Desc',\n",
       " 'Sub_Division_Code',\n",
       " 'at_Sub_Division_Desc',\n",
       " 'Division_Code',\n",
       " 'at_Division_Desc']"
      ]
     },
     "execution_count": 16,
     "metadata": {},
     "output_type": "execute_result"
    }
   ],
   "source": [
    "(list(df.columns)[:18])"
   ]
  },
  {
   "cell_type": "code",
   "execution_count": 27,
   "id": "68ebcbf1",
   "metadata": {},
   "outputs": [],
   "source": [
    "df_new=df.iloc[:,:18]"
   ]
  },
  {
   "cell_type": "code",
   "execution_count": 28,
   "id": "98c53197",
   "metadata": {
    "collapsed": true
   },
   "outputs": [
    {
     "data": {
      "text/html": [
       "<div>\n",
       "<style scoped>\n",
       "    .dataframe tbody tr th:only-of-type {\n",
       "        vertical-align: middle;\n",
       "    }\n",
       "\n",
       "    .dataframe tbody tr th {\n",
       "        vertical-align: top;\n",
       "    }\n",
       "\n",
       "    .dataframe thead th {\n",
       "        text-align: right;\n",
       "    }\n",
       "</style>\n",
       "<table border=\"1\" class=\"dataframe\">\n",
       "  <thead>\n",
       "    <tr style=\"text-align: right;\">\n",
       "      <th></th>\n",
       "      <th>Master_SKU_Code</th>\n",
       "      <th>at_Master_SKU_Desc</th>\n",
       "      <th>Sub_Brand_Code</th>\n",
       "      <th>at_Sub_Brand_Desc</th>\n",
       "      <th>CPG</th>\n",
       "      <th>at_CPG_Desc</th>\n",
       "      <th>Sector</th>\n",
       "      <th>at_Sector_Desc</th>\n",
       "      <th>Brand_Code</th>\n",
       "      <th>at_Brand_Desc</th>\n",
       "      <th>Market_Code</th>\n",
       "      <th>at_Market_Desc</th>\n",
       "      <th>Category_Code</th>\n",
       "      <th>at_Category_Desc</th>\n",
       "      <th>Sub_Division_Code</th>\n",
       "      <th>at_Sub_Division_Desc</th>\n",
       "      <th>Division_Code</th>\n",
       "      <th>at_Division_Desc</th>\n",
       "    </tr>\n",
       "  </thead>\n",
       "  <tbody>\n",
       "    <tr>\n",
       "      <th>0</th>\n",
       "      <td>441741B84B6010A02</td>\n",
       "      <td>CLEAR SHAMPOO BLACK SHINE 400ML</td>\n",
       "      <td>441741B84B6010A</td>\n",
       "      <td>CLEAR SHAMPOO BLACK</td>\n",
       "      <td>441741B84B601</td>\n",
       "      <td>CLEAR SHAMPOO</td>\n",
       "      <td>441741B84B6</td>\n",
       "      <td>SHAMPOO/2IN1</td>\n",
       "      <td>441741B84</td>\n",
       "      <td>CLEAR</td>\n",
       "      <td>441741</td>\n",
       "      <td>WASH &amp; CARE</td>\n",
       "      <td>4417</td>\n",
       "      <td>HAIR CARE</td>\n",
       "      <td>44</td>\n",
       "      <td>BEAUTY &amp; PERSONAL CA</td>\n",
       "      <td>4</td>\n",
       "      <td>BEAUTY &amp; PERSONAL CA</td>\n",
       "    </tr>\n",
       "    <tr>\n",
       "      <th>1</th>\n",
       "      <td>441741B84B6010A02</td>\n",
       "      <td>CLEAR SHAMPOO BLACK SHINE 400ML</td>\n",
       "      <td>441741B84B6010A</td>\n",
       "      <td>CLEAR SHAMPOO BLACK</td>\n",
       "      <td>441741B84B601</td>\n",
       "      <td>CLEAR SHAMPOO</td>\n",
       "      <td>441741B84B6</td>\n",
       "      <td>SHAMPOO/2IN1</td>\n",
       "      <td>441741B84</td>\n",
       "      <td>CLEAR</td>\n",
       "      <td>441741</td>\n",
       "      <td>WASH &amp; CARE</td>\n",
       "      <td>4417</td>\n",
       "      <td>HAIR CARE</td>\n",
       "      <td>44</td>\n",
       "      <td>BEAUTY &amp; PERSONAL CA</td>\n",
       "      <td>4</td>\n",
       "      <td>BEAUTY &amp; PERSONAL CA</td>\n",
       "    </tr>\n",
       "    <tr>\n",
       "      <th>2</th>\n",
       "      <td>441741B84B6010A02</td>\n",
       "      <td>CLEAR SHAMPOO BLACK SHINE 400ML</td>\n",
       "      <td>441741B84B6010A</td>\n",
       "      <td>CLEAR SHAMPOO BLACK</td>\n",
       "      <td>441741B84B601</td>\n",
       "      <td>CLEAR SHAMPOO</td>\n",
       "      <td>441741B84B6</td>\n",
       "      <td>SHAMPOO/2IN1</td>\n",
       "      <td>441741B84</td>\n",
       "      <td>CLEAR</td>\n",
       "      <td>441741</td>\n",
       "      <td>WASH &amp; CARE</td>\n",
       "      <td>4417</td>\n",
       "      <td>HAIR CARE</td>\n",
       "      <td>44</td>\n",
       "      <td>BEAUTY &amp; PERSONAL CA</td>\n",
       "      <td>4</td>\n",
       "      <td>BEAUTY &amp; PERSONAL CA</td>\n",
       "    </tr>\n",
       "    <tr>\n",
       "      <th>3</th>\n",
       "      <td>441741B84B6010A05</td>\n",
       "      <td>CLEAR SHAMPOO BLACK SHINE 185ML</td>\n",
       "      <td>441741B84B6010A</td>\n",
       "      <td>CLEAR SHAMPOO BLACK</td>\n",
       "      <td>441741B84B601</td>\n",
       "      <td>CLEAR SHAMPOO</td>\n",
       "      <td>441741B84B6</td>\n",
       "      <td>SHAMPOO/2IN1</td>\n",
       "      <td>441741B84</td>\n",
       "      <td>CLEAR</td>\n",
       "      <td>441741</td>\n",
       "      <td>WASH &amp; CARE</td>\n",
       "      <td>4417</td>\n",
       "      <td>HAIR CARE</td>\n",
       "      <td>44</td>\n",
       "      <td>BEAUTY &amp; PERSONAL CA</td>\n",
       "      <td>4</td>\n",
       "      <td>BEAUTY &amp; PERSONAL CA</td>\n",
       "    </tr>\n",
       "    <tr>\n",
       "      <th>4</th>\n",
       "      <td>441741B84B6010A05</td>\n",
       "      <td>CLEAR SHAMPOO BLACK SHINE 185ML</td>\n",
       "      <td>441741B84B6010A</td>\n",
       "      <td>CLEAR SHAMPOO BLACK</td>\n",
       "      <td>441741B84B601</td>\n",
       "      <td>CLEAR SHAMPOO</td>\n",
       "      <td>441741B84B6</td>\n",
       "      <td>SHAMPOO/2IN1</td>\n",
       "      <td>441741B84</td>\n",
       "      <td>CLEAR</td>\n",
       "      <td>441741</td>\n",
       "      <td>WASH &amp; CARE</td>\n",
       "      <td>4417</td>\n",
       "      <td>HAIR CARE</td>\n",
       "      <td>44</td>\n",
       "      <td>BEAUTY &amp; PERSONAL CA</td>\n",
       "      <td>4</td>\n",
       "      <td>BEAUTY &amp; PERSONAL CA</td>\n",
       "    </tr>\n",
       "    <tr>\n",
       "      <th>...</th>\n",
       "      <td>...</td>\n",
       "      <td>...</td>\n",
       "      <td>...</td>\n",
       "      <td>...</td>\n",
       "      <td>...</td>\n",
       "      <td>...</td>\n",
       "      <td>...</td>\n",
       "      <td>...</td>\n",
       "      <td>...</td>\n",
       "      <td>...</td>\n",
       "      <td>...</td>\n",
       "      <td>...</td>\n",
       "      <td>...</td>\n",
       "      <td>...</td>\n",
       "      <td>...</td>\n",
       "      <td>...</td>\n",
       "      <td>...</td>\n",
       "      <td>...</td>\n",
       "    </tr>\n",
       "    <tr>\n",
       "      <th>2167</th>\n",
       "      <td>6A42A475995213601</td>\n",
       "      <td>DOMEX TOILET THICK BLEACH GREEN 500ML</td>\n",
       "      <td>6A42A4759952136</td>\n",
       "      <td>DOMEX TOILET THICK B</td>\n",
       "      <td>6A42A47599521</td>\n",
       "      <td>DOMEX TOILET THICK B</td>\n",
       "      <td>6A42A475995</td>\n",
       "      <td>HARD SURFACE CLEANER</td>\n",
       "      <td>6A42A4759</td>\n",
       "      <td>DOMEX</td>\n",
       "      <td>6A42A4</td>\n",
       "      <td>HOUSEHOLD CLEANING</td>\n",
       "      <td>6A42</td>\n",
       "      <td>HOME &amp; HYGIENE</td>\n",
       "      <td>6A</td>\n",
       "      <td>HOME CARE</td>\n",
       "      <td>6</td>\n",
       "      <td>HOME CARE</td>\n",
       "    </tr>\n",
       "    <tr>\n",
       "      <th>2168</th>\n",
       "      <td>6A42A409895380901</td>\n",
       "      <td>JIF MCRO M/P N/ABR CL PINE BREEZE 750ML</td>\n",
       "      <td>6A42A4098953809</td>\n",
       "      <td>JIF MICRO M/P N/ABR</td>\n",
       "      <td>6A42A40989538</td>\n",
       "      <td>JIF MICRO M/P N/ABR</td>\n",
       "      <td>6A42A409895</td>\n",
       "      <td>HARD SURFACE CLEANER</td>\n",
       "      <td>6A42A4098</td>\n",
       "      <td>JIF (HC&amp;BPC)</td>\n",
       "      <td>6A42A4</td>\n",
       "      <td>HOUSEHOLD CLEANING</td>\n",
       "      <td>6A42</td>\n",
       "      <td>HOME &amp; HYGIENE</td>\n",
       "      <td>6A</td>\n",
       "      <td>HOME CARE</td>\n",
       "      <td>6</td>\n",
       "      <td>HOME CARE</td>\n",
       "    </tr>\n",
       "    <tr>\n",
       "      <th>2169</th>\n",
       "      <td>6A42A409895381401</td>\n",
       "      <td>JIF MCRO M/P N/ABR CL LEMON BREEZE 750ML</td>\n",
       "      <td>6A42A4098953814</td>\n",
       "      <td>JIF MICRO M/P N/ABR</td>\n",
       "      <td>6A42A40989538</td>\n",
       "      <td>JIF MICRO M/P N/ABR</td>\n",
       "      <td>6A42A409895</td>\n",
       "      <td>HARD SURFACE CLEANER</td>\n",
       "      <td>6A42A4098</td>\n",
       "      <td>JIF (HC&amp;BPC)</td>\n",
       "      <td>6A42A4</td>\n",
       "      <td>HOUSEHOLD CLEANING</td>\n",
       "      <td>6A42</td>\n",
       "      <td>HOME &amp; HYGIENE</td>\n",
       "      <td>6A</td>\n",
       "      <td>HOME CARE</td>\n",
       "      <td>6</td>\n",
       "      <td>HOME CARE</td>\n",
       "    </tr>\n",
       "    <tr>\n",
       "      <th>2170</th>\n",
       "      <td>6A43B3A48U1216202</td>\n",
       "      <td>PUREIT BW SP WATER PUR EXCLA SDMNT 1PC</td>\n",
       "      <td>6A43B3A48U12162</td>\n",
       "      <td>PUREIT BW SP WATER P</td>\n",
       "      <td>6A43B3A48U121</td>\n",
       "      <td>PUREIT BIOCIDE WATER</td>\n",
       "      <td>6A43B3A48U1</td>\n",
       "      <td>WATER PURIFIERS SPAR</td>\n",
       "      <td>6A43B3A48</td>\n",
       "      <td>PUREIT</td>\n",
       "      <td>6A43B3</td>\n",
       "      <td>WATER PURIFICATION</td>\n",
       "      <td>6A43</td>\n",
       "      <td>WATER &amp; AIR WELLNESS</td>\n",
       "      <td>6A</td>\n",
       "      <td>HOME CARE</td>\n",
       "      <td>6</td>\n",
       "      <td>HOME CARE</td>\n",
       "    </tr>\n",
       "    <tr>\n",
       "      <th>2171</th>\n",
       "      <td>6A43B3A48SZ140101</td>\n",
       "      <td>PUREIT BIOCIDE WATR PUR GERMKILL KIT 1PC</td>\n",
       "      <td>6A43B3A48SZ1401</td>\n",
       "      <td>PUREIT BIOCIDE WATER</td>\n",
       "      <td>6A43B3A48SZ14</td>\n",
       "      <td>PUREIT BIOCIDE WATER</td>\n",
       "      <td>6A43B3A48SZ</td>\n",
       "      <td>WATER PURIFIERS SYST</td>\n",
       "      <td>6A43B3A48</td>\n",
       "      <td>PUREIT</td>\n",
       "      <td>6A43B3</td>\n",
       "      <td>WATER PURIFICATION</td>\n",
       "      <td>6A43</td>\n",
       "      <td>WATER &amp; AIR WELLNESS</td>\n",
       "      <td>6A</td>\n",
       "      <td>HOME CARE</td>\n",
       "      <td>6</td>\n",
       "      <td>HOME CARE</td>\n",
       "    </tr>\n",
       "  </tbody>\n",
       "</table>\n",
       "<p>2172 rows × 18 columns</p>\n",
       "</div>"
      ],
      "text/plain": [
       "        Master_SKU_Code                        at_Master_SKU_Desc  \\\n",
       "0     441741B84B6010A02           CLEAR SHAMPOO BLACK SHINE 400ML   \n",
       "1     441741B84B6010A02           CLEAR SHAMPOO BLACK SHINE 400ML   \n",
       "2     441741B84B6010A02           CLEAR SHAMPOO BLACK SHINE 400ML   \n",
       "3     441741B84B6010A05           CLEAR SHAMPOO BLACK SHINE 185ML   \n",
       "4     441741B84B6010A05           CLEAR SHAMPOO BLACK SHINE 185ML   \n",
       "...                 ...                                       ...   \n",
       "2167  6A42A475995213601     DOMEX TOILET THICK BLEACH GREEN 500ML   \n",
       "2168  6A42A409895380901   JIF MCRO M/P N/ABR CL PINE BREEZE 750ML   \n",
       "2169  6A42A409895381401  JIF MCRO M/P N/ABR CL LEMON BREEZE 750ML   \n",
       "2170  6A43B3A48U1216202    PUREIT BW SP WATER PUR EXCLA SDMNT 1PC   \n",
       "2171  6A43B3A48SZ140101  PUREIT BIOCIDE WATR PUR GERMKILL KIT 1PC   \n",
       "\n",
       "       Sub_Brand_Code     at_Sub_Brand_Desc            CPG  \\\n",
       "0     441741B84B6010A   CLEAR SHAMPOO BLACK  441741B84B601   \n",
       "1     441741B84B6010A   CLEAR SHAMPOO BLACK  441741B84B601   \n",
       "2     441741B84B6010A   CLEAR SHAMPOO BLACK  441741B84B601   \n",
       "3     441741B84B6010A   CLEAR SHAMPOO BLACK  441741B84B601   \n",
       "4     441741B84B6010A   CLEAR SHAMPOO BLACK  441741B84B601   \n",
       "...               ...                   ...            ...   \n",
       "2167  6A42A4759952136  DOMEX TOILET THICK B  6A42A47599521   \n",
       "2168  6A42A4098953809   JIF MICRO M/P N/ABR  6A42A40989538   \n",
       "2169  6A42A4098953814   JIF MICRO M/P N/ABR  6A42A40989538   \n",
       "2170  6A43B3A48U12162  PUREIT BW SP WATER P  6A43B3A48U121   \n",
       "2171  6A43B3A48SZ1401  PUREIT BIOCIDE WATER  6A43B3A48SZ14   \n",
       "\n",
       "               at_CPG_Desc       Sector        at_Sector_Desc Brand_Code  \\\n",
       "0            CLEAR SHAMPOO  441741B84B6          SHAMPOO/2IN1  441741B84   \n",
       "1            CLEAR SHAMPOO  441741B84B6          SHAMPOO/2IN1  441741B84   \n",
       "2            CLEAR SHAMPOO  441741B84B6          SHAMPOO/2IN1  441741B84   \n",
       "3            CLEAR SHAMPOO  441741B84B6          SHAMPOO/2IN1  441741B84   \n",
       "4            CLEAR SHAMPOO  441741B84B6          SHAMPOO/2IN1  441741B84   \n",
       "...                    ...          ...                   ...        ...   \n",
       "2167  DOMEX TOILET THICK B  6A42A475995  HARD SURFACE CLEANER  6A42A4759   \n",
       "2168   JIF MICRO M/P N/ABR  6A42A409895  HARD SURFACE CLEANER  6A42A4098   \n",
       "2169   JIF MICRO M/P N/ABR  6A42A409895  HARD SURFACE CLEANER  6A42A4098   \n",
       "2170  PUREIT BIOCIDE WATER  6A43B3A48U1  WATER PURIFIERS SPAR  6A43B3A48   \n",
       "2171  PUREIT BIOCIDE WATER  6A43B3A48SZ  WATER PURIFIERS SYST  6A43B3A48   \n",
       "\n",
       "     at_Brand_Desc Market_Code      at_Market_Desc Category_Code  \\\n",
       "0            CLEAR      441741         WASH & CARE          4417   \n",
       "1            CLEAR      441741         WASH & CARE          4417   \n",
       "2            CLEAR      441741         WASH & CARE          4417   \n",
       "3            CLEAR      441741         WASH & CARE          4417   \n",
       "4            CLEAR      441741         WASH & CARE          4417   \n",
       "...            ...         ...                 ...           ...   \n",
       "2167         DOMEX      6A42A4  HOUSEHOLD CLEANING          6A42   \n",
       "2168  JIF (HC&BPC)      6A42A4  HOUSEHOLD CLEANING          6A42   \n",
       "2169  JIF (HC&BPC)      6A42A4  HOUSEHOLD CLEANING          6A42   \n",
       "2170        PUREIT      6A43B3  WATER PURIFICATION          6A43   \n",
       "2171        PUREIT      6A43B3  WATER PURIFICATION          6A43   \n",
       "\n",
       "          at_Category_Desc Sub_Division_Code  at_Sub_Division_Desc  \\\n",
       "0                HAIR CARE                44  BEAUTY & PERSONAL CA   \n",
       "1                HAIR CARE                44  BEAUTY & PERSONAL CA   \n",
       "2                HAIR CARE                44  BEAUTY & PERSONAL CA   \n",
       "3                HAIR CARE                44  BEAUTY & PERSONAL CA   \n",
       "4                HAIR CARE                44  BEAUTY & PERSONAL CA   \n",
       "...                    ...               ...                   ...   \n",
       "2167        HOME & HYGIENE                6A             HOME CARE   \n",
       "2168        HOME & HYGIENE                6A             HOME CARE   \n",
       "2169        HOME & HYGIENE                6A             HOME CARE   \n",
       "2170  WATER & AIR WELLNESS                6A             HOME CARE   \n",
       "2171  WATER & AIR WELLNESS                6A             HOME CARE   \n",
       "\n",
       "      Division_Code      at_Division_Desc  \n",
       "0                 4  BEAUTY & PERSONAL CA  \n",
       "1                 4  BEAUTY & PERSONAL CA  \n",
       "2                 4  BEAUTY & PERSONAL CA  \n",
       "3                 4  BEAUTY & PERSONAL CA  \n",
       "4                 4  BEAUTY & PERSONAL CA  \n",
       "...             ...                   ...  \n",
       "2167              6             HOME CARE  \n",
       "2168              6             HOME CARE  \n",
       "2169              6             HOME CARE  \n",
       "2170              6             HOME CARE  \n",
       "2171              6             HOME CARE  \n",
       "\n",
       "[2172 rows x 18 columns]"
      ]
     },
     "execution_count": 28,
     "metadata": {},
     "output_type": "execute_result"
    }
   ],
   "source": [
    "df_new"
   ]
  },
  {
   "cell_type": "code",
   "execution_count": 29,
   "id": "adea7468",
   "metadata": {},
   "outputs": [
    {
     "data": {
      "text/plain": [
       "['Master_SKU_Code',\n",
       " 'at_Master_SKU_Desc',\n",
       " 'Sub_Brand_Code',\n",
       " 'at_Sub_Brand_Desc',\n",
       " 'CPG',\n",
       " 'at_CPG_Desc',\n",
       " 'Sector',\n",
       " 'at_Sector_Desc',\n",
       " 'Brand_Code',\n",
       " 'at_Brand_Desc',\n",
       " 'Market_Code',\n",
       " 'at_Market_Desc',\n",
       " 'Category_Code',\n",
       " 'at_Category_Desc',\n",
       " 'Sub_Division_Code',\n",
       " 'at_Sub_Division_Desc',\n",
       " 'Division_Code',\n",
       " 'at_Division_Desc']"
      ]
     },
     "execution_count": 29,
     "metadata": {},
     "output_type": "execute_result"
    }
   ],
   "source": [
    "list(df_new)"
   ]
  },
  {
   "cell_type": "code",
   "execution_count": 34,
   "id": "a1740264",
   "metadata": {
    "scrolled": false
   },
   "outputs": [
    {
     "data": {
      "text/html": [
       "<div>\n",
       "<style scoped>\n",
       "    .dataframe tbody tr th:only-of-type {\n",
       "        vertical-align: middle;\n",
       "    }\n",
       "\n",
       "    .dataframe tbody tr th {\n",
       "        vertical-align: top;\n",
       "    }\n",
       "\n",
       "    .dataframe thead th {\n",
       "        text-align: right;\n",
       "    }\n",
       "</style>\n",
       "<table border=\"1\" class=\"dataframe\">\n",
       "  <thead>\n",
       "    <tr style=\"text-align: right;\">\n",
       "      <th></th>\n",
       "      <th>Master_SKU_Code</th>\n",
       "      <th>at_Master_SKU_Desc</th>\n",
       "      <th>Sub_Brand_Code</th>\n",
       "      <th>at_Sub_Brand_Desc</th>\n",
       "      <th>CPG</th>\n",
       "      <th>at_CPG_Desc</th>\n",
       "      <th>Sector</th>\n",
       "      <th>at_Sector_Desc</th>\n",
       "      <th>Brand_Code</th>\n",
       "      <th>at_Brand_Desc</th>\n",
       "      <th>Market_Code</th>\n",
       "      <th>at_Market_Desc</th>\n",
       "      <th>Category_Code</th>\n",
       "      <th>at_Category_Desc</th>\n",
       "      <th>Sub_Division_Code</th>\n",
       "      <th>at_Sub_Division_Desc</th>\n",
       "      <th>Division_Code</th>\n",
       "      <th>at_Division_Desc</th>\n",
       "    </tr>\n",
       "  </thead>\n",
       "  <tbody>\n",
       "    <tr>\n",
       "      <th>0</th>\n",
       "      <td>441741B84B6010A02</td>\n",
       "      <td>CLEAR SHAMPOO BLACK SHINE 400ML</td>\n",
       "      <td>441741B84B6010A</td>\n",
       "      <td>CLEAR SHAMPOO BLACK</td>\n",
       "      <td>441741B84B601</td>\n",
       "      <td>CLEAR SHAMPOO</td>\n",
       "      <td>441741B84B6</td>\n",
       "      <td>SHAMPOO/2IN1</td>\n",
       "      <td>441741B84</td>\n",
       "      <td>CLEAR</td>\n",
       "      <td>441741</td>\n",
       "      <td>WASH &amp; CARE</td>\n",
       "      <td>4417</td>\n",
       "      <td>HAIR CARE</td>\n",
       "      <td>44</td>\n",
       "      <td>BEAUTY &amp; PERSONAL CA</td>\n",
       "      <td>4</td>\n",
       "      <td>BEAUTY &amp; PERSONAL CA</td>\n",
       "    </tr>\n",
       "    <tr>\n",
       "      <th>1</th>\n",
       "      <td>441741B84B6010A02</td>\n",
       "      <td>CLEAR SHAMPOO BLACK SHINE 400ML</td>\n",
       "      <td>441741B84B6010A</td>\n",
       "      <td>CLEAR SHAMPOO BLACK</td>\n",
       "      <td>441741B84B601</td>\n",
       "      <td>CLEAR SHAMPOO</td>\n",
       "      <td>441741B84B6</td>\n",
       "      <td>SHAMPOO/2IN1</td>\n",
       "      <td>441741B84</td>\n",
       "      <td>CLEAR</td>\n",
       "      <td>441741</td>\n",
       "      <td>WASH &amp; CARE</td>\n",
       "      <td>4417</td>\n",
       "      <td>HAIR CARE</td>\n",
       "      <td>44</td>\n",
       "      <td>BEAUTY &amp; PERSONAL CA</td>\n",
       "      <td>4</td>\n",
       "      <td>BEAUTY &amp; PERSONAL CA</td>\n",
       "    </tr>\n",
       "    <tr>\n",
       "      <th>2</th>\n",
       "      <td>441741B84B6010A02</td>\n",
       "      <td>CLEAR SHAMPOO BLACK SHINE 400ML</td>\n",
       "      <td>441741B84B6010A</td>\n",
       "      <td>CLEAR SHAMPOO BLACK</td>\n",
       "      <td>441741B84B601</td>\n",
       "      <td>CLEAR SHAMPOO</td>\n",
       "      <td>441741B84B6</td>\n",
       "      <td>SHAMPOO/2IN1</td>\n",
       "      <td>441741B84</td>\n",
       "      <td>CLEAR</td>\n",
       "      <td>441741</td>\n",
       "      <td>WASH &amp; CARE</td>\n",
       "      <td>4417</td>\n",
       "      <td>HAIR CARE</td>\n",
       "      <td>44</td>\n",
       "      <td>BEAUTY &amp; PERSONAL CA</td>\n",
       "      <td>4</td>\n",
       "      <td>BEAUTY &amp; PERSONAL CA</td>\n",
       "    </tr>\n",
       "  </tbody>\n",
       "</table>\n",
       "</div>"
      ],
      "text/plain": [
       "     Master_SKU_Code               at_Master_SKU_Desc   Sub_Brand_Code  \\\n",
       "0  441741B84B6010A02  CLEAR SHAMPOO BLACK SHINE 400ML  441741B84B6010A   \n",
       "1  441741B84B6010A02  CLEAR SHAMPOO BLACK SHINE 400ML  441741B84B6010A   \n",
       "2  441741B84B6010A02  CLEAR SHAMPOO BLACK SHINE 400ML  441741B84B6010A   \n",
       "\n",
       "     at_Sub_Brand_Desc            CPG    at_CPG_Desc       Sector  \\\n",
       "0  CLEAR SHAMPOO BLACK  441741B84B601  CLEAR SHAMPOO  441741B84B6   \n",
       "1  CLEAR SHAMPOO BLACK  441741B84B601  CLEAR SHAMPOO  441741B84B6   \n",
       "2  CLEAR SHAMPOO BLACK  441741B84B601  CLEAR SHAMPOO  441741B84B6   \n",
       "\n",
       "  at_Sector_Desc Brand_Code at_Brand_Desc Market_Code at_Market_Desc  \\\n",
       "0   SHAMPOO/2IN1  441741B84         CLEAR      441741    WASH & CARE   \n",
       "1   SHAMPOO/2IN1  441741B84         CLEAR      441741    WASH & CARE   \n",
       "2   SHAMPOO/2IN1  441741B84         CLEAR      441741    WASH & CARE   \n",
       "\n",
       "  Category_Code at_Category_Desc Sub_Division_Code  at_Sub_Division_Desc  \\\n",
       "0          4417        HAIR CARE                44  BEAUTY & PERSONAL CA   \n",
       "1          4417        HAIR CARE                44  BEAUTY & PERSONAL CA   \n",
       "2          4417        HAIR CARE                44  BEAUTY & PERSONAL CA   \n",
       "\n",
       "   Division_Code      at_Division_Desc  \n",
       "0              4  BEAUTY & PERSONAL CA  \n",
       "1              4  BEAUTY & PERSONAL CA  \n",
       "2              4  BEAUTY & PERSONAL CA  "
      ]
     },
     "execution_count": 34,
     "metadata": {},
     "output_type": "execute_result"
    }
   ],
   "source": [
    "df_new.groupby('Master_SKU_Code').get_group('441741B84B6010A02')"
   ]
  },
  {
   "cell_type": "code",
   "execution_count": 121,
   "id": "63508477",
   "metadata": {},
   "outputs": [
    {
     "data": {
      "text/html": [
       "<div>\n",
       "<style scoped>\n",
       "    .dataframe tbody tr th:only-of-type {\n",
       "        vertical-align: middle;\n",
       "    }\n",
       "\n",
       "    .dataframe tbody tr th {\n",
       "        vertical-align: top;\n",
       "    }\n",
       "\n",
       "    .dataframe thead th {\n",
       "        text-align: right;\n",
       "    }\n",
       "</style>\n",
       "<table border=\"1\" class=\"dataframe\">\n",
       "  <thead>\n",
       "    <tr style=\"text-align: right;\">\n",
       "      <th></th>\n",
       "      <th>Master_SKU_Code</th>\n",
       "      <th>at_Master_SKU_Desc</th>\n",
       "      <th>Sub_Brand_Code</th>\n",
       "      <th>at_Sub_Brand_Desc</th>\n",
       "      <th>CPG</th>\n",
       "      <th>at_CPG_Desc</th>\n",
       "      <th>Sector</th>\n",
       "      <th>at_Sector_Desc</th>\n",
       "      <th>Brand_Code</th>\n",
       "      <th>at_Brand_Desc</th>\n",
       "      <th>Market_Code</th>\n",
       "      <th>at_Market_Desc</th>\n",
       "      <th>Category_Code</th>\n",
       "      <th>at_Category_Desc</th>\n",
       "      <th>Sub_Division_Code</th>\n",
       "      <th>at_Sub_Division_Desc</th>\n",
       "      <th>Division_Code</th>\n",
       "      <th>at_Division_Desc</th>\n",
       "    </tr>\n",
       "  </thead>\n",
       "  <tbody>\n",
       "    <tr>\n",
       "      <th>0</th>\n",
       "      <td>441741B84B6010A02</td>\n",
       "      <td>CLEAR SHAMPOO BLACK SHINE 400ML</td>\n",
       "      <td>441741B84B6010A</td>\n",
       "      <td>CLEAR SHAMPOO BLACK</td>\n",
       "      <td>441741B84B601</td>\n",
       "      <td>CLEAR SHAMPOO</td>\n",
       "      <td>441741B84B6</td>\n",
       "      <td>SHAMPOO/2IN1</td>\n",
       "      <td>441741B84</td>\n",
       "      <td>CLEAR</td>\n",
       "      <td>441741</td>\n",
       "      <td>WASH &amp; CARE</td>\n",
       "      <td>4417</td>\n",
       "      <td>HAIR CARE</td>\n",
       "      <td>44</td>\n",
       "      <td>BEAUTY &amp; PERSONAL CA</td>\n",
       "      <td>4</td>\n",
       "      <td>BEAUTY &amp; PERSONAL CA</td>\n",
       "    </tr>\n",
       "    <tr>\n",
       "      <th>1</th>\n",
       "      <td>441741B84B6010A02</td>\n",
       "      <td>CLEAR SHAMPOO BLACK SHINE 400ML</td>\n",
       "      <td>441741B84B6010A</td>\n",
       "      <td>CLEAR SHAMPOO BLACK</td>\n",
       "      <td>441741B84B601</td>\n",
       "      <td>CLEAR SHAMPOO</td>\n",
       "      <td>441741B84B6</td>\n",
       "      <td>SHAMPOO/2IN1</td>\n",
       "      <td>441741B84</td>\n",
       "      <td>CLEAR</td>\n",
       "      <td>441741</td>\n",
       "      <td>WASH &amp; CARE</td>\n",
       "      <td>4417</td>\n",
       "      <td>HAIR CARE</td>\n",
       "      <td>44</td>\n",
       "      <td>BEAUTY &amp; PERSONAL CA</td>\n",
       "      <td>4</td>\n",
       "      <td>BEAUTY &amp; PERSONAL CA</td>\n",
       "    </tr>\n",
       "    <tr>\n",
       "      <th>2</th>\n",
       "      <td>441741B84B6010A02</td>\n",
       "      <td>CLEAR SHAMPOO BLACK SHINE 400ML</td>\n",
       "      <td>441741B84B6010A</td>\n",
       "      <td>CLEAR SHAMPOO BLACK</td>\n",
       "      <td>441741B84B601</td>\n",
       "      <td>CLEAR SHAMPOO</td>\n",
       "      <td>441741B84B6</td>\n",
       "      <td>SHAMPOO/2IN1</td>\n",
       "      <td>441741B84</td>\n",
       "      <td>CLEAR</td>\n",
       "      <td>441741</td>\n",
       "      <td>WASH &amp; CARE</td>\n",
       "      <td>4417</td>\n",
       "      <td>HAIR CARE</td>\n",
       "      <td>44</td>\n",
       "      <td>BEAUTY &amp; PERSONAL CA</td>\n",
       "      <td>4</td>\n",
       "      <td>BEAUTY &amp; PERSONAL CA</td>\n",
       "    </tr>\n",
       "    <tr>\n",
       "      <th>3</th>\n",
       "      <td>441741B84B6010A05</td>\n",
       "      <td>CLEAR SHAMPOO BLACK SHINE 185ML</td>\n",
       "      <td>441741B84B6010A</td>\n",
       "      <td>CLEAR SHAMPOO BLACK</td>\n",
       "      <td>441741B84B601</td>\n",
       "      <td>CLEAR SHAMPOO</td>\n",
       "      <td>441741B84B6</td>\n",
       "      <td>SHAMPOO/2IN1</td>\n",
       "      <td>441741B84</td>\n",
       "      <td>CLEAR</td>\n",
       "      <td>441741</td>\n",
       "      <td>WASH &amp; CARE</td>\n",
       "      <td>4417</td>\n",
       "      <td>HAIR CARE</td>\n",
       "      <td>44</td>\n",
       "      <td>BEAUTY &amp; PERSONAL CA</td>\n",
       "      <td>4</td>\n",
       "      <td>BEAUTY &amp; PERSONAL CA</td>\n",
       "    </tr>\n",
       "    <tr>\n",
       "      <th>4</th>\n",
       "      <td>441741B84B6010A05</td>\n",
       "      <td>CLEAR SHAMPOO BLACK SHINE 185ML</td>\n",
       "      <td>441741B84B6010A</td>\n",
       "      <td>CLEAR SHAMPOO BLACK</td>\n",
       "      <td>441741B84B601</td>\n",
       "      <td>CLEAR SHAMPOO</td>\n",
       "      <td>441741B84B6</td>\n",
       "      <td>SHAMPOO/2IN1</td>\n",
       "      <td>441741B84</td>\n",
       "      <td>CLEAR</td>\n",
       "      <td>441741</td>\n",
       "      <td>WASH &amp; CARE</td>\n",
       "      <td>4417</td>\n",
       "      <td>HAIR CARE</td>\n",
       "      <td>44</td>\n",
       "      <td>BEAUTY &amp; PERSONAL CA</td>\n",
       "      <td>4</td>\n",
       "      <td>BEAUTY &amp; PERSONAL CA</td>\n",
       "    </tr>\n",
       "  </tbody>\n",
       "</table>\n",
       "</div>"
      ],
      "text/plain": [
       "     Master_SKU_Code               at_Master_SKU_Desc   Sub_Brand_Code  \\\n",
       "0  441741B84B6010A02  CLEAR SHAMPOO BLACK SHINE 400ML  441741B84B6010A   \n",
       "1  441741B84B6010A02  CLEAR SHAMPOO BLACK SHINE 400ML  441741B84B6010A   \n",
       "2  441741B84B6010A02  CLEAR SHAMPOO BLACK SHINE 400ML  441741B84B6010A   \n",
       "3  441741B84B6010A05  CLEAR SHAMPOO BLACK SHINE 185ML  441741B84B6010A   \n",
       "4  441741B84B6010A05  CLEAR SHAMPOO BLACK SHINE 185ML  441741B84B6010A   \n",
       "\n",
       "     at_Sub_Brand_Desc            CPG    at_CPG_Desc       Sector  \\\n",
       "0  CLEAR SHAMPOO BLACK  441741B84B601  CLEAR SHAMPOO  441741B84B6   \n",
       "1  CLEAR SHAMPOO BLACK  441741B84B601  CLEAR SHAMPOO  441741B84B6   \n",
       "2  CLEAR SHAMPOO BLACK  441741B84B601  CLEAR SHAMPOO  441741B84B6   \n",
       "3  CLEAR SHAMPOO BLACK  441741B84B601  CLEAR SHAMPOO  441741B84B6   \n",
       "4  CLEAR SHAMPOO BLACK  441741B84B601  CLEAR SHAMPOO  441741B84B6   \n",
       "\n",
       "  at_Sector_Desc Brand_Code at_Brand_Desc Market_Code at_Market_Desc  \\\n",
       "0   SHAMPOO/2IN1  441741B84         CLEAR      441741    WASH & CARE   \n",
       "1   SHAMPOO/2IN1  441741B84         CLEAR      441741    WASH & CARE   \n",
       "2   SHAMPOO/2IN1  441741B84         CLEAR      441741    WASH & CARE   \n",
       "3   SHAMPOO/2IN1  441741B84         CLEAR      441741    WASH & CARE   \n",
       "4   SHAMPOO/2IN1  441741B84         CLEAR      441741    WASH & CARE   \n",
       "\n",
       "  Category_Code at_Category_Desc Sub_Division_Code  at_Sub_Division_Desc  \\\n",
       "0          4417        HAIR CARE                44  BEAUTY & PERSONAL CA   \n",
       "1          4417        HAIR CARE                44  BEAUTY & PERSONAL CA   \n",
       "2          4417        HAIR CARE                44  BEAUTY & PERSONAL CA   \n",
       "3          4417        HAIR CARE                44  BEAUTY & PERSONAL CA   \n",
       "4          4417        HAIR CARE                44  BEAUTY & PERSONAL CA   \n",
       "\n",
       "   Division_Code      at_Division_Desc  \n",
       "0              4  BEAUTY & PERSONAL CA  \n",
       "1              4  BEAUTY & PERSONAL CA  \n",
       "2              4  BEAUTY & PERSONAL CA  \n",
       "3              4  BEAUTY & PERSONAL CA  \n",
       "4              4  BEAUTY & PERSONAL CA  "
      ]
     },
     "execution_count": 121,
     "metadata": {},
     "output_type": "execute_result"
    }
   ],
   "source": [
    "df_new.head()"
   ]
  },
  {
   "cell_type": "code",
   "execution_count": 127,
   "id": "2f342cd6",
   "metadata": {},
   "outputs": [
    {
     "data": {
      "text/html": [
       "<div>\n",
       "<style scoped>\n",
       "    .dataframe tbody tr th:only-of-type {\n",
       "        vertical-align: middle;\n",
       "    }\n",
       "\n",
       "    .dataframe tbody tr th {\n",
       "        vertical-align: top;\n",
       "    }\n",
       "\n",
       "    .dataframe thead th {\n",
       "        text-align: right;\n",
       "    }\n",
       "</style>\n",
       "<table border=\"1\" class=\"dataframe\">\n",
       "  <thead>\n",
       "    <tr style=\"text-align: right;\">\n",
       "      <th></th>\n",
       "      <th>at_Master_SKU_Desc</th>\n",
       "    </tr>\n",
       "    <tr>\n",
       "      <th>Master_SKU_Code</th>\n",
       "      <th></th>\n",
       "    </tr>\n",
       "  </thead>\n",
       "  <tbody>\n",
       "    <tr>\n",
       "      <th>3.10278E+16</th>\n",
       "      <td>1</td>\n",
       "    </tr>\n",
       "    <tr>\n",
       "      <th>3.10985E+16</th>\n",
       "      <td>2</td>\n",
       "    </tr>\n",
       "    <tr>\n",
       "      <th>3.10986E+16</th>\n",
       "      <td>14</td>\n",
       "    </tr>\n",
       "    <tr>\n",
       "      <th>3102050131N46BZ13</th>\n",
       "      <td>1</td>\n",
       "    </tr>\n",
       "    <tr>\n",
       "      <th>3102050131N46D811</th>\n",
       "      <td>1</td>\n",
       "    </tr>\n",
       "    <tr>\n",
       "      <th>...</th>\n",
       "      <td>...</td>\n",
       "    </tr>\n",
       "    <tr>\n",
       "      <th>6A42A475995200201</th>\n",
       "      <td>1</td>\n",
       "    </tr>\n",
       "    <tr>\n",
       "      <th>6A42A475995200204</th>\n",
       "      <td>1</td>\n",
       "    </tr>\n",
       "    <tr>\n",
       "      <th>6A42A475995213601</th>\n",
       "      <td>1</td>\n",
       "    </tr>\n",
       "    <tr>\n",
       "      <th>6A43B3A48SZ140101</th>\n",
       "      <td>1</td>\n",
       "    </tr>\n",
       "    <tr>\n",
       "      <th>6A43B3A48U1216202</th>\n",
       "      <td>1</td>\n",
       "    </tr>\n",
       "  </tbody>\n",
       "</table>\n",
       "<p>703 rows × 1 columns</p>\n",
       "</div>"
      ],
      "text/plain": [
       "                   at_Master_SKU_Desc\n",
       "Master_SKU_Code                      \n",
       "3.10278E+16                         1\n",
       "3.10985E+16                         2\n",
       "3.10986E+16                        14\n",
       "3102050131N46BZ13                   1\n",
       "3102050131N46D811                   1\n",
       "...                               ...\n",
       "6A42A475995200201                   1\n",
       "6A42A475995200204                   1\n",
       "6A42A475995213601                   1\n",
       "6A43B3A48SZ140101                   1\n",
       "6A43B3A48U1216202                   1\n",
       "\n",
       "[703 rows x 1 columns]"
      ]
     },
     "execution_count": 127,
     "metadata": {},
     "output_type": "execute_result"
    }
   ],
   "source": [
    "df_new.groupby(\"Master_SKU_Code\").agg({\"at_Master_SKU_Desc\":'nunique'})"
   ]
  },
  {
   "cell_type": "code",
   "execution_count": 128,
   "id": "b27459ab",
   "metadata": {},
   "outputs": [],
   "source": [
    "ess=\"I have been working here for past 1 year and were able to contribute my knowledge for the on time task accomplishment and got better business understanding and excellent hands-on with relational databases like MySQL, Python programming, QlikView and tableau.\""
   ]
  },
  {
   "cell_type": "code",
   "execution_count": 129,
   "id": "3f5a445b",
   "metadata": {},
   "outputs": [
    {
     "data": {
      "text/plain": [
       "258"
      ]
     },
     "execution_count": 129,
     "metadata": {},
     "output_type": "execute_result"
    }
   ],
   "source": [
    "len(ess)"
   ]
  },
  {
   "cell_type": "code",
   "execution_count": null,
   "id": "b1624dbf",
   "metadata": {},
   "outputs": [],
   "source": [
    "pd.set_option()"
   ]
  },
  {
   "cell_type": "markdown",
   "id": "91c8946d",
   "metadata": {},
   "source": [
    "# first N prime numbers"
   ]
  },
  {
   "cell_type": "code",
   "execution_count": 43,
   "id": "f435696f",
   "metadata": {},
   "outputs": [],
   "source": [
    "def func(n):\n",
    "    num=2\n",
    "    count=0\n",
    "    while count!=n:\n",
    "        f=0\n",
    "        for i in range(1,num+1):\n",
    "            if num%i==0:\n",
    "                f=f+1\n",
    "        if f==2:\n",
    "            print(num)\n",
    "            count=count+1\n",
    "        num=num+1\n",
    "    "
   ]
  },
  {
   "cell_type": "code",
   "execution_count": 44,
   "id": "51f8c49f",
   "metadata": {},
   "outputs": [
    {
     "name": "stdout",
     "output_type": "stream",
     "text": [
      "2\n",
      "3\n",
      "5\n",
      "7\n",
      "11\n"
     ]
    }
   ],
   "source": [
    "func(5)"
   ]
  },
  {
   "cell_type": "markdown",
   "id": "2d8d3e63",
   "metadata": {},
   "source": [
    "# Armstrong number"
   ]
  },
  {
   "cell_type": "code",
   "execution_count": 54,
   "id": "b7574c26",
   "metadata": {},
   "outputs": [
    {
     "data": {
      "text/plain": [
       "True"
      ]
     },
     "execution_count": 54,
     "metadata": {},
     "output_type": "execute_result"
    }
   ],
   "source": [
    "153== 1**3+5**3+3**3"
   ]
  },
  {
   "cell_type": "code",
   "execution_count": 74,
   "id": "d46332e7",
   "metadata": {},
   "outputs": [],
   "source": [
    "def num(n):\n",
    "    sf=n\n",
    "    sm=0\n",
    "    while n!=0:\n",
    "        rem=n%10\n",
    "        sm=sm+rem**3\n",
    "        n=math.floor(n/10)\n",
    "    if sm==sf:\n",
    "        return True\n",
    "    else:\n",
    "        return False\n",
    "    "
   ]
  },
  {
   "cell_type": "code",
   "execution_count": 78,
   "id": "ab8e45bc",
   "metadata": {
    "scrolled": true
   },
   "outputs": [
    {
     "data": {
      "text/plain": [
       "True"
      ]
     },
     "execution_count": 78,
     "metadata": {},
     "output_type": "execute_result"
    }
   ],
   "source": [
    "num(407)"
   ]
  },
  {
   "cell_type": "code",
   "execution_count": 57,
   "id": "494c0144",
   "metadata": {},
   "outputs": [],
   "source": [
    "import math"
   ]
  },
  {
   "cell_type": "code",
   "execution_count": 58,
   "id": "c66d49b7",
   "metadata": {},
   "outputs": [
    {
     "data": {
      "text/plain": [
       "15"
      ]
     },
     "execution_count": 58,
     "metadata": {},
     "output_type": "execute_result"
    }
   ],
   "source": [
    "math.floor(153/10)"
   ]
  },
  {
   "cell_type": "code",
   "execution_count": 60,
   "id": "eb8fb862",
   "metadata": {},
   "outputs": [
    {
     "data": {
      "text/plain": [
       "1.5"
      ]
     },
     "execution_count": 60,
     "metadata": {},
     "output_type": "execute_result"
    }
   ],
   "source": [
    "15/10"
   ]
  },
  {
   "cell_type": "code",
   "execution_count": 61,
   "id": "b67124d2",
   "metadata": {},
   "outputs": [
    {
     "data": {
      "text/plain": [
       "0.1"
      ]
     },
     "execution_count": 61,
     "metadata": {},
     "output_type": "execute_result"
    }
   ],
   "source": [
    "1/10"
   ]
  },
  {
   "cell_type": "code",
   "execution_count": 62,
   "id": "673c1060",
   "metadata": {
    "scrolled": true
   },
   "outputs": [
    {
     "data": {
      "text/plain": [
       "0"
      ]
     },
     "execution_count": 62,
     "metadata": {},
     "output_type": "execute_result"
    }
   ],
   "source": [
    "math.floor(1/10)"
   ]
  },
  {
   "cell_type": "code",
   "execution_count": null,
   "id": "fd8c2b56",
   "metadata": {},
   "outputs": [],
   "source": []
  },
  {
   "cell_type": "code",
   "execution_count": 79,
   "id": "df681296",
   "metadata": {},
   "outputs": [],
   "source": [
    "from flask import Flask"
   ]
  },
  {
   "cell_type": "code",
   "execution_count": 82,
   "id": "ea12f5d8",
   "metadata": {},
   "outputs": [
    {
     "ename": "SystemExit",
     "evalue": "1",
     "output_type": "error",
     "traceback": [
      "\u001b[1;31m---------------------------------------------------------------------------\u001b[0m",
      "\u001b[1;31mSystemExit\u001b[0m                                Traceback (most recent call last)",
      "\u001b[1;32m<ipython-input-81-536006332e60>\u001b[0m in \u001b[0;36m<module>\u001b[1;34m\u001b[0m\n\u001b[0;32m      6\u001b[0m \u001b[1;33m\u001b[0m\u001b[0m\n\u001b[0;32m      7\u001b[0m \u001b[1;32mif\u001b[0m \u001b[0m__name__\u001b[0m\u001b[1;33m==\u001b[0m\u001b[1;34m'__main__'\u001b[0m\u001b[1;33m:\u001b[0m\u001b[1;33m\u001b[0m\u001b[1;33m\u001b[0m\u001b[0m\n\u001b[1;32m----> 8\u001b[1;33m     \u001b[0mapp\u001b[0m\u001b[1;33m.\u001b[0m\u001b[0mrun\u001b[0m\u001b[1;33m(\u001b[0m\u001b[0mdebug\u001b[0m\u001b[1;33m=\u001b[0m\u001b[1;32mTrue\u001b[0m\u001b[1;33m)\u001b[0m\u001b[1;33m\u001b[0m\u001b[1;33m\u001b[0m\u001b[0m\n\u001b[0m",
      "\u001b[1;32mC:\\ProgramData\\Anaconda3\\lib\\site-packages\\flask\\app.py\u001b[0m in \u001b[0;36mrun\u001b[1;34m(self, host, port, debug, load_dotenv, **options)\u001b[0m\n\u001b[0;32m    988\u001b[0m \u001b[1;33m\u001b[0m\u001b[0m\n\u001b[0;32m    989\u001b[0m         \u001b[1;32mtry\u001b[0m\u001b[1;33m:\u001b[0m\u001b[1;33m\u001b[0m\u001b[1;33m\u001b[0m\u001b[0m\n\u001b[1;32m--> 990\u001b[1;33m             \u001b[0mrun_simple\u001b[0m\u001b[1;33m(\u001b[0m\u001b[0mhost\u001b[0m\u001b[1;33m,\u001b[0m \u001b[0mport\u001b[0m\u001b[1;33m,\u001b[0m \u001b[0mself\u001b[0m\u001b[1;33m,\u001b[0m \u001b[1;33m**\u001b[0m\u001b[0moptions\u001b[0m\u001b[1;33m)\u001b[0m\u001b[1;33m\u001b[0m\u001b[1;33m\u001b[0m\u001b[0m\n\u001b[0m\u001b[0;32m    991\u001b[0m         \u001b[1;32mfinally\u001b[0m\u001b[1;33m:\u001b[0m\u001b[1;33m\u001b[0m\u001b[1;33m\u001b[0m\u001b[0m\n\u001b[0;32m    992\u001b[0m             \u001b[1;31m# reset the first request information if the development server\u001b[0m\u001b[1;33m\u001b[0m\u001b[1;33m\u001b[0m\u001b[1;33m\u001b[0m\u001b[0m\n",
      "\u001b[1;32mC:\\ProgramData\\Anaconda3\\lib\\site-packages\\werkzeug\\serving.py\u001b[0m in \u001b[0;36mrun_simple\u001b[1;34m(hostname, port, application, use_reloader, use_debugger, use_evalex, extra_files, reloader_interval, reloader_type, threaded, processes, request_handler, static_files, passthrough_errors, ssl_context)\u001b[0m\n\u001b[0;32m   1048\u001b[0m         \u001b[1;32mfrom\u001b[0m \u001b[1;33m.\u001b[0m\u001b[0m_reloader\u001b[0m \u001b[1;32mimport\u001b[0m \u001b[0mrun_with_reloader\u001b[0m\u001b[1;33m\u001b[0m\u001b[1;33m\u001b[0m\u001b[0m\n\u001b[0;32m   1049\u001b[0m \u001b[1;33m\u001b[0m\u001b[0m\n\u001b[1;32m-> 1050\u001b[1;33m         \u001b[0mrun_with_reloader\u001b[0m\u001b[1;33m(\u001b[0m\u001b[0minner\u001b[0m\u001b[1;33m,\u001b[0m \u001b[0mextra_files\u001b[0m\u001b[1;33m,\u001b[0m \u001b[0mreloader_interval\u001b[0m\u001b[1;33m,\u001b[0m \u001b[0mreloader_type\u001b[0m\u001b[1;33m)\u001b[0m\u001b[1;33m\u001b[0m\u001b[1;33m\u001b[0m\u001b[0m\n\u001b[0m\u001b[0;32m   1051\u001b[0m     \u001b[1;32melse\u001b[0m\u001b[1;33m:\u001b[0m\u001b[1;33m\u001b[0m\u001b[1;33m\u001b[0m\u001b[0m\n\u001b[0;32m   1052\u001b[0m         \u001b[0minner\u001b[0m\u001b[1;33m(\u001b[0m\u001b[1;33m)\u001b[0m\u001b[1;33m\u001b[0m\u001b[1;33m\u001b[0m\u001b[0m\n",
      "\u001b[1;32mC:\\ProgramData\\Anaconda3\\lib\\site-packages\\werkzeug\\_reloader.py\u001b[0m in \u001b[0;36mrun_with_reloader\u001b[1;34m(main_func, extra_files, interval, reloader_type)\u001b[0m\n\u001b[0;32m    337\u001b[0m             \u001b[0mreloader\u001b[0m\u001b[1;33m.\u001b[0m\u001b[0mrun\u001b[0m\u001b[1;33m(\u001b[0m\u001b[1;33m)\u001b[0m\u001b[1;33m\u001b[0m\u001b[1;33m\u001b[0m\u001b[0m\n\u001b[0;32m    338\u001b[0m         \u001b[1;32melse\u001b[0m\u001b[1;33m:\u001b[0m\u001b[1;33m\u001b[0m\u001b[1;33m\u001b[0m\u001b[0m\n\u001b[1;32m--> 339\u001b[1;33m             \u001b[0msys\u001b[0m\u001b[1;33m.\u001b[0m\u001b[0mexit\u001b[0m\u001b[1;33m(\u001b[0m\u001b[0mreloader\u001b[0m\u001b[1;33m.\u001b[0m\u001b[0mrestart_with_reloader\u001b[0m\u001b[1;33m(\u001b[0m\u001b[1;33m)\u001b[0m\u001b[1;33m)\u001b[0m\u001b[1;33m\u001b[0m\u001b[1;33m\u001b[0m\u001b[0m\n\u001b[0m\u001b[0;32m    340\u001b[0m     \u001b[1;32mexcept\u001b[0m \u001b[0mKeyboardInterrupt\u001b[0m\u001b[1;33m:\u001b[0m\u001b[1;33m\u001b[0m\u001b[1;33m\u001b[0m\u001b[0m\n\u001b[0;32m    341\u001b[0m         \u001b[1;32mpass\u001b[0m\u001b[1;33m\u001b[0m\u001b[1;33m\u001b[0m\u001b[0m\n",
      "\u001b[1;31mSystemExit\u001b[0m: 1"
     ]
    },
    {
     "name": "stdout",
     "output_type": "stream",
     "text": [
      " * Serving Flask app \"__main__\" (lazy loading)\n",
      " * Environment: production\n",
      "   WARNING: This is a development server. Do not use it in a production deployment.\n",
      "   Use a production WSGI server instead.\n",
      " * Debug mode: on\n"
     ]
    },
    {
     "name": "stderr",
     "output_type": "stream",
     "text": [
      " * Restarting with windowsapi reloader\n"
     ]
    },
    {
     "ename": "SystemExit",
     "evalue": "1",
     "output_type": "error",
     "traceback": [
      "An exception has occurred, use %tb to see the full traceback.\n",
      "\u001b[1;31mSystemExit\u001b[0m\u001b[1;31m:\u001b[0m 1\n"
     ]
    }
   ],
   "source": [
    "%tb\n",
    "app=Flask(__name__)\n",
    "\n",
    "@app.route(\"/\")\n",
    "def new():\n",
    "    return \"Hello\"\n",
    "\n",
    "if __name__=='__main__':\n",
    "    app.run(debug=True)"
   ]
  },
  {
   "cell_type": "code",
   "execution_count": 85,
   "id": "890ead40",
   "metadata": {},
   "outputs": [
    {
     "data": {
      "text/plain": [
       "[0, 1, 4, 9, 16, 25, 36, 49, 64, 81]"
      ]
     },
     "execution_count": 85,
     "metadata": {},
     "output_type": "execute_result"
    }
   ],
   "source": [
    "list(map(lambda x: x*x,range(10)))"
   ]
  },
  {
   "cell_type": "code",
   "execution_count": 87,
   "id": "9f92772a",
   "metadata": {},
   "outputs": [],
   "source": [
    "l=[1,2,3,4]"
   ]
  },
  {
   "cell_type": "code",
   "execution_count": 89,
   "id": "98620c8a",
   "metadata": {},
   "outputs": [
    {
     "data": {
      "text/html": [
       "<div>\n",
       "<style scoped>\n",
       "    .dataframe tbody tr th:only-of-type {\n",
       "        vertical-align: middle;\n",
       "    }\n",
       "\n",
       "    .dataframe tbody tr th {\n",
       "        vertical-align: top;\n",
       "    }\n",
       "\n",
       "    .dataframe thead th {\n",
       "        text-align: right;\n",
       "    }\n",
       "</style>\n",
       "<table border=\"1\" class=\"dataframe\">\n",
       "  <thead>\n",
       "    <tr style=\"text-align: right;\">\n",
       "      <th></th>\n",
       "      <th>Master_SKU_Code</th>\n",
       "      <th>at_Master_SKU_Desc</th>\n",
       "      <th>Sub_Brand_Code</th>\n",
       "      <th>at_Sub_Brand_Desc</th>\n",
       "      <th>CPG</th>\n",
       "      <th>at_CPG_Desc</th>\n",
       "      <th>Sector</th>\n",
       "      <th>at_Sector_Desc</th>\n",
       "      <th>Brand_Code</th>\n",
       "      <th>at_Brand_Desc</th>\n",
       "      <th>...</th>\n",
       "      <th>at_Company_Desc</th>\n",
       "      <th>TOP_Code</th>\n",
       "      <th>at_TOP_Desc</th>\n",
       "      <th>at_Grammage</th>\n",
       "      <th>at_UOM</th>\n",
       "      <th>at_Plant</th>\n",
       "      <th>at_Currency</th>\n",
       "      <th>at_Tax_Regime</th>\n",
       "      <th>at_CARAT_ULCODE</th>\n",
       "      <th>at_Material_Code</th>\n",
       "    </tr>\n",
       "  </thead>\n",
       "  <tbody>\n",
       "    <tr>\n",
       "      <th>0</th>\n",
       "      <td>441741B84B6010A02</td>\n",
       "      <td>CLEAR SHAMPOO BLACK SHINE 400ML</td>\n",
       "      <td>441741B84B6010A</td>\n",
       "      <td>CLEAR SHAMPOO BLACK</td>\n",
       "      <td>441741B84B601</td>\n",
       "      <td>CLEAR SHAMPOO</td>\n",
       "      <td>441741B84B6</td>\n",
       "      <td>SHAMPOO/2IN1</td>\n",
       "      <td>441741B84</td>\n",
       "      <td>CLEAR</td>\n",
       "      <td>...</td>\n",
       "      <td>UPL</td>\n",
       "      <td>TC</td>\n",
       "      <td>TOTAL COMPANY</td>\n",
       "      <td>NaN</td>\n",
       "      <td>NaN</td>\n",
       "      <td>NaN</td>\n",
       "      <td>NaN</td>\n",
       "      <td>NaN</td>\n",
       "      <td>CH2048</td>\n",
       "      <td>68306198</td>\n",
       "    </tr>\n",
       "    <tr>\n",
       "      <th>1</th>\n",
       "      <td>441741B84B6010A02</td>\n",
       "      <td>CLEAR SHAMPOO BLACK SHINE 400ML</td>\n",
       "      <td>441741B84B6010A</td>\n",
       "      <td>CLEAR SHAMPOO BLACK</td>\n",
       "      <td>441741B84B601</td>\n",
       "      <td>CLEAR SHAMPOO</td>\n",
       "      <td>441741B84B6</td>\n",
       "      <td>SHAMPOO/2IN1</td>\n",
       "      <td>441741B84</td>\n",
       "      <td>CLEAR</td>\n",
       "      <td>...</td>\n",
       "      <td>UPL</td>\n",
       "      <td>TC</td>\n",
       "      <td>TOTAL COMPANY</td>\n",
       "      <td>NaN</td>\n",
       "      <td>NaN</td>\n",
       "      <td>NaN</td>\n",
       "      <td>NaN</td>\n",
       "      <td>NaN</td>\n",
       "      <td>CH2048</td>\n",
       "      <td>68462089</td>\n",
       "    </tr>\n",
       "    <tr>\n",
       "      <th>2</th>\n",
       "      <td>441741B84B6010A02</td>\n",
       "      <td>CLEAR SHAMPOO BLACK SHINE 400ML</td>\n",
       "      <td>441741B84B6010A</td>\n",
       "      <td>CLEAR SHAMPOO BLACK</td>\n",
       "      <td>441741B84B601</td>\n",
       "      <td>CLEAR SHAMPOO</td>\n",
       "      <td>441741B84B6</td>\n",
       "      <td>SHAMPOO/2IN1</td>\n",
       "      <td>441741B84</td>\n",
       "      <td>CLEAR</td>\n",
       "      <td>...</td>\n",
       "      <td>UPL</td>\n",
       "      <td>TC</td>\n",
       "      <td>TOTAL COMPANY</td>\n",
       "      <td>NaN</td>\n",
       "      <td>NaN</td>\n",
       "      <td>NaN</td>\n",
       "      <td>NaN</td>\n",
       "      <td>NaN</td>\n",
       "      <td>CH2048</td>\n",
       "      <td>68514744</td>\n",
       "    </tr>\n",
       "    <tr>\n",
       "      <th>3</th>\n",
       "      <td>441741B84B6010A05</td>\n",
       "      <td>CLEAR SHAMPOO BLACK SHINE 185ML</td>\n",
       "      <td>441741B84B6010A</td>\n",
       "      <td>CLEAR SHAMPOO BLACK</td>\n",
       "      <td>441741B84B601</td>\n",
       "      <td>CLEAR SHAMPOO</td>\n",
       "      <td>441741B84B6</td>\n",
       "      <td>SHAMPOO/2IN1</td>\n",
       "      <td>441741B84</td>\n",
       "      <td>CLEAR</td>\n",
       "      <td>...</td>\n",
       "      <td>UPL</td>\n",
       "      <td>TC</td>\n",
       "      <td>TOTAL COMPANY</td>\n",
       "      <td>NaN</td>\n",
       "      <td>NaN</td>\n",
       "      <td>NaN</td>\n",
       "      <td>NaN</td>\n",
       "      <td>NaN</td>\n",
       "      <td>CH2048</td>\n",
       "      <td>67944902</td>\n",
       "    </tr>\n",
       "    <tr>\n",
       "      <th>4</th>\n",
       "      <td>441741B84B6010A05</td>\n",
       "      <td>CLEAR SHAMPOO BLACK SHINE 185ML</td>\n",
       "      <td>441741B84B6010A</td>\n",
       "      <td>CLEAR SHAMPOO BLACK</td>\n",
       "      <td>441741B84B601</td>\n",
       "      <td>CLEAR SHAMPOO</td>\n",
       "      <td>441741B84B6</td>\n",
       "      <td>SHAMPOO/2IN1</td>\n",
       "      <td>441741B84</td>\n",
       "      <td>CLEAR</td>\n",
       "      <td>...</td>\n",
       "      <td>UPL</td>\n",
       "      <td>TC</td>\n",
       "      <td>TOTAL COMPANY</td>\n",
       "      <td>NaN</td>\n",
       "      <td>NaN</td>\n",
       "      <td>NaN</td>\n",
       "      <td>NaN</td>\n",
       "      <td>NaN</td>\n",
       "      <td>CH2048</td>\n",
       "      <td>68306193</td>\n",
       "    </tr>\n",
       "  </tbody>\n",
       "</table>\n",
       "<p>5 rows × 29 columns</p>\n",
       "</div>"
      ],
      "text/plain": [
       "     Master_SKU_Code               at_Master_SKU_Desc   Sub_Brand_Code  \\\n",
       "0  441741B84B6010A02  CLEAR SHAMPOO BLACK SHINE 400ML  441741B84B6010A   \n",
       "1  441741B84B6010A02  CLEAR SHAMPOO BLACK SHINE 400ML  441741B84B6010A   \n",
       "2  441741B84B6010A02  CLEAR SHAMPOO BLACK SHINE 400ML  441741B84B6010A   \n",
       "3  441741B84B6010A05  CLEAR SHAMPOO BLACK SHINE 185ML  441741B84B6010A   \n",
       "4  441741B84B6010A05  CLEAR SHAMPOO BLACK SHINE 185ML  441741B84B6010A   \n",
       "\n",
       "     at_Sub_Brand_Desc            CPG    at_CPG_Desc       Sector  \\\n",
       "0  CLEAR SHAMPOO BLACK  441741B84B601  CLEAR SHAMPOO  441741B84B6   \n",
       "1  CLEAR SHAMPOO BLACK  441741B84B601  CLEAR SHAMPOO  441741B84B6   \n",
       "2  CLEAR SHAMPOO BLACK  441741B84B601  CLEAR SHAMPOO  441741B84B6   \n",
       "3  CLEAR SHAMPOO BLACK  441741B84B601  CLEAR SHAMPOO  441741B84B6   \n",
       "4  CLEAR SHAMPOO BLACK  441741B84B601  CLEAR SHAMPOO  441741B84B6   \n",
       "\n",
       "  at_Sector_Desc Brand_Code at_Brand_Desc  ... at_Company_Desc TOP_Code  \\\n",
       "0   SHAMPOO/2IN1  441741B84         CLEAR  ...             UPL       TC   \n",
       "1   SHAMPOO/2IN1  441741B84         CLEAR  ...             UPL       TC   \n",
       "2   SHAMPOO/2IN1  441741B84         CLEAR  ...             UPL       TC   \n",
       "3   SHAMPOO/2IN1  441741B84         CLEAR  ...             UPL       TC   \n",
       "4   SHAMPOO/2IN1  441741B84         CLEAR  ...             UPL       TC   \n",
       "\n",
       "     at_TOP_Desc at_Grammage at_UOM at_Plant  at_Currency at_Tax_Regime  \\\n",
       "0  TOTAL COMPANY         NaN    NaN      NaN          NaN           NaN   \n",
       "1  TOTAL COMPANY         NaN    NaN      NaN          NaN           NaN   \n",
       "2  TOTAL COMPANY         NaN    NaN      NaN          NaN           NaN   \n",
       "3  TOTAL COMPANY         NaN    NaN      NaN          NaN           NaN   \n",
       "4  TOTAL COMPANY         NaN    NaN      NaN          NaN           NaN   \n",
       "\n",
       "  at_CARAT_ULCODE at_Material_Code  \n",
       "0          CH2048         68306198  \n",
       "1          CH2048         68462089  \n",
       "2          CH2048         68514744  \n",
       "3          CH2048         67944902  \n",
       "4          CH2048         68306193  \n",
       "\n",
       "[5 rows x 29 columns]"
      ]
     },
     "execution_count": 89,
     "metadata": {},
     "output_type": "execute_result"
    }
   ],
   "source": [
    "    df.head()"
   ]
  },
  {
   "cell_type": "code",
   "execution_count": 90,
   "id": "8b929057",
   "metadata": {},
   "outputs": [
    {
     "data": {
      "text/plain": [
       "0          [CLEAR, SHAMPOO, BLACK]\n",
       "1          [CLEAR, SHAMPOO, BLACK]\n",
       "2          [CLEAR, SHAMPOO, BLACK]\n",
       "3          [CLEAR, SHAMPOO, BLACK]\n",
       "4          [CLEAR, SHAMPOO, BLACK]\n",
       "                   ...            \n",
       "2167     [DOMEX, TOILET, THICK, B]\n",
       "2168      [JIF, MICRO, M/P, N/ABR]\n",
       "2169      [JIF, MICRO, M/P, N/ABR]\n",
       "2170    [PUREIT, BW, SP, WATER, P]\n",
       "2171      [PUREIT, BIOCIDE, WATER]\n",
       "Name: at_Sub_Brand_Desc, Length: 2172, dtype: object"
      ]
     },
     "execution_count": 90,
     "metadata": {},
     "output_type": "execute_result"
    }
   ],
   "source": [
    "df.at_Sub_Brand_Desc.apply(lambda x : x.split())"
   ]
  },
  {
   "cell_type": "code",
   "execution_count": 91,
   "id": "e4cf8243",
   "metadata": {},
   "outputs": [
    {
     "data": {
      "text/plain": [
       "[0, 2, 4, 6, 8]"
      ]
     },
     "execution_count": 91,
     "metadata": {},
     "output_type": "execute_result"
    }
   ],
   "source": [
    "list(filter(lambda x:x%2==0,range(10)))"
   ]
  },
  {
   "cell_type": "code",
   "execution_count": 92,
   "id": "4b97e6cd",
   "metadata": {},
   "outputs": [],
   "source": [
    "a=\"hi hello\""
   ]
  },
  {
   "cell_type": "code",
   "execution_count": 108,
   "id": "bea2e868",
   "metadata": {},
   "outputs": [
    {
     "name": "stdout",
     "output_type": "stream",
     "text": [
      "olleh ih\n"
     ]
    }
   ],
   "source": [
    "l=[]\n",
    "for i in range(len(a)):\n",
    "    l.append(a[i])\n",
    "l.reverse()\n",
    "print(\"\".join(l))\n",
    "\n"
   ]
  },
  {
   "cell_type": "code",
   "execution_count": 109,
   "id": "5ec8e50e",
   "metadata": {},
   "outputs": [],
   "source": [
    "sset=set()"
   ]
  },
  {
   "cell_type": "code",
   "execution_count": 114,
   "id": "1f663d08",
   "metadata": {},
   "outputs": [],
   "source": [
    "sset.add(1)"
   ]
  },
  {
   "cell_type": "code",
   "execution_count": 115,
   "id": "1308f844",
   "metadata": {},
   "outputs": [
    {
     "data": {
      "text/plain": [
       "{1}"
      ]
     },
     "execution_count": 115,
     "metadata": {},
     "output_type": "execute_result"
    }
   ],
   "source": [
    "sset"
   ]
  },
  {
   "cell_type": "code",
   "execution_count": 116,
   "id": "180a4394",
   "metadata": {},
   "outputs": [],
   "source": [
    "sset.add(2)"
   ]
  },
  {
   "cell_type": "code",
   "execution_count": 117,
   "id": "5f5ecd0b",
   "metadata": {},
   "outputs": [
    {
     "data": {
      "text/plain": [
       "{1, 2}"
      ]
     },
     "execution_count": 117,
     "metadata": {},
     "output_type": "execute_result"
    }
   ],
   "source": [
    "sset"
   ]
  },
  {
   "cell_type": "code",
   "execution_count": 118,
   "id": "b46ab8d1",
   "metadata": {},
   "outputs": [],
   "source": [
    "sset.add(1)"
   ]
  },
  {
   "cell_type": "code",
   "execution_count": 119,
   "id": "628d46c9",
   "metadata": {
    "scrolled": true
   },
   "outputs": [
    {
     "data": {
      "text/plain": [
       "{1, 2}"
      ]
     },
     "execution_count": 119,
     "metadata": {},
     "output_type": "execute_result"
    }
   ],
   "source": [
    "sset"
   ]
  },
  {
   "cell_type": "code",
   "execution_count": 1,
   "id": "f40afd3c",
   "metadata": {},
   "outputs": [],
   "source": [
    "import pandas as pd"
   ]
  },
  {
   "cell_type": "code",
   "execution_count": 7,
   "id": "a2909ad1",
   "metadata": {},
   "outputs": [
    {
     "data": {
      "text/html": [
       "<div>\n",
       "<style scoped>\n",
       "    .dataframe tbody tr th:only-of-type {\n",
       "        vertical-align: middle;\n",
       "    }\n",
       "\n",
       "    .dataframe tbody tr th {\n",
       "        vertical-align: top;\n",
       "    }\n",
       "\n",
       "    .dataframe thead th {\n",
       "        text-align: right;\n",
       "    }\n",
       "</style>\n",
       "<table border=\"1\" class=\"dataframe\">\n",
       "  <thead>\n",
       "    <tr style=\"text-align: right;\">\n",
       "      <th></th>\n",
       "      <th>type</th>\n",
       "      <th>msg</th>\n",
       "    </tr>\n",
       "  </thead>\n",
       "  <tbody>\n",
       "    <tr>\n",
       "      <th>0</th>\n",
       "      <td>ham</td>\n",
       "      <td>Go until jurong point, crazy.. Available only ...</td>\n",
       "    </tr>\n",
       "    <tr>\n",
       "      <th>1</th>\n",
       "      <td>ham</td>\n",
       "      <td>Ok lar... Joking wif u oni...</td>\n",
       "    </tr>\n",
       "    <tr>\n",
       "      <th>2</th>\n",
       "      <td>spam</td>\n",
       "      <td>Free entry in 2 a wkly comp to win FA Cup fina...</td>\n",
       "    </tr>\n",
       "    <tr>\n",
       "      <th>3</th>\n",
       "      <td>ham</td>\n",
       "      <td>U dun say so early hor... U c already then say...</td>\n",
       "    </tr>\n",
       "    <tr>\n",
       "      <th>4</th>\n",
       "      <td>ham</td>\n",
       "      <td>Nah I don't think he goes to usf, he lives aro...</td>\n",
       "    </tr>\n",
       "    <tr>\n",
       "      <th>...</th>\n",
       "      <td>...</td>\n",
       "      <td>...</td>\n",
       "    </tr>\n",
       "    <tr>\n",
       "      <th>5567</th>\n",
       "      <td>spam</td>\n",
       "      <td>This is the 2nd time we have tried 2 contact u...</td>\n",
       "    </tr>\n",
       "    <tr>\n",
       "      <th>5568</th>\n",
       "      <td>ham</td>\n",
       "      <td>Will ü b going to esplanade fr home?</td>\n",
       "    </tr>\n",
       "    <tr>\n",
       "      <th>5569</th>\n",
       "      <td>ham</td>\n",
       "      <td>Pity, * was in mood for that. So...any other s...</td>\n",
       "    </tr>\n",
       "    <tr>\n",
       "      <th>5570</th>\n",
       "      <td>ham</td>\n",
       "      <td>The guy did some bitching but I acted like i'd...</td>\n",
       "    </tr>\n",
       "    <tr>\n",
       "      <th>5571</th>\n",
       "      <td>ham</td>\n",
       "      <td>Rofl. Its true to its name</td>\n",
       "    </tr>\n",
       "  </tbody>\n",
       "</table>\n",
       "<p>5572 rows × 2 columns</p>\n",
       "</div>"
      ],
      "text/plain": [
       "      type                                                msg\n",
       "0      ham  Go until jurong point, crazy.. Available only ...\n",
       "1      ham                      Ok lar... Joking wif u oni...\n",
       "2     spam  Free entry in 2 a wkly comp to win FA Cup fina...\n",
       "3      ham  U dun say so early hor... U c already then say...\n",
       "4      ham  Nah I don't think he goes to usf, he lives aro...\n",
       "...    ...                                                ...\n",
       "5567  spam  This is the 2nd time we have tried 2 contact u...\n",
       "5568   ham               Will ü b going to esplanade fr home?\n",
       "5569   ham  Pity, * was in mood for that. So...any other s...\n",
       "5570   ham  The guy did some bitching but I acted like i'd...\n",
       "5571   ham                         Rofl. Its true to its name\n",
       "\n",
       "[5572 rows x 2 columns]"
      ]
     },
     "execution_count": 7,
     "metadata": {},
     "output_type": "execute_result"
    }
   ],
   "source": [
    "#utf-8\n",
    "pd.read_csv(\"C:\\Documents\\Pandas\\Projects\\pandas\\Test\\sms.txt\",sep='\\t',names=[\"type\",\"msg\"])"
   ]
  }
 ],
 "metadata": {
  "kernelspec": {
   "display_name": "Python 3",
   "language": "python",
   "name": "python3"
  },
  "language_info": {
   "codemirror_mode": {
    "name": "ipython",
    "version": 3
   },
   "file_extension": ".py",
   "mimetype": "text/x-python",
   "name": "python",
   "nbconvert_exporter": "python",
   "pygments_lexer": "ipython3",
   "version": "3.8.8"
  }
 },
 "nbformat": 4,
 "nbformat_minor": 5
}
