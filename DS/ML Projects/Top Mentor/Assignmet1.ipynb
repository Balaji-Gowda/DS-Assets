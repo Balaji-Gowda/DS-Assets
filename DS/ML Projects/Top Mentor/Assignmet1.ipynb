{
 "cells": [
  {
   "cell_type": "code",
   "execution_count": 6,
   "metadata": {},
   "outputs": [
    {
     "name": "stdout",
     "output_type": "stream",
     "text": [
      "\n",
      "Balaji J\n",
      "balajibrucelee1511@gmail.com\n",
      "\n"
     ]
    }
   ],
   "source": [
    "'''\n",
    "1)Create a program that displays your name and complete mailing address formatted in the manner that \n",
    "you would usually see it on the outside of an envelope.Your program does not need to read any input from the user\n",
    "'''\n",
    "\n",
    "name=\"Balaji J\"\n",
    "mail=\"balajibrucelee1511@gmail.com\"\n",
    "outpu='''\n",
    "{}\n",
    "{}\n",
    "'''.format(name,mail)\n",
    "print(outpu)"
   ]
  },
  {
   "cell_type": "code",
   "execution_count": 3,
   "metadata": {},
   "outputs": [
    {
     "name": "stdout",
     "output_type": "stream",
     "text": [
      "Please enter your nameJ Balaji\n",
      "Hello! J Balaji\n"
     ]
    }
   ],
   "source": [
    "'''\n",
    "2)Write a program that asks the user to enter his or her name.\n",
    "The program should respond with a message that says hello to the user, using his or her name.\n",
    "'''\n",
    "\n",
    "name=input(\"Please enter your name\")\n",
    "print(f\"Hello! {name}\")"
   ]
  },
  {
   "cell_type": "code",
   "execution_count": 7,
   "metadata": {},
   "outputs": [
    {
     "name": "stdout",
     "output_type": "stream",
     "text": [
      "Enter length in feets 12\n",
      "Enter breadth in feets 10\n",
      "Area of the room is: 120.0 feets\n"
     ]
    }
   ],
   "source": [
    "'''\n",
    "3)Write a program that asks the user to enter the width and length of a room. Once the values have been read,\n",
    "your program should compute and display the area of the room. \n",
    "The length and the width will be entered as floating-point numbers. Include units in your prompt and output message;\n",
    "either feet or meters, depending on which unit you are more comfortable working with.\n",
    "'''\n",
    "\n",
    "l=float(input(\"Enter length in feets \"))\n",
    "b=float(input(\"Enter breadth in feets \"))\n",
    "print(f\"Area of the room is: {l*b} Square feet\")"
   ]
  },
  {
   "cell_type": "code",
   "execution_count": 8,
   "metadata": {},
   "outputs": [
    {
     "name": "stdout",
     "output_type": "stream",
     "text": [
      "enter length of field in feets120\n",
      "enter breadth of field in feets100\n",
      "Area of Filed is: 0.27548209366391185 acres\n"
     ]
    }
   ],
   "source": [
    "'''\n",
    "4)Create a program that reads the length and width of a farmer’s field from the user in feet.\n",
    "Display the area of the field in acres.\n",
    "Hint: There are 43,560 square feet in an acre\n",
    "'''\n",
    "\n",
    "lt=float(input(\"enter length of field in feets\"))\n",
    "bd=float(input(\"enter breadth of field in feets\"))\n",
    "print(f\"Area of Filed is: {(lt*bd)/43560} acres\")"
   ]
  },
  {
   "cell_type": "code",
   "execution_count": 14,
   "metadata": {},
   "outputs": [
    {
     "name": "stdout",
     "output_type": "stream",
     "text": [
      "enter # of less than one litre containers12.3456\n",
      "enter # of more than one litre containers21.4556\n",
      "Refund you will get is $6.60\n"
     ]
    }
   ],
   "source": [
    "'''\n",
    "5)n many jurisdictions a small deposit is added to drink containers to encourage people to recycle them.\n",
    "In one particular jurisdiction, drink containers holding one litre or less have a $0.10 deposit,\n",
    "and drink containers holding more than one litre have a $0.25 deposit. \n",
    "Write a program that reads the number of containers of each size from the user.\n",
    "Your program should continue by computing and displaying the refund that will be received for returning those containers.\n",
    "Format the output so that it includes a dollar sign and always displays exactly two decimal places.\n",
    "'''\n",
    "\n",
    "h=float(input(\"enter # of less than one litre containers\"))\n",
    "o=float(input(\"enter # of more than one litre containers\"))\n",
    "ref=\"%.2f\"%(h*0.1 + o*0.25)\n",
    "print(f\"Refund you will get is ${ref}\")"
   ]
  },
  {
   "cell_type": "code",
   "execution_count": 19,
   "metadata": {},
   "outputs": [
    {
     "name": "stdout",
     "output_type": "stream",
     "text": [
      "enter your meal cost110\n",
      "Please pay Rs 149.6/- which includes GST and server tip\n"
     ]
    }
   ],
   "source": [
    "'''\n",
    "The program that you create for this exercise will begin by reading the cost of a meal ordered at a restaurant from the user.\n",
    "Then your program will compute the tax and tip for the meal. Use your local tax rate when computing the amount of tax owing.\n",
    "Compute the tip as 18 percent of the meal amount (without the tax). \n",
    "The output from your program should include the tax amount, the tip amount, and the grand total for the meal including both the\n",
    "'''\n",
    "\n",
    "cost=int(input(\"enter your meal cost\"))\n",
    "print(f\"Please pay Rs {cost+2*(0.18*cost)}/- which includes GST and server tip\")"
   ]
  },
  {
   "cell_type": "code",
   "execution_count": null,
   "metadata": {},
   "outputs": [],
   "source": []
  }
 ],
 "metadata": {
  "interpreter": {
   "hash": "cc184b85370030188bd5911bba7962ea91b86e3428cac3151cf12075e6e56f95"
  },
  "kernelspec": {
   "display_name": "Python 3",
   "language": "python",
   "name": "python3"
  },
  "language_info": {
   "codemirror_mode": {
    "name": "ipython",
    "version": 3
   },
   "file_extension": ".py",
   "mimetype": "text/x-python",
   "name": "python",
   "nbconvert_exporter": "python",
   "pygments_lexer": "ipython3",
   "version": "3.9.5"
  }
 },
 "nbformat": 4,
 "nbformat_minor": 2
}
