{
 "cells": [
  {
   "cell_type": "code",
   "execution_count": 79,
   "id": "031471c1",
   "metadata": {},
   "outputs": [],
   "source": [
    "import pandas as pd\n",
    "import seaborn as sns\n",
    "import matplotlib.pyplot as plt\n",
    "%matplotlib inline"
   ]
  },
  {
   "cell_type": "code",
   "execution_count": 80,
   "id": "b1468a22",
   "metadata": {
    "scrolled": true
   },
   "outputs": [
    {
     "data": {
      "text/html": [
       "<div>\n",
       "<style scoped>\n",
       "    .dataframe tbody tr th:only-of-type {\n",
       "        vertical-align: middle;\n",
       "    }\n",
       "\n",
       "    .dataframe tbody tr th {\n",
       "        vertical-align: top;\n",
       "    }\n",
       "\n",
       "    .dataframe thead th {\n",
       "        text-align: right;\n",
       "    }\n",
       "</style>\n",
       "<table border=\"1\" class=\"dataframe\">\n",
       "  <thead>\n",
       "    <tr style=\"text-align: right;\">\n",
       "      <th></th>\n",
       "      <th>Date</th>\n",
       "      <th>btc_market_price</th>\n",
       "      <th>btc_total_bitcoins</th>\n",
       "      <th>btc_market_cap</th>\n",
       "      <th>btc_trade_volume</th>\n",
       "      <th>btc_blocks_size</th>\n",
       "      <th>btc_avg_block_size</th>\n",
       "      <th>btc_n_orphaned_blocks</th>\n",
       "      <th>btc_n_transactions_per_block</th>\n",
       "      <th>btc_median_confirmation_time</th>\n",
       "      <th>...</th>\n",
       "      <th>btc_cost_per_transaction_percent</th>\n",
       "      <th>btc_cost_per_transaction</th>\n",
       "      <th>btc_n_unique_addresses</th>\n",
       "      <th>btc_n_transactions</th>\n",
       "      <th>btc_n_transactions_total</th>\n",
       "      <th>btc_n_transactions_excluding_popular</th>\n",
       "      <th>btc_n_transactions_excluding_chains_longer_than_100</th>\n",
       "      <th>btc_output_volume</th>\n",
       "      <th>btc_estimated_transaction_volume</th>\n",
       "      <th>btc_estimated_transaction_volume_usd</th>\n",
       "    </tr>\n",
       "  </thead>\n",
       "  <tbody>\n",
       "    <tr>\n",
       "      <th>0</th>\n",
       "      <td>2/17/2010</td>\n",
       "      <td>0.0</td>\n",
       "      <td>2043200.0</td>\n",
       "      <td>0.0</td>\n",
       "      <td>0.0</td>\n",
       "      <td>0.0</td>\n",
       "      <td>0.000235</td>\n",
       "      <td>0</td>\n",
       "      <td>1.0</td>\n",
       "      <td>0.0</td>\n",
       "      <td>...</td>\n",
       "      <td>31.781022</td>\n",
       "      <td>0.0</td>\n",
       "      <td>241</td>\n",
       "      <td>244</td>\n",
       "      <td>41240</td>\n",
       "      <td>244</td>\n",
       "      <td>244</td>\n",
       "      <td>65173.13</td>\n",
       "      <td>36500.0</td>\n",
       "      <td>0.0</td>\n",
       "    </tr>\n",
       "    <tr>\n",
       "      <th>1</th>\n",
       "      <td>2/18/2010</td>\n",
       "      <td>0.0</td>\n",
       "      <td>2054650.0</td>\n",
       "      <td>0.0</td>\n",
       "      <td>0.0</td>\n",
       "      <td>0.0</td>\n",
       "      <td>0.000241</td>\n",
       "      <td>0</td>\n",
       "      <td>1.0</td>\n",
       "      <td>0.0</td>\n",
       "      <td>...</td>\n",
       "      <td>154.463801</td>\n",
       "      <td>0.0</td>\n",
       "      <td>234</td>\n",
       "      <td>235</td>\n",
       "      <td>41475</td>\n",
       "      <td>235</td>\n",
       "      <td>235</td>\n",
       "      <td>18911.74</td>\n",
       "      <td>7413.0</td>\n",
       "      <td>0.0</td>\n",
       "    </tr>\n",
       "    <tr>\n",
       "      <th>2</th>\n",
       "      <td>2/19/2010</td>\n",
       "      <td>0.0</td>\n",
       "      <td>2063600.0</td>\n",
       "      <td>0.0</td>\n",
       "      <td>0.0</td>\n",
       "      <td>0.0</td>\n",
       "      <td>0.000228</td>\n",
       "      <td>0</td>\n",
       "      <td>1.0</td>\n",
       "      <td>0.0</td>\n",
       "      <td>...</td>\n",
       "      <td>1278.516635</td>\n",
       "      <td>0.0</td>\n",
       "      <td>185</td>\n",
       "      <td>183</td>\n",
       "      <td>41658</td>\n",
       "      <td>183</td>\n",
       "      <td>183</td>\n",
       "      <td>9749.98</td>\n",
       "      <td>700.0</td>\n",
       "      <td>0.0</td>\n",
       "    </tr>\n",
       "    <tr>\n",
       "      <th>3</th>\n",
       "      <td>2/20/2010</td>\n",
       "      <td>0.0</td>\n",
       "      <td>2074700.0</td>\n",
       "      <td>0.0</td>\n",
       "      <td>0.0</td>\n",
       "      <td>0.0</td>\n",
       "      <td>0.000218</td>\n",
       "      <td>0</td>\n",
       "      <td>1.0</td>\n",
       "      <td>0.0</td>\n",
       "      <td>...</td>\n",
       "      <td>22186.687990</td>\n",
       "      <td>0.0</td>\n",
       "      <td>224</td>\n",
       "      <td>224</td>\n",
       "      <td>41882</td>\n",
       "      <td>224</td>\n",
       "      <td>224</td>\n",
       "      <td>11150.03</td>\n",
       "      <td>50.0</td>\n",
       "      <td>0.0</td>\n",
       "    </tr>\n",
       "    <tr>\n",
       "      <th>4</th>\n",
       "      <td>2/21/2010</td>\n",
       "      <td>0.0</td>\n",
       "      <td>2085400.0</td>\n",
       "      <td>0.0</td>\n",
       "      <td>0.0</td>\n",
       "      <td>0.0</td>\n",
       "      <td>0.000234</td>\n",
       "      <td>0</td>\n",
       "      <td>1.0</td>\n",
       "      <td>0.0</td>\n",
       "      <td>...</td>\n",
       "      <td>689.179876</td>\n",
       "      <td>0.0</td>\n",
       "      <td>218</td>\n",
       "      <td>218</td>\n",
       "      <td>42100</td>\n",
       "      <td>218</td>\n",
       "      <td>218</td>\n",
       "      <td>12266.83</td>\n",
       "      <td>1553.0</td>\n",
       "      <td>0.0</td>\n",
       "    </tr>\n",
       "  </tbody>\n",
       "</table>\n",
       "<p>5 rows × 24 columns</p>\n",
       "</div>"
      ],
      "text/plain": [
       "        Date  btc_market_price  btc_total_bitcoins  btc_market_cap  \\\n",
       "0  2/17/2010               0.0           2043200.0             0.0   \n",
       "1  2/18/2010               0.0           2054650.0             0.0   \n",
       "2  2/19/2010               0.0           2063600.0             0.0   \n",
       "3  2/20/2010               0.0           2074700.0             0.0   \n",
       "4  2/21/2010               0.0           2085400.0             0.0   \n",
       "\n",
       "   btc_trade_volume  btc_blocks_size  btc_avg_block_size  \\\n",
       "0               0.0              0.0            0.000235   \n",
       "1               0.0              0.0            0.000241   \n",
       "2               0.0              0.0            0.000228   \n",
       "3               0.0              0.0            0.000218   \n",
       "4               0.0              0.0            0.000234   \n",
       "\n",
       "   btc_n_orphaned_blocks  btc_n_transactions_per_block  \\\n",
       "0                      0                           1.0   \n",
       "1                      0                           1.0   \n",
       "2                      0                           1.0   \n",
       "3                      0                           1.0   \n",
       "4                      0                           1.0   \n",
       "\n",
       "   btc_median_confirmation_time  ...  btc_cost_per_transaction_percent  \\\n",
       "0                           0.0  ...                         31.781022   \n",
       "1                           0.0  ...                        154.463801   \n",
       "2                           0.0  ...                       1278.516635   \n",
       "3                           0.0  ...                      22186.687990   \n",
       "4                           0.0  ...                        689.179876   \n",
       "\n",
       "   btc_cost_per_transaction  btc_n_unique_addresses  btc_n_transactions  \\\n",
       "0                       0.0                     241                 244   \n",
       "1                       0.0                     234                 235   \n",
       "2                       0.0                     185                 183   \n",
       "3                       0.0                     224                 224   \n",
       "4                       0.0                     218                 218   \n",
       "\n",
       "   btc_n_transactions_total  btc_n_transactions_excluding_popular  \\\n",
       "0                     41240                                   244   \n",
       "1                     41475                                   235   \n",
       "2                     41658                                   183   \n",
       "3                     41882                                   224   \n",
       "4                     42100                                   218   \n",
       "\n",
       "   btc_n_transactions_excluding_chains_longer_than_100  btc_output_volume  \\\n",
       "0                                                244             65173.13   \n",
       "1                                                235             18911.74   \n",
       "2                                                183              9749.98   \n",
       "3                                                224             11150.03   \n",
       "4                                                218             12266.83   \n",
       "\n",
       "   btc_estimated_transaction_volume  btc_estimated_transaction_volume_usd  \n",
       "0                           36500.0                                   0.0  \n",
       "1                            7413.0                                   0.0  \n",
       "2                             700.0                                   0.0  \n",
       "3                              50.0                                   0.0  \n",
       "4                            1553.0                                   0.0  \n",
       "\n",
       "[5 rows x 24 columns]"
      ]
     },
     "execution_count": 80,
     "metadata": {},
     "output_type": "execute_result"
    }
   ],
   "source": [
    "df=pd.read_csv(\"bitcoin_dataset.csv\")\n",
    "df.head()"
   ]
  },
  {
   "cell_type": "code",
   "execution_count": 81,
   "id": "9001b530",
   "metadata": {},
   "outputs": [],
   "source": [
    "def correlation(dataset, threshold):\n",
    "    col_corr = set()  # Set of all the names of correlated columns\n",
    "    corr_matrix = dataset.corr()\n",
    "    for i in range(len(corr_matrix.columns)):\n",
    "        for j in range(i):\n",
    "            if abs(corr_matrix.iloc[i, j]) > threshold: # we are interested in absolute coeff value\n",
    "                colname = corr_matrix.columns[i]  # getting the name of column\n",
    "                col_corr.add(colname)\n",
    "    return col_corr"
   ]
  },
  {
   "cell_type": "code",
   "execution_count": 82,
   "id": "a422b1c0",
   "metadata": {},
   "outputs": [],
   "source": [
    "cols=list(correlation(df,0.8))"
   ]
  },
  {
   "cell_type": "code",
   "execution_count": 83,
   "id": "9df27dc1",
   "metadata": {},
   "outputs": [
    {
     "data": {
      "text/plain": [
       "['btc_n_unique_addresses',\n",
       " 'btc_hash_rate',\n",
       " 'btc_n_transactions_total',\n",
       " 'btc_n_transactions_per_block',\n",
       " 'btc_trade_volume',\n",
       " 'btc_market_cap',\n",
       " 'btc_n_transactions_excluding_chains_longer_than_100',\n",
       " 'btc_avg_block_size',\n",
       " 'btc_transaction_fees',\n",
       " 'btc_estimated_transaction_volume_usd',\n",
       " 'btc_miners_revenue',\n",
       " 'btc_n_transactions',\n",
       " 'btc_cost_per_transaction',\n",
       " 'btc_difficulty',\n",
       " 'btc_n_transactions_excluding_popular']"
      ]
     },
     "execution_count": 83,
     "metadata": {},
     "output_type": "execute_result"
    }
   ],
   "source": [
    "cols"
   ]
  },
  {
   "cell_type": "code",
   "execution_count": 84,
   "id": "43ab7b32",
   "metadata": {
    "scrolled": true
   },
   "outputs": [
    {
     "data": {
      "image/png": "[encoded data removed]",
      "text/plain": [
       "<Figure size 432x288 with 1 Axes>"
      ]
     },
     "metadata": {
      "needs_background": "light"
     },
     "output_type": "display_data"
    },
    {
     "name": "stderr",
     "output_type": "stream",
     "text": [
      "C:\\ProgramData\\Anaconda3\\lib\\site-packages\\seaborn\\distributions.py:2557: FutureWarning: `distplot` is a deprecated function and will be removed in a future version. Please adapt your code to use either `displot` (a figure-level function with similar flexibility) or `histplot` (an axes-level function for histograms).\n",
      "  warnings.warn(msg, FutureWarning)\n"
     ]
    },
    {
     "data": {
      "image/png": "[encoded data removed]",
      "text/plain": [
       "<Figure size 432x288 with 1 Axes>"
      ]
     },
     "metadata": {
      "needs_background": "light"
     },
     "output_type": "display_data"
    },
    {
     "data": {
      "image/png": "[encoded data removed]",
      "text/plain": [
       "<Figure size 432x288 with 1 Axes>"
      ]
     },
     "metadata": {
      "needs_background": "light"
     },
     "output_type": "display_data"
    },
    {
     "name": "stderr",
     "output_type": "stream",
     "text": [
      "C:\\ProgramData\\Anaconda3\\lib\\site-packages\\seaborn\\distributions.py:2557: FutureWarning: `distplot` is a deprecated function and will be removed in a future version. Please adapt your code to use either `displot` (a figure-level function with similar flexibility) or `histplot` (an axes-level function for histograms).\n",
      "  warnings.warn(msg, FutureWarning)\n"
     ]
    },
    {
     "data": {
      "image/png": "[encoded data removed]",
      "text/plain": [
       "<Figure size 432x288 with 1 Axes>"
      ]
     },
     "metadata": {
      "needs_background": "light"
     },
     "output_type": "display_data"
    },
    {
     "data": {
      "image/png": "[encoded data removed]",
      "text/plain": [
       "<Figure size 432x288 with 1 Axes>"
      ]
     },
     "metadata": {
      "needs_background": "light"
     },
     "output_type": "display_data"
    },
    {
     "name": "stderr",
     "output_type": "stream",
     "text": [
      "C:\\ProgramData\\Anaconda3\\lib\\site-packages\\seaborn\\distributions.py:2557: FutureWarning: `distplot` is a deprecated function and will be removed in a future version. Please adapt your code to use either `displot` (a figure-level function with similar flexibility) or `histplot` (an axes-level function for histograms).\n",
      "  warnings.warn(msg, FutureWarning)\n"
     ]
    },
    {
     "data": {
      "image/png": "[encoded data removed]",
      "text/plain": [
       "<Figure size 432x288 with 1 Axes>"
      ]
     },
     "metadata": {
      "needs_background": "light"
     },
     "output_type": "display_data"
    },
    {
     "data": {
      "image/png": "[encoded data removed]",
      "text/plain": [
       "<Figure size 432x288 with 1 Axes>"
      ]
     },
     "metadata": {
      "needs_background": "light"
     },
     "output_type": "display_data"
    },
    {
     "name": "stderr",
     "output_type": "stream",
     "text": [
      "C:\\ProgramData\\Anaconda3\\lib\\site-packages\\seaborn\\distributions.py:2557: FutureWarning: `distplot` is a deprecated function and will be removed in a future version. Please adapt your code to use either `displot` (a figure-level function with similar flexibility) or `histplot` (an axes-level function for histograms).\n",
      "  warnings.warn(msg, FutureWarning)\n"
     ]
    },
    {
     "data": {
      "image/png": "[encoded data removed]",
      "text/plain": [
       "<Figure size 432x288 with 1 Axes>"
      ]
     },
     "metadata": {
      "needs_background": "light"
     },
     "output_type": "display_data"
    },
    {
     "data": {
      "image/png": "[encoded data removed]",
      "text/plain": [
       "<Figure size 432x288 with 1 Axes>"
      ]
     },
     "metadata": {
      "needs_background": "light"
     },
     "output_type": "display_data"
    },
    {
     "name": "stderr",
     "output_type": "stream",
     "text": [
      "C:\\ProgramData\\Anaconda3\\lib\\site-packages\\seaborn\\distributions.py:2557: FutureWarning: `distplot` is a deprecated function and will be removed in a future version. Please adapt your code to use either `displot` (a figure-level function with similar flexibility) or `histplot` (an axes-level function for histograms).\n",
      "  warnings.warn(msg, FutureWarning)\n"
     ]
    },
    {
     "data": {
      "image/png": "[encoded data removed]",
      "text/plain": [
       "<Figure size 432x288 with 1 Axes>"
      ]
     },
     "metadata": {
      "needs_background": "light"
     },
     "output_type": "display_data"
    },
    {
     "data": {
      "image/png": "[encoded data removed]",
      "text/plain": [
       "<Figure size 432x288 with 1 Axes>"
      ]
     },
     "metadata": {
      "needs_background": "light"
     },
     "output_type": "display_data"
    },
    {
     "name": "stderr",
     "output_type": "stream",
     "text": [
      "C:\\ProgramData\\Anaconda3\\lib\\site-packages\\seaborn\\distributions.py:2557: FutureWarning: `distplot` is a deprecated function and will be removed in a future version. Please adapt your code to use either `displot` (a figure-level function with similar flexibility) or `histplot` (an axes-level function for histograms).\n",
      "  warnings.warn(msg, FutureWarning)\n"
     ]
    },
    {
     "data": {
      "image/png": "[encoded data removed]",
      "text/plain": [
       "<Figure size 432x288 with 1 Axes>"
      ]
     },
     "metadata": {
      "needs_background": "light"
     },
     "output_type": "display_data"
    },
    {
     "data": {
      "image/png": "[encoded data removed]",
      "text/plain": [
       "<Figure size 432x288 with 1 Axes>"
      ]
     },
     "metadata": {
      "needs_background": "light"
     },
     "output_type": "display_data"
    },
    {
     "name": "stderr",
     "output_type": "stream",
     "text": [
      "C:\\ProgramData\\Anaconda3\\lib\\site-packages\\seaborn\\distributions.py:2557: FutureWarning: `distplot` is a deprecated function and will be removed in a future version. Please adapt your code to use either `displot` (a figure-level function with similar flexibility) or `histplot` (an axes-level function for histograms).\n",
      "  warnings.warn(msg, FutureWarning)\n"
     ]
    },
    {
     "data": {
      "image/png": "[encoded data removed]",
      "text/plain": [
       "<Figure size 432x288 with 1 Axes>"
      ]
     },
     "metadata": {
      "needs_background": "light"
     },
     "output_type": "display_data"
    },
    {
     "data": {
      "image/png": "[encoded data removed]",
      "text/plain": [
       "<Figure size 432x288 with 1 Axes>"
      ]
     },
     "metadata": {
      "needs_background": "light"
     },
     "output_type": "display_data"
    },
    {
     "name": "stderr",
     "output_type": "stream",
     "text": [
      "C:\\ProgramData\\Anaconda3\\lib\\site-packages\\seaborn\\distributions.py:2557: FutureWarning: `distplot` is a deprecated function and will be removed in a future version. Please adapt your code to use either `displot` (a figure-level function with similar flexibility) or `histplot` (an axes-level function for histograms).\n",
      "  warnings.warn(msg, FutureWarning)\n"
     ]
    },
    {
     "data": {
      "image/png": "[encoded data removed]",
      "text/plain": [
       "<Figure size 432x288 with 1 Axes>"
      ]
     },
     "metadata": {
      "needs_background": "light"
     },
     "output_type": "display_data"
    },
    {
     "data": {
      "image/png": "[encoded data removed]",
      "text/plain": [
       "<Figure size 432x288 with 1 Axes>"
      ]
     },
     "metadata": {
      "needs_background": "light"
     },
     "output_type": "display_data"
    },
    {
     "name": "stderr",
     "output_type": "stream",
     "text": [
      "C:\\ProgramData\\Anaconda3\\lib\\site-packages\\seaborn\\distributions.py:2557: FutureWarning: `distplot` is a deprecated function and will be removed in a future version. Please adapt your code to use either `displot` (a figure-level function with similar flexibility) or `histplot` (an axes-level function for histograms).\n",
      "  warnings.warn(msg, FutureWarning)\n"
     ]
    },
    {
     "data": {
      "image/png": "[encoded data removed]",
      "text/plain": [
       "<Figure size 432x288 with 1 Axes>"
      ]
     },
     "metadata": {
      "needs_background": "light"
     },
     "output_type": "display_data"
    },
    {
     "data": {
      "image/png": "[encoded data removed]",
      "text/plain": [
       "<Figure size 432x288 with 1 Axes>"
      ]
     },
     "metadata": {
      "needs_background": "light"
     },
     "output_type": "display_data"
    },
    {
     "name": "stderr",
     "output_type": "stream",
     "text": [
      "C:\\ProgramData\\Anaconda3\\lib\\site-packages\\seaborn\\distributions.py:2557: FutureWarning: `distplot` is a deprecated function and will be removed in a future version. Please adapt your code to use either `displot` (a figure-level function with similar flexibility) or `histplot` (an axes-level function for histograms).\n",
      "  warnings.warn(msg, FutureWarning)\n"
     ]
    },
    {
     "data": {
      "image/png": "[encoded data removed]",
      "text/plain": [
       "<Figure size 432x288 with 1 Axes>"
      ]
     },
     "metadata": {
      "needs_background": "light"
     },
     "output_type": "display_data"
    },
    {
     "data": {
      "image/png": "[encoded data removed]",
      "text/plain": [
       "<Figure size 432x288 with 1 Axes>"
      ]
     },
     "metadata": {
      "needs_background": "light"
     },
     "output_type": "display_data"
    },
    {
     "name": "stderr",
     "output_type": "stream",
     "text": [
      "C:\\ProgramData\\Anaconda3\\lib\\site-packages\\seaborn\\distributions.py:2557: FutureWarning: `distplot` is a deprecated function and will be removed in a future version. Please adapt your code to use either `displot` (a figure-level function with similar flexibility) or `histplot` (an axes-level function for histograms).\n",
      "  warnings.warn(msg, FutureWarning)\n"
     ]
    },
    {
     "data": {
      "image/png": "[encoded data removed]",
      "text/plain": [
       "<Figure size 432x288 with 1 Axes>"
      ]
     },
     "metadata": {
      "needs_background": "light"
     },
     "output_type": "display_data"
    },
    {
     "data": {
      "image/png": "[encoded data removed]",
      "text/plain": [
       "<Figure size 432x288 with 1 Axes>"
      ]
     },
     "metadata": {
      "needs_background": "light"
     },
     "output_type": "display_data"
    },
    {
     "name": "stderr",
     "output_type": "stream",
     "text": [
      "C:\\ProgramData\\Anaconda3\\lib\\site-packages\\seaborn\\distributions.py:2557: FutureWarning: `distplot` is a deprecated function and will be removed in a future version. Please adapt your code to use either `displot` (a figure-level function with similar flexibility) or `histplot` (an axes-level function for histograms).\n",
      "  warnings.warn(msg, FutureWarning)\n"
     ]
    },
    {
     "data": {
      "image/png": "[encoded data removed]",
      "text/plain": [
       "<Figure size 432x288 with 1 Axes>"
      ]
     },
     "metadata": {
      "needs_background": "light"
     },
     "output_type": "display_data"
    },
    {
     "data": {
      "image/png": "[encoded data removed]",
      "text/plain": [
       "<Figure size 432x288 with 1 Axes>"
      ]
     },
     "metadata": {
      "needs_background": "light"
     },
     "output_type": "display_data"
    },
    {
     "name": "stderr",
     "output_type": "stream",
     "text": [
      "C:\\ProgramData\\Anaconda3\\lib\\site-packages\\seaborn\\distributions.py:2557: FutureWarning: `distplot` is a deprecated function and will be removed in a future version. Please adapt your code to use either `displot` (a figure-level function with similar flexibility) or `histplot` (an axes-level function for histograms).\n",
      "  warnings.warn(msg, FutureWarning)\n"
     ]
    },
    {
     "data": {
      "image/png": "[encoded data removed]",
      "text/plain": [
       "<Figure size 432x288 with 1 Axes>"
      ]
     },
     "metadata": {
      "needs_background": "light"
     },
     "output_type": "display_data"
    },
    {
     "data": {
      "image/png": "[encoded data removed]",
      "text/plain": [
       "<Figure size 432x288 with 1 Axes>"
      ]
     },
     "metadata": {
      "needs_background": "light"
     },
     "output_type": "display_data"
    },
    {
     "name": "stderr",
     "output_type": "stream",
     "text": [
      "C:\\ProgramData\\Anaconda3\\lib\\site-packages\\seaborn\\distributions.py:2557: FutureWarning: `distplot` is a deprecated function and will be removed in a future version. Please adapt your code to use either `displot` (a figure-level function with similar flexibility) or `histplot` (an axes-level function for histograms).\n",
      "  warnings.warn(msg, FutureWarning)\n"
     ]
    },
    {
     "data": {
      "image/png": "[encoded data removed]",
      "text/plain": [
       "<Figure size 432x288 with 1 Axes>"
      ]
     },
     "metadata": {
      "needs_background": "light"
     },
     "output_type": "display_data"
    },
    {
     "data": {
      "image/png": "[encoded data removed]",
      "text/plain": [
       "<Figure size 432x288 with 1 Axes>"
      ]
     },
     "metadata": {
      "needs_background": "light"
     },
     "output_type": "display_data"
    },
    {
     "name": "stderr",
     "output_type": "stream",
     "text": [
      "C:\\ProgramData\\Anaconda3\\lib\\site-packages\\seaborn\\distributions.py:2557: FutureWarning: `distplot` is a deprecated function and will be removed in a future version. Please adapt your code to use either `displot` (a figure-level function with similar flexibility) or `histplot` (an axes-level function for histograms).\n",
      "  warnings.warn(msg, FutureWarning)\n"
     ]
    },
    {
     "data": {
      "image/png": "[encoded data removed]",
      "text/plain": [
       "<Figure size 432x288 with 1 Axes>"
      ]
     },
     "metadata": {
      "needs_background": "light"
     },
     "output_type": "display_data"
    }
   ],
   "source": [
    "for i in cols:  \n",
    "    plt.hist(df[i],)\n",
    "    \n",
    "    plt.show()\n",
    "#     sns.distplot(df[i])\n",
    "# for i in cols:  \n",
    "    sns.distplot(df[i])\n",
    "    plt.show()"
   ]
  },
  {
   "cell_type": "markdown",
   "id": "9f4a4858",
   "metadata": {},
   "source": [
    "### Modelling with Outliers"
   ]
  },
  {
   "cell_type": "code",
   "execution_count": 85,
   "id": "5e1ed9df",
   "metadata": {},
   "outputs": [],
   "source": [
    "df1.dropna(inplace=True)"
   ]
  },
  {
   "cell_type": "code",
   "execution_count": 86,
   "id": "9613a138",
   "metadata": {},
   "outputs": [],
   "source": [
    "from sklearn.model_selection import train_test_split"
   ]
  },
  {
   "cell_type": "code",
   "execution_count": 87,
   "id": "563961e3",
   "metadata": {},
   "outputs": [],
   "source": [
    "t1,t2=train_test_split(df1,test_size=0.3,random_state=1274)"
   ]
  },
  {
   "cell_type": "markdown",
   "id": "952e015f",
   "metadata": {},
   "source": [
    "### Feature Scaling"
   ]
  },
  {
   "cell_type": "code",
   "execution_count": 88,
   "id": "7288b6f7",
   "metadata": {},
   "outputs": [],
   "source": [
    "from sklearn.preprocessing import RobustScaler"
   ]
  },
  {
   "cell_type": "code",
   "execution_count": 89,
   "id": "55461ee5",
   "metadata": {},
   "outputs": [],
   "source": [
    "scl=RobustScaler()"
   ]
  },
  {
   "cell_type": "code",
   "execution_count": 93,
   "id": "47480e2a",
   "metadata": {},
   "outputs": [],
   "source": [
    "cols=t1.columns"
   ]
  },
  {
   "cell_type": "code",
   "execution_count": 94,
   "id": "ed149a0e",
   "metadata": {},
   "outputs": [
    {
     "name": "stderr",
     "output_type": "stream",
     "text": [
      "<ipython-input-94-80dcd12c6289>:1: SettingWithCopyWarning: \n",
      "A value is trying to be set on a copy of a slice from a DataFrame.\n",
      "Try using .loc[row_indexer,col_indexer] = value instead\n",
      "\n",
      "See the caveats in the documentation: https://pandas.pydata.org/pandas-docs/stable/user_guide/indexing.html#returning-a-view-versus-a-copy\n",
      "  t1[cols]=scl.fit_transform(t1)\n",
      "C:\\ProgramData\\Anaconda3\\lib\\site-packages\\pandas\\core\\indexing.py:1637: SettingWithCopyWarning: \n",
      "A value is trying to be set on a copy of a slice from a DataFrame\n",
      "\n",
      "See the caveats in the documentation: https://pandas.pydata.org/pandas-docs/stable/user_guide/indexing.html#returning-a-view-versus-a-copy\n",
      "  self._setitem_single_block(indexer, value, name)\n",
      "C:\\ProgramData\\Anaconda3\\lib\\site-packages\\pandas\\core\\indexing.py:692: SettingWithCopyWarning: \n",
      "A value is trying to be set on a copy of a slice from a DataFrame\n",
      "\n",
      "See the caveats in the documentation: https://pandas.pydata.org/pandas-docs/stable/user_guide/indexing.html#returning-a-view-versus-a-copy\n",
      "  iloc._setitem_with_indexer(indexer, value, self.name)\n"
     ]
    }
   ],
   "source": [
    "t1[cols]=scl.fit_transform(t1)"
   ]
  },
  {
   "cell_type": "code",
   "execution_count": 96,
   "id": "cb7688c0",
   "metadata": {},
   "outputs": [],
   "source": [
    "y_train=t1.pop(\"btc_market_price\")\n",
    "x_train=t1"
   ]
  },
  {
   "cell_type": "code",
   "execution_count": 97,
   "id": "e7aec9f5",
   "metadata": {},
   "outputs": [],
   "source": [
    "y_test=t2.pop(\"btc_market_price\")\n",
    "x_test=t2"
   ]
  },
  {
   "cell_type": "code",
   "execution_count": 99,
   "id": "18c70573",
   "metadata": {},
   "outputs": [
    {
     "data": {
      "text/plain": [
       "(858,)"
      ]
     },
     "execution_count": 99,
     "metadata": {},
     "output_type": "execute_result"
    }
   ],
   "source": [
    "y_test.shape"
   ]
  },
  {
   "cell_type": "code",
   "execution_count": 100,
   "id": "539ee5a8",
   "metadata": {},
   "outputs": [
    {
     "data": {
      "text/plain": [
       "(858, 15)"
      ]
     },
     "execution_count": 100,
     "metadata": {},
     "output_type": "execute_result"
    }
   ],
   "source": [
    "x_test.shape"
   ]
  },
  {
   "cell_type": "markdown",
   "id": "e253bf26",
   "metadata": {},
   "source": [
    "### LinearRegression"
   ]
  },
  {
   "cell_type": "code",
   "execution_count": 101,
   "id": "ea79657c",
   "metadata": {},
   "outputs": [],
   "source": [
    "from sklearn.linear_model import LinearRegression\n"
   ]
  },
  {
   "cell_type": "code",
   "execution_count": 102,
   "id": "6cc209ae",
   "metadata": {},
   "outputs": [],
   "source": [
    "lin=LinearRegression()"
   ]
  },
  {
   "cell_type": "code",
   "execution_count": 103,
   "id": "5dbdbd9c",
   "metadata": {},
   "outputs": [],
   "source": [
    "mod=lin.fit(x_train,y_train)"
   ]
  },
  {
   "cell_type": "code",
   "execution_count": 105,
   "id": "94c8f707",
   "metadata": {},
   "outputs": [
    {
     "data": {
      "text/plain": [
       "0.9999351917971835"
      ]
     },
     "execution_count": 105,
     "metadata": {},
     "output_type": "execute_result"
    }
   ],
   "source": [
    "mod.score(x_train,y_train)"
   ]
  },
  {
   "cell_type": "code",
   "execution_count": 107,
   "id": "0ab00cdc",
   "metadata": {},
   "outputs": [],
   "source": [
    "pred=mod.predict(x_test)"
   ]
  },
  {
   "cell_type": "code",
   "execution_count": 106,
   "id": "c60dd2a3",
   "metadata": {},
   "outputs": [],
   "source": [
    "from sklearn.metrics import r2_score"
   ]
  },
  {
   "cell_type": "code",
   "execution_count": 108,
   "id": "ed7177f7",
   "metadata": {},
   "outputs": [
    {
     "data": {
      "text/plain": [
       "0.999834892326327"
      ]
     },
     "execution_count": 108,
     "metadata": {},
     "output_type": "execute_result"
    }
   ],
   "source": [
    "r2_score(y_test,pred)"
   ]
  },
  {
   "cell_type": "markdown",
   "id": "16a4a37c",
   "metadata": {},
   "source": [
    "### Recursive Feature Selection"
   ]
  },
  {
   "cell_type": "code",
   "execution_count": 110,
   "id": "9971008d",
   "metadata": {},
   "outputs": [],
   "source": [
    "from sklearn.feature_selection import RFE"
   ]
  },
  {
   "cell_type": "code",
   "execution_count": 111,
   "id": "be426d09",
   "metadata": {},
   "outputs": [
    {
     "name": "stderr",
     "output_type": "stream",
     "text": [
      "C:\\ProgramData\\Anaconda3\\lib\\site-packages\\sklearn\\utils\\validation.py:70: FutureWarning: Pass n_features_to_select=10 as keyword args. From version 1.0 (renaming of 0.25) passing these as positional arguments will result in an error\n",
      "  warnings.warn(f\"Pass {args_msg} as keyword args. From version \"\n"
     ]
    }
   ],
   "source": [
    "rfe=RFE(lin,10)"
   ]
  },
  {
   "cell_type": "code",
   "execution_count": 112,
   "id": "90dbcc23",
   "metadata": {},
   "outputs": [],
   "source": [
    "ref=rfe.fit(x_train,y_train)"
   ]
  },
  {
   "cell_type": "code",
   "execution_count": 113,
   "id": "8ade31a6",
   "metadata": {},
   "outputs": [
    {
     "data": {
      "text/plain": [
       "array([1, 1, 1, 1, 6, 1, 1, 1, 4, 3, 5, 1, 1, 2, 1])"
      ]
     },
     "execution_count": 113,
     "metadata": {},
     "output_type": "execute_result"
    }
   ],
   "source": [
    "ref.ranking_"
   ]
  },
  {
   "cell_type": "code",
   "execution_count": 115,
   "id": "a0dbdef4",
   "metadata": {},
   "outputs": [
    {
     "data": {
      "text/plain": [
       "[('btc_n_unique_addresses', 1),\n",
       " ('btc_hash_rate', 1),\n",
       " ('btc_n_transactions_total', 1),\n",
       " ('btc_n_transactions_per_block', 1),\n",
       " ('btc_trade_volume', 6),\n",
       " ('btc_market_cap', 1),\n",
       " ('btc_n_transactions_excluding_chains_longer_than_100', 1),\n",
       " ('btc_avg_block_size', 1),\n",
       " ('btc_transaction_fees', 4),\n",
       " ('btc_estimated_transaction_volume_usd', 3),\n",
       " ('btc_miners_revenue', 5),\n",
       " ('btc_n_transactions', 1),\n",
       " ('btc_cost_per_transaction', 1),\n",
       " ('btc_difficulty', 2),\n",
       " ('btc_n_transactions_excluding_popular', 1)]"
      ]
     },
     "execution_count": 115,
     "metadata": {},
     "output_type": "execute_result"
    }
   ],
   "source": [
    "list(zip(x_train.columns,ref.ranking_))"
   ]
  },
  {
   "cell_type": "markdown",
   "id": "1b5b1e6f",
   "metadata": {},
   "source": [
    "### Visualising the Data"
   ]
  },
  {
   "cell_type": "code",
   "execution_count": 118,
   "id": "b8215378",
   "metadata": {},
   "outputs": [
    {
     "data": {
      "text/plain": [
       "Index(['btc_n_unique_addresses', 'btc_hash_rate', 'btc_n_transactions_total',\n",
       "       'btc_n_transactions_per_block', 'btc_trade_volume', 'btc_market_cap',\n",
       "       'btc_n_transactions_excluding_chains_longer_than_100',\n",
       "       'btc_avg_block_size', 'btc_transaction_fees',\n",
       "       'btc_estimated_transaction_volume_usd', 'btc_miners_revenue',\n",
       "       'btc_n_transactions', 'btc_cost_per_transaction', 'btc_difficulty',\n",
       "       'btc_n_transactions_excluding_popular', 'btc_market_price'],\n",
       "      dtype='object')"
      ]
     },
     "execution_count": 118,
     "metadata": {},
     "output_type": "execute_result"
    }
   ],
   "source": [
    "cols"
   ]
  },
  {
   "cell_type": "code",
   "execution_count": 120,
   "id": "28dda6a5",
   "metadata": {},
   "outputs": [],
   "source": [
    "df_nan=df.dropna()"
   ]
  },
  {
   "cell_type": "code",
   "execution_count": 127,
   "id": "ef3fcab2",
   "metadata": {},
   "outputs": [
    {
     "data": {
      "text/plain": [
       "Index(['btc_n_unique_addresses', 'btc_hash_rate', 'btc_n_transactions_total',\n",
       "       'btc_n_transactions_per_block', 'btc_trade_volume', 'btc_market_cap',\n",
       "       'btc_n_transactions_excluding_chains_longer_than_100',\n",
       "       'btc_avg_block_size', 'btc_transaction_fees',\n",
       "       'btc_estimated_transaction_volume_usd', 'btc_miners_revenue',\n",
       "       'btc_n_transactions', 'btc_cost_per_transaction', 'btc_difficulty',\n",
       "       'btc_n_transactions_excluding_popular'],\n",
       "      dtype='object')"
      ]
     },
     "execution_count": 127,
     "metadata": {},
     "output_type": "execute_result"
    }
   ],
   "source": [
    "x_train.columns"
   ]
  },
  {
   "cell_type": "code",
   "execution_count": 122,
   "id": "c4294434",
   "metadata": {},
   "outputs": [],
   "source": [
    "actual_pred=mod.predict(df_nan[['btc_n_unique_addresses', 'btc_hash_rate', 'btc_n_transactions_total',\n",
    "       'btc_n_transactions_per_block', 'btc_trade_volume', 'btc_market_cap',\n",
    "       'btc_n_transactions_excluding_chains_longer_than_100',\n",
    "       'btc_avg_block_size', 'btc_transaction_fees',\n",
    "       'btc_estimated_transaction_volume_usd', 'btc_miners_revenue',\n",
    "       'btc_n_transactions', 'btc_cost_per_transaction', 'btc_difficulty',\n",
    "       'btc_n_transactions_excluding_popular']])"
   ]
  },
  {
   "cell_type": "code",
   "execution_count": 125,
   "id": "693f56e9",
   "metadata": {
    "scrolled": true
   },
   "outputs": [
    {
     "data": {
      "text/plain": [
       "0           0.00000\n",
       "1           0.00000\n",
       "2           0.00000\n",
       "3           0.00000\n",
       "4           0.00000\n",
       "           ...     \n",
       "2901    11524.77667\n",
       "2902    11765.71000\n",
       "2903    11212.65500\n",
       "2904    10184.06167\n",
       "2905    10125.01333\n",
       "Name: btc_market_price, Length: 2791, dtype: float64"
      ]
     },
     "execution_count": 125,
     "metadata": {},
     "output_type": "execute_result"
    }
   ],
   "source": [
    "t=df_nan[\"btc_market_price\"]\n",
    "t"
   ]
  },
  {
   "cell_type": "code",
   "execution_count": 128,
   "id": "06c3ce2d",
   "metadata": {
    "scrolled": true
   },
   "outputs": [
    {
     "data": {
      "text/plain": [
       "-281375907810435.75"
      ]
     },
     "execution_count": 128,
     "metadata": {},
     "output_type": "execute_result"
    }
   ],
   "source": [
    "r2_score(t,actual_pred)"
   ]
  },
  {
   "cell_type": "code",
   "execution_count": 142,
   "id": "aa0e7337",
   "metadata": {},
   "outputs": [
    {
     "data": {
      "text/html": [
       "<div>\n",
       "<style scoped>\n",
       "    .dataframe tbody tr th:only-of-type {\n",
       "        vertical-align: middle;\n",
       "    }\n",
       "\n",
       "    .dataframe tbody tr th {\n",
       "        vertical-align: top;\n",
       "    }\n",
       "\n",
       "    .dataframe thead th {\n",
       "        text-align: right;\n",
       "    }\n",
       "</style>\n",
       "<table border=\"1\" class=\"dataframe\">\n",
       "  <thead>\n",
       "    <tr style=\"text-align: right;\">\n",
       "      <th></th>\n",
       "      <th>Date</th>\n",
       "      <th>btc_market_price</th>\n",
       "      <th>btc_total_bitcoins</th>\n",
       "      <th>btc_market_cap</th>\n",
       "      <th>btc_trade_volume</th>\n",
       "      <th>btc_blocks_size</th>\n",
       "      <th>btc_avg_block_size</th>\n",
       "      <th>btc_n_orphaned_blocks</th>\n",
       "      <th>btc_n_transactions_per_block</th>\n",
       "      <th>btc_median_confirmation_time</th>\n",
       "      <th>...</th>\n",
       "      <th>btc_cost_per_transaction</th>\n",
       "      <th>btc_n_unique_addresses</th>\n",
       "      <th>btc_n_transactions</th>\n",
       "      <th>btc_n_transactions_total</th>\n",
       "      <th>btc_n_transactions_excluding_popular</th>\n",
       "      <th>btc_n_transactions_excluding_chains_longer_than_100</th>\n",
       "      <th>btc_output_volume</th>\n",
       "      <th>btc_estimated_transaction_volume</th>\n",
       "      <th>btc_estimated_transaction_volume_usd</th>\n",
       "      <th>0</th>\n",
       "    </tr>\n",
       "  </thead>\n",
       "  <tbody>\n",
       "    <tr>\n",
       "      <th>0</th>\n",
       "      <td>2/17/2010</td>\n",
       "      <td>0.00000</td>\n",
       "      <td>2043200.0</td>\n",
       "      <td>0.000000e+00</td>\n",
       "      <td>0.000000e+00</td>\n",
       "      <td>0.0000</td>\n",
       "      <td>0.000235</td>\n",
       "      <td>0.0</td>\n",
       "      <td>1.000000</td>\n",
       "      <td>0.000</td>\n",
       "      <td>...</td>\n",
       "      <td>0.000000</td>\n",
       "      <td>241.0</td>\n",
       "      <td>244.0</td>\n",
       "      <td>41240.0</td>\n",
       "      <td>244.0</td>\n",
       "      <td>244.0</td>\n",
       "      <td>65173.130</td>\n",
       "      <td>36500.0000</td>\n",
       "      <td>0.000000e+00</td>\n",
       "      <td>2716.568385</td>\n",
       "    </tr>\n",
       "    <tr>\n",
       "      <th>1</th>\n",
       "      <td>2/18/2010</td>\n",
       "      <td>0.00000</td>\n",
       "      <td>2054650.0</td>\n",
       "      <td>0.000000e+00</td>\n",
       "      <td>0.000000e+00</td>\n",
       "      <td>0.0000</td>\n",
       "      <td>0.000241</td>\n",
       "      <td>0.0</td>\n",
       "      <td>1.000000</td>\n",
       "      <td>0.000</td>\n",
       "      <td>...</td>\n",
       "      <td>0.000000</td>\n",
       "      <td>234.0</td>\n",
       "      <td>235.0</td>\n",
       "      <td>41475.0</td>\n",
       "      <td>235.0</td>\n",
       "      <td>235.0</td>\n",
       "      <td>18911.740</td>\n",
       "      <td>7413.0000</td>\n",
       "      <td>0.000000e+00</td>\n",
       "      <td>2730.868155</td>\n",
       "    </tr>\n",
       "    <tr>\n",
       "      <th>2</th>\n",
       "      <td>2/19/2010</td>\n",
       "      <td>0.00000</td>\n",
       "      <td>2063600.0</td>\n",
       "      <td>0.000000e+00</td>\n",
       "      <td>0.000000e+00</td>\n",
       "      <td>0.0000</td>\n",
       "      <td>0.000228</td>\n",
       "      <td>0.0</td>\n",
       "      <td>1.000000</td>\n",
       "      <td>0.000</td>\n",
       "      <td>...</td>\n",
       "      <td>0.000000</td>\n",
       "      <td>185.0</td>\n",
       "      <td>183.0</td>\n",
       "      <td>41658.0</td>\n",
       "      <td>183.0</td>\n",
       "      <td>183.0</td>\n",
       "      <td>9749.980</td>\n",
       "      <td>700.0000</td>\n",
       "      <td>0.000000e+00</td>\n",
       "      <td>2736.391701</td>\n",
       "    </tr>\n",
       "    <tr>\n",
       "      <th>3</th>\n",
       "      <td>2/20/2010</td>\n",
       "      <td>0.00000</td>\n",
       "      <td>2074700.0</td>\n",
       "      <td>0.000000e+00</td>\n",
       "      <td>0.000000e+00</td>\n",
       "      <td>0.0000</td>\n",
       "      <td>0.000218</td>\n",
       "      <td>0.0</td>\n",
       "      <td>1.000000</td>\n",
       "      <td>0.000</td>\n",
       "      <td>...</td>\n",
       "      <td>0.000000</td>\n",
       "      <td>224.0</td>\n",
       "      <td>224.0</td>\n",
       "      <td>41882.0</td>\n",
       "      <td>224.0</td>\n",
       "      <td>224.0</td>\n",
       "      <td>11150.030</td>\n",
       "      <td>50.0000</td>\n",
       "      <td>0.000000e+00</td>\n",
       "      <td>2756.047057</td>\n",
       "    </tr>\n",
       "    <tr>\n",
       "      <th>4</th>\n",
       "      <td>2/21/2010</td>\n",
       "      <td>0.00000</td>\n",
       "      <td>2085400.0</td>\n",
       "      <td>0.000000e+00</td>\n",
       "      <td>0.000000e+00</td>\n",
       "      <td>0.0000</td>\n",
       "      <td>0.000234</td>\n",
       "      <td>0.0</td>\n",
       "      <td>1.000000</td>\n",
       "      <td>0.000</td>\n",
       "      <td>...</td>\n",
       "      <td>0.000000</td>\n",
       "      <td>218.0</td>\n",
       "      <td>218.0</td>\n",
       "      <td>42100.0</td>\n",
       "      <td>218.0</td>\n",
       "      <td>218.0</td>\n",
       "      <td>12266.830</td>\n",
       "      <td>1553.0000</td>\n",
       "      <td>0.000000e+00</td>\n",
       "      <td>2769.482997</td>\n",
       "    </tr>\n",
       "    <tr>\n",
       "      <th>...</th>\n",
       "      <td>...</td>\n",
       "      <td>...</td>\n",
       "      <td>...</td>\n",
       "      <td>...</td>\n",
       "      <td>...</td>\n",
       "      <td>...</td>\n",
       "      <td>...</td>\n",
       "      <td>...</td>\n",
       "      <td>...</td>\n",
       "      <td>...</td>\n",
       "      <td>...</td>\n",
       "      <td>...</td>\n",
       "      <td>...</td>\n",
       "      <td>...</td>\n",
       "      <td>...</td>\n",
       "      <td>...</td>\n",
       "      <td>...</td>\n",
       "      <td>...</td>\n",
       "      <td>...</td>\n",
       "      <td>...</td>\n",
       "      <td>...</td>\n",
       "    </tr>\n",
       "    <tr>\n",
       "      <th>2901</th>\n",
       "      <td>1/27/2018</td>\n",
       "      <td>11524.77667</td>\n",
       "      <td>16830312.5</td>\n",
       "      <td>1.940000e+11</td>\n",
       "      <td>7.630946e+08</td>\n",
       "      <td>153844.0759</td>\n",
       "      <td>1.038548</td>\n",
       "      <td>0.0</td>\n",
       "      <td>1232.980892</td>\n",
       "      <td>11.600</td>\n",
       "      <td>...</td>\n",
       "      <td>126.855696</td>\n",
       "      <td>541699.0</td>\n",
       "      <td>193578.0</td>\n",
       "      <td>295802277.0</td>\n",
       "      <td>188058.0</td>\n",
       "      <td>126082.0</td>\n",
       "      <td>1363301.068</td>\n",
       "      <td>119799.4611</td>\n",
       "      <td>1.380662e+09</td>\n",
       "      <td>NaN</td>\n",
       "    </tr>\n",
       "    <tr>\n",
       "      <th>2902</th>\n",
       "      <td>1/28/2018</td>\n",
       "      <td>11765.71000</td>\n",
       "      <td>16832287.5</td>\n",
       "      <td>1.980000e+11</td>\n",
       "      <td>7.381042e+08</td>\n",
       "      <td>154006.9753</td>\n",
       "      <td>1.031009</td>\n",
       "      <td>0.0</td>\n",
       "      <td>1350.924051</td>\n",
       "      <td>11.950</td>\n",
       "      <td>...</td>\n",
       "      <td>117.430262</td>\n",
       "      <td>492738.0</td>\n",
       "      <td>213446.0</td>\n",
       "      <td>296015723.0</td>\n",
       "      <td>205967.0</td>\n",
       "      <td>137919.0</td>\n",
       "      <td>3128906.096</td>\n",
       "      <td>163590.5694</td>\n",
       "      <td>1.924759e+09</td>\n",
       "      <td>NaN</td>\n",
       "    </tr>\n",
       "    <tr>\n",
       "      <th>2903</th>\n",
       "      <td>1/29/2018</td>\n",
       "      <td>11212.65500</td>\n",
       "      <td>16834137.5</td>\n",
       "      <td>1.890000e+11</td>\n",
       "      <td>6.111197e+08</td>\n",
       "      <td>154157.6651</td>\n",
       "      <td>1.018174</td>\n",
       "      <td>0.0</td>\n",
       "      <td>1568.756757</td>\n",
       "      <td>12.275</td>\n",
       "      <td>...</td>\n",
       "      <td>96.382352</td>\n",
       "      <td>532630.0</td>\n",
       "      <td>232176.0</td>\n",
       "      <td>296247899.0</td>\n",
       "      <td>225983.0</td>\n",
       "      <td>155772.0</td>\n",
       "      <td>1941048.853</td>\n",
       "      <td>160557.7065</td>\n",
       "      <td>1.800278e+09</td>\n",
       "      <td>NaN</td>\n",
       "    </tr>\n",
       "    <tr>\n",
       "      <th>2904</th>\n",
       "      <td>1/30/2018</td>\n",
       "      <td>10184.06167</td>\n",
       "      <td>16836225.0</td>\n",
       "      <td>1.710000e+11</td>\n",
       "      <td>1.266284e+09</td>\n",
       "      <td>154322.5790</td>\n",
       "      <td>0.987509</td>\n",
       "      <td>0.0</td>\n",
       "      <td>1416.820359</td>\n",
       "      <td>11.075</td>\n",
       "      <td>...</td>\n",
       "      <td>96.749249</td>\n",
       "      <td>531440.0</td>\n",
       "      <td>236609.0</td>\n",
       "      <td>296484508.0</td>\n",
       "      <td>230310.0</td>\n",
       "      <td>158259.0</td>\n",
       "      <td>2359671.266</td>\n",
       "      <td>172755.8071</td>\n",
       "      <td>1.759356e+09</td>\n",
       "      <td>NaN</td>\n",
       "    </tr>\n",
       "    <tr>\n",
       "      <th>2905</th>\n",
       "      <td>1/31/2018</td>\n",
       "      <td>10125.01333</td>\n",
       "      <td>16837687.5</td>\n",
       "      <td>1.700000e+11</td>\n",
       "      <td>9.332398e+08</td>\n",
       "      <td>154444.5903</td>\n",
       "      <td>1.042831</td>\n",
       "      <td>0.0</td>\n",
       "      <td>1745.948718</td>\n",
       "      <td>15.675</td>\n",
       "      <td>...</td>\n",
       "      <td>80.529148</td>\n",
       "      <td>481100.0</td>\n",
       "      <td>204276.0</td>\n",
       "      <td>296688784.0</td>\n",
       "      <td>197264.0</td>\n",
       "      <td>141543.0</td>\n",
       "      <td>1785708.486</td>\n",
       "      <td>159867.3306</td>\n",
       "      <td>1.618659e+09</td>\n",
       "      <td>NaN</td>\n",
       "    </tr>\n",
       "  </tbody>\n",
       "</table>\n",
       "<p>2906 rows × 25 columns</p>\n",
       "</div>"
      ],
      "text/plain": [
       "           Date  btc_market_price  btc_total_bitcoins  btc_market_cap  \\\n",
       "0     2/17/2010           0.00000           2043200.0    0.000000e+00   \n",
       "1     2/18/2010           0.00000           2054650.0    0.000000e+00   \n",
       "2     2/19/2010           0.00000           2063600.0    0.000000e+00   \n",
       "3     2/20/2010           0.00000           2074700.0    0.000000e+00   \n",
       "4     2/21/2010           0.00000           2085400.0    0.000000e+00   \n",
       "...         ...               ...                 ...             ...   \n",
       "2901  1/27/2018       11524.77667          16830312.5    1.940000e+11   \n",
       "2902  1/28/2018       11765.71000          16832287.5    1.980000e+11   \n",
       "2903  1/29/2018       11212.65500          16834137.5    1.890000e+11   \n",
       "2904  1/30/2018       10184.06167          16836225.0    1.710000e+11   \n",
       "2905  1/31/2018       10125.01333          16837687.5    1.700000e+11   \n",
       "\n",
       "      btc_trade_volume  btc_blocks_size  btc_avg_block_size  \\\n",
       "0         0.000000e+00           0.0000            0.000235   \n",
       "1         0.000000e+00           0.0000            0.000241   \n",
       "2         0.000000e+00           0.0000            0.000228   \n",
       "3         0.000000e+00           0.0000            0.000218   \n",
       "4         0.000000e+00           0.0000            0.000234   \n",
       "...                ...              ...                 ...   \n",
       "2901      7.630946e+08      153844.0759            1.038548   \n",
       "2902      7.381042e+08      154006.9753            1.031009   \n",
       "2903      6.111197e+08      154157.6651            1.018174   \n",
       "2904      1.266284e+09      154322.5790            0.987509   \n",
       "2905      9.332398e+08      154444.5903            1.042831   \n",
       "\n",
       "      btc_n_orphaned_blocks  btc_n_transactions_per_block  \\\n",
       "0                       0.0                      1.000000   \n",
       "1                       0.0                      1.000000   \n",
       "2                       0.0                      1.000000   \n",
       "3                       0.0                      1.000000   \n",
       "4                       0.0                      1.000000   \n",
       "...                     ...                           ...   \n",
       "2901                    0.0                   1232.980892   \n",
       "2902                    0.0                   1350.924051   \n",
       "2903                    0.0                   1568.756757   \n",
       "2904                    0.0                   1416.820359   \n",
       "2905                    0.0                   1745.948718   \n",
       "\n",
       "      btc_median_confirmation_time  ...  btc_cost_per_transaction  \\\n",
       "0                            0.000  ...                  0.000000   \n",
       "1                            0.000  ...                  0.000000   \n",
       "2                            0.000  ...                  0.000000   \n",
       "3                            0.000  ...                  0.000000   \n",
       "4                            0.000  ...                  0.000000   \n",
       "...                            ...  ...                       ...   \n",
       "2901                        11.600  ...                126.855696   \n",
       "2902                        11.950  ...                117.430262   \n",
       "2903                        12.275  ...                 96.382352   \n",
       "2904                        11.075  ...                 96.749249   \n",
       "2905                        15.675  ...                 80.529148   \n",
       "\n",
       "      btc_n_unique_addresses  btc_n_transactions  btc_n_transactions_total  \\\n",
       "0                      241.0               244.0                   41240.0   \n",
       "1                      234.0               235.0                   41475.0   \n",
       "2                      185.0               183.0                   41658.0   \n",
       "3                      224.0               224.0                   41882.0   \n",
       "4                      218.0               218.0                   42100.0   \n",
       "...                      ...                 ...                       ...   \n",
       "2901                541699.0            193578.0               295802277.0   \n",
       "2902                492738.0            213446.0               296015723.0   \n",
       "2903                532630.0            232176.0               296247899.0   \n",
       "2904                531440.0            236609.0               296484508.0   \n",
       "2905                481100.0            204276.0               296688784.0   \n",
       "\n",
       "      btc_n_transactions_excluding_popular  \\\n",
       "0                                    244.0   \n",
       "1                                    235.0   \n",
       "2                                    183.0   \n",
       "3                                    224.0   \n",
       "4                                    218.0   \n",
       "...                                    ...   \n",
       "2901                              188058.0   \n",
       "2902                              205967.0   \n",
       "2903                              225983.0   \n",
       "2904                              230310.0   \n",
       "2905                              197264.0   \n",
       "\n",
       "      btc_n_transactions_excluding_chains_longer_than_100  btc_output_volume  \\\n",
       "0                                                 244.0            65173.130   \n",
       "1                                                 235.0            18911.740   \n",
       "2                                                 183.0             9749.980   \n",
       "3                                                 224.0            11150.030   \n",
       "4                                                 218.0            12266.830   \n",
       "...                                                 ...                  ...   \n",
       "2901                                           126082.0          1363301.068   \n",
       "2902                                           137919.0          3128906.096   \n",
       "2903                                           155772.0          1941048.853   \n",
       "2904                                           158259.0          2359671.266   \n",
       "2905                                           141543.0          1785708.486   \n",
       "\n",
       "      btc_estimated_transaction_volume  btc_estimated_transaction_volume_usd  \\\n",
       "0                           36500.0000                          0.000000e+00   \n",
       "1                            7413.0000                          0.000000e+00   \n",
       "2                             700.0000                          0.000000e+00   \n",
       "3                              50.0000                          0.000000e+00   \n",
       "4                            1553.0000                          0.000000e+00   \n",
       "...                                ...                                   ...   \n",
       "2901                       119799.4611                          1.380662e+09   \n",
       "2902                       163590.5694                          1.924759e+09   \n",
       "2903                       160557.7065                          1.800278e+09   \n",
       "2904                       172755.8071                          1.759356e+09   \n",
       "2905                       159867.3306                          1.618659e+09   \n",
       "\n",
       "                0  \n",
       "0     2716.568385  \n",
       "1     2730.868155  \n",
       "2     2736.391701  \n",
       "3     2756.047057  \n",
       "4     2769.482997  \n",
       "...           ...  \n",
       "2901          NaN  \n",
       "2902          NaN  \n",
       "2903          NaN  \n",
       "2904          NaN  \n",
       "2905          NaN  \n",
       "\n",
       "[2906 rows x 25 columns]"
      ]
     },
     "execution_count": 142,
     "metadata": {},
     "output_type": "execute_result"
    }
   ],
   "source": [
    "pd.concat([df_nan,pd.DataFrame(actual_pred)],axis=1)"
   ]
  },
  {
   "cell_type": "code",
   "execution_count": 137,
   "id": "f463eb61",
   "metadata": {},
   "outputs": [
    {
     "data": {
      "text/plain": [
       "(2791, 24)"
      ]
     },
     "execution_count": 137,
     "metadata": {},
     "output_type": "execute_result"
    }
   ],
   "source": [
    "df_nan.shape"
   ]
  },
  {
   "cell_type": "code",
   "execution_count": 138,
   "id": "36d754cd",
   "metadata": {},
   "outputs": [
    {
     "data": {
      "text/plain": [
       "2791"
      ]
     },
     "execution_count": 138,
     "metadata": {},
     "output_type": "execute_result"
    }
   ],
   "source": [
    "len(actual_pred)"
   ]
  }
 ],
 "metadata": {
  "kernelspec": {
   "display_name": "Python 3",
   "language": "python",
   "name": "python3"
  },
  "language_info": {
   "codemirror_mode": {
    "name": "ipython",
    "version": 3
   },
   "file_extension": ".py",
   "mimetype": "text/x-python",
   "name": "python",
   "nbconvert_exporter": "python",
   "pygments_lexer": "ipython3",
   "version": "3.8.8"
  }
 },
 "nbformat": 4,
 "nbformat_minor": 5
}
