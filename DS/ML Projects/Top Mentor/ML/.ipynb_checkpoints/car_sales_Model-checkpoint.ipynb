{
 "cells": [
  {
   "cell_type": "code",
   "execution_count": 129,
   "id": "5c83e85d",
   "metadata": {},
   "outputs": [],
   "source": [
    "import pandas as pd"
   ]
  },
  {
   "cell_type": "code",
   "execution_count": 130,
   "id": "a82469ce",
   "metadata": {},
   "outputs": [],
   "source": [
    "from sklearn.preprocessing import StandardScaler"
   ]
  },
  {
   "cell_type": "code",
   "execution_count": 131,
   "id": "1d0720ba",
   "metadata": {},
   "outputs": [],
   "source": [
    "ss=StandardScaler()"
   ]
  },
  {
   "cell_type": "code",
   "execution_count": 135,
   "id": "682b3c3c",
   "metadata": {},
   "outputs": [
    {
     "data": {
      "text/html": [
       "<div>\n",
       "<style scoped>\n",
       "    .dataframe tbody tr th:only-of-type {\n",
       "        vertical-align: middle;\n",
       "    }\n",
       "\n",
       "    .dataframe tbody tr th {\n",
       "        vertical-align: top;\n",
       "    }\n",
       "\n",
       "    .dataframe thead th {\n",
       "        text-align: right;\n",
       "    }\n",
       "</style>\n",
       "<table border=\"1\" class=\"dataframe\">\n",
       "  <thead>\n",
       "    <tr style=\"text-align: right;\">\n",
       "      <th></th>\n",
       "      <th>Sales_in_thousands</th>\n",
       "      <th>__year_resale_value</th>\n",
       "      <th>Price_in_thousands</th>\n",
       "      <th>Horsepower</th>\n",
       "    </tr>\n",
       "  </thead>\n",
       "  <tbody>\n",
       "    <tr>\n",
       "      <th>0</th>\n",
       "      <td>16.919</td>\n",
       "      <td>16.360</td>\n",
       "      <td>21.50</td>\n",
       "      <td>140.0</td>\n",
       "    </tr>\n",
       "    <tr>\n",
       "      <th>1</th>\n",
       "      <td>39.384</td>\n",
       "      <td>19.875</td>\n",
       "      <td>28.40</td>\n",
       "      <td>225.0</td>\n",
       "    </tr>\n",
       "    <tr>\n",
       "      <th>2</th>\n",
       "      <td>14.114</td>\n",
       "      <td>18.225</td>\n",
       "      <td>NaN</td>\n",
       "      <td>225.0</td>\n",
       "    </tr>\n",
       "    <tr>\n",
       "      <th>3</th>\n",
       "      <td>8.588</td>\n",
       "      <td>29.725</td>\n",
       "      <td>42.00</td>\n",
       "      <td>210.0</td>\n",
       "    </tr>\n",
       "    <tr>\n",
       "      <th>4</th>\n",
       "      <td>20.397</td>\n",
       "      <td>22.255</td>\n",
       "      <td>23.99</td>\n",
       "      <td>150.0</td>\n",
       "    </tr>\n",
       "  </tbody>\n",
       "</table>\n",
       "</div>"
      ],
      "text/plain": [
       "   Sales_in_thousands  __year_resale_value  Price_in_thousands  Horsepower\n",
       "0              16.919               16.360               21.50       140.0\n",
       "1              39.384               19.875               28.40       225.0\n",
       "2              14.114               18.225                 NaN       225.0\n",
       "3               8.588               29.725               42.00       210.0\n",
       "4              20.397               22.255               23.99       150.0"
      ]
     },
     "execution_count": 135,
     "metadata": {},
     "output_type": "execute_result"
    }
   ],
   "source": [
    "df=pd.read_csv(\"Car_sales.csv\",usecols=[\"Sales_in_thousands\",\"__year_resale_value\",\"Price_in_thousands\",\"Horsepower\"])\n",
    "df.head()"
   ]
  },
  {
   "cell_type": "code",
   "execution_count": 138,
   "id": "50ab40eb",
   "metadata": {},
   "outputs": [],
   "source": [
    "df_scld=pd.DataFrame(ss.fit_transform(df))"
   ]
  },
  {
   "cell_type": "code",
   "execution_count": 139,
   "id": "4a868945",
   "metadata": {},
   "outputs": [
    {
     "data": {
      "text/html": [
       "<div>\n",
       "<style scoped>\n",
       "    .dataframe tbody tr th:only-of-type {\n",
       "        vertical-align: middle;\n",
       "    }\n",
       "\n",
       "    .dataframe tbody tr th {\n",
       "        vertical-align: top;\n",
       "    }\n",
       "\n",
       "    .dataframe thead th {\n",
       "        text-align: right;\n",
       "    }\n",
       "</style>\n",
       "<table border=\"1\" class=\"dataframe\">\n",
       "  <thead>\n",
       "    <tr style=\"text-align: right;\">\n",
       "      <th></th>\n",
       "      <th>0</th>\n",
       "      <th>1</th>\n",
       "      <th>2</th>\n",
       "      <th>3</th>\n",
       "    </tr>\n",
       "  </thead>\n",
       "  <tbody>\n",
       "    <tr>\n",
       "      <th>0</th>\n",
       "      <td>-0.532042</td>\n",
       "      <td>-0.150182</td>\n",
       "      <td>-0.411789</td>\n",
       "      <td>-0.812988</td>\n",
       "    </tr>\n",
       "    <tr>\n",
       "      <th>1</th>\n",
       "      <td>-0.200761</td>\n",
       "      <td>0.157990</td>\n",
       "      <td>0.070551</td>\n",
       "      <td>0.690949</td>\n",
       "    </tr>\n",
       "    <tr>\n",
       "      <th>2</th>\n",
       "      <td>-0.573406</td>\n",
       "      <td>0.013329</td>\n",
       "      <td>NaN</td>\n",
       "      <td>0.690949</td>\n",
       "    </tr>\n",
       "    <tr>\n",
       "      <th>3</th>\n",
       "      <td>-0.654896</td>\n",
       "      <td>1.021574</td>\n",
       "      <td>1.021248</td>\n",
       "      <td>0.425549</td>\n",
       "    </tr>\n",
       "    <tr>\n",
       "      <th>4</th>\n",
       "      <td>-0.480754</td>\n",
       "      <td>0.366653</td>\n",
       "      <td>-0.237727</td>\n",
       "      <td>-0.636055</td>\n",
       "    </tr>\n",
       "    <tr>\n",
       "      <th>...</th>\n",
       "      <td>...</td>\n",
       "      <td>...</td>\n",
       "      <td>...</td>\n",
       "      <td>...</td>\n",
       "    </tr>\n",
       "    <tr>\n",
       "      <th>152</th>\n",
       "      <td>-0.729263</td>\n",
       "      <td>NaN</td>\n",
       "      <td>-0.209066</td>\n",
       "      <td>-0.459121</td>\n",
       "    </tr>\n",
       "    <tr>\n",
       "      <th>153</th>\n",
       "      <td>-0.556728</td>\n",
       "      <td>NaN</td>\n",
       "      <td>0.007637</td>\n",
       "      <td>-0.317574</td>\n",
       "    </tr>\n",
       "    <tr>\n",
       "      <th>154</th>\n",
       "      <td>-0.523017</td>\n",
       "      <td>NaN</td>\n",
       "      <td>0.098512</td>\n",
       "      <td>-0.317574</td>\n",
       "    </tr>\n",
       "    <tr>\n",
       "      <th>155</th>\n",
       "      <td>-0.730030</td>\n",
       "      <td>NaN</td>\n",
       "      <td>1.265913</td>\n",
       "      <td>0.885577</td>\n",
       "    </tr>\n",
       "    <tr>\n",
       "      <th>156</th>\n",
       "      <td>-0.501812</td>\n",
       "      <td>NaN</td>\n",
       "      <td>0.601823</td>\n",
       "      <td>0.266308</td>\n",
       "    </tr>\n",
       "  </tbody>\n",
       "</table>\n",
       "<p>157 rows × 4 columns</p>\n",
       "</div>"
      ],
      "text/plain": [
       "            0         1         2         3\n",
       "0   -0.532042 -0.150182 -0.411789 -0.812988\n",
       "1   -0.200761  0.157990  0.070551  0.690949\n",
       "2   -0.573406  0.013329       NaN  0.690949\n",
       "3   -0.654896  1.021574  1.021248  0.425549\n",
       "4   -0.480754  0.366653 -0.237727 -0.636055\n",
       "..        ...       ...       ...       ...\n",
       "152 -0.729263       NaN -0.209066 -0.459121\n",
       "153 -0.556728       NaN  0.007637 -0.317574\n",
       "154 -0.523017       NaN  0.098512 -0.317574\n",
       "155 -0.730030       NaN  1.265913  0.885577\n",
       "156 -0.501812       NaN  0.601823  0.266308\n",
       "\n",
       "[157 rows x 4 columns]"
      ]
     },
     "execution_count": 139,
     "metadata": {},
     "output_type": "execute_result"
    }
   ],
   "source": [
    "df_scld"
   ]
  },
  {
   "cell_type": "code",
   "execution_count": 161,
   "id": "1fc7a792",
   "metadata": {
    "scrolled": true
   },
   "outputs": [
    {
     "name": "stdout",
     "output_type": "stream",
     "text": [
      "0  \n",
      "\n",
      "1  1  \n",
      "\n",
      "2  2  2  \n",
      "\n",
      "3  3  3  3  \n",
      "\n"
     ]
    }
   ],
   "source": [
    "for i in range(4):\n",
    "    for j in range(i+1):\n",
    "        print(i,end=\"  \")\n",
    "    print(\"\\n\")\n",
    "    "
   ]
  },
  {
   "cell_type": "code",
   "execution_count": 159,
   "id": "2977aee4",
   "metadata": {
    "scrolled": false
   },
   "outputs": [
    {
     "name": "stdout",
     "output_type": "stream",
     "text": [
      "*  \n",
      "\n"
     ]
    }
   ],
   "source": [
    "for i in range(0,1):\n",
    "    for j in range(i+1):\n",
    "        print(\"*\",end=\"  \")\n",
    "    print(\"\\n\")\n",
    "    "
   ]
  },
  {
   "cell_type": "code",
   "execution_count": 148,
   "id": "96bada65",
   "metadata": {
    "scrolled": false
   },
   "outputs": [
    {
     "name": "stdout",
     "output_type": "stream",
     "text": [
      "0\n",
      "1\n",
      "2\n",
      "3\n"
     ]
    }
   ],
   "source": [
    "for i in range(4):\n",
    "    print(i)"
   ]
  },
  {
   "cell_type": "code",
   "execution_count": 156,
   "id": "8743a343",
   "metadata": {},
   "outputs": [
    {
     "name": "stdout",
     "output_type": "stream",
     "text": [
      "* \r\n",
      "* * \r\n",
      "* * * \r\n",
      "* * * * \r\n",
      "* * * * * \r\n"
     ]
    }
   ],
   "source": [
    "def pypart(n):\n",
    "     \n",
    "    # outer loop to handle number of rows\n",
    "    # n in this case\n",
    "    for i in range(0, n):\n",
    "     \n",
    "        # inner loop to handle number of columns\n",
    "        # values changing acc. to outer loop\n",
    "        for j in range(0, i+1):\n",
    "         \n",
    "            # printing stars\n",
    "            print(\"* \",end=\"\")\n",
    "      \n",
    "        # ending line after each row\n",
    "        print(\"\\r\")\n",
    " \n",
    "# Driver Code\n",
    "n = 5\n",
    "pypart(n)"
   ]
  }
 ],
 "metadata": {
  "kernelspec": {
   "display_name": "Python 3",
   "language": "python",
   "name": "python3"
  },
  "language_info": {
   "codemirror_mode": {
    "name": "ipython",
    "version": 3
   },
   "file_extension": ".py",
   "mimetype": "text/x-python",
   "name": "python",
   "nbconvert_exporter": "python",
   "pygments_lexer": "ipython3",
   "version": "3.8.8"
  }
 },
 "nbformat": 4,
 "nbformat_minor": 5
}
