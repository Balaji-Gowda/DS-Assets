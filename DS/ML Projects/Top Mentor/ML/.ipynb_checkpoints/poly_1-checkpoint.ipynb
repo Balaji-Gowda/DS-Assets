{
 "cells": [
  {
   "cell_type": "markdown",
   "id": "b611a817",
   "metadata": {},
   "source": [
    "# NON-Linear Data"
   ]
  },
  {
   "cell_type": "code",
   "execution_count": 2,
   "id": "dd215cd4",
   "metadata": {},
   "outputs": [],
   "source": [
    "import pandas as pd"
   ]
  },
  {
   "cell_type": "code",
   "execution_count": 4,
   "id": "eb0b1910",
   "metadata": {},
   "outputs": [
    {
     "data": {
      "text/html": [
       "<div>\n",
       "<style scoped>\n",
       "    .dataframe tbody tr th:only-of-type {\n",
       "        vertical-align: middle;\n",
       "    }\n",
       "\n",
       "    .dataframe tbody tr th {\n",
       "        vertical-align: top;\n",
       "    }\n",
       "\n",
       "    .dataframe thead th {\n",
       "        text-align: right;\n",
       "    }\n",
       "</style>\n",
       "<table border=\"1\" class=\"dataframe\">\n",
       "  <thead>\n",
       "    <tr style=\"text-align: right;\">\n",
       "      <th></th>\n",
       "      <th>temp</th>\n",
       "      <th>pressure</th>\n",
       "    </tr>\n",
       "  </thead>\n",
       "  <tbody>\n",
       "    <tr>\n",
       "      <th>0</th>\n",
       "      <td>0</td>\n",
       "      <td>0.0002</td>\n",
       "    </tr>\n",
       "    <tr>\n",
       "      <th>1</th>\n",
       "      <td>20</td>\n",
       "      <td>0.0012</td>\n",
       "    </tr>\n",
       "    <tr>\n",
       "      <th>2</th>\n",
       "      <td>40</td>\n",
       "      <td>0.0120</td>\n",
       "    </tr>\n",
       "    <tr>\n",
       "      <th>3</th>\n",
       "      <td>60</td>\n",
       "      <td>0.0900</td>\n",
       "    </tr>\n",
       "    <tr>\n",
       "      <th>4</th>\n",
       "      <td>80</td>\n",
       "      <td>0.1200</td>\n",
       "    </tr>\n",
       "    <tr>\n",
       "      <th>5</th>\n",
       "      <td>100</td>\n",
       "      <td>0.2700</td>\n",
       "    </tr>\n",
       "  </tbody>\n",
       "</table>\n",
       "</div>"
      ],
      "text/plain": [
       "   temp  pressure\n",
       "0     0    0.0002\n",
       "1    20    0.0012\n",
       "2    40    0.0120\n",
       "3    60    0.0900\n",
       "4    80    0.1200\n",
       "5   100    0.2700"
      ]
     },
     "execution_count": 4,
     "metadata": {},
     "output_type": "execute_result"
    }
   ],
   "source": [
    "df=pd.DataFrame({\"temp\":[0,20,40,60,80,100],\"pressure\":[0.0002,0.0012,0.012,0.09,0.12,0.27]})\n",
    "df"
   ]
  },
  {
   "cell_type": "code",
   "execution_count": 5,
   "id": "3de35a65",
   "metadata": {},
   "outputs": [],
   "source": [
    "#take values\n",
    "x=df.iloc[:,0:1].values\n",
    "y=df.iloc[:,1].values"
   ]
  },
  {
   "cell_type": "code",
   "execution_count": 7,
   "id": "d66af034",
   "metadata": {},
   "outputs": [
    {
     "data": {
      "text/plain": [
       "array([2.0e-04, 1.2e-03, 1.2e-02, 9.0e-02, 1.2e-01, 2.7e-01])"
      ]
     },
     "execution_count": 7,
     "metadata": {},
     "output_type": "execute_result"
    }
   ],
   "source": [
    "y"
   ]
  },
  {
   "cell_type": "code",
   "execution_count": 8,
   "id": "5391ce1a",
   "metadata": {},
   "outputs": [],
   "source": [
    "from sklearn.linear_model import LinearRegression"
   ]
  },
  {
   "cell_type": "code",
   "execution_count": 9,
   "id": "c383bade",
   "metadata": {},
   "outputs": [],
   "source": [
    "lin=LinearRegression()"
   ]
  },
  {
   "cell_type": "code",
   "execution_count": 21,
   "id": "eb27836f",
   "metadata": {},
   "outputs": [],
   "source": [
    "mod=lin.fit(x,y)"
   ]
  },
  {
   "cell_type": "code",
   "execution_count": 11,
   "id": "cedad731",
   "metadata": {},
   "outputs": [],
   "source": [
    "import matplotlib.pyplot as plt\n",
    "%matplotlib inline"
   ]
  },
  {
   "cell_type": "code",
   "execution_count": 20,
   "id": "1b1e50f1",
   "metadata": {},
   "outputs": [
    {
     "data": {
      "text/plain": [
       "[<matplotlib.lines.Line2D at 0x13d9b274ee0>]"
      ]
     },
     "execution_count": 20,
     "metadata": {},
     "output_type": "execute_result"
    },
    {
     "data": {
      "image/png": "[encoded data removed]",
      "text/plain": [
       "<Figure size 432x288 with 1 Axes>"
      ]
     },
     "metadata": {
      "needs_background": "light"
     },
     "output_type": "display_data"
    }
   ],
   "source": [
    "plt.scatter(x,y)\n",
    "plt.plot(x,lin.predict(x))"
   ]
  },
  {
   "cell_type": "code",
   "execution_count": 22,
   "id": "07f9a4fc",
   "metadata": {},
   "outputs": [
    {
     "data": {
      "text/plain": [
       "0.8265354318062791"
      ]
     },
     "execution_count": 22,
     "metadata": {},
     "output_type": "execute_result"
    }
   ],
   "source": [
    "mod.score(x,y)"
   ]
  },
  {
   "cell_type": "markdown",
   "id": "2b7c3034",
   "metadata": {},
   "source": [
    "# polynomial regression"
   ]
  },
  {
   "cell_type": "code",
   "execution_count": 23,
   "id": "f97de705",
   "metadata": {},
   "outputs": [],
   "source": [
    "from sklearn.preprocessing import PolynomialFeatures"
   ]
  },
  {
   "cell_type": "code",
   "execution_count": 25,
   "id": "a49fb117",
   "metadata": {},
   "outputs": [],
   "source": [
    "poly=PolynomialFeatures(degree=3)"
   ]
  },
  {
   "cell_type": "code",
   "execution_count": 26,
   "id": "07e67947",
   "metadata": {},
   "outputs": [],
   "source": [
    "x_poly=poly.fit_transform(x)"
   ]
  },
  {
   "cell_type": "code",
   "execution_count": 27,
   "id": "f5769548",
   "metadata": {},
   "outputs": [
    {
     "data": {
      "text/plain": [
       "LinearRegression()"
      ]
     },
     "execution_count": 27,
     "metadata": {},
     "output_type": "execute_result"
    }
   ],
   "source": [
    "lin.fit(x_poly,y)"
   ]
  },
  {
   "cell_type": "code",
   "execution_count": 32,
   "id": "67f50f8d",
   "metadata": {
    "scrolled": true
   },
   "outputs": [
    {
     "data": {
      "text/plain": [
       "[<matplotlib.lines.Line2D at 0x13d9b5f4ee0>]"
      ]
     },
     "execution_count": 32,
     "metadata": {},
     "output_type": "execute_result"
    },
    {
     "data": {
      "image/png": "[encoded data removed]",
      "text/plain": [
       "<Figure size 432x288 with 1 Axes>"
      ]
     },
     "metadata": {
      "needs_background": "light"
     },
     "output_type": "display_data"
    }
   ],
   "source": [
    "plt.scatter(x,y)\n",
    "plt.plot(x,lin.predict(x_poly),color=\"violet\")"
   ]
  },
  {
   "cell_type": "markdown",
   "id": "4cb2d7f2",
   "metadata": {},
   "source": [
    "# cLASSIFICATION pROBLEMS-Logistic Regression"
   ]
  },
  {
   "cell_type": "code",
   "execution_count": 33,
   "id": "a7c317ca",
   "metadata": {},
   "outputs": [
    {
     "data": {
      "text/html": [
       "<div>\n",
       "<style scoped>\n",
       "    .dataframe tbody tr th:only-of-type {\n",
       "        vertical-align: middle;\n",
       "    }\n",
       "\n",
       "    .dataframe tbody tr th {\n",
       "        vertical-align: top;\n",
       "    }\n",
       "\n",
       "    .dataframe thead th {\n",
       "        text-align: right;\n",
       "    }\n",
       "</style>\n",
       "<table border=\"1\" class=\"dataframe\">\n",
       "  <thead>\n",
       "    <tr style=\"text-align: right;\">\n",
       "      <th></th>\n",
       "      <th>JEEPRE</th>\n",
       "      <th>JEEMAINS</th>\n",
       "      <th>STATUS</th>\n",
       "    </tr>\n",
       "  </thead>\n",
       "  <tbody>\n",
       "    <tr>\n",
       "      <th>0</th>\n",
       "      <td>34.623660</td>\n",
       "      <td>78.024693</td>\n",
       "      <td>0</td>\n",
       "    </tr>\n",
       "    <tr>\n",
       "      <th>1</th>\n",
       "      <td>30.286711</td>\n",
       "      <td>43.894998</td>\n",
       "      <td>0</td>\n",
       "    </tr>\n",
       "    <tr>\n",
       "      <th>2</th>\n",
       "      <td>35.847409</td>\n",
       "      <td>72.902198</td>\n",
       "      <td>0</td>\n",
       "    </tr>\n",
       "    <tr>\n",
       "      <th>3</th>\n",
       "      <td>60.182599</td>\n",
       "      <td>86.308552</td>\n",
       "      <td>1</td>\n",
       "    </tr>\n",
       "    <tr>\n",
       "      <th>4</th>\n",
       "      <td>79.032736</td>\n",
       "      <td>75.344376</td>\n",
       "      <td>1</td>\n",
       "    </tr>\n",
       "  </tbody>\n",
       "</table>\n",
       "</div>"
      ],
      "text/plain": [
       "      JEEPRE   JEEMAINS  STATUS\n",
       "0  34.623660  78.024693       0\n",
       "1  30.286711  43.894998       0\n",
       "2  35.847409  72.902198       0\n",
       "3  60.182599  86.308552       1\n",
       "4  79.032736  75.344376       1"
      ]
     },
     "execution_count": 33,
     "metadata": {},
     "output_type": "execute_result"
    }
   ],
   "source": [
    "stud=pd.read_csv(\"Students.csv\")\n",
    "stud.head()"
   ]
  },
  {
   "cell_type": "code",
   "execution_count": 34,
   "id": "13ba8408",
   "metadata": {},
   "outputs": [
    {
     "data": {
      "text/plain": [
       "1    60\n",
       "0    40\n",
       "Name: STATUS, dtype: int64"
      ]
     },
     "execution_count": 34,
     "metadata": {},
     "output_type": "execute_result"
    }
   ],
   "source": [
    "stud.STATUS.value_counts()"
   ]
  },
  {
   "cell_type": "code",
   "execution_count": 36,
   "id": "2fc281b4",
   "metadata": {},
   "outputs": [
    {
     "data": {
      "text/plain": [
       "(100, 3)"
      ]
     },
     "execution_count": 36,
     "metadata": {},
     "output_type": "execute_result"
    }
   ],
   "source": [
    "stud.shape"
   ]
  },
  {
   "cell_type": "code",
   "execution_count": 37,
   "id": "56e7334f",
   "metadata": {},
   "outputs": [
    {
     "data": {
      "text/html": [
       "<div>\n",
       "<style scoped>\n",
       "    .dataframe tbody tr th:only-of-type {\n",
       "        vertical-align: middle;\n",
       "    }\n",
       "\n",
       "    .dataframe tbody tr th {\n",
       "        vertical-align: top;\n",
       "    }\n",
       "\n",
       "    .dataframe thead th {\n",
       "        text-align: right;\n",
       "    }\n",
       "</style>\n",
       "<table border=\"1\" class=\"dataframe\">\n",
       "  <thead>\n",
       "    <tr style=\"text-align: right;\">\n",
       "      <th></th>\n",
       "      <th>JEEPRE</th>\n",
       "      <th>JEEMAINS</th>\n",
       "      <th>STATUS</th>\n",
       "    </tr>\n",
       "  </thead>\n",
       "  <tbody>\n",
       "    <tr>\n",
       "      <th>33</th>\n",
       "      <td>52.045405</td>\n",
       "      <td>69.432860</td>\n",
       "      <td>1</td>\n",
       "    </tr>\n",
       "    <tr>\n",
       "      <th>73</th>\n",
       "      <td>60.457886</td>\n",
       "      <td>73.094998</td>\n",
       "      <td>1</td>\n",
       "    </tr>\n",
       "    <tr>\n",
       "      <th>25</th>\n",
       "      <td>62.271014</td>\n",
       "      <td>69.954458</td>\n",
       "      <td>1</td>\n",
       "    </tr>\n",
       "    <tr>\n",
       "      <th>74</th>\n",
       "      <td>58.840956</td>\n",
       "      <td>75.858448</td>\n",
       "      <td>1</td>\n",
       "    </tr>\n",
       "    <tr>\n",
       "      <th>99</th>\n",
       "      <td>74.775893</td>\n",
       "      <td>89.529813</td>\n",
       "      <td>1</td>\n",
       "    </tr>\n",
       "  </tbody>\n",
       "</table>\n",
       "</div>"
      ],
      "text/plain": [
       "       JEEPRE   JEEMAINS  STATUS\n",
       "33  52.045405  69.432860       1\n",
       "73  60.457886  73.094998       1\n",
       "25  62.271014  69.954458       1\n",
       "74  58.840956  75.858448       1\n",
       "99  74.775893  89.529813       1"
      ]
     },
     "execution_count": 37,
     "metadata": {},
     "output_type": "execute_result"
    }
   ],
   "source": [
    "stud=stud.sample(frac=1)\n",
    "stud.head()"
   ]
  },
  {
   "cell_type": "code",
   "execution_count": 38,
   "id": "1fe9a904",
   "metadata": {},
   "outputs": [],
   "source": [
    "from sklearn.model_selection import train_test_split"
   ]
  },
  {
   "cell_type": "code",
   "execution_count": 39,
   "id": "f4e19778",
   "metadata": {},
   "outputs": [],
   "source": [
    "train,test=train_test_split(stud,test_size=0.3,random_state=1234)"
   ]
  },
  {
   "cell_type": "code",
   "execution_count": 40,
   "id": "9c35e8ef",
   "metadata": {},
   "outputs": [
    {
     "data": {
      "text/plain": [
       "(70, 3)"
      ]
     },
     "execution_count": 40,
     "metadata": {},
     "output_type": "execute_result"
    }
   ],
   "source": [
    "train.shape"
   ]
  },
  {
   "cell_type": "code",
   "execution_count": 41,
   "id": "b57d4af0",
   "metadata": {},
   "outputs": [
    {
     "data": {
      "text/plain": [
       "(30, 3)"
      ]
     },
     "execution_count": 41,
     "metadata": {},
     "output_type": "execute_result"
    }
   ],
   "source": [
    "test.shape"
   ]
  },
  {
   "cell_type": "code",
   "execution_count": 42,
   "id": "0adf8ca4",
   "metadata": {},
   "outputs": [
    {
     "data": {
      "text/plain": [
       "1    44\n",
       "0    26\n",
       "Name: STATUS, dtype: int64"
      ]
     },
     "execution_count": 42,
     "metadata": {},
     "output_type": "execute_result"
    }
   ],
   "source": [
    "train.STATUS.value_counts()"
   ]
  },
  {
   "cell_type": "code",
   "execution_count": 43,
   "id": "0a85ad90",
   "metadata": {},
   "outputs": [],
   "source": [
    "y_train=train[\"STATUS\"]\n",
    "x_train=train[[\"JEEPRE\",\"JEEMAINS\"]]\n"
   ]
  },
  {
   "cell_type": "code",
   "execution_count": 44,
   "id": "b39da7e4",
   "metadata": {},
   "outputs": [],
   "source": [
    "from sklearn.linear_model import LogisticRegression"
   ]
  },
  {
   "cell_type": "code",
   "execution_count": 45,
   "id": "2291fa22",
   "metadata": {},
   "outputs": [],
   "source": [
    "lc=LogisticRegression()"
   ]
  },
  {
   "cell_type": "code",
   "execution_count": 46,
   "id": "91ec31be",
   "metadata": {},
   "outputs": [],
   "source": [
    "mod=lc.fit(x_train,y_train)"
   ]
  },
  {
   "cell_type": "code",
   "execution_count": 47,
   "id": "f845eff2",
   "metadata": {},
   "outputs": [
    {
     "data": {
      "text/plain": [
       "0.8857142857142857"
      ]
     },
     "execution_count": 47,
     "metadata": {},
     "output_type": "execute_result"
    }
   ],
   "source": [
    "mod.score(x_train,y_train)"
   ]
  },
  {
   "cell_type": "code",
   "execution_count": 48,
   "id": "61051e2d",
   "metadata": {},
   "outputs": [
    {
     "data": {
      "text/plain": [
       "array([[0.1895368 , 0.22017036]])"
      ]
     },
     "execution_count": 48,
     "metadata": {},
     "output_type": "execute_result"
    }
   ],
   "source": [
    "mod.coef_"
   ]
  },
  {
   "cell_type": "code",
   "execution_count": 49,
   "id": "1a0d1366",
   "metadata": {},
   "outputs": [],
   "source": [
    "y_test=test[\"STATUS\"]\n",
    "x_test=test[[\"JEEPRE\",\"JEEMAINS\"]]\n"
   ]
  },
  {
   "cell_type": "code",
   "execution_count": 50,
   "id": "cd72042a",
   "metadata": {},
   "outputs": [],
   "source": [
    "pred=mod.predict(x_test)"
   ]
  },
  {
   "cell_type": "code",
   "execution_count": 51,
   "id": "09cf2b59",
   "metadata": {
    "collapsed": true
   },
   "outputs": [
    {
     "data": {
      "text/plain": [
       "array([[9.74590953e-01, 2.54090471e-02],\n",
       "       [9.91931988e-01, 8.06801174e-03],\n",
       "       [9.25832519e-01, 7.41674814e-02],\n",
       "       [5.40462392e-04, 9.99459538e-01],\n",
       "       [9.57186282e-01, 4.28137178e-02],\n",
       "       [4.93560405e-01, 5.06439595e-01],\n",
       "       [7.14640490e-05, 9.99928536e-01],\n",
       "       [9.29365997e-03, 9.90706340e-01],\n",
       "       [9.93129121e-01, 6.87087930e-03],\n",
       "       [9.87435505e-01, 1.25644947e-02],\n",
       "       [9.01300017e-01, 9.86999834e-02],\n",
       "       [2.33908676e-04, 9.99766091e-01],\n",
       "       [1.35523063e-04, 9.99864477e-01],\n",
       "       [9.99832141e-01, 1.67859351e-04],\n",
       "       [1.90790822e-03, 9.98092092e-01],\n",
       "       [4.76865241e-05, 9.99952313e-01],\n",
       "       [9.95794810e-01, 4.20518967e-03],\n",
       "       [9.58705226e-02, 9.04129477e-01],\n",
       "       [3.16244590e-01, 6.83755410e-01],\n",
       "       [8.66374571e-02, 9.13362543e-01],\n",
       "       [4.30572205e-01, 5.69427795e-01],\n",
       "       [6.98172019e-01, 3.01827981e-01],\n",
       "       [9.69440964e-01, 3.05590363e-02],\n",
       "       [1.89283029e-05, 9.99981072e-01],\n",
       "       [8.66514976e-05, 9.99913349e-01],\n",
       "       [1.57074497e-02, 9.84292550e-01],\n",
       "       [9.99743425e-01, 2.56575284e-04],\n",
       "       [9.99950006e-01, 4.99944503e-05],\n",
       "       [1.28512775e-01, 8.71487225e-01],\n",
       "       [6.46833670e-01, 3.53166330e-01]])"
      ]
     },
     "execution_count": 51,
     "metadata": {},
     "output_type": "execute_result"
    }
   ],
   "source": [
    "mod.predict_proba(x_test)"
   ]
  },
  {
   "cell_type": "code",
   "execution_count": 52,
   "id": "6ee50ba8",
   "metadata": {},
   "outputs": [],
   "source": [
    "from sklearn.metrics import accuracy_score,confusion_matrix"
   ]
  },
  {
   "cell_type": "code",
   "execution_count": 53,
   "id": "8787d163",
   "metadata": {},
   "outputs": [
    {
     "data": {
      "text/plain": [
       "0.8666666666666667"
      ]
     },
     "execution_count": 53,
     "metadata": {},
     "output_type": "execute_result"
    }
   ],
   "source": [
    "accuracy=accuracy_score(y_test,pred)\n",
    "accuracy"
   ]
  },
  {
   "cell_type": "code",
   "execution_count": 56,
   "id": "f9fc0eb6",
   "metadata": {},
   "outputs": [
    {
     "data": {
      "text/plain": [
       "array([[12,  2],\n",
       "       [ 2, 14]], dtype=int64)"
      ]
     },
     "execution_count": 56,
     "metadata": {},
     "output_type": "execute_result"
    }
   ],
   "source": [
    "con_mat=confusion_matrix(y_test,pred)\n",
    "con_mat"
   ]
  },
  {
   "cell_type": "code",
   "execution_count": 58,
   "id": "d42c3246",
   "metadata": {},
   "outputs": [
    {
     "data": {
      "text/plain": [
       "0.1333333333333333"
      ]
     },
     "execution_count": 58,
     "metadata": {},
     "output_type": "execute_result"
    }
   ],
   "source": [
    "1-accuracy"
   ]
  },
  {
   "cell_type": "code",
   "execution_count": 59,
   "id": "dd4e3488",
   "metadata": {},
   "outputs": [
    {
     "data": {
      "text/plain": [
       "<AxesSubplot:>"
      ]
     },
     "execution_count": 59,
     "metadata": {},
     "output_type": "execute_result"
    },
    {
     "data": {
      "image/png": "[encoded data removed]",
      "text/plain": [
       "<Figure size 432x288 with 2 Axes>"
      ]
     },
     "metadata": {
      "needs_background": "light"
     },
     "output_type": "display_data"
    }
   ],
   "source": [
    "import seaborn as sns\n",
    "sns.heatmap(con_mat,annot =True)"
   ]
  },
  {
   "cell_type": "code",
   "execution_count": 60,
   "id": "1558d59f",
   "metadata": {},
   "outputs": [
    {
     "data": {
      "text/plain": [
       "(30, 2)"
      ]
     },
     "execution_count": 60,
     "metadata": {},
     "output_type": "execute_result"
    }
   ],
   "source": [
    "x_test.shape\n"
   ]
  },
  {
   "cell_type": "code",
   "execution_count": null,
   "id": "4aa0dd22",
   "metadata": {},
   "outputs": [],
   "source": []
  }
 ],
 "metadata": {
  "kernelspec": {
   "display_name": "Python 3",
   "language": "python",
   "name": "python3"
  },
  "language_info": {
   "codemirror_mode": {
    "name": "ipython",
    "version": 3
   },
   "file_extension": ".py",
   "mimetype": "text/x-python",
   "name": "python",
   "nbconvert_exporter": "python",
   "pygments_lexer": "ipython3",
   "version": "3.8.8"
  }
 },
 "nbformat": 4,
 "nbformat_minor": 5
}
