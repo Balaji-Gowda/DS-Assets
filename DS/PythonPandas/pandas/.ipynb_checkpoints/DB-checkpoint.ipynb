{
 "cells": [
  {
   "cell_type": "code",
   "execution_count": 22,
   "id": "ba86e0a9",
   "metadata": {},
   "outputs": [],
   "source": [
    "import pandas as pd\n",
    "import pyodbc"
   ]
  },
  {
   "cell_type": "code",
   "execution_count": 23,
   "id": "0e00d46b",
   "metadata": {},
   "outputs": [
    {
     "ename": "InterfaceError",
     "evalue": "('IM002', '[IM002] [Microsoft][ODBC Driver Manager] Data source name not found and no default driver specified (0) (SQLDriverConnect)')",
     "output_type": "error",
     "traceback": [
      "\u001b[1;31m---------------------------------------------------------------------------\u001b[0m",
      "\u001b[1;31mInterfaceError\u001b[0m                            Traceback (most recent call last)",
      "\u001b[1;32m<ipython-input-23-1fa4d3e71216>\u001b[0m in \u001b[0;36m<module>\u001b[1;34m\u001b[0m\n\u001b[1;32m----> 1\u001b[1;33m conn=pyodbc.connect( \n\u001b[0m\u001b[0;32m      2\u001b[0m                        \u001b[1;34m'HOST=localhost;'\u001b[0m\u001b[1;33m\u001b[0m\u001b[1;33m\u001b[0m\u001b[0m\n\u001b[0;32m      3\u001b[0m                        \u001b[1;34m'DATABASE=django;'\u001b[0m\u001b[1;33m\u001b[0m\u001b[1;33m\u001b[0m\u001b[0m\n\u001b[0;32m      4\u001b[0m                        \u001b[1;34m'UID=root;'\u001b[0m\u001b[1;33m\u001b[0m\u001b[1;33m\u001b[0m\u001b[0m\n\u001b[0;32m      5\u001b[0m                        \u001b[1;34m'PWD=tiger;'\u001b[0m\u001b[1;33m\u001b[0m\u001b[1;33m\u001b[0m\u001b[0m\n",
      "\u001b[1;31mInterfaceError\u001b[0m: ('IM002', '[IM002] [Microsoft][ODBC Driver Manager] Data source name not found and no default driver specified (0) (SQLDriverConnect)')"
     ]
    }
   ],
   "source": [
    "conn=pyodbc.connect( \n",
    "                       'HOST=localhost;'\n",
    "                       'DATABASE=django;'\n",
    "                       'UID=root;'\n",
    "                       'PWD=tiger;'\n",
    "                       )\n",
    "query=\"SELECT * FROM professor\"\n",
    "output=pd.read_sql(query,conn)"
   ]
  },
  {
   "cell_type": "code",
   "execution_count": 17,
   "id": "3296e3dc",
   "metadata": {},
   "outputs": [],
   "source": [
    "import mysql.connector as sql\n",
    "\n",
    "import pandas as pd\n",
    "\n",
    "db_connection = sql.connect(host='localhost', database='django', user='root', password='tiger')\n",
    "\n",
    "db_cursor = db_connection.cursor()\n",
    "\n",
    "db_cursor.execute('SELECT * FROM professor where DEPT_ID=2')\n",
    "\n",
    "table_rows = db_cursor.fetchall()\n",
    "\n",
    "df = pd.DataFrame(table_rows)"
   ]
  },
  {
   "cell_type": "code",
   "execution_count": 18,
   "id": "e12752fa",
   "metadata": {},
   "outputs": [],
   "source": [
    "df[1]=df[1].str.strip()"
   ]
  },
  {
   "cell_type": "code",
   "execution_count": 21,
   "id": "77e2d116",
   "metadata": {},
   "outputs": [
    {
     "data": {
      "text/html": [
       "<div>\n",
       "<style scoped>\n",
       "    .dataframe tbody tr th:only-of-type {\n",
       "        vertical-align: middle;\n",
       "    }\n",
       "\n",
       "    .dataframe tbody tr th {\n",
       "        vertical-align: top;\n",
       "    }\n",
       "\n",
       "    .dataframe thead th {\n",
       "        text-align: right;\n",
       "    }\n",
       "</style>\n",
       "<table border=\"1\" class=\"dataframe\">\n",
       "  <thead>\n",
       "    <tr style=\"text-align: right;\">\n",
       "      <th></th>\n",
       "      <th>0</th>\n",
       "      <th>1</th>\n",
       "      <th>2</th>\n",
       "      <th>3</th>\n",
       "    </tr>\n",
       "  </thead>\n",
       "  <tbody>\n",
       "    <tr>\n",
       "      <th>0</th>\n",
       "      <td>5</td>\n",
       "      <td>Nicole Gome</td>\n",
       "      <td>2</td>\n",
       "      <td>30860</td>\n",
       "    </tr>\n",
       "    <tr>\n",
       "      <th>1</th>\n",
       "      <td>10</td>\n",
       "      <td>Matthew Stevens</td>\n",
       "      <td>2</td>\n",
       "      <td>26648</td>\n",
       "    </tr>\n",
       "  </tbody>\n",
       "</table>\n",
       "</div>"
      ],
      "text/plain": [
       "    0                1  2      3\n",
       "0   5      Nicole Gome  2  30860\n",
       "1  10  Matthew Stevens  2  26648"
      ]
     },
     "execution_count": 21,
     "metadata": {},
     "output_type": "execute_result"
    }
   ],
   "source": [
    "df"
   ]
  },
  {
   "cell_type": "code",
   "execution_count": 15,
   "id": "46a05232",
   "metadata": {},
   "outputs": [
    {
     "ename": "NameError",
     "evalue": "name 'query' is not defined",
     "output_type": "error",
     "traceback": [
      "\u001b[1;31m---------------------------------------------------------------------------\u001b[0m",
      "\u001b[1;31mNameError\u001b[0m                                 Traceback (most recent call last)",
      "\u001b[1;32m<ipython-input-15-731e69e59f7f>\u001b[0m in \u001b[0;36m<module>\u001b[1;34m\u001b[0m\n\u001b[1;32m----> 1\u001b[1;33m \u001b[0mquery\u001b[0m\u001b[1;33m\u001b[0m\u001b[1;33m\u001b[0m\u001b[0m\n\u001b[0m",
      "\u001b[1;31mNameError\u001b[0m: name 'query' is not defined"
     ]
    }
   ],
   "source": [
    "query"
   ]
  },
  {
   "cell_type": "code",
   "execution_count": 20,
   "id": "63d53590",
   "metadata": {},
   "outputs": [
    {
     "data": {
      "text/plain": [
       "[(5, 'Nicole Gome', '2', 30860), (10, 'Matthew Stevens', '2', 26648)]"
      ]
     },
     "execution_count": 20,
     "metadata": {},
     "output_type": "execute_result"
    }
   ],
   "source": [
    "table_rows"
   ]
  },
  {
   "cell_type": "code",
   "execution_count": null,
   "id": "0e9793ad",
   "metadata": {},
   "outputs": [],
   "source": []
  }
 ],
 "metadata": {
  "kernelspec": {
   "display_name": "Python 3",
   "language": "python",
   "name": "python3"
  },
  "language_info": {
   "codemirror_mode": {
    "name": "ipython",
    "version": 3
   },
   "file_extension": ".py",
   "mimetype": "text/x-python",
   "name": "python",
   "nbconvert_exporter": "python",
   "pygments_lexer": "ipython3",
   "version": "3.9.5"
  }
 },
 "nbformat": 4,
 "nbformat_minor": 5
}
