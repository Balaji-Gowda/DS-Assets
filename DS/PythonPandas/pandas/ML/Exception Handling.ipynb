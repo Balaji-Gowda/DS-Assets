{
 "cells": [
  {
   "cell_type": "code",
   "execution_count": 1,
   "id": "b22b8a65",
   "metadata": {
    "scrolled": true
   },
   "outputs": [
    {
     "ename": "NameError",
     "evalue": "name 'b' is not defined",
     "output_type": "error",
     "traceback": [
      "\u001b[1;31m----------------------------------------------------------\u001b[0m",
      "\u001b[1;31mNameError\u001b[0m                Traceback (most recent call last)",
      "\u001b[1;32m<ipython-input-1-488068fe1e94>\u001b[0m in \u001b[0;36m<module>\u001b[1;34m\u001b[0m\n\u001b[1;32m----> 1\u001b[1;33m \u001b[0ma\u001b[0m\u001b[1;33m=\u001b[0m\u001b[0mb\u001b[0m\u001b[1;33m\u001b[0m\u001b[1;33m\u001b[0m\u001b[0m\n\u001b[0m",
      "\u001b[1;31mNameError\u001b[0m: name 'b' is not defined"
     ]
    }
   ],
   "source": [
    "a=b"
   ]
  },
  {
   "cell_type": "code",
   "execution_count": 3,
   "id": "2396b022",
   "metadata": {},
   "outputs": [
    {
     "name": "stdout",
     "output_type": "stream",
     "text": [
      "error occured\n"
     ]
    }
   ],
   "source": [
    "try:\n",
    "    a=b\n",
    "except:\n",
    "    print(\"error occured\")"
   ]
  },
  {
   "cell_type": "code",
   "execution_count": 4,
   "id": "d298dbb0",
   "metadata": {},
   "outputs": [
    {
     "name": "stdout",
     "output_type": "stream",
     "text": [
      "(\"name 'b' is not defined\",)\n"
     ]
    }
   ],
   "source": [
    "try:\n",
    "    a=b\n",
    "except Exception as ex:\n",
    "    print(ex.args)"
   ]
  },
  {
   "cell_type": "code",
   "execution_count": 5,
   "id": "42ade0ff",
   "metadata": {},
   "outputs": [
    {
     "name": "stdout",
     "output_type": "stream",
     "text": [
      "<built-in method with_traceback of NameError object at 0x000002084C35A810>\n"
     ]
    }
   ],
   "source": [
    "try:\n",
    "    a=b\n",
    "except Exception as ex:\n",
    "    print(ex.with_traceback)"
   ]
  },
  {
   "cell_type": "code",
   "execution_count": 6,
   "id": "c7b3632b",
   "metadata": {},
   "outputs": [
    {
     "name": "stdout",
     "output_type": "stream",
     "text": [
      "name 'b' is not defined\n"
     ]
    }
   ],
   "source": [
    "try:\n",
    "    a=b\n",
    "except Exception as ex:\n",
    "    print(ex)"
   ]
  },
  {
   "cell_type": "code",
   "execution_count": 7,
   "id": "2d9c1987",
   "metadata": {
    "scrolled": true
   },
   "outputs": [
    {
     "ename": "NameError",
     "evalue": "name 'b' is not defined",
     "output_type": "error",
     "traceback": [
      "\u001b[1;31m----------------------------------------------------------\u001b[0m",
      "\u001b[1;31mNameError\u001b[0m                Traceback (most recent call last)",
      "\u001b[1;32m<ipython-input-7-488068fe1e94>\u001b[0m in \u001b[0;36m<module>\u001b[1;34m\u001b[0m\n\u001b[1;32m----> 1\u001b[1;33m \u001b[0ma\u001b[0m\u001b[1;33m=\u001b[0m\u001b[0mb\u001b[0m\u001b[1;33m\u001b[0m\u001b[1;33m\u001b[0m\u001b[0m\n\u001b[0m",
      "\u001b[1;31mNameError\u001b[0m: name 'b' is not defined"
     ]
    }
   ],
   "source": [
    "a=b# nameerror exception"
   ]
  },
  {
   "cell_type": "code",
   "execution_count": 9,
   "id": "573f0c0a",
   "metadata": {},
   "outputs": [
    {
     "name": "stdout",
     "output_type": "stream",
     "text": [
      "Values are not defined\n"
     ]
    }
   ],
   "source": [
    "#####Custom Eror Exceptin\n",
    "\n",
    "try:\n",
    "    a=b\n",
    "except NameError as ne:\n",
    "    print(\"Values are not defined\")\n",
    "except Exception as Exp:\n",
    "    print(Exp)"
   ]
  },
  {
   "cell_type": "code",
   "execution_count": 14,
   "id": "697a9bb6",
   "metadata": {},
   "outputs": [
    {
     "ename": "TypeError",
     "evalue": "unsupported operand type(s) for +: 'int' and 'str'",
     "output_type": "error",
     "traceback": [
      "\u001b[1;31m----------------------------------------------------------\u001b[0m",
      "\u001b[1;31mTypeError\u001b[0m                Traceback (most recent call last)",
      "\u001b[1;32m<ipython-input-14-549eb4549e02>\u001b[0m in \u001b[0;36m<module>\u001b[1;34m\u001b[0m\n\u001b[0;32m      1\u001b[0m \u001b[0ma\u001b[0m\u001b[1;33m=\u001b[0m\u001b[1;36m3\u001b[0m\u001b[1;33m\u001b[0m\u001b[1;33m\u001b[0m\u001b[0m\n\u001b[0;32m      2\u001b[0m \u001b[0mb\u001b[0m\u001b[1;33m=\u001b[0m\u001b[1;34m'hgsv'\u001b[0m\u001b[1;33m\u001b[0m\u001b[1;33m\u001b[0m\u001b[0m\n\u001b[1;32m----> 3\u001b[1;33m \u001b[0ma\u001b[0m\u001b[1;33m+\u001b[0m\u001b[0mb\u001b[0m\u001b[1;33m\u001b[0m\u001b[1;33m\u001b[0m\u001b[0m\n\u001b[0m",
      "\u001b[1;31mTypeError\u001b[0m: unsupported operand type(s) for +: 'int' and 'str'"
     ]
    }
   ],
   "source": [
    "    a=3\n",
    "    b='hgsv'\n",
    "    a+b"
   ]
  },
  {
   "cell_type": "code",
   "execution_count": 15,
   "id": "b75bc60f",
   "metadata": {},
   "outputs": [
    {
     "name": "stdout",
     "output_type": "stream",
     "text": [
      "Enter MAtching datatype\n"
     ]
    }
   ],
   "source": [
    "#####Custom Eror Exceptin\n",
    "\n",
    "try:\n",
    "    a=3\n",
    "    b='hgsv'\n",
    "    a+b\n",
    "except NameError as ne:\n",
    "    print(\"Values are not defined\")\n",
    "except TypeError:\n",
    "    print(\"Enter MAtching datatype\")\n",
    "except ZeroDivisionError\n",
    "except Exception as Exp:\n",
    "    print(Exp)"
   ]
  },
  {
   "cell_type": "code",
   "execution_count": 16,
   "id": "c51a60dc",
   "metadata": {},
   "outputs": [
    {
     "name": "stdout",
     "output_type": "stream",
     "text": [
      "jshdgf\n"
     ]
    }
   ],
   "source": [
    "a=input()"
   ]
  },
  {
   "cell_type": "markdown",
   "id": "a0ee4646",
   "metadata": {},
   "source": [
    "# Custom Exception"
   ]
  },
  {
   "cell_type": "code",
   "execution_count": 17,
   "id": "5cd846d0",
   "metadata": {},
   "outputs": [],
   "source": [
    "class Error(Exception):\n",
    "    pass\n",
    "\n",
    "class ageException(Error):\n",
    "    pass"
   ]
  },
  {
   "cell_type": "code",
   "execution_count": 23,
   "id": "fceea5da",
   "metadata": {},
   "outputs": [
    {
     "name": "stdout",
     "output_type": "stream",
     "text": [
      "Enter year of borth1880\n",
      "Proceed\n"
     ]
    }
   ],
   "source": [
    "year = int(input(\"Enter year of borth\"))\n",
    "age= 2021-year\n",
    "try:\n",
    "    if age>20 & age<31:\n",
    "        print(\"Proceed\")\n",
    "    else:\n",
    "        raise ageException\n",
    "except ageException:\n",
    "    print(\"Your age is not eligible for applying for job\")\n"
   ]
  },
  {
   "cell_type": "code",
   "execution_count": 31,
   "id": "52208f75",
   "metadata": {},
   "outputs": [
    {
     "name": "stdout",
     "output_type": "stream",
     "text": [
      "Enter year of borth2546\n",
      "Your age is not eligible for applying for job\n"
     ]
    }
   ],
   "source": [
    "year = int(input(\"Enter year of borth\"))\n",
    "age= 2021-year\n",
    "try:\n",
    "    if age<31 & age>20:\n",
    "        print(\"Proceed\")\n",
    "    else:\n",
    "        raise ageException\n",
    "except ageException:\n",
    "    print(\"Your age is not eligible for applying for job\")\n"
   ]
  },
  {
   "cell_type": "markdown",
   "id": "97186908",
   "metadata": {},
   "source": [
    "# Modifiers"
   ]
  },
  {
   "cell_type": "markdown",
   "id": "7fc2df99",
   "metadata": {},
   "source": [
    "- public\n",
    "- protected\n",
    "- private"
   ]
  },
  {
   "cell_type": "raw",
   "id": "414a2d24",
   "metadata": {},
   "source": [
    "public -> self.name= name\n",
    "protected -> self._name= name\n",
    "private -> self.__name=name"
   ]
  },
  {
   "cell_type": "code",
   "execution_count": null,
   "id": "6f6490c8",
   "metadata": {},
   "outputs": [],
   "source": []
  }
 ],
 "metadata": {
  "kernelspec": {
   "display_name": "Python 3",
   "language": "python",
   "name": "python3"
  },
  "language_info": {
   "codemirror_mode": {
    "name": "ipython",
    "version": 3
   },
   "file_extension": ".py",
   "mimetype": "text/x-python",
   "name": "python",
   "nbconvert_exporter": "python",
   "pygments_lexer": "ipython3",
   "version": "3.9.5"
  }
 },
 "nbformat": 4,
 "nbformat_minor": 5
}
