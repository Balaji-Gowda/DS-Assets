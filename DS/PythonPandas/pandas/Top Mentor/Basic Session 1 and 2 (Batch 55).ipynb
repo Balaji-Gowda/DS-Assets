{
 "cells": [
  {
   "cell_type": "code",
   "execution_count": 2,
   "id": "1f650a4a",
   "metadata": {},
   "outputs": [],
   "source": [
    "# Comments"
   ]
  },
  {
   "cell_type": "code",
   "execution_count": 4,
   "id": "637f7e45",
   "metadata": {},
   "outputs": [
    {
     "name": "stdout",
     "output_type": "stream",
     "text": [
      "Hello World\n"
     ]
    }
   ],
   "source": [
    "print(\"Hello World\")   #### Print Statement is basically to print the out put of the provided input"
   ]
  },
  {
   "cell_type": "code",
   "execution_count": 5,
   "id": "da321d13",
   "metadata": {},
   "outputs": [
    {
     "name": "stdout",
     "output_type": "stream",
     "text": [
      "Rohan\n"
     ]
    }
   ],
   "source": [
    "print(\"Rohan\")"
   ]
  },
  {
   "cell_type": "code",
   "execution_count": 6,
   "id": "ce1ec6ea",
   "metadata": {},
   "outputs": [],
   "source": [
    "#### Rule For Python to Write Scripts "
   ]
  },
  {
   "cell_type": "code",
   "execution_count": 7,
   "id": "54d69fe0",
   "metadata": {},
   "outputs": [],
   "source": [
    "### Whenever you write any text  - You have to give  - '', \" \""
   ]
  },
  {
   "cell_type": "code",
   "execution_count": 11,
   "id": "889ae8d0",
   "metadata": {},
   "outputs": [
    {
     "data": {
      "text/plain": [
       "'Python is a Language'"
      ]
     },
     "execution_count": 11,
     "metadata": {},
     "output_type": "execute_result"
    }
   ],
   "source": [
    "'Python is a Language'"
   ]
  },
  {
   "cell_type": "code",
   "execution_count": 12,
   "id": "7bfc37a0",
   "metadata": {},
   "outputs": [
    {
     "name": "stdout",
     "output_type": "stream",
     "text": [
      "Hello Worlf\n"
     ]
    }
   ],
   "source": [
    "print(\"Hello Worlf\")"
   ]
  },
  {
   "cell_type": "code",
   "execution_count": 13,
   "id": "0abd22db",
   "metadata": {},
   "outputs": [],
   "source": [
    "### In python you have one important thing which is called as variable (Identifier)"
   ]
  },
  {
   "cell_type": "code",
   "execution_count": 14,
   "id": "8038d4f4",
   "metadata": {},
   "outputs": [],
   "source": [
    "a = 10   ### A is a varibale which stores 10 in its memory"
   ]
  },
  {
   "cell_type": "code",
   "execution_count": 15,
   "id": "a53d2332",
   "metadata": {},
   "outputs": [
    {
     "name": "stdout",
     "output_type": "stream",
     "text": [
      "10\n"
     ]
    }
   ],
   "source": [
    "print(a)"
   ]
  },
  {
   "cell_type": "code",
   "execution_count": null,
   "id": "25d3c3e5",
   "metadata": {},
   "outputs": [],
   "source": [
    "#### To define a varible the rules are  - \n",
    "1. a_z, A_Z, \n",
    "2. 0 to 9 but in suffix\n",
    "3. Only _ is allowed no other symbols\n",
    "4. You cannot use Keywords to define a varible\n",
    "5. Python is Case Sensitive"
   ]
  },
  {
   "cell_type": "code",
   "execution_count": 28,
   "id": "a2cc36a6",
   "metadata": {},
   "outputs": [],
   "source": [
    "Rakesh90 = 15"
   ]
  },
  {
   "cell_type": "code",
   "execution_count": 26,
   "id": "b764864c",
   "metadata": {},
   "outputs": [
    {
     "name": "stdout",
     "output_type": "stream",
     "text": [
      "15\n"
     ]
    }
   ],
   "source": [
    "print(Rakesh90)"
   ]
  },
  {
   "cell_type": "code",
   "execution_count": 34,
   "id": "bfc187fb",
   "metadata": {},
   "outputs": [
    {
     "ename": "SyntaxError",
     "evalue": "invalid syntax (<ipython-input-34-2056c5c97273>, line 1)",
     "output_type": "error",
     "traceback": [
      "\u001b[1;36m  File \u001b[1;32m\"<ipython-input-34-2056c5c97273>\"\u001b[1;36m, line \u001b[1;32m1\u001b[0m\n\u001b[1;33m    def = 100\u001b[0m\n\u001b[1;37m        ^\u001b[0m\n\u001b[1;31mSyntaxError\u001b[0m\u001b[1;31m:\u001b[0m invalid syntax\n"
     ]
    }
   ],
   "source": [
    "def = 100"
   ]
  },
  {
   "cell_type": "code",
   "execution_count": 29,
   "id": "1df1c96d",
   "metadata": {},
   "outputs": [],
   "source": [
    "import keyword"
   ]
  },
  {
   "cell_type": "code",
   "execution_count": 32,
   "id": "f2b96cf1",
   "metadata": {},
   "outputs": [
    {
     "data": {
      "text/plain": [
       "['False',\n",
       " 'None',\n",
       " 'True',\n",
       " 'and',\n",
       " 'as',\n",
       " 'assert',\n",
       " 'async',\n",
       " 'await',\n",
       " 'break',\n",
       " 'class',\n",
       " 'continue',\n",
       " 'def',\n",
       " 'del',\n",
       " 'elif',\n",
       " 'else',\n",
       " 'except',\n",
       " 'finally',\n",
       " 'for',\n",
       " 'from',\n",
       " 'global',\n",
       " 'if',\n",
       " 'import',\n",
       " 'in',\n",
       " 'is',\n",
       " 'lambda',\n",
       " 'nonlocal',\n",
       " 'not',\n",
       " 'or',\n",
       " 'pass',\n",
       " 'raise',\n",
       " 'return',\n",
       " 'try',\n",
       " 'while',\n",
       " 'with',\n",
       " 'yield']"
      ]
     },
     "execution_count": 32,
     "metadata": {},
     "output_type": "execute_result"
    }
   ],
   "source": [
    "keyword.kwlist   ##### len is an inbuilt Python Function which shows the length of the values"
   ]
  },
  {
   "cell_type": "code",
   "execution_count": 35,
   "id": "48e8d99e",
   "metadata": {},
   "outputs": [],
   "source": [
    "cash = 1500"
   ]
  },
  {
   "cell_type": "code",
   "execution_count": 37,
   "id": "6c8a9459",
   "metadata": {},
   "outputs": [
    {
     "name": "stdout",
     "output_type": "stream",
     "text": [
      "1500\n"
     ]
    }
   ],
   "source": [
    "print(cash)"
   ]
  },
  {
   "cell_type": "code",
   "execution_count": 38,
   "id": "322e9911",
   "metadata": {},
   "outputs": [],
   "source": [
    "a = 10"
   ]
  },
  {
   "cell_type": "code",
   "execution_count": 39,
   "id": "f22321b4",
   "metadata": {},
   "outputs": [
    {
     "name": "stdout",
     "output_type": "stream",
     "text": [
      "Fifteen\n"
     ]
    }
   ],
   "source": [
    "e = \"Fifteen\"\n",
    "print(e)"
   ]
  },
  {
   "cell_type": "code",
   "execution_count": 48,
   "id": "86d84244",
   "metadata": {},
   "outputs": [],
   "source": [
    "w90 = 18 + 45"
   ]
  },
  {
   "cell_type": "code",
   "execution_count": 46,
   "id": "b749ed3d",
   "metadata": {},
   "outputs": [
    {
     "name": "stdout",
     "output_type": "stream",
     "text": [
      "63\n"
     ]
    }
   ],
   "source": [
    "print(w)"
   ]
  },
  {
   "cell_type": "code",
   "execution_count": 49,
   "id": "467de18f",
   "metadata": {},
   "outputs": [
    {
     "data": {
      "text/plain": [
       "443307916"
      ]
     },
     "execution_count": 49,
     "metadata": {},
     "output_type": "execute_result"
    }
   ],
   "source": [
    "83953958 + 359353958"
   ]
  },
  {
   "cell_type": "code",
   "execution_count": 57,
   "id": "6505f4ab",
   "metadata": {},
   "outputs": [],
   "source": [
    "a = True   #### Data Type"
   ]
  },
  {
   "cell_type": "code",
   "execution_count": 58,
   "id": "d00a3ddc",
   "metadata": {},
   "outputs": [
    {
     "name": "stdout",
     "output_type": "stream",
     "text": [
      "<class 'bool'>\n"
     ]
    }
   ],
   "source": [
    "print(type(a))  #### Python inbuilt function  - type() whenever you use Oython Inbuilt function you have to use ()"
   ]
  },
  {
   "cell_type": "code",
   "execution_count": null,
   "id": "2fadf882",
   "metadata": {},
   "outputs": [],
   "source": [
    "Data Types  - \n",
    "1. Decimal (Integers)\n",
    "2. Float \n",
    "3. Boolean\n",
    "4. BYtes\n",
    "5. Bytes arrays\n",
    "6. String\n",
    "7. Complex"
   ]
  },
  {
   "cell_type": "code",
   "execution_count": null,
   "id": "8487e1c3",
   "metadata": {},
   "outputs": [],
   "source": [
    "Data Structures - Conatiners\n",
    "1. List\n",
    "2. Tuples\n",
    "3. Dictionary\n",
    "4. Set\n",
    "5. Frozen Set\n",
    "6. Range\n",
    "7. None\n",
    "8. Arrays"
   ]
  },
  {
   "cell_type": "code",
   "execution_count": null,
   "id": "c70bdd93",
   "metadata": {},
   "outputs": [],
   "source": [
    "#### Data Types \n",
    "1. Decimals - In python Numbers or Integers"
   ]
  },
  {
   "cell_type": "code",
   "execution_count": 59,
   "id": "6cd8b98b",
   "metadata": {},
   "outputs": [
    {
     "data": {
      "text/plain": [
       "int"
      ]
     },
     "execution_count": 59,
     "metadata": {},
     "output_type": "execute_result"
    }
   ],
   "source": [
    "a = 10  #### Decimal \n",
    "type(a)"
   ]
  },
  {
   "cell_type": "code",
   "execution_count": null,
   "id": "f32a8df7",
   "metadata": {},
   "outputs": [],
   "source": [
    "In Decimal also there are different types\n",
    "1. Decimal base of 10 - The applicable values are from 0 to 9 (literal 10)\n",
    "2. Binary base of 2 - The applicable values are 0 and 1 It should be prefixed by 0B or 0b\n",
    "3. Octal base of 8 - The allowed digits are 0 to 7 and it should be preixed by 0o or 0o\n",
    "4. Hexadecimal base o 16 the allowed digits are 0 to 9 (a-f) it should be prefixed by 0x or 0X"
   ]
  },
  {
   "cell_type": "code",
   "execution_count": 69,
   "id": "8bbb37f3",
   "metadata": {},
   "outputs": [],
   "source": [
    "a = 42  #### Decimal Values"
   ]
  },
  {
   "cell_type": "code",
   "execution_count": 70,
   "id": "04accc7a",
   "metadata": {},
   "outputs": [
    {
     "data": {
      "text/plain": [
       "'0b101010'"
      ]
     },
     "execution_count": 70,
     "metadata": {},
     "output_type": "execute_result"
    }
   ],
   "source": [
    "bin(a)  #### Decimal to binary Conversion using bin"
   ]
  },
  {
   "cell_type": "code",
   "execution_count": 67,
   "id": "a103a2c0",
   "metadata": {},
   "outputs": [],
   "source": [
    "a = 0B101010"
   ]
  },
  {
   "cell_type": "code",
   "execution_count": 68,
   "id": "4a32ab30",
   "metadata": {},
   "outputs": [
    {
     "name": "stdout",
     "output_type": "stream",
     "text": [
      "42\n"
     ]
    }
   ],
   "source": [
    "print(a)"
   ]
  },
  {
   "cell_type": "code",
   "execution_count": 71,
   "id": "cce176ef",
   "metadata": {},
   "outputs": [],
   "source": [
    "a = 0x7654  ##### Search google how to convert oct to decimal"
   ]
  },
  {
   "cell_type": "code",
   "execution_count": 72,
   "id": "5f8f1bb7",
   "metadata": {},
   "outputs": [
    {
     "data": {
      "text/plain": [
       "30292"
      ]
     },
     "execution_count": 72,
     "metadata": {},
     "output_type": "execute_result"
    }
   ],
   "source": [
    "a"
   ]
  },
  {
   "cell_type": "code",
   "execution_count": 74,
   "id": "842e83fe",
   "metadata": {},
   "outputs": [
    {
     "data": {
      "text/plain": [
       "'0x7654'"
      ]
     },
     "execution_count": 74,
     "metadata": {},
     "output_type": "execute_result"
    }
   ],
   "source": [
    "hex(a)"
   ]
  },
  {
   "cell_type": "code",
   "execution_count": 75,
   "id": "4ee54146",
   "metadata": {},
   "outputs": [],
   "source": [
    "a = 0o7654"
   ]
  },
  {
   "cell_type": "code",
   "execution_count": 76,
   "id": "7cac3891",
   "metadata": {},
   "outputs": [
    {
     "data": {
      "text/plain": [
       "4012"
      ]
     },
     "execution_count": 76,
     "metadata": {},
     "output_type": "execute_result"
    }
   ],
   "source": [
    "a"
   ]
  },
  {
   "cell_type": "code",
   "execution_count": 77,
   "id": "fae296a6",
   "metadata": {},
   "outputs": [
    {
     "data": {
      "text/plain": [
       "'0o7654'"
      ]
     },
     "execution_count": 77,
     "metadata": {},
     "output_type": "execute_result"
    }
   ],
   "source": [
    "oct(a)"
   ]
  },
  {
   "cell_type": "code",
   "execution_count": 78,
   "id": "579f73c7",
   "metadata": {},
   "outputs": [],
   "source": [
    "a = 0XFACE"
   ]
  },
  {
   "cell_type": "code",
   "execution_count": 79,
   "id": "16809a94",
   "metadata": {},
   "outputs": [
    {
     "data": {
      "text/plain": [
       "64206"
      ]
     },
     "execution_count": 79,
     "metadata": {},
     "output_type": "execute_result"
    }
   ],
   "source": [
    "a"
   ]
  },
  {
   "cell_type": "code",
   "execution_count": 80,
   "id": "b97864e9",
   "metadata": {},
   "outputs": [
    {
     "data": {
      "text/plain": [
       "'0xface'"
      ]
     },
     "execution_count": 80,
     "metadata": {},
     "output_type": "execute_result"
    }
   ],
   "source": [
    "hex(a)"
   ]
  },
  {
   "cell_type": "code",
   "execution_count": 1,
   "id": "c6c0cc62",
   "metadata": {},
   "outputs": [],
   "source": [
    "##### REvise Once"
   ]
  },
  {
   "cell_type": "code",
   "execution_count": null,
   "id": "957908c5",
   "metadata": {},
   "outputs": [],
   "source": [
    "##Java\n",
    "public Class Hello World\n",
    "{\n",
    "    psv main (Strings[]args)\n",
    "    {\n",
    "        SOP(\"Hellow World\");\n",
    "    }\n",
    "}"
   ]
  },
  {
   "cell_type": "code",
   "execution_count": null,
   "id": "85a1bb9b",
   "metadata": {},
   "outputs": [],
   "source": [
    "#### C\n",
    "voidmain()\n",
    "{\n",
    "    print(\"Hellow World\");\n",
    "}"
   ]
  },
  {
   "cell_type": "code",
   "execution_count": 2,
   "id": "e0e05737",
   "metadata": {},
   "outputs": [
    {
     "name": "stdout",
     "output_type": "stream",
     "text": [
      "Hello World\n"
     ]
    }
   ],
   "source": [
    "print(\"Hello World\")"
   ]
  },
  {
   "cell_type": "code",
   "execution_count": 3,
   "id": "53791e81",
   "metadata": {},
   "outputs": [
    {
     "name": "stdout",
     "output_type": "stream",
     "text": [
      "30\n"
     ]
    }
   ],
   "source": [
    "a = 10\n",
    "b = 20\n",
    "c = a+b\n",
    "print(c)"
   ]
  },
  {
   "cell_type": "code",
   "execution_count": null,
   "id": "9ce350c9",
   "metadata": {},
   "outputs": [],
   "source": [
    "### Float Data Type\n",
    "We can use float data type to represent floating point values (decimal values)"
   ]
  },
  {
   "cell_type": "code",
   "execution_count": 4,
   "id": "caf0da21",
   "metadata": {},
   "outputs": [],
   "source": [
    "f = 1.234"
   ]
  },
  {
   "cell_type": "code",
   "execution_count": 5,
   "id": "14ea6e29",
   "metadata": {},
   "outputs": [
    {
     "data": {
      "text/plain": [
       "float"
      ]
     },
     "execution_count": 5,
     "metadata": {},
     "output_type": "execute_result"
    }
   ],
   "source": [
    "type(f)"
   ]
  },
  {
   "cell_type": "code",
   "execution_count": 6,
   "id": "3ae41126",
   "metadata": {},
   "outputs": [],
   "source": [
    "### We can also represent floating values by using exponential form(scientifc Notation)"
   ]
  },
  {
   "cell_type": "code",
   "execution_count": 7,
   "id": "c3b9d4c0",
   "metadata": {},
   "outputs": [],
   "source": [
    "f = 1.2e3 #### We can represent big values in less memory"
   ]
  },
  {
   "cell_type": "code",
   "execution_count": 8,
   "id": "58f2dc18",
   "metadata": {},
   "outputs": [
    {
     "name": "stdout",
     "output_type": "stream",
     "text": [
      "1200.0\n"
     ]
    }
   ],
   "source": [
    "print(f)"
   ]
  },
  {
   "cell_type": "code",
   "execution_count": 9,
   "id": "b2b075ab",
   "metadata": {},
   "outputs": [],
   "source": [
    "r = 1.3e5"
   ]
  },
  {
   "cell_type": "code",
   "execution_count": 10,
   "id": "2f2c2573",
   "metadata": {},
   "outputs": [
    {
     "name": "stdout",
     "output_type": "stream",
     "text": [
      "130000.0\n"
     ]
    }
   ],
   "source": [
    "print(r)"
   ]
  },
  {
   "cell_type": "code",
   "execution_count": 11,
   "id": "d7d2073c",
   "metadata": {},
   "outputs": [],
   "source": [
    "#### Note  - We can represent int values in decimal, binary, octal, hexa decimal form. but \n",
    "#### we can represent float values only by using decimal form."
   ]
  },
  {
   "cell_type": "code",
   "execution_count": null,
   "id": "37508135",
   "metadata": {},
   "outputs": [],
   "source": [
    "#### Complex Data Type in Python\n",
    "A complex number is in the form of - \n",
    "Real Part  Imaginary Part\n",
    "a + bj (j = sqrt(-1))/ j2 = -1\n",
    "\n",
    "a and b in complex data type contain integers or floating point values"
   ]
  },
  {
   "cell_type": "code",
   "execution_count": 12,
   "id": "3c5d00f1",
   "metadata": {},
   "outputs": [],
   "source": [
    "a = 3 + 5j"
   ]
  },
  {
   "cell_type": "code",
   "execution_count": 13,
   "id": "b83768d5",
   "metadata": {},
   "outputs": [
    {
     "data": {
      "text/plain": [
       "complex"
      ]
     },
     "execution_count": 13,
     "metadata": {},
     "output_type": "execute_result"
    }
   ],
   "source": [
    "type(a)"
   ]
  },
  {
   "cell_type": "code",
   "execution_count": 14,
   "id": "f1196f32",
   "metadata": {},
   "outputs": [],
   "source": [
    "a = 10 + 1.5j\n",
    "b = 20 + 2.6j"
   ]
  },
  {
   "cell_type": "code",
   "execution_count": 15,
   "id": "e07bf4fc",
   "metadata": {},
   "outputs": [],
   "source": [
    "c = a+b"
   ]
  },
  {
   "cell_type": "code",
   "execution_count": 16,
   "id": "ef21bca6",
   "metadata": {},
   "outputs": [
    {
     "name": "stdout",
     "output_type": "stream",
     "text": [
      "(30+4.1j)\n"
     ]
    }
   ],
   "source": [
    "print(c)"
   ]
  },
  {
   "cell_type": "code",
   "execution_count": 17,
   "id": "3504256a",
   "metadata": {},
   "outputs": [],
   "source": [
    "#### In python complex data type has some inbuilt functions to retrive \n",
    "#### real and the imaginary part\n",
    "c = 10+3.6j"
   ]
  },
  {
   "cell_type": "code",
   "execution_count": 18,
   "id": "10694956",
   "metadata": {},
   "outputs": [
    {
     "data": {
      "text/plain": [
       "10.0"
      ]
     },
     "execution_count": 18,
     "metadata": {},
     "output_type": "execute_result"
    }
   ],
   "source": [
    "c.real"
   ]
  },
  {
   "cell_type": "code",
   "execution_count": 20,
   "id": "19a09893",
   "metadata": {},
   "outputs": [
    {
     "data": {
      "text/plain": [
       "3.6"
      ]
     },
     "execution_count": 20,
     "metadata": {},
     "output_type": "execute_result"
    }
   ],
   "source": [
    "c.imag"
   ]
  },
  {
   "cell_type": "code",
   "execution_count": 21,
   "id": "3a46ed2c",
   "metadata": {},
   "outputs": [],
   "source": [
    "#### WE can use complex type generally in scientif application another area electrcial Engineering Applications"
   ]
  },
  {
   "cell_type": "code",
   "execution_count": 22,
   "id": "e8c81958",
   "metadata": {},
   "outputs": [],
   "source": [
    "#### Bool Data Type (Logical)\n",
    "### We use this data type to represent boolean values.\n",
    "#### The only allowed values for this data type are \n",
    "#### True and False\n",
    "#### Internally python represents True as 1 and False as 0"
   ]
  },
  {
   "cell_type": "code",
   "execution_count": 23,
   "id": "e94c3fea",
   "metadata": {},
   "outputs": [
    {
     "data": {
      "text/plain": [
       "bool"
      ]
     },
     "execution_count": 23,
     "metadata": {},
     "output_type": "execute_result"
    }
   ],
   "source": [
    "b = True\n",
    "type(b)"
   ]
  },
  {
   "cell_type": "code",
   "execution_count": 24,
   "id": "257a0660",
   "metadata": {},
   "outputs": [
    {
     "name": "stdout",
     "output_type": "stream",
     "text": [
      "False\n"
     ]
    }
   ],
   "source": [
    "a = 10\n",
    "b = 20\n",
    "c = a >b\n",
    "print(c)"
   ]
  },
  {
   "cell_type": "code",
   "execution_count": 25,
   "id": "873b41c4",
   "metadata": {},
   "outputs": [
    {
     "data": {
      "text/plain": [
       "140703155300432"
      ]
     },
     "execution_count": 25,
     "metadata": {},
     "output_type": "execute_result"
    }
   ],
   "source": [
    "### Address - Whenever you create a variable in Python it store at a speciic locations\n",
    "id(a)  #### Here id is a function to see the address of the variable"
   ]
  },
  {
   "cell_type": "code",
   "execution_count": 26,
   "id": "568c9aa0",
   "metadata": {},
   "outputs": [
    {
     "data": {
      "text/plain": [
       "140703155300752"
      ]
     },
     "execution_count": 26,
     "metadata": {},
     "output_type": "execute_result"
    }
   ],
   "source": [
    "id(b)"
   ]
  },
  {
   "cell_type": "code",
   "execution_count": 27,
   "id": "1fe1f708",
   "metadata": {},
   "outputs": [
    {
     "data": {
      "text/plain": [
       "2"
      ]
     },
     "execution_count": 27,
     "metadata": {},
     "output_type": "execute_result"
    }
   ],
   "source": [
    "True + True"
   ]
  },
  {
   "cell_type": "code",
   "execution_count": 28,
   "id": "197dd3ca",
   "metadata": {},
   "outputs": [
    {
     "data": {
      "text/plain": [
       "1"
      ]
     },
     "execution_count": 28,
     "metadata": {},
     "output_type": "execute_result"
    }
   ],
   "source": [
    "True + False"
   ]
  },
  {
   "cell_type": "code",
   "execution_count": 29,
   "id": "f5fd0410",
   "metadata": {},
   "outputs": [],
   "source": [
    "##### String Data Type"
   ]
  },
  {
   "cell_type": "code",
   "execution_count": 30,
   "id": "3b6fcf21",
   "metadata": {},
   "outputs": [],
   "source": [
    "### A string is a sequence of characters enclosed with single or double quotes"
   ]
  },
  {
   "cell_type": "code",
   "execution_count": 31,
   "id": "a8db09ce",
   "metadata": {},
   "outputs": [],
   "source": [
    "p =  \"Pallavi\"   ### AS python indexse starts from 0"
   ]
  },
  {
   "cell_type": "code",
   "execution_count": null,
   "id": "4e81ba30",
   "metadata": {},
   "outputs": [],
   "source": [
    "### Slice the strings\n",
    "slice means a peice\n",
    "[] which is also called as slice operator , which can be used to retrieve a parts o string\n",
    "In python  - Indexes starts from 0"
   ]
  },
  {
   "cell_type": "code",
   "execution_count": 32,
   "id": "a249360d",
   "metadata": {},
   "outputs": [
    {
     "data": {
      "text/plain": [
       "'P'"
      ]
     },
     "execution_count": 32,
     "metadata": {},
     "output_type": "execute_result"
    }
   ],
   "source": [
    "p[0]"
   ]
  },
  {
   "cell_type": "code",
   "execution_count": 33,
   "id": "ace5c83f",
   "metadata": {},
   "outputs": [
    {
     "data": {
      "text/plain": [
       "'a'"
      ]
     },
     "execution_count": 33,
     "metadata": {},
     "output_type": "execute_result"
    }
   ],
   "source": [
    "p[4]"
   ]
  },
  {
   "cell_type": "code",
   "execution_count": 35,
   "id": "15b36278",
   "metadata": {},
   "outputs": [
    {
     "data": {
      "text/plain": [
       "'l'"
      ]
     },
     "execution_count": 35,
     "metadata": {},
     "output_type": "execute_result"
    }
   ],
   "source": [
    "p[-5]"
   ]
  },
  {
   "cell_type": "code",
   "execution_count": 39,
   "id": "4f688c14",
   "metadata": {},
   "outputs": [
    {
     "data": {
      "text/plain": [
       "'lla'"
      ]
     },
     "execution_count": 39,
     "metadata": {},
     "output_type": "execute_result"
    }
   ],
   "source": [
    "p[2:5]   #### : to represent start (Inclusive) and stop (Exclusive) : Step"
   ]
  },
  {
   "cell_type": "code",
   "execution_count": 40,
   "id": "6e7bf0c3",
   "metadata": {},
   "outputs": [],
   "source": [
    "s = \"Pythonisveryeasytolearn\""
   ]
  },
  {
   "cell_type": "code",
   "execution_count": 45,
   "id": "12364687",
   "metadata": {},
   "outputs": [
    {
     "data": {
      "text/plain": [
       "'a'"
      ]
     },
     "execution_count": 45,
     "metadata": {},
     "output_type": "execute_result"
    }
   ],
   "source": [
    "s[-10]  #### Keeping this in mind"
   ]
  },
  {
   "cell_type": "code",
   "execution_count": 46,
   "id": "28caa9c1",
   "metadata": {},
   "outputs": [
    {
     "data": {
      "text/plain": [
       "'nraelotysaeyrevsinohtyP'"
      ]
     },
     "execution_count": 46,
     "metadata": {},
     "output_type": "execute_result"
    }
   ],
   "source": [
    "### Can you write a program to reverse the s variable from the back to the front\n",
    "s[::-1]"
   ]
  },
  {
   "cell_type": "code",
   "execution_count": 49,
   "id": "da5831e3",
   "metadata": {},
   "outputs": [
    {
     "data": {
      "text/plain": [
       "''"
      ]
     },
     "execution_count": 49,
     "metadata": {},
     "output_type": "execute_result"
    }
   ],
   "source": [
    "s[1:-25]"
   ]
  },
  {
   "cell_type": "code",
   "execution_count": 50,
   "id": "0ce4661e",
   "metadata": {},
   "outputs": [],
   "source": [
    "#### Mathematical Operators in String"
   ]
  },
  {
   "cell_type": "code",
   "execution_count": null,
   "id": "26f46086",
   "metadata": {},
   "outputs": [],
   "source": [
    "1. + operator (concatenation)\n",
    "2. * operator (repetation)"
   ]
  },
  {
   "cell_type": "code",
   "execution_count": 51,
   "id": "f0761fb2",
   "metadata": {},
   "outputs": [
    {
     "data": {
      "text/plain": [
       "'RamRoahn'"
      ]
     },
     "execution_count": 51,
     "metadata": {},
     "output_type": "execute_result"
    }
   ],
   "source": [
    "\"Ram\" +  \"Roahn\""
   ]
  },
  {
   "cell_type": "code",
   "execution_count": 53,
   "id": "d6575bdf",
   "metadata": {},
   "outputs": [
    {
     "data": {
      "text/plain": [
       "'RamRamRamRamRam'"
      ]
     },
     "execution_count": 53,
     "metadata": {},
     "output_type": "execute_result"
    }
   ],
   "source": [
    "'Ram'*5"
   ]
  },
  {
   "cell_type": "code",
   "execution_count": 54,
   "id": "cab0e683",
   "metadata": {},
   "outputs": [
    {
     "name": "stdout",
     "output_type": "stream",
     "text": [
      "RohanShyam\n"
     ]
    }
   ],
   "source": [
    "print(\"Rohan\" + \"Shyam\")"
   ]
  },
  {
   "cell_type": "code",
   "execution_count": 55,
   "id": "1d7885ad",
   "metadata": {},
   "outputs": [],
   "source": [
    "### Note  - For Contatenation (+) compulsory both the strings should be str data type\n",
    "### To use * operator , compulsory one argument should be str other should be int"
   ]
  },
  {
   "cell_type": "code",
   "execution_count": 56,
   "id": "0da9beba",
   "metadata": {},
   "outputs": [
    {
     "data": {
      "text/plain": [
       "'Pythonisveryeasytolearn'"
      ]
     },
     "execution_count": 56,
     "metadata": {},
     "output_type": "execute_result"
    }
   ],
   "source": [
    "s"
   ]
  },
  {
   "cell_type": "code",
   "execution_count": 57,
   "id": "3dc514f8",
   "metadata": {},
   "outputs": [
    {
     "data": {
      "text/plain": [
       "23"
      ]
     },
     "execution_count": 57,
     "metadata": {},
     "output_type": "execute_result"
    }
   ],
   "source": [
    "len(s)"
   ]
  },
  {
   "cell_type": "code",
   "execution_count": 58,
   "id": "6a9e0747",
   "metadata": {},
   "outputs": [
    {
     "data": {
      "text/plain": [
       "'n'"
      ]
     },
     "execution_count": 58,
     "metadata": {},
     "output_type": "execute_result"
    }
   ],
   "source": [
    "s[22]"
   ]
  },
  {
   "cell_type": "code",
   "execution_count": 59,
   "id": "40bc4b11",
   "metadata": {},
   "outputs": [
    {
     "data": {
      "text/plain": [
       "'Pythonisveryeasytolearn'"
      ]
     },
     "execution_count": 59,
     "metadata": {},
     "output_type": "execute_result"
    }
   ],
   "source": [
    "#### For Loops (For iterations we use loops)\n",
    "s"
   ]
  },
  {
   "cell_type": "code",
   "execution_count": null,
   "id": "9cc1268b",
   "metadata": {},
   "outputs": [],
   "source": [
    "### Basic Syntax for loop is \n",
    "for anyvariable in sequence:\n",
    "    expressions\n",
    "    "
   ]
  },
  {
   "cell_type": "code",
   "execution_count": 61,
   "id": "0c01b1ae",
   "metadata": {
    "collapsed": true
   },
   "outputs": [
    {
     "name": "stdout",
     "output_type": "stream",
     "text": [
      "P\n",
      "y\n",
      "t\n",
      "h\n",
      "o\n",
      "n\n",
      "i\n",
      "s\n",
      "v\n",
      "e\n",
      "r\n",
      "y\n",
      "e\n",
      "a\n",
      "s\n",
      "y\n",
      "t\n",
      "o\n",
      "l\n",
      "e\n",
      "a\n",
      "r\n",
      "n\n"
     ]
    }
   ],
   "source": [
    "for i in s:\n",
    "    print(i)"
   ]
  },
  {
   "cell_type": "code",
   "execution_count": 67,
   "id": "bdf6a10e",
   "metadata": {},
   "outputs": [
    {
     "name": "stdout",
     "output_type": "stream",
     "text": [
      "Rohan is a good boy\n"
     ]
    }
   ],
   "source": [
    "s = \"Rohan is a good boy\"\n",
    "print(s)"
   ]
  },
  {
   "cell_type": "code",
   "execution_count": 63,
   "id": "b10552ca",
   "metadata": {
    "collapsed": true
   },
   "outputs": [
    {
     "name": "stdout",
     "output_type": "stream",
     "text": [
      " \n",
      "R\n",
      "o\n",
      "h\n",
      "a\n",
      "n\n",
      " \n",
      "i\n",
      "s\n",
      " \n",
      "a\n",
      " \n",
      "g\n",
      "o\n",
      "o\n",
      "d\n",
      " \n",
      "b\n",
      "o\n",
      "y\n"
     ]
    }
   ],
   "source": [
    "for a in s:\n",
    "    print(a)"
   ]
  },
  {
   "cell_type": "code",
   "execution_count": 64,
   "id": "7cc28936",
   "metadata": {},
   "outputs": [],
   "source": [
    "#### Can you write a Program to print the index as well as the values of s variable"
   ]
  },
  {
   "cell_type": "code",
   "execution_count": 68,
   "id": "e690f66b",
   "metadata": {},
   "outputs": [
    {
     "data": {
      "text/plain": [
       "'R'"
      ]
     },
     "execution_count": 68,
     "metadata": {},
     "output_type": "execute_result"
    }
   ],
   "source": [
    "s[0]"
   ]
  },
  {
   "cell_type": "code",
   "execution_count": 76,
   "id": "a6706976",
   "metadata": {},
   "outputs": [
    {
     "name": "stdout",
     "output_type": "stream",
     "text": [
      "1\n"
     ]
    }
   ],
   "source": [
    "y = 0\n",
    "y = y+1\n",
    "print(y)"
   ]
  },
  {
   "cell_type": "code",
   "execution_count": 77,
   "id": "b8311abf",
   "metadata": {
    "collapsed": true
   },
   "outputs": [
    {
     "name": "stdout",
     "output_type": "stream",
     "text": [
      "R 1\n",
      "o 2\n",
      "h 3\n",
      "a 4\n",
      "n 5\n",
      "  6\n",
      "i 7\n",
      "s 8\n",
      "  9\n",
      "a 10\n",
      "  11\n",
      "g 12\n",
      "o 13\n",
      "o 14\n",
      "d 15\n",
      "  16\n",
      "b 17\n",
      "o 18\n",
      "y 19\n"
     ]
    }
   ],
   "source": [
    "for x in s:\n",
    "    print(x,y)\n",
    "    y = y+1"
   ]
  },
  {
   "cell_type": "code",
   "execution_count": 78,
   "id": "ef72bc0e",
   "metadata": {},
   "outputs": [],
   "source": [
    "### Can you write a program taking a variable of strings with length 20 and print both forward and \n",
    "### backward strings with its index"
   ]
  },
  {
   "cell_type": "code",
   "execution_count": 81,
   "id": "5a908d35",
   "metadata": {},
   "outputs": [
    {
     "name": "stdout",
     "output_type": "stream",
     "text": [
      "19\n"
     ]
    }
   ],
   "source": [
    "t = len(h) - 1\n",
    "print(t)"
   ]
  },
  {
   "cell_type": "code",
   "execution_count": 82,
   "id": "cb5579c3",
   "metadata": {
    "collapsed": true
   },
   "outputs": [
    {
     "name": "stdout",
     "output_type": "stream",
     "text": [
      "n 19\n",
      "a 18\n",
      "h 17\n",
      "d 16\n",
      "n 15\n",
      "a 14\n",
      "b 13\n",
      "a 12\n",
      "h 11\n",
      "s 10\n",
      "k 9\n",
      "s 8\n",
      "a 7\n",
      "R 6\n",
      "  5\n",
      "y 4\n",
      "p 3\n",
      "p 2\n",
      "a 1\n",
      "H 0\n"
     ]
    }
   ],
   "source": [
    "h = \"Happy Raskshabandhan\"\n",
    "for i in h[::-1]:\n",
    "    print(i,t)\n",
    "    t = t-1"
   ]
  },
  {
   "cell_type": "code",
   "execution_count": 83,
   "id": "f3597275",
   "metadata": {},
   "outputs": [],
   "source": [
    "### Checking Membership in string\n",
    "### We can check wehether the character or string is the member of another string"
   ]
  },
  {
   "cell_type": "code",
   "execution_count": 84,
   "id": "f32b1c9a",
   "metadata": {},
   "outputs": [],
   "source": [
    "s = \"Durga Puja\""
   ]
  },
  {
   "cell_type": "code",
   "execution_count": 87,
   "id": "bf6a5959",
   "metadata": {},
   "outputs": [
    {
     "name": "stdout",
     "output_type": "stream",
     "text": [
      "True\n"
     ]
    }
   ],
   "source": [
    "print('ga' in s)"
   ]
  },
  {
   "cell_type": "code",
   "execution_count": 88,
   "id": "690f48fd",
   "metadata": {},
   "outputs": [],
   "source": [
    "#### How will you take input from the User "
   ]
  },
  {
   "cell_type": "code",
   "execution_count": 89,
   "id": "00ff8243",
   "metadata": {},
   "outputs": [
    {
     "name": "stdout",
     "output_type": "stream",
     "text": [
      "Today\n"
     ]
    }
   ],
   "source": [
    "i = input()   #### A inbuilt function in Python for taking value from the user"
   ]
  },
  {
   "cell_type": "code",
   "execution_count": 91,
   "id": "0cb71584",
   "metadata": {},
   "outputs": [
    {
     "name": "stdout",
     "output_type": "stream",
     "text": [
      "Enter your name - 45665486515\n"
     ]
    }
   ],
   "source": [
    "name = input(\"Enter your name - \")  #### By defult taking input is always string data type"
   ]
  },
  {
   "cell_type": "code",
   "execution_count": 94,
   "id": "c343aa97",
   "metadata": {},
   "outputs": [
    {
     "name": "stdout",
     "output_type": "stream",
     "text": [
      "Enter your Mobile NUmberahsdsjfsjfsf\n"
     ]
    },
    {
     "ename": "ValueError",
     "evalue": "invalid literal for int() with base 10: 'ahsdsjfsjfsf'",
     "output_type": "error",
     "traceback": [
      "\u001b[1;31m---------------------------------------------------------------------------\u001b[0m",
      "\u001b[1;31mValueError\u001b[0m                                Traceback (most recent call last)",
      "\u001b[1;32m<ipython-input-94-755e9767cfdd>\u001b[0m in \u001b[0;36m<module>\u001b[1;34m\u001b[0m\n\u001b[1;32m----> 1\u001b[1;33m \u001b[0mmobile_no\u001b[0m \u001b[1;33m=\u001b[0m \u001b[0mint\u001b[0m\u001b[1;33m(\u001b[0m\u001b[0minput\u001b[0m\u001b[1;33m(\u001b[0m\u001b[1;34m\"Enter your Mobile NUmber\"\u001b[0m\u001b[1;33m)\u001b[0m\u001b[1;33m)\u001b[0m\u001b[1;33m\u001b[0m\u001b[1;33m\u001b[0m\u001b[0m\n\u001b[0m",
      "\u001b[1;31mValueError\u001b[0m: invalid literal for int() with base 10: 'ahsdsjfsjfsf'"
     ]
    }
   ],
   "source": [
    "mobile_no = int(input(\"Enter your Mobile NUmber\"))"
   ]
  },
  {
   "cell_type": "code",
   "execution_count": 92,
   "id": "035827fd",
   "metadata": {},
   "outputs": [
    {
     "data": {
      "text/plain": [
       "str"
      ]
     },
     "execution_count": 92,
     "metadata": {},
     "output_type": "execute_result"
    }
   ],
   "source": [
    "type(name)"
   ]
  },
  {
   "cell_type": "code",
   "execution_count": 95,
   "id": "3f5b7995",
   "metadata": {},
   "outputs": [],
   "source": [
    "### can you write a program to take input from the user  - name, address, age, phone no and print\n",
    "#### all the input properly with proper text"
   ]
  },
  {
   "cell_type": "code",
   "execution_count": 106,
   "id": "855c87da",
   "metadata": {},
   "outputs": [
    {
     "name": "stdout",
     "output_type": "stream",
     "text": [
      "Enter your Name - Pallavi\n",
      "Pallavi is a good person\n"
     ]
    }
   ],
   "source": [
    "n = input(\"Enter your Name - \")\n",
    "print (f\"{n} is a good person\")"
   ]
  },
  {
   "cell_type": "code",
   "execution_count": null,
   "id": "a11fa1c0",
   "metadata": {},
   "outputs": [],
   "source": [
    "#### WE will catch at 6.30"
   ]
  },
  {
   "cell_type": "code",
   "execution_count": 98,
   "id": "42c05ac7",
   "metadata": {},
   "outputs": [
    {
     "data": {
      "text/plain": [
       "float"
      ]
     },
     "execution_count": 98,
     "metadata": {},
     "output_type": "execute_result"
    }
   ],
   "source": [
    "t = 10\n",
    "h = float(t)  #### Type cast\n",
    "type(h)"
   ]
  },
  {
   "cell_type": "code",
   "execution_count": 99,
   "id": "dd62a4fa",
   "metadata": {},
   "outputs": [
    {
     "data": {
      "text/plain": [
       "10.0"
      ]
     },
     "execution_count": 99,
     "metadata": {},
     "output_type": "execute_result"
    }
   ],
   "source": [
    "h"
   ]
  },
  {
   "cell_type": "code",
   "execution_count": 103,
   "id": "7969411b",
   "metadata": {},
   "outputs": [
    {
     "name": "stdout",
     "output_type": "stream",
     "text": [
      "Enter you Age in years - 78\n",
      "The age is 78 years\n"
     ]
    }
   ],
   "source": [
    "age = int(input(\"Enter you Age in years - \"))\n",
    "print(f'The age is {age} years')  ##### Formatted Printing"
   ]
  },
  {
   "cell_type": "code",
   "execution_count": 107,
   "id": "8c517cd2",
   "metadata": {},
   "outputs": [],
   "source": [
    "### Removing Spaces from the string\n",
    "1. rstrip()  - To remove spaces from the right side\n",
    "2. lstrip() - to remove spaces from the left side\n",
    "3. strip() -  To remove spaces from both sides"
   ]
  },
  {
   "cell_type": "code",
   "execution_count": 109,
   "id": "dc9e6c0a",
   "metadata": {},
   "outputs": [
    {
     "name": "stdout",
     "output_type": "stream",
     "text": [
      "Enter your City    Delhi\n",
      "    Delhi\n",
      "Delhi\n"
     ]
    }
   ],
   "source": [
    "city = input(\"Enter your City\")\n",
    "c = city.strip()\n",
    "print(city)\n",
    "print(c)"
   ]
  },
  {
   "cell_type": "code",
   "execution_count": null,
   "id": "25ba3c2e",
   "metadata": {},
   "outputs": [],
   "source": [
    "#### Replacing a string with a another string\n",
    "s.replace(oldstring, newstring)"
   ]
  },
  {
   "cell_type": "code",
   "execution_count": 110,
   "id": "e8a723c4",
   "metadata": {},
   "outputs": [],
   "source": [
    "s = \"Learning Python is very easy\""
   ]
  },
  {
   "cell_type": "code",
   "execution_count": 111,
   "id": "a0e49761",
   "metadata": {},
   "outputs": [
    {
     "name": "stdout",
     "output_type": "stream",
     "text": [
      "Learning Python is very easy\n",
      "Learning Java is very easy\n"
     ]
    }
   ],
   "source": [
    "s1 = s.replace(\"Python\", \"Java\")\n",
    "print(s)\n",
    "print(s1)"
   ]
  },
  {
   "cell_type": "code",
   "execution_count": 112,
   "id": "f2c625c7",
   "metadata": {},
   "outputs": [],
   "source": [
    "### Splitting of Strings"
   ]
  },
  {
   "cell_type": "code",
   "execution_count": null,
   "id": "b370ad63",
   "metadata": {},
   "outputs": [],
   "source": [
    "split(### sperator)"
   ]
  },
  {
   "cell_type": "code",
   "execution_count": 116,
   "id": "a9fb99a9",
   "metadata": {},
   "outputs": [],
   "source": [
    "s = \"Python-software-foundation\""
   ]
  },
  {
   "cell_type": "code",
   "execution_count": 117,
   "id": "edaab3ed",
   "metadata": {},
   "outputs": [
    {
     "name": "stdout",
     "output_type": "stream",
     "text": [
      "['Python', 'software', 'foundation']\n"
     ]
    }
   ],
   "source": [
    "l = s.split(sep = '-')\n",
    "print(l)"
   ]
  },
  {
   "cell_type": "code",
   "execution_count": 118,
   "id": "18113eb3",
   "metadata": {},
   "outputs": [],
   "source": [
    "#### Joining of Strings"
   ]
  },
  {
   "cell_type": "code",
   "execution_count": null,
   "id": "8c81b886",
   "metadata": {},
   "outputs": [],
   "source": [
    "### We can join a group o string (list ot tuple) wrt to a given separartor"
   ]
  },
  {
   "cell_type": "code",
   "execution_count": 119,
   "id": "faf590e3",
   "metadata": {},
   "outputs": [],
   "source": [
    "#### Formatting of Strings"
   ]
  },
  {
   "cell_type": "code",
   "execution_count": 120,
   "id": "77e4aa05",
   "metadata": {},
   "outputs": [],
   "source": [
    "name = \"Rajendra\"\n",
    "salary = 100000\n",
    "Age = 48"
   ]
  },
  {
   "cell_type": "code",
   "execution_count": 122,
   "id": "c73d92e7",
   "metadata": {},
   "outputs": [
    {
     "name": "stdout",
     "output_type": "stream",
     "text": [
      "Rajendra's salary is 100000 and his age is 48\n"
     ]
    }
   ],
   "source": [
    "print(\"{}'s salary is {} and his age is {}\".format(name,salary, Age))"
   ]
  },
  {
   "cell_type": "code",
   "execution_count": 124,
   "id": "030b8268",
   "metadata": {},
   "outputs": [
    {
     "name": "stdout",
     "output_type": "stream",
     "text": [
      "100000's salary is  of Rajendra and his age is 48\n"
     ]
    }
   ],
   "source": [
    "print(\"{1}'s salary is  of {0} and his age is {2}\".format(name,salary, Age))"
   ]
  },
  {
   "cell_type": "code",
   "execution_count": null,
   "id": "9b24fdd0",
   "metadata": {},
   "outputs": [],
   "source": [
    "##### Assignment Deck with  - Pdf"
   ]
  },
  {
   "cell_type": "code",
   "execution_count": 125,
   "id": "4cded7d5",
   "metadata": {},
   "outputs": [],
   "source": [
    "####You have to build a form taking from the user  - Exam, form, voter form\n",
    "##### You have a build a calulator"
   ]
  },
  {
   "cell_type": "code",
   "execution_count": 126,
   "id": "24af7627",
   "metadata": {},
   "outputs": [
    {
     "name": "stdout",
     "output_type": "stream",
     "text": [
      "Enter 1st NUmber45\n",
      "Enter 2nd NUmber87\n",
      "The addition is 132\n"
     ]
    }
   ],
   "source": [
    "a = int(input(\"Enter 1st NUmber\"))\n",
    "b = int(input(\"Enter 2nd NUmber\"))\n",
    "c = a + b\n",
    "print(f\"The addition is {c}\")"
   ]
  },
  {
   "cell_type": "code",
   "execution_count": null,
   "id": "0be708b2",
   "metadata": {},
   "outputs": [],
   "source": []
  }
 ],
 "metadata": {
  "kernelspec": {
   "display_name": "Python 3",
   "language": "python",
   "name": "python3"
  },
  "language_info": {
   "codemirror_mode": {
    "name": "ipython",
    "version": 3
   },
   "file_extension": ".py",
   "mimetype": "text/x-python",
   "name": "python",
   "nbconvert_exporter": "python",
   "pygments_lexer": "ipython3",
   "version": "3.9.5"
  }
 },
 "nbformat": 4,
 "nbformat_minor": 5
}
